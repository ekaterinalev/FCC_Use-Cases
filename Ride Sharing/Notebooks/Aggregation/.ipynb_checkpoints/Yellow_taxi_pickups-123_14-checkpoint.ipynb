{
 "cells": [
  {
   "cell_type": "code",
   "execution_count": 3,
   "metadata": {
    "collapsed": true
   },
   "outputs": [],
   "source": [
    "import pandas as pd\n",
    "import geopandas as gp\n",
    "from fiona.crs import from_epsg\n",
    "import shapely\n",
    "import matplotlib.pylab as plt\n",
    "import csv\n",
    "import dateutil\n",
    "import os\n",
    "from shapely.geometry import Point\n",
    "%matplotlib inline"
   ]
  },
  {
   "cell_type": "code",
   "execution_count": 2,
   "metadata": {
    "collapsed": true
   },
   "outputs": [],
   "source": [
    "def clean_columns(data,year):\n",
    "    \n",
    "    data.columns = map(lambda x: x.strip(), list(data.columns))\n",
    "    data.columns = map(lambda x: x.lower(), list(data.columns))\n",
    "        \n",
    "    if year == '2014':\n",
    "        data.drop([u'vendor_id', u'passenger_count', u'rate_code', u'store_and_fwd_flag',\n",
    "                   'dropoff_longitude','dropoff_latitude', u'payment_type',u'fare_amount', \n",
    "                   u'surcharge', u'mta_tax', u'tip_amount',\n",
    "                   u'tolls_amount', u'total_amount'], axis = 1, inplace = True)\n",
    "        \n",
    "    elif year == '2015':\n",
    "        data.drop([u'vendorid', u'passenger_count', u'ratecodeid', u'store_and_fwd_flag',\n",
    "                   u'dropoff_longitude', u'dropoff_latitude', u'payment_type',\n",
    "                   u'fare_amount', u'extra', u'mta_tax', u'tip_amount', u'tolls_amount',\n",
    "                   u'improvement_surcharge', u'total_amount'], axis = 1, inplace = True)\n",
    "    \n",
    "    elif year == '2016':    \n",
    "        data.drop([u'vendorid', u'passenger_count', u'ratecodeid', u'store_and_fwd_flag',\n",
    "                   u'dropoff_longitude', u'dropoff_latitude', u'payment_type',\n",
    "                   u'fare_amount', u'extra', u'mta_tax', u'tip_amount', u'tolls_amount',\n",
    "                   u'improvement_surcharge', u'total_amount'], axis = 1, inplace = True)\n",
    "    \n",
    "    data.columns = ['date', 'dropoff_datetime', 'trip_distance', \n",
    "                    'pickup_longitude', 'pickup_latitude']\n",
    "    \n",
    "    return data"
   ]
  },
  {
   "cell_type": "code",
   "execution_count": 3,
   "metadata": {
    "collapsed": true
   },
   "outputs": [],
   "source": [
    "def data_aggregator(data, tzone):\n",
    "    \n",
    "    data[\"date\"] = pd.to_datetime(data[\"date\"])\n",
    "\n",
    "    crs = {'init': 'epsg:4326', 'no_defs': True}\n",
    "    geometry = [Point(xy) for xy in zip(data[\"pickup_longitude\"], data[\"pickup_latitude\"])]\n",
    "    data = data.drop([\"pickup_longitude\", \"pickup_latitude\"], axis=1)\n",
    "    data = gp.GeoDataFrame(data, crs=crs, geometry=geometry)\n",
    "\n",
    "    print \"Spatially joining data and taxi zones\"\n",
    "    data_geo = gp.sjoin(tzones, data) \n",
    "    data_geo.drop(['borough', u'OBJECTID', 'Shape_Area', 'Shape_Leng',\n",
    "                   u'geometry', 'index_right', 'zone'], axis = 1, inplace = True)   \n",
    "    \n",
    "\n",
    "    data_agg = data_geo.set_index('date').groupby([pd.TimeGrouper('D'),'LocationID']).agg({'trip_distance':'mean', \n",
    "                                                                                                'dropoff_datetime': 'count'})\n",
    "    data_agg.reset_index('LocationID', inplace=True)\n",
    "    \n",
    "    data_agg.columns = ['locationid', 'trip_distance', 'pickup_count']\n",
    "    print \"Done\"\n",
    "    return data_agg"
   ]
  },
  {
   "cell_type": "code",
   "execution_count": 4,
   "metadata": {
    "collapsed": true
   },
   "outputs": [],
   "source": [
    "# Read data by month\n",
    "def yellow_taxi(tzones): \n",
    "    \n",
    "    \n",
    "    if not (os.path.isdir(\"../Data/Aggregated\")):\n",
    "        print \"Creating Folder Data/Aggregated\"\n",
    "        os.system(\"mkdir ../Data/Aggregated\")\n",
    "        \n",
    "#     year = ['2014', '2015']\n",
    "#     months = ['01','02','03','04','05','06','07','08','09','10','11','12']\n",
    "    year = ['2014']\n",
    "    months = ['01','02','03']\n",
    "\n",
    "    yellow = []\n",
    "    for y in year:\n",
    "        for m in months:\n",
    "            \n",
    "            print \"Reading Data/Yellow/yellow_tripdata_\" + y + \"-\" + m + \".csv\"\n",
    "            data = pd.read_csv(\"../Data/Yellow/yellow_tripdata_\" + y + \"-\" + m + \".csv\")\n",
    "            print \"Cleaning columns\"\n",
    "            data = clean_columns(data, y)\n",
    "            print \"Aggregating data\"\n",
    "            data_agg = data_aggregator(data, tzones)\n",
    "            data_agg.to_csv(\"../Data/Aggregated/yellow_\"+ y + \"-\" + m + \".csv\")\n",
    "            yellow.append(data_agg)\n",
    "    \n",
    "    return yellow"
   ]
  },
  {
   "cell_type": "markdown",
   "metadata": {
    "collapsed": true
   },
   "source": [
    "# Taxi zones geocoded data"
   ]
  },
  {
   "cell_type": "code",
   "execution_count": 2,
   "metadata": {
    "collapsed": false
   },
   "outputs": [
    {
     "ename": "IOError",
     "evalue": "no such file or directory: '../Data/taxi_zones/taxi_zones_updated.shp'",
     "output_type": "error",
     "traceback": [
      "\u001b[0;31m\u001b[0m",
      "\u001b[0;31mIOError\u001b[0mTraceback (most recent call last)",
      "\u001b[0;32m<ipython-input-2-393291e2b5f7>\u001b[0m in \u001b[0;36m<module>\u001b[0;34m()\u001b[0m\n\u001b[0;32m----> 1\u001b[0;31m \u001b[0mtzones\u001b[0m \u001b[0;34m=\u001b[0m \u001b[0mgp\u001b[0m\u001b[0;34m.\u001b[0m\u001b[0mread_file\u001b[0m\u001b[0;34m(\u001b[0m\u001b[0;34m\"../Data/taxi_zones/taxi_zones_updated.shp\"\u001b[0m\u001b[0;34m)\u001b[0m\u001b[0;34m\u001b[0m\u001b[0m\n\u001b[0m",
      "\u001b[0;32m/opt/rh/anaconda/root/envs/PUI2016_Python2/lib/python2.7/site-packages/geopandas/io/file.pyc\u001b[0m in \u001b[0;36mread_file\u001b[0;34m(filename, **kwargs)\u001b[0m\n\u001b[1;32m     19\u001b[0m     \"\"\"\n\u001b[1;32m     20\u001b[0m     \u001b[0mbbox\u001b[0m \u001b[0;34m=\u001b[0m \u001b[0mkwargs\u001b[0m\u001b[0;34m.\u001b[0m\u001b[0mpop\u001b[0m\u001b[0;34m(\u001b[0m\u001b[0;34m'bbox'\u001b[0m\u001b[0;34m,\u001b[0m \u001b[0mNone\u001b[0m\u001b[0;34m)\u001b[0m\u001b[0;34m\u001b[0m\u001b[0m\n\u001b[0;32m---> 21\u001b[0;31m     \u001b[0;32mwith\u001b[0m \u001b[0mfiona\u001b[0m\u001b[0;34m.\u001b[0m\u001b[0mopen\u001b[0m\u001b[0;34m(\u001b[0m\u001b[0mfilename\u001b[0m\u001b[0;34m,\u001b[0m \u001b[0;34m**\u001b[0m\u001b[0mkwargs\u001b[0m\u001b[0;34m)\u001b[0m \u001b[0;32mas\u001b[0m \u001b[0mf\u001b[0m\u001b[0;34m:\u001b[0m\u001b[0;34m\u001b[0m\u001b[0m\n\u001b[0m\u001b[1;32m     22\u001b[0m         \u001b[0mcrs\u001b[0m \u001b[0;34m=\u001b[0m \u001b[0mf\u001b[0m\u001b[0;34m.\u001b[0m\u001b[0mcrs\u001b[0m\u001b[0;34m\u001b[0m\u001b[0m\n\u001b[1;32m     23\u001b[0m         \u001b[0;32mif\u001b[0m \u001b[0mbbox\u001b[0m \u001b[0;32mis\u001b[0m \u001b[0;32mnot\u001b[0m \u001b[0mNone\u001b[0m\u001b[0;34m:\u001b[0m\u001b[0;34m\u001b[0m\u001b[0m\n",
      "\u001b[0;32m/opt/rh/anaconda/root/envs/PUI2016_Python2/lib/python2.7/site-packages/fiona/__init__.pyc\u001b[0m in \u001b[0;36mopen\u001b[0;34m(path, mode, driver, schema, crs, encoding, layer, vfs, enabled_drivers, crs_wkt)\u001b[0m\n\u001b[1;32m    163\u001b[0m                 \u001b[0;32mraise\u001b[0m \u001b[0mIOError\u001b[0m\u001b[0;34m(\u001b[0m\u001b[0;34m\"no such archive file: %r\"\u001b[0m \u001b[0;34m%\u001b[0m \u001b[0marchive\u001b[0m\u001b[0;34m)\u001b[0m\u001b[0;34m\u001b[0m\u001b[0m\n\u001b[1;32m    164\u001b[0m         \u001b[0;32melif\u001b[0m \u001b[0mpath\u001b[0m \u001b[0;34m!=\u001b[0m \u001b[0;34m'-'\u001b[0m \u001b[0;32mand\u001b[0m \u001b[0;32mnot\u001b[0m \u001b[0mos\u001b[0m\u001b[0;34m.\u001b[0m\u001b[0mpath\u001b[0m\u001b[0;34m.\u001b[0m\u001b[0mexists\u001b[0m\u001b[0;34m(\u001b[0m\u001b[0mpath\u001b[0m\u001b[0;34m)\u001b[0m\u001b[0;34m:\u001b[0m\u001b[0;34m\u001b[0m\u001b[0m\n\u001b[0;32m--> 165\u001b[0;31m             \u001b[0;32mraise\u001b[0m \u001b[0mIOError\u001b[0m\u001b[0;34m(\u001b[0m\u001b[0;34m\"no such file or directory: %r\"\u001b[0m \u001b[0;34m%\u001b[0m \u001b[0mpath\u001b[0m\u001b[0;34m)\u001b[0m\u001b[0;34m\u001b[0m\u001b[0m\n\u001b[0m\u001b[1;32m    166\u001b[0m         c = Collection(path, mode, driver=driver, encoding=encoding,\n\u001b[1;32m    167\u001b[0m                        \u001b[0mlayer\u001b[0m\u001b[0;34m=\u001b[0m\u001b[0mlayer\u001b[0m\u001b[0;34m,\u001b[0m \u001b[0mvsi\u001b[0m\u001b[0;34m=\u001b[0m\u001b[0mvsi\u001b[0m\u001b[0;34m,\u001b[0m \u001b[0marchive\u001b[0m\u001b[0;34m=\u001b[0m\u001b[0marchive\u001b[0m\u001b[0;34m,\u001b[0m\u001b[0;34m\u001b[0m\u001b[0m\n",
      "\u001b[0;31mIOError\u001b[0m: no such file or directory: '../Data/taxi_zones/taxi_zones_updated.shp'"
     ]
    }
   ],
   "source": [
    "tzones = gp.read_file(\"../Data/taxi_zones/taxi_zones_updated.shp\")"
   ]
  },
  {
   "cell_type": "code",
   "execution_count": 6,
   "metadata": {
    "collapsed": true
   },
   "outputs": [],
   "source": [
    "tzones.to_crs(epsg=4326, inplace=True)"
   ]
  },
  {
   "cell_type": "code",
   "execution_count": 7,
   "metadata": {
    "collapsed": false
   },
   "outputs": [
    {
     "data": {
      "text/html": [
       "<div>\n",
       "<table border=\"1\" class=\"dataframe\">\n",
       "  <thead>\n",
       "    <tr style=\"text-align: right;\">\n",
       "      <th></th>\n",
       "      <th>LocationID</th>\n",
       "      <th>OBJECTID</th>\n",
       "      <th>Shape_Area</th>\n",
       "      <th>Shape_Leng</th>\n",
       "      <th>borough</th>\n",
       "      <th>geometry</th>\n",
       "      <th>zone</th>\n",
       "    </tr>\n",
       "  </thead>\n",
       "  <tbody>\n",
       "    <tr>\n",
       "      <th>0</th>\n",
       "      <td>1</td>\n",
       "      <td>1</td>\n",
       "      <td>0.000782</td>\n",
       "      <td>0.116357</td>\n",
       "      <td>EWR</td>\n",
       "      <td>POLYGON ((-74.18445300000005 40.69499600003324...</td>\n",
       "      <td>Newark Airport</td>\n",
       "    </tr>\n",
       "    <tr>\n",
       "      <th>1</th>\n",
       "      <td>2</td>\n",
       "      <td>2</td>\n",
       "      <td>0.004866</td>\n",
       "      <td>0.433470</td>\n",
       "      <td>Queens</td>\n",
       "      <td>(POLYGON ((-73.82337597260654 40.6389870472100...</td>\n",
       "      <td>Jamaica Bay</td>\n",
       "    </tr>\n",
       "    <tr>\n",
       "      <th>2</th>\n",
       "      <td>3</td>\n",
       "      <td>3</td>\n",
       "      <td>0.000314</td>\n",
       "      <td>0.084341</td>\n",
       "      <td>Bronx</td>\n",
       "      <td>POLYGON ((-73.84792614099977 40.87134223403326...</td>\n",
       "      <td>Allerton/Pelham Gardens</td>\n",
       "    </tr>\n",
       "  </tbody>\n",
       "</table>\n",
       "</div>"
      ],
      "text/plain": [
       "   LocationID  OBJECTID  Shape_Area  Shape_Leng borough  \\\n",
       "0           1         1    0.000782    0.116357     EWR   \n",
       "1           2         2    0.004866    0.433470  Queens   \n",
       "2           3         3    0.000314    0.084341   Bronx   \n",
       "\n",
       "                                            geometry                     zone  \n",
       "0  POLYGON ((-74.18445300000005 40.69499600003324...           Newark Airport  \n",
       "1  (POLYGON ((-73.82337597260654 40.6389870472100...              Jamaica Bay  \n",
       "2  POLYGON ((-73.84792614099977 40.87134223403326...  Allerton/Pelham Gardens  "
      ]
     },
     "execution_count": 7,
     "metadata": {},
     "output_type": "execute_result"
    }
   ],
   "source": [
    "tzones.head(3)"
   ]
  },
  {
   "cell_type": "code",
   "execution_count": null,
   "metadata": {
    "collapsed": false
   },
   "outputs": [
    {
     "data": {
      "text/plain": [
       "263"
      ]
     },
     "execution_count": 8,
     "metadata": {},
     "output_type": "execute_result"
    }
   ],
   "source": [
    "len(tzones.LocationID.unique())"
   ]
  },
  {
   "cell_type": "markdown",
   "metadata": {},
   "source": [
    "# Run Data"
   ]
  },
  {
   "cell_type": "code",
   "execution_count": null,
   "metadata": {
    "collapsed": false
   },
   "outputs": [
    {
     "name": "stdout",
     "output_type": "stream",
     "text": [
      "Reading Data/Yellow/yellow_tripdata_2014-01.csv\n",
      "Cleaning columns\n",
      "Aggregating data\n"
     ]
    }
   ],
   "source": [
    "data = yellow_taxi(tzones)"
   ]
  },
  {
   "cell_type": "code",
   "execution_count": null,
   "metadata": {
    "collapsed": true
   },
   "outputs": [],
   "source": []
  }
 ],
 "metadata": {
  "kernelspec": {
   "display_name": "PUI2016_Python2",
   "language": "python",
   "name": "pui2016_python2"
  },
  "language_info": {
   "codemirror_mode": {
    "name": "ipython",
    "version": 2
   },
   "file_extension": ".py",
   "mimetype": "text/x-python",
   "name": "python",
   "nbconvert_exporter": "python",
   "pygments_lexer": "ipython2",
   "version": "2.7.12"
  }
 },
 "nbformat": 4,
 "nbformat_minor": 0
}
