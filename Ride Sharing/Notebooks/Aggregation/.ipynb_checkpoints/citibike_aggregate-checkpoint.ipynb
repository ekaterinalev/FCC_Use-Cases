{
 "cells": [
  {
   "cell_type": "code",
   "execution_count": 35,
   "metadata": {
    "collapsed": false
   },
   "outputs": [],
   "source": [
    "import pandas as pd\n",
    "import os\n",
    "import json\n",
    "from shapely.geometry import Point\n",
    "import geopandas as gp\n",
    "import numpy as np\n",
    "import urllib\n",
    "import matplotlib.pyplot as plt\n",
    "%matplotlib inline"
   ]
  },
  {
   "cell_type": "markdown",
   "metadata": {},
   "source": [
    "# Citibike Stations"
   ]
  },
  {
   "cell_type": "code",
   "execution_count": 36,
   "metadata": {
    "collapsed": false
   },
   "outputs": [],
   "source": [
    "url = \"https://feeds.citibikenyc.com/stations/stations.json\"\n",
    "response = urllib.urlopen(url)\n",
    "stations = json.loads(response.read())\n",
    "    \n",
    "# https://feeds.citibikenyc.com/stations/stations.json"
   ]
  },
  {
   "cell_type": "code",
   "execution_count": 37,
   "metadata": {
    "collapsed": false
   },
   "outputs": [],
   "source": [
    "st = map(lambda x: (x['id'],x['latitude'], x['longitude'], x['stAddress1']),stations['stationBeanList'])"
   ]
  },
  {
   "cell_type": "code",
   "execution_count": 38,
   "metadata": {
    "collapsed": false
   },
   "outputs": [],
   "source": [
    "cb_stations = pd.DataFrame(st, columns=['id', 'latitude', 'longitude', 'station_address'])"
   ]
  },
  {
   "cell_type": "code",
   "execution_count": 39,
   "metadata": {
    "collapsed": false
   },
   "outputs": [
    {
     "data": {
      "text/plain": [
       "0"
      ]
     },
     "execution_count": 39,
     "metadata": {},
     "output_type": "execute_result"
    }
   ],
   "source": [
    "cb_stations.duplicated().sum()"
   ]
  },
  {
   "cell_type": "code",
   "execution_count": 40,
   "metadata": {
    "collapsed": false
   },
   "outputs": [
    {
     "data": {
      "text/html": [
       "<div>\n",
       "<table border=\"1\" class=\"dataframe\">\n",
       "  <thead>\n",
       "    <tr style=\"text-align: right;\">\n",
       "      <th></th>\n",
       "      <th>id</th>\n",
       "      <th>latitude</th>\n",
       "      <th>longitude</th>\n",
       "      <th>station_address</th>\n",
       "    </tr>\n",
       "  </thead>\n",
       "  <tbody>\n",
       "    <tr>\n",
       "      <th>0</th>\n",
       "      <td>72</td>\n",
       "      <td>40.767272</td>\n",
       "      <td>-73.993929</td>\n",
       "      <td>W 52 St &amp; 11 Ave</td>\n",
       "    </tr>\n",
       "    <tr>\n",
       "      <th>1</th>\n",
       "      <td>79</td>\n",
       "      <td>40.719116</td>\n",
       "      <td>-74.006667</td>\n",
       "      <td>Franklin St &amp; W Broadway</td>\n",
       "    </tr>\n",
       "    <tr>\n",
       "      <th>2</th>\n",
       "      <td>82</td>\n",
       "      <td>40.711174</td>\n",
       "      <td>-74.000165</td>\n",
       "      <td>St James Pl &amp; Pearl St</td>\n",
       "    </tr>\n",
       "    <tr>\n",
       "      <th>3</th>\n",
       "      <td>83</td>\n",
       "      <td>40.683826</td>\n",
       "      <td>-73.976323</td>\n",
       "      <td>Atlantic Ave &amp; Fort Greene Pl</td>\n",
       "    </tr>\n",
       "    <tr>\n",
       "      <th>4</th>\n",
       "      <td>116</td>\n",
       "      <td>40.741776</td>\n",
       "      <td>-74.001497</td>\n",
       "      <td>W 17 St &amp; 8 Ave</td>\n",
       "    </tr>\n",
       "  </tbody>\n",
       "</table>\n",
       "</div>"
      ],
      "text/plain": [
       "    id   latitude  longitude                station_address\n",
       "0   72  40.767272 -73.993929               W 52 St & 11 Ave\n",
       "1   79  40.719116 -74.006667       Franklin St & W Broadway\n",
       "2   82  40.711174 -74.000165         St James Pl & Pearl St\n",
       "3   83  40.683826 -73.976323  Atlantic Ave & Fort Greene Pl\n",
       "4  116  40.741776 -74.001497                W 17 St & 8 Ave"
      ]
     },
     "execution_count": 40,
     "metadata": {},
     "output_type": "execute_result"
    }
   ],
   "source": [
    "cb_stations.head()"
   ]
  },
  {
   "cell_type": "markdown",
   "metadata": {},
   "source": [
    "# Taxi zones"
   ]
  },
  {
   "cell_type": "code",
   "execution_count": 41,
   "metadata": {
    "collapsed": false
   },
   "outputs": [],
   "source": [
    "tzones = gp.read_file(\"../../Data/taxi_zones/taxi_zones_updated.shp\")"
   ]
  },
  {
   "cell_type": "code",
   "execution_count": 42,
   "metadata": {
    "collapsed": true
   },
   "outputs": [],
   "source": [
    "tzones.to_crs(epsg=4326, inplace=True)"
   ]
  },
  {
   "cell_type": "markdown",
   "metadata": {},
   "source": [
    "# Merge all"
   ]
  },
  {
   "cell_type": "code",
   "execution_count": 43,
   "metadata": {
    "collapsed": true
   },
   "outputs": [],
   "source": [
    "def merge(stations, tzones):\n",
    "    crs = {'init': 'epsg:4326', 'no_defs': True}\n",
    "    geometry = [Point(xy) for xy in zip(stations[\"longitude\"], stations[\"latitude\"])]\n",
    "    stations = stations.drop([\"longitude\", \"latitude\"], axis=1)\n",
    "    stations = gp.GeoDataFrame(stations, crs=crs, geometry=geometry)\n",
    "    \n",
    "    print \"Spatially joining cb_stations and taxi zones\"\n",
    "    stations_geo = gp.sjoin(tzones, stations) \n",
    "    stations_geo.drop(['borough', u'OBJECTID', 'Shape_Area', 'Shape_Leng',\n",
    "                    u'geometry', 'index_right', 'zone'], axis = 1, inplace = True)  \n",
    "    stations_geo.reset_index(inplace=True, drop=True)\n",
    "    \n",
    "    return stations_geo"
   ]
  },
  {
   "cell_type": "code",
   "execution_count": 14,
   "metadata": {
    "collapsed": false
   },
   "outputs": [],
   "source": [
    "def data_aggregator(data, stations_geo):\n",
    "    data = data[['starttime', 'start station id']]\n",
    "    data[\"starttime\"] = pd.to_datetime(data[\"starttime\"])\n",
    "\n",
    "    data = pd.merge(data, stations_geo, left_on='start station id', right_on= 'id', how='left')\n",
    "    data.dropna(inplace=True)\n",
    "    data_agg = data.set_index('starttime').groupby([pd.TimeGrouper('D'),'LocationID']).agg({'start station id':'count'})\n",
    "    data_agg.reset_index('LocationID', inplace=True)\n",
    "    data_agg.columns = ['locationid', 'count']\n",
    "    return data_agg"
   ]
  },
  {
   "cell_type": "code",
   "execution_count": 15,
   "metadata": {
    "collapsed": false
   },
   "outputs": [],
   "source": [
    "def citibike(years, months):\n",
    "    \n",
    "    '''Agrregate citibike data by taxi zones'''\n",
    "\n",
    "#     year = ['2013', '2014', '2015', '2016']\n",
    "#     months = ['07' ,'08', '09', '10', '11', '12']\n",
    "#     months = ['01' ,'02', '03', '04', '05', '06', '07' ,'08', '09', '10', '11', '12']\n",
    "    stations_geo = merge(cb_stations, tzones)\n",
    "    \n",
    "    citibike = pd.DataFrame()\n",
    "    for y in years:\n",
    "        for m in months:\n",
    "            \n",
    "            print \"Reading Data/Citibike/\" + y + m + \"-citibike-tripdata.csv\"\n",
    "            data = pd.read_csv(\"../../Data/Citibike/\" + y + m + \"-citibike-tripdata.csv\")\n",
    "#             print \"Cleaning columns\"\n",
    "#             data = clean_columns(data, y, m)\n",
    "            print \"Aggregating data\"\n",
    "            data_agg = data_aggregator(data, stations_geo)\n",
    "            data_agg.to_csv(\"../../Data/Aggregated/individual_files/Citibike\"+ y + \"-\" + m + \".csv\")\n",
    "            citibike = citibike.append(data_agg)\n",
    "    \n",
    "    return citibike"
   ]
  },
  {
   "cell_type": "code",
   "execution_count": 16,
   "metadata": {
    "collapsed": false
   },
   "outputs": [
    {
     "name": "stdout",
     "output_type": "stream",
     "text": [
      "Spatially joining cb_stations and taxi zones\n",
      "Reading Data/Citibike/201307-citibike-tripdata.csv\n",
      "Aggregating data\n"
     ]
    },
    {
     "name": "stderr",
     "output_type": "stream",
     "text": [
      "/opt/rh/anaconda/root/envs/PUI2016_Python2/lib/python2.7/site-packages/ipykernel/__main__.py:3: SettingWithCopyWarning: \n",
      "A value is trying to be set on a copy of a slice from a DataFrame.\n",
      "Try using .loc[row_indexer,col_indexer] = value instead\n",
      "\n",
      "See the caveats in the documentation: http://pandas.pydata.org/pandas-docs/stable/indexing.html#indexing-view-versus-copy\n",
      "  app.launch_new_instance()\n"
     ]
    },
    {
     "name": "stdout",
     "output_type": "stream",
     "text": [
      "Reading Data/Citibike/201308-citibike-tripdata.csv\n",
      "Aggregating data\n",
      "Reading Data/Citibike/201309-citibike-tripdata.csv\n",
      "Aggregating data\n",
      "Reading Data/Citibike/201310-citibike-tripdata.csv\n",
      "Aggregating data\n",
      "Reading Data/Citibike/201311-citibike-tripdata.csv\n",
      "Aggregating data\n",
      "Reading Data/Citibike/201312-citibike-tripdata.csv\n",
      "Aggregating data\n"
     ]
    }
   ],
   "source": [
    "cb1 = citibike(['2013'], ['07', '08', '09', '10', '11', '12'])"
   ]
  },
  {
   "cell_type": "code",
   "execution_count": 17,
   "metadata": {
    "collapsed": false
   },
   "outputs": [
    {
     "name": "stdout",
     "output_type": "stream",
     "text": [
      "Spatially joining cb_stations and taxi zones\n",
      "Reading Data/Citibike/201401-citibike-tripdata.csv\n",
      "Aggregating data\n"
     ]
    },
    {
     "name": "stderr",
     "output_type": "stream",
     "text": [
      "/opt/rh/anaconda/root/envs/PUI2016_Python2/lib/python2.7/site-packages/ipykernel/__main__.py:3: SettingWithCopyWarning: \n",
      "A value is trying to be set on a copy of a slice from a DataFrame.\n",
      "Try using .loc[row_indexer,col_indexer] = value instead\n",
      "\n",
      "See the caveats in the documentation: http://pandas.pydata.org/pandas-docs/stable/indexing.html#indexing-view-versus-copy\n",
      "  app.launch_new_instance()\n"
     ]
    },
    {
     "name": "stdout",
     "output_type": "stream",
     "text": [
      "Reading Data/Citibike/201402-citibike-tripdata.csv\n",
      "Aggregating data\n",
      "Reading Data/Citibike/201403-citibike-tripdata.csv\n",
      "Aggregating data\n",
      "Reading Data/Citibike/201404-citibike-tripdata.csv\n",
      "Aggregating data\n",
      "Reading Data/Citibike/201405-citibike-tripdata.csv\n",
      "Aggregating data\n",
      "Reading Data/Citibike/201406-citibike-tripdata.csv\n",
      "Aggregating data\n",
      "Reading Data/Citibike/201407-citibike-tripdata.csv\n",
      "Aggregating data\n",
      "Reading Data/Citibike/201408-citibike-tripdata.csv\n",
      "Aggregating data\n",
      "Reading Data/Citibike/201409-citibike-tripdata.csv\n",
      "Aggregating data\n",
      "Reading Data/Citibike/201410-citibike-tripdata.csv\n",
      "Aggregating data\n",
      "Reading Data/Citibike/201411-citibike-tripdata.csv\n",
      "Aggregating data\n",
      "Reading Data/Citibike/201412-citibike-tripdata.csv\n",
      "Aggregating data\n"
     ]
    }
   ],
   "source": [
    "cb2 = citibike(years=['2014'], months = ['01' ,'02', '03', '04', '05', '06', '07' ,'08', '09', '10', '11', '12'])"
   ]
  },
  {
   "cell_type": "code",
   "execution_count": 27,
   "metadata": {
    "collapsed": false
   },
   "outputs": [
    {
     "name": "stdout",
     "output_type": "stream",
     "text": [
      "Spatially joining cb_stations and taxi zones\n",
      "Reading Data/Citibike/201501-citibike-tripdata.csv\n",
      "Aggregating data\n"
     ]
    },
    {
     "name": "stderr",
     "output_type": "stream",
     "text": [
      "/opt/rh/anaconda/root/envs/PUI2016_Python2/lib/python2.7/site-packages/ipykernel/__main__.py:3: SettingWithCopyWarning: \n",
      "A value is trying to be set on a copy of a slice from a DataFrame.\n",
      "Try using .loc[row_indexer,col_indexer] = value instead\n",
      "\n",
      "See the caveats in the documentation: http://pandas.pydata.org/pandas-docs/stable/indexing.html#indexing-view-versus-copy\n",
      "  app.launch_new_instance()\n"
     ]
    },
    {
     "name": "stdout",
     "output_type": "stream",
     "text": [
      "Reading Data/Citibike/201502-citibike-tripdata.csv\n",
      "Aggregating data\n",
      "Reading Data/Citibike/201503-citibike-tripdata.csv\n",
      "Aggregating data\n",
      "Reading Data/Citibike/201504-citibike-tripdata.csv\n",
      "Aggregating data\n",
      "Reading Data/Citibike/201506-citibike-tripdata.csv\n",
      "Aggregating data\n",
      "Reading Data/Citibike/201507-citibike-tripdata.csv\n",
      "Aggregating data\n",
      "Reading Data/Citibike/201508-citibike-tripdata.csv\n",
      "Aggregating data\n",
      "Reading Data/Citibike/201509-citibike-tripdata.csv\n",
      "Aggregating data\n",
      "Reading Data/Citibike/201510-citibike-tripdata.csv\n",
      "Aggregating data\n",
      "Reading Data/Citibike/201511-citibike-tripdata.csv\n",
      "Aggregating data\n",
      "Reading Data/Citibike/201512-citibike-tripdata.csv\n",
      "Aggregating data\n"
     ]
    }
   ],
   "source": [
    "cb3 = citibike(years=['2015'], months = ['01' ,'02', '03', '04','06', '07' ,'08', '09', '10', '11', '12'])"
   ]
  },
  {
   "cell_type": "code",
   "execution_count": 28,
   "metadata": {
    "collapsed": false
   },
   "outputs": [],
   "source": [
    "cb4 = citibike(years=['2016'], months = ['01' ,'02', '03', '04', '05', '06', '07' ,'08', '09', '10', '11', '12'])"
   ]
  },
  {
   "cell_type": "code",
   "execution_count": 29,
   "metadata": {
    "collapsed": false
   },
   "outputs": [],
   "source": [
    "d = pd.read_csv(\"../../Data/Citibike/201505-citibike-tripdata.zip\")"
   ]
  },
  {
   "cell_type": "code",
   "execution_count": 46,
   "metadata": {
    "collapsed": false
   },
   "outputs": [],
   "source": [
    "# data = d[['starttime', 'start station id']]\n",
    "# data[\"starttime\"] = pd.to_datetime(data[\"starttime\"])\n",
    "\n",
    "# data = pd.merge(data, stations_geo, left_on='start station id', right_on= 'id', how='left')\n",
    "# data.dropna(inplace=True)\n",
    "data_agg = data.set_index('starttime').groupby([pd.TimeGrouper('D'),'LocationID']).agg({'start station id':'count'})\n",
    "data_agg.reset_index('LocationID', inplace=True)\n",
    "data_agg.columns = ['locationid', 'count']\n"
   ]
  },
  {
   "cell_type": "code",
   "execution_count": 48,
   "metadata": {
    "collapsed": false
   },
   "outputs": [],
   "source": [
    "data_agg.to_csv(\"../../Data/Aggregated/individual_files/Citibike\"+ '2015' + \"-\" + '05' + \".csv\")"
   ]
  },
  {
   "cell_type": "code",
   "execution_count": 44,
   "metadata": {
    "collapsed": false
   },
   "outputs": [
    {
     "name": "stdout",
     "output_type": "stream",
     "text": [
      "Spatially joining cb_stations and taxi zones\n"
     ]
    }
   ],
   "source": [
    "stations_geo = merge(cb_stations, tzones)"
   ]
  },
  {
   "cell_type": "code",
   "execution_count": null,
   "metadata": {
    "collapsed": true
   },
   "outputs": [],
   "source": []
  }
 ],
 "metadata": {
  "kernelspec": {
   "display_name": "PUI2016_Python2",
   "language": "python",
   "name": "pui2016_python2"
  },
  "language_info": {
   "codemirror_mode": {
    "name": "ipython",
    "version": 2
   },
   "file_extension": ".py",
   "mimetype": "text/x-python",
   "name": "python",
   "nbconvert_exporter": "python",
   "pygments_lexer": "ipython2",
   "version": "2.7.12"
  }
 },
 "nbformat": 4,
 "nbformat_minor": 0
}
