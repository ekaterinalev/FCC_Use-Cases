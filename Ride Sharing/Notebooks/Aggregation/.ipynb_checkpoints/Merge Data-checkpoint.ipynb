{
 "cells": [
  {
   "cell_type": "code",
   "execution_count": 1,
   "metadata": {
    "collapsed": true
   },
   "outputs": [],
   "source": [
    "import pandas as pd"
   ]
  },
  {
   "cell_type": "code",
   "execution_count": 9,
   "metadata": {
    "collapsed": false
   },
   "outputs": [],
   "source": [
    "# years = ['2013', '2014', '2015', '2016']\n",
    "# months = ['01','02','03','04','05','06','07','08','09','10','11','12']\n",
    "\n",
    "years = ['2013']\n",
    "months = ['08','09','10','11','12']\n",
    "\n",
    "\n",
    "yellow = pd.DataFrame()\n",
    "yellow_d = pd.DataFrame()\n",
    "green = pd.DataFrame()\n",
    "green_d = pd.DataFrame()\n",
    "\n",
    "for y in years:\n",
    "    for m in months:\n",
    "        \n",
    "        if ((y == '2016') & (m == '06')):\n",
    "            break\n",
    "        else:\n",
    "#             temp_y = pd.read_csv(\"../../Data/Aggregated/individual_files/yellow_\" + y + \"-\" + m + \".csv\")\n",
    "#             yellow = yellow.append(temp_y, ignore_index = True)\n",
    "        \n",
    "            temp_g = pd.read_csv(\"../../Data/Aggregated/individual_files/green_\" + y + \"-\" + m + \".csv\")\n",
    "            green = green.append(temp_g, ignore_index = True)\n",
    "            \n",
    "#             temp_gd = pd.read_csv(\"../Data/Aggregated/individual_files/green_dropoff_\" + y + \"-\" + m + \".csv\")\n",
    "#             green_d = green_d.append(temp_gd, ignore_index = True)\n",
    "            \n",
    "#             if ((y == '2014') & (m == '01')):\n",
    "#                 pass\n",
    "#             else:\n",
    "#                 temp_yd = pd.read_csv(\"../Data/Aggregated/individual_files/yellow_dropoff_\" + y + \"-\" + m + \".csv\")\n",
    "#                 yellow_d = yellow_d.append(temp_yd, ignore_index = True)"
   ]
  },
  {
   "cell_type": "code",
   "execution_count": 5,
   "metadata": {
    "collapsed": false
   },
   "outputs": [],
   "source": [
    "yellow.to_csv(\"../../Data/Aggregated/yellow_pickup.csv\")\n",
    "# yellow_d.to_csv(\"../Data/Aggregated/yellow_dropooff.csv\")\n",
    "# green.to_csv(\"../Data/Aggregated/green_pickup.csv\")\n",
    "# green_d.to_csv(\"../Data/Aggregated/green_dropooff.csv\")"
   ]
  }
 ],
 "metadata": {
  "kernelspec": {
   "display_name": "PUI2016_Python2",
   "language": "python",
   "name": "pui2016_python2"
  },
  "language_info": {
   "codemirror_mode": {
    "name": "ipython",
    "version": 2
   },
   "file_extension": ".py",
   "mimetype": "text/x-python",
   "name": "python",
   "nbconvert_exporter": "python",
   "pygments_lexer": "ipython2",
   "version": "2.7.12"
  }
 },
 "nbformat": 4,
 "nbformat_minor": 0
}
