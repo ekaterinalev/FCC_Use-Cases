{
 "cells": [
  {
   "cell_type": "code",
   "execution_count": 2,
   "metadata": {
    "collapsed": true
   },
   "outputs": [],
   "source": [
    "import pandas as pd"
   ]
  },
  {
   "cell_type": "code",
   "execution_count": 19,
   "metadata": {
    "collapsed": true
   },
   "outputs": [],
   "source": [
    "# y01 = pd.read_csv(\"../../Data/Dist_agg/yellow_2014-01.csv\")\n",
    "# y02 = pd.read_csv(\"../../Data/Dist_agg/yellow_2014-02.csv\")"
   ]
  },
  {
   "cell_type": "code",
   "execution_count": 20,
   "metadata": {
    "collapsed": false
   },
   "outputs": [],
   "source": [
    "# y01.drop(['Unnamed: 0'], axis=1, inplace=True)\n",
    "# y02.drop(['Unnamed: 0'], axis=1, inplace=True)"
   ]
  },
  {
   "cell_type": "code",
   "execution_count": 21,
   "metadata": {
    "collapsed": true
   },
   "outputs": [],
   "source": [
    "# y_dist = pd.DataFrame()"
   ]
  },
  {
   "cell_type": "code",
   "execution_count": 22,
   "metadata": {
    "collapsed": false
   },
   "outputs": [],
   "source": [
    "# y = pd.merge(y01, y02, on=['neighbourhood', 'trip_cat'])\n",
    "# y['num_rides'] = y['num_rides_x'] + y['num_rides_y']\n",
    "# y.drop(['num_rides_x', 'num_rides_y'], axis=1, inplace=True)"
   ]
  },
  {
   "cell_type": "code",
   "execution_count": 26,
   "metadata": {
    "collapsed": false
   },
   "outputs": [
    {
     "name": "stdout",
     "output_type": "stream",
     "text": [
      "Adding yellow_2014-01.csv\n",
      "Adding yellow_2014-02.csv\n",
      "Adding yellow_2014-03.csv\n",
      "Adding yellow_2014-04.csv\n",
      "Adding yellow_2014-05.csv\n",
      "Adding yellow_2014-06.csv\n",
      "Adding yellow_2014-07.csv\n",
      "Adding yellow_2014-08.csv\n",
      "Adding yellow_2014-09.csv\n",
      "Adding yellow_2014-10.csv\n",
      "Adding yellow_2014-11.csv\n",
      "Adding yellow_2014-12.csv\n"
     ]
    }
   ],
   "source": [
    "months = ['01','02','03','04','05','06','07','08','09','10','11','12']\n",
    "\n",
    "years = ['2014']\n",
    "\n",
    "y_dist = pd.DataFrame()\n",
    "\n",
    "for y in years:\n",
    "    for m in months:\n",
    "        \n",
    "        temp = pd.read_csv(\"../../Data/Dist_agg/yellow_\"+ y + \"-\" + m + \".csv\")\n",
    "        print \"Adding yellow_\"+ y + \"-\" + m + \".csv\"\n",
    "        temp.drop(['Unnamed: 0'], axis=1, inplace=True)\n",
    "        if len(y_dist) == 0:\n",
    "            y_dist = y_dist.append(temp, ignore_index = True)\n",
    "        else:\n",
    "            y_dist = pd.merge(y_dist, temp, on=['neighbourhood', 'trip_cat'])\n",
    "            y_dist['num_rides'] = y_dist['num_rides_x'] + y_dist['num_rides_y']\n",
    "            y_dist.drop(['num_rides_x', 'num_rides_y'], axis=1, inplace=True)\n",
    "\n",
    "y_dist.to_csv('../../Data/Aggregated/yellow_14_distance.csv')"
   ]
  },
  {
   "cell_type": "code",
   "execution_count": 27,
   "metadata": {
    "collapsed": false
   },
   "outputs": [
    {
     "name": "stdout",
     "output_type": "stream",
     "text": [
      "Adding yellow_2015-01.csv\n",
      "Adding yellow_2015-02.csv\n",
      "Adding yellow_2015-03.csv\n",
      "Adding yellow_2015-04.csv\n",
      "Adding yellow_2015-05.csv\n",
      "Adding yellow_2015-06.csv\n",
      "Adding yellow_2015-07.csv\n",
      "Adding yellow_2015-08.csv\n",
      "Adding yellow_2015-09.csv\n",
      "Adding yellow_2015-10.csv\n",
      "Adding yellow_2015-11.csv\n",
      "Adding yellow_2015-12.csv\n"
     ]
    }
   ],
   "source": [
    "months = ['01','02','03','04','05','06','07','08','09','10','11','12']\n",
    "\n",
    "years = ['2015']\n",
    "\n",
    "y_dist = pd.DataFrame()\n",
    "\n",
    "for y in years:\n",
    "    for m in months:\n",
    "        \n",
    "        temp = pd.read_csv(\"../../Data/Dist_agg/yellow_\"+ y + \"-\" + m + \".csv\")\n",
    "        print \"Adding yellow_\"+ y + \"-\" + m + \".csv\"\n",
    "        temp.drop(['Unnamed: 0'], axis=1, inplace=True)\n",
    "        if len(y_dist) == 0:\n",
    "            y_dist = y_dist.append(temp, ignore_index = True)\n",
    "        else:\n",
    "            y_dist = pd.merge(y_dist, temp, on=['neighbourhood', 'trip_cat'])\n",
    "            y_dist['num_rides'] = y_dist['num_rides_x'] + y_dist['num_rides_y']\n",
    "            y_dist.drop(['num_rides_x', 'num_rides_y'], axis=1, inplace=True)\n",
    "\n",
    "y_dist.to_csv('../../Data/Aggregated/yellow_15_distance.csv')"
   ]
  },
  {
   "cell_type": "code",
   "execution_count": 4,
   "metadata": {
    "collapsed": false
   },
   "outputs": [
    {
     "name": "stdout",
     "output_type": "stream",
     "text": [
      "Adding green2014-01.csv\n",
      "Adding green2014-02.csv\n",
      "Adding green2014-03.csv\n",
      "Adding green2014-04.csv\n",
      "Adding green2014-05.csv\n",
      "Adding green2014-06.csv\n",
      "Adding green2014-07.csv\n",
      "Adding green2014-08.csv\n",
      "Adding green2014-09.csv\n",
      "Adding green2014-10.csv\n",
      "Adding green2014-11.csv\n",
      "Adding green2014-12.csv\n"
     ]
    }
   ],
   "source": [
    "months = ['01','02','03','04','05','06','07','08','09','10','11','12']\n",
    "\n",
    "years = ['2014']\n",
    "\n",
    "g_dist = pd.DataFrame()\n",
    "\n",
    "for y in years:\n",
    "    for m in months:\n",
    "        \n",
    "        temp = pd.read_csv(\"../../Data/Dist_agg/green_\"+ y + \"-\" + m + \".csv\")\n",
    "        print \"Adding green\"+ y + \"-\" + m + \".csv\"\n",
    "        temp.drop(['Unnamed: 0'], axis=1, inplace=True)\n",
    "        if len(g_dist) == 0:\n",
    "            g_dist = g_dist.append(temp, ignore_index = True)\n",
    "        else:\n",
    "            g_dist = pd.merge(g_dist, temp, on=['neighbourhood', 'trip_cat'])\n",
    "            g_dist['num_rides'] = g_dist['num_rides_x'] + g_dist['num_rides_y']\n",
    "            g_dist.drop(['num_rides_x', 'num_rides_y'], axis=1, inplace=True)\n",
    "\n",
    "g_dist.to_csv('../../Data/Aggregated/green_14_distance.csv')"
   ]
  },
  {
   "cell_type": "code",
   "execution_count": 5,
   "metadata": {
    "collapsed": false
   },
   "outputs": [
    {
     "name": "stdout",
     "output_type": "stream",
     "text": [
      "Adding green2015-01.csv\n",
      "Adding green2015-02.csv\n",
      "Adding green2015-03.csv\n",
      "Adding green2015-04.csv\n",
      "Adding green2015-05.csv\n",
      "Adding green2015-06.csv\n",
      "Adding green2015-07.csv\n",
      "Adding green2015-08.csv\n",
      "Adding green2015-09.csv\n",
      "Adding green2015-10.csv\n",
      "Adding green2015-11.csv\n",
      "Adding green2015-12.csv\n"
     ]
    }
   ],
   "source": [
    "months = ['01','02','03','04','05','06','07','08','09','10','11','12']\n",
    "\n",
    "years = ['2015']\n",
    "\n",
    "g_dist = pd.DataFrame()\n",
    "\n",
    "for y in years:\n",
    "    for m in months:\n",
    "        \n",
    "        temp = pd.read_csv(\"../../Data/Dist_agg/green_\"+ y + \"-\" + m + \".csv\")\n",
    "        print \"Adding green\"+ y + \"-\" + m + \".csv\"\n",
    "        temp.drop(['Unnamed: 0'], axis=1, inplace=True)\n",
    "        if len(g_dist) == 0:\n",
    "            g_dist = g_dist.append(temp, ignore_index = True)\n",
    "        else:\n",
    "            g_dist = pd.merge(g_dist, temp, on=['neighbourhood', 'trip_cat'])\n",
    "            g_dist['num_rides'] = g_dist['num_rides_x'] + g_dist['num_rides_y']\n",
    "            g_dist.drop(['num_rides_x', 'num_rides_y'], axis=1, inplace=True)\n",
    "\n",
    "g_dist.to_csv('../../Data/Aggregated/green_15_distance.csv')"
   ]
  },
  {
   "cell_type": "code",
   "execution_count": null,
   "metadata": {
    "collapsed": true
   },
   "outputs": [],
   "source": []
  },
  {
   "cell_type": "code",
   "execution_count": null,
   "metadata": {
    "collapsed": true
   },
   "outputs": [],
   "source": []
  }
 ],
 "metadata": {
  "kernelspec": {
   "display_name": "PUI2016_Python2",
   "language": "python",
   "name": "pui2016_python2"
  },
  "language_info": {
   "codemirror_mode": {
    "name": "ipython",
    "version": 2
   },
   "file_extension": ".py",
   "mimetype": "text/x-python",
   "name": "python",
   "nbconvert_exporter": "python",
   "pygments_lexer": "ipython2",
   "version": "2.7.12"
  }
 },
 "nbformat": 4,
 "nbformat_minor": 0
}
