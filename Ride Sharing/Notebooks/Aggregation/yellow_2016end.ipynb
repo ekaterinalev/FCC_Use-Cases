{
 "cells": [
  {
   "cell_type": "code",
   "execution_count": 1,
   "metadata": {
    "collapsed": true
   },
   "outputs": [],
   "source": [
    "import pandas as pd\n",
    "import geopandas as gp\n",
    "from fiona.crs import from_epsg\n",
    "import shapely\n",
    "import matplotlib.pylab as plt\n",
    "import csv\n",
    "import dateutil\n",
    "import os\n",
    "from shapely.geometry import Point\n",
    "%matplotlib inline"
   ]
  },
  {
   "cell_type": "code",
   "execution_count": 59,
   "metadata": {
    "collapsed": true
   },
   "outputs": [],
   "source": [
    "def yellow16_agg(data):\n",
    "    \n",
    "    data.columns = map(lambda x: x.strip(), list(data.columns))\n",
    "    data.columns = map(lambda x: x.lower(), list(data.columns))\n",
    "\n",
    "    cols = data.columns\n",
    "    data.reset_index(inplace=True)\n",
    "    data = data.iloc[:,:len(cols)]\n",
    "    data.columns = cols\n",
    "\n",
    "    data.drop([u'vendorid', u'tpep_dropoff_datetime',\n",
    "       u'passenger_count', u'ratecodeid',\n",
    "       u'store_and_fwd_flag', u'dolocationid',\n",
    "       u'payment_type', u'fare_amount', u'extra', u'mta_tax', u'tip_amount',\n",
    "       u'tolls_amount', u'improvement_surcharge', u'total_amount'], axis = 1, inplace = True)\n",
    "    \n",
    "    data.columns = ['pickup_datetime','trip_distance', 'pulocationid']\n",
    "    data.pickup_datetime = pd.to_datetime(data.pickup_datetime)\n",
    "    data = data.set_index('pickup_datetime').groupby([pd.TimeGrouper('D'), \n",
    "                                           'pulocationid']).agg({'trip_distance':'mean', 'pulocationid':'count'})\n",
    "    data.columns = ['trip_distance', 'counts']\n",
    "    data.reset_index('pulocationid', inplace=True)\n",
    "    return data"
   ]
  },
  {
   "cell_type": "code",
   "execution_count": 60,
   "metadata": {
    "collapsed": false
   },
   "outputs": [],
   "source": [
    "def yellow16(months):\n",
    "    yellow = []\n",
    "    for m in months:\n",
    "        data = pd.read_csv(\"../../Data/Yellow/yellow_tripdata_2016-\" + m + \".csv\")\n",
    "        print \"Data read for month\" + m\n",
    "        data_agg = yellow16_agg(data)\n",
    "        print \"Data Aggregated\"\n",
    "        data_agg.to_csv(\"../../Data/Aggregated/individual_files/yellow_2016-\" + m + \".csv\")\n",
    "        print \"Data file created\"\n",
    "        yellow.append(data_agg)\n",
    "    return yellow"
   ]
  },
  {
   "cell_type": "code",
   "execution_count": 61,
   "metadata": {
    "collapsed": false
   },
   "outputs": [
    {
     "name": "stdout",
     "output_type": "stream",
     "text": [
      "Data read for month07\n",
      "Data Aggregated\n",
      "Data file created\n",
      "Data read for month08\n",
      "Data Aggregated\n",
      "Data file created\n",
      "Data read for month09\n",
      "Data Aggregated\n",
      "Data file created\n",
      "Data read for month10\n",
      "Data Aggregated\n",
      "Data file created\n",
      "Data read for month11\n",
      "Data Aggregated\n",
      "Data file created\n",
      "Data read for month12\n",
      "Data Aggregated\n",
      "Data file created\n"
     ]
    }
   ],
   "source": [
    "yellow = yellow16(['07', '08', '09', '10', '11', '12'])"
   ]
  },
  {
   "cell_type": "code",
   "execution_count": 36,
   "metadata": {
    "collapsed": false
   },
   "outputs": [],
   "source": []
  },
  {
   "cell_type": "code",
   "execution_count": 37,
   "metadata": {
    "collapsed": false
   },
   "outputs": [],
   "source": []
  },
  {
   "cell_type": "code",
   "execution_count": null,
   "metadata": {
    "collapsed": true
   },
   "outputs": [],
   "source": []
  }
 ],
 "metadata": {
  "kernelspec": {
   "display_name": "PUI2016_Python2",
   "language": "python",
   "name": "pui2016_python2"
  },
  "language_info": {
   "codemirror_mode": {
    "name": "ipython",
    "version": 2
   },
   "file_extension": ".py",
   "mimetype": "text/x-python",
   "name": "python",
   "nbconvert_exporter": "python",
   "pygments_lexer": "ipython2",
   "version": "2.7.12"
  }
 },
 "nbformat": 4,
 "nbformat_minor": 0
}
