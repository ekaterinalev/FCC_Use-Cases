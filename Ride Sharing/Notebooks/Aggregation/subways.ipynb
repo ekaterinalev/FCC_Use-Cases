{
 "cells": [
  {
   "cell_type": "code",
   "execution_count": 1,
   "metadata": {
    "collapsed": false
   },
   "outputs": [],
   "source": [
    "import pandas as pd\n",
    "import datetime as dt\n",
    "import geopandas as gp\n",
    "import urllib2\n",
    "import matplotlib.pyplot as plt\n",
    "import numpy as np\n",
    "from bs4 import BeautifulSoup\n",
    "from datetime import datetime\n",
    "# import datetime as dt\n",
    "import re\n",
    "from shapely.geometry import Point\n",
    "%matplotlib inline"
   ]
  },
  {
   "cell_type": "code",
   "execution_count": 2,
   "metadata": {
    "collapsed": true
   },
   "outputs": [],
   "source": [
    "MTA_TURNSTILE_URL = \"http://web.mta.info/developers/turnstile.html\"\n",
    "MTA_FILE_ROOT_URL = \"http://web.mta.info/developers/\""
   ]
  },
  {
   "cell_type": "code",
   "execution_count": 3,
   "metadata": {
    "collapsed": true
   },
   "outputs": [],
   "source": [
    "# '''\n",
    "# slightly modified from https://github.com/piratefsh/mta-turnstile-scraper/blob/master/mta_scraper.py'''\n",
    "\n",
    "def get_site():\n",
    "    f = urllib2.urlopen(MTA_TURNSTILE_URL)\n",
    "    content = f.read()\n",
    "    return content\n",
    "\n",
    "def get_turnstile_links(html):\n",
    "    soup = BeautifulSoup(html, 'html.parser')\n",
    "    links = soup.find_all('a')\n",
    "    turnstile_links = [(link.text, MTA_FILE_ROOT_URL + link['href']) for link in links if re.match('.*day.*20..', link.text)]\n",
    "    return turnstile_links \n",
    "\n",
    "def get_links_by_date(start, end):\n",
    "    links = get_links()\n",
    "    in_range = []\n",
    "    for text,link in links:\n",
    "        date = datetime.strptime(text , \"%A, %B %d, %Y\") \n",
    "        if date >= start and date <= end:\n",
    "            in_range.append((text, link))\n",
    "    \n",
    "    return in_range\n",
    "\n",
    "def get_links():\n",
    "    return get_turnstile_links(get_site())"
   ]
  },
  {
   "cell_type": "code",
   "execution_count": 4,
   "metadata": {
    "collapsed": false
   },
   "outputs": [],
   "source": [
    "metadata = 'http://web.mta.info/developers/resources/nyct/turnstile/ts_Field_Description_pre-10-18-2014.txt'\n",
    "f = urllib2.urlopen(metadata)\n",
    "content = f.readlines()\n",
    "col_names_14 = str(content[2]).split(',')\n",
    "\n",
    "def turnstile_df(links, post2014 = True): \n",
    "    '''takes links and returns dataframe with all data in one\n",
    "    pre 2014 was captured differently and thus requires a second argument for correct columns'''\n",
    "    df = pd.DataFrame()\n",
    "    if post2014 == True: \n",
    "        for text, link in links: \n",
    "            temp_df = pd.read_csv(link)\n",
    "            temp_df['DATE'] = temp_df['DATE'] + ' ' + temp_df['TIME']\n",
    "            print \"completed \" + link\n",
    "#             temp_df['DATE'] = pd.to_datetime(temp_df['DATE'])\n",
    "            df = df.append(temp_df, ignore_index = True)\n",
    "    elif post2014 == False: \n",
    "        for text, link in links: \n",
    "            temp_df = pd.read_csv(link, header = None, names = col_names_14, parse_dates = True,\n",
    "                                 infer_datetime_format = True)\n",
    "            df = df.append(temp_df, ignore_index = True)\n",
    "    return df"
   ]
  },
  {
   "cell_type": "code",
   "execution_count": 16,
   "metadata": {
    "collapsed": false
   },
   "outputs": [
    {
     "name": "stdout",
     "output_type": "stream",
     "text": [
      "completed http://web.mta.info/developers/data/nyct/turnstile/turnstile_161231.txt\n",
      "completed http://web.mta.info/developers/data/nyct/turnstile/turnstile_161224.txt\n",
      "completed http://web.mta.info/developers/data/nyct/turnstile/turnstile_161217.txt\n",
      "completed http://web.mta.info/developers/data/nyct/turnstile/turnstile_161210.txt\n",
      "completed http://web.mta.info/developers/data/nyct/turnstile/turnstile_161203.txt\n",
      "completed http://web.mta.info/developers/data/nyct/turnstile/turnstile_161126.txt\n",
      "completed http://web.mta.info/developers/data/nyct/turnstile/turnstile_161119.txt\n",
      "completed http://web.mta.info/developers/data/nyct/turnstile/turnstile_161112.txt\n",
      "completed http://web.mta.info/developers/data/nyct/turnstile/turnstile_161105.txt\n",
      "completed http://web.mta.info/developers/data/nyct/turnstile/turnstile_161029.txt\n",
      "completed http://web.mta.info/developers/data/nyct/turnstile/turnstile_161022.txt\n",
      "completed http://web.mta.info/developers/data/nyct/turnstile/turnstile_161015.txt\n",
      "completed http://web.mta.info/developers/data/nyct/turnstile/turnstile_161008.txt\n",
      "completed http://web.mta.info/developers/data/nyct/turnstile/turnstile_161001.txt\n",
      "completed http://web.mta.info/developers/data/nyct/turnstile/turnstile_160924.txt\n",
      "completed http://web.mta.info/developers/data/nyct/turnstile/turnstile_160917.txt\n",
      "completed http://web.mta.info/developers/data/nyct/turnstile/turnstile_160910.txt\n",
      "completed http://web.mta.info/developers/data/nyct/turnstile/turnstile_160903.txt\n",
      "completed http://web.mta.info/developers/data/nyct/turnstile/turnstile_160827.txt\n",
      "completed http://web.mta.info/developers/data/nyct/turnstile/turnstile_160820.txt\n",
      "completed http://web.mta.info/developers/data/nyct/turnstile/turnstile_160813.txt\n",
      "completed http://web.mta.info/developers/data/nyct/turnstile/turnstile_160806.txt\n",
      "completed http://web.mta.info/developers/data/nyct/turnstile/turnstile_160730.txt\n",
      "completed http://web.mta.info/developers/data/nyct/turnstile/turnstile_160723.txt\n",
      "completed http://web.mta.info/developers/data/nyct/turnstile/turnstile_160716.txt\n",
      "completed http://web.mta.info/developers/data/nyct/turnstile/turnstile_160709.txt\n",
      "completed http://web.mta.info/developers/data/nyct/turnstile/turnstile_160702.txt\n",
      "completed http://web.mta.info/developers/data/nyct/turnstile/turnstile_160625.txt\n",
      "completed http://web.mta.info/developers/data/nyct/turnstile/turnstile_160618.txt\n",
      "completed http://web.mta.info/developers/data/nyct/turnstile/turnstile_160611.txt\n",
      "completed http://web.mta.info/developers/data/nyct/turnstile/turnstile_160604.txt\n",
      "completed http://web.mta.info/developers/data/nyct/turnstile/turnstile_160528.txt\n",
      "completed http://web.mta.info/developers/data/nyct/turnstile/turnstile_160521.txt\n",
      "completed http://web.mta.info/developers/data/nyct/turnstile/turnstile_160514.txt\n",
      "completed http://web.mta.info/developers/data/nyct/turnstile/turnstile_160507.txt\n",
      "completed http://web.mta.info/developers/data/nyct/turnstile/turnstile_160430.txt\n",
      "completed http://web.mta.info/developers/data/nyct/turnstile/turnstile_160423.txt\n",
      "completed http://web.mta.info/developers/data/nyct/turnstile/turnstile_160416.txt\n",
      "completed http://web.mta.info/developers/data/nyct/turnstile/turnstile_160409.txt\n",
      "completed http://web.mta.info/developers/data/nyct/turnstile/turnstile_160402.txt\n",
      "completed http://web.mta.info/developers/data/nyct/turnstile/turnstile_160326.txt\n",
      "completed http://web.mta.info/developers/data/nyct/turnstile/turnstile_160319.txt\n",
      "completed http://web.mta.info/developers/data/nyct/turnstile/turnstile_160312.txt\n",
      "completed http://web.mta.info/developers/data/nyct/turnstile/turnstile_160305.txt\n",
      "completed http://web.mta.info/developers/data/nyct/turnstile/turnstile_160227.txt\n",
      "completed http://web.mta.info/developers/data/nyct/turnstile/turnstile_160220.txt\n",
      "completed http://web.mta.info/developers/data/nyct/turnstile/turnstile_160213.txt\n",
      "completed http://web.mta.info/developers/data/nyct/turnstile/turnstile_160206.txt\n",
      "completed http://web.mta.info/developers/data/nyct/turnstile/turnstile_160130.txt\n",
      "completed http://web.mta.info/developers/data/nyct/turnstile/turnstile_160123.txt\n",
      "completed http://web.mta.info/developers/data/nyct/turnstile/turnstile_160116.txt\n",
      "completed http://web.mta.info/developers/data/nyct/turnstile/turnstile_160109.txt\n",
      "completed http://web.mta.info/developers/data/nyct/turnstile/turnstile_160102.txt\n",
      "completed http://web.mta.info/developers/data/nyct/turnstile/turnstile_151226.txt\n",
      "completed http://web.mta.info/developers/data/nyct/turnstile/turnstile_151219.txt\n",
      "completed http://web.mta.info/developers/data/nyct/turnstile/turnstile_151212.txt\n",
      "completed http://web.mta.info/developers/data/nyct/turnstile/turnstile_151205.txt\n",
      "completed http://web.mta.info/developers/data/nyct/turnstile/turnstile_151128.txt\n",
      "completed http://web.mta.info/developers/data/nyct/turnstile/turnstile_151121.txt\n",
      "completed http://web.mta.info/developers/data/nyct/turnstile/turnstile_151114.txt\n",
      "completed http://web.mta.info/developers/data/nyct/turnstile/turnstile_151107.txt\n",
      "completed http://web.mta.info/developers/data/nyct/turnstile/turnstile_151031.txt\n",
      "completed http://web.mta.info/developers/data/nyct/turnstile/turnstile_151024.txt\n",
      "completed http://web.mta.info/developers/data/nyct/turnstile/turnstile_151017.txt\n",
      "completed http://web.mta.info/developers/data/nyct/turnstile/turnstile_151010.txt\n",
      "completed http://web.mta.info/developers/data/nyct/turnstile/turnstile_151003.txt\n",
      "completed http://web.mta.info/developers/data/nyct/turnstile/turnstile_150926.txt\n",
      "completed http://web.mta.info/developers/data/nyct/turnstile/turnstile_150919.txt\n",
      "completed http://web.mta.info/developers/data/nyct/turnstile/turnstile_150912.txt\n",
      "completed http://web.mta.info/developers/data/nyct/turnstile/turnstile_150905.txt\n",
      "completed http://web.mta.info/developers/data/nyct/turnstile/turnstile_150829.txt\n",
      "completed http://web.mta.info/developers/data/nyct/turnstile/turnstile_150822.txt\n",
      "completed http://web.mta.info/developers/data/nyct/turnstile/turnstile_150815.txt\n",
      "completed http://web.mta.info/developers/data/nyct/turnstile/turnstile_150808.txt\n",
      "completed http://web.mta.info/developers/data/nyct/turnstile/turnstile_150801.txt\n",
      "completed http://web.mta.info/developers/data/nyct/turnstile/turnstile_150725.txt\n",
      "completed http://web.mta.info/developers/data/nyct/turnstile/turnstile_150718.txt\n",
      "completed http://web.mta.info/developers/data/nyct/turnstile/turnstile_150711.txt\n",
      "completed http://web.mta.info/developers/data/nyct/turnstile/turnstile_150704.txt\n",
      "completed http://web.mta.info/developers/data/nyct/turnstile/turnstile_150627.txt\n",
      "completed http://web.mta.info/developers/data/nyct/turnstile/turnstile_150620.txt\n",
      "completed http://web.mta.info/developers/data/nyct/turnstile/turnstile_150613.txt\n",
      "completed http://web.mta.info/developers/data/nyct/turnstile/turnstile_150606.txt\n",
      "completed http://web.mta.info/developers/data/nyct/turnstile/turnstile_150530.txt\n",
      "completed http://web.mta.info/developers/data/nyct/turnstile/turnstile_150523.txt\n",
      "completed http://web.mta.info/developers/data/nyct/turnstile/turnstile_150516.txt\n",
      "completed http://web.mta.info/developers/data/nyct/turnstile/turnstile_150509.txt\n",
      "completed http://web.mta.info/developers/data/nyct/turnstile/turnstile_150502.txt\n",
      "completed http://web.mta.info/developers/data/nyct/turnstile/turnstile_150425.txt\n",
      "completed http://web.mta.info/developers/data/nyct/turnstile/turnstile_150418.txt\n",
      "completed http://web.mta.info/developers/data/nyct/turnstile/turnstile_150411.txt\n",
      "completed http://web.mta.info/developers/data/nyct/turnstile/turnstile_150404.txt\n",
      "completed http://web.mta.info/developers/data/nyct/turnstile/turnstile_150328.txt\n",
      "completed http://web.mta.info/developers/data/nyct/turnstile/turnstile_150321.txt\n",
      "completed http://web.mta.info/developers/data/nyct/turnstile/turnstile_150314.txt\n",
      "completed http://web.mta.info/developers/data/nyct/turnstile/turnstile_150307.txt\n",
      "completed http://web.mta.info/developers/data/nyct/turnstile/turnstile_150228.txt\n",
      "completed http://web.mta.info/developers/data/nyct/turnstile/turnstile_150221.txt\n",
      "completed http://web.mta.info/developers/data/nyct/turnstile/turnstile_150214.txt\n",
      "completed http://web.mta.info/developers/data/nyct/turnstile/turnstile_150207.txt\n",
      "completed http://web.mta.info/developers/data/nyct/turnstile/turnstile_150131.txt\n",
      "completed http://web.mta.info/developers/data/nyct/turnstile/turnstile_150124.txt\n",
      "completed http://web.mta.info/developers/data/nyct/turnstile/turnstile_150117.txt\n",
      "completed http://web.mta.info/developers/data/nyct/turnstile/turnstile_150110.txt\n",
      "completed http://web.mta.info/developers/data/nyct/turnstile/turnstile_150103.txt\n",
      "completed http://web.mta.info/developers/data/nyct/turnstile/turnstile_141227.txt\n",
      "completed http://web.mta.info/developers/data/nyct/turnstile/turnstile_141220.txt\n",
      "completed http://web.mta.info/developers/data/nyct/turnstile/turnstile_141213.txt\n",
      "completed http://web.mta.info/developers/data/nyct/turnstile/turnstile_141206.txt\n",
      "completed http://web.mta.info/developers/data/nyct/turnstile/turnstile_141129.txt\n",
      "completed http://web.mta.info/developers/data/nyct/turnstile/turnstile_141122.txt\n",
      "completed http://web.mta.info/developers/data/nyct/turnstile/turnstile_141115.txt\n",
      "completed http://web.mta.info/developers/data/nyct/turnstile/turnstile_141108.txt\n",
      "completed http://web.mta.info/developers/data/nyct/turnstile/turnstile_141101.txt\n",
      "completed http://web.mta.info/developers/data/nyct/turnstile/turnstile_141025.txt\n",
      "completed http://web.mta.info/developers/data/nyct/turnstile/turnstile_141018.txt\n"
     ]
    }
   ],
   "source": [
    "a = get_site()\n",
    "b = get_turnstile_links(a)\n",
    "start = datetime(2014, 10, 18)\n",
    "end = datetime(2016, 12, 31)\n",
    "desired = get_links_by_date(start, end)\n",
    "y1416 = turnstile_df(desired, post2014= True)"
   ]
  },
  {
   "cell_type": "code",
   "execution_count": 19,
   "metadata": {
    "collapsed": false
   },
   "outputs": [],
   "source": [
    "# y1416['DATE'] = y1416['DATE'] + ' ' + y1416['TIME']\n",
    "y1416['DATE'] = pd.to_datetime(y1416['DATE'])"
   ]
  },
  {
   "cell_type": "code",
   "execution_count": 23,
   "metadata": {
    "collapsed": false
   },
   "outputs": [],
   "source": [
    "y1416.to_csv(\"../../Data/subway/subways_1416.csv\")"
   ]
  },
  {
   "cell_type": "code",
   "execution_count": null,
   "metadata": {
    "collapsed": false
   },
   "outputs": [],
   "source": [
    "data = pd.read_csv(\"../Data/subways_1416.csv\", parse_dates = ['DATE'])"
   ]
  },
  {
   "cell_type": "code",
   "execution_count": 25,
   "metadata": {
    "collapsed": true
   },
   "outputs": [],
   "source": [
    "data = data[(data.DIVISION != 'PTH') & (data.DIVISION != 'SRT') & (data.DIVISION != 'RIT')]"
   ]
  },
  {
   "cell_type": "code",
   "execution_count": 27,
   "metadata": {
    "collapsed": false
   },
   "outputs": [],
   "source": [
    "data.drop(['Unnamed: 0'],\n",
    "        inplace = True, axis = 1)"
   ]
  },
  {
   "cell_type": "code",
   "execution_count": 28,
   "metadata": {
    "collapsed": false
   },
   "outputs": [],
   "source": [
    "data.rename(columns={'EXITS                                                               ': 'EXITS'}, inplace=True)"
   ]
  },
  {
   "cell_type": "code",
   "execution_count": 29,
   "metadata": {
    "collapsed": false
   },
   "outputs": [],
   "source": [
    "data.loc[:,'uni'] = data.loc[:,'STATION'] + \" \" + data.loc[:,'LINENAME'] + \" \" + data.loc[:,'DIVISION']"
   ]
  },
  {
   "cell_type": "code",
   "execution_count": 30,
   "metadata": {
    "collapsed": false
   },
   "outputs": [
    {
     "data": {
      "text/plain": [
       "Index([u'C/A', u'UNIT', u'SCP', u'STATION', u'LINENAME', u'DIVISION', u'DATE',\n",
       "       u'TIME', u'DESC', u'ENTRIES', u'EXITS', u'uni'],\n",
       "      dtype='object')"
      ]
     },
     "execution_count": 30,
     "metadata": {},
     "output_type": "execute_result"
    }
   ],
   "source": [
    "data.columns"
   ]
  },
  {
   "cell_type": "code",
   "execution_count": 31,
   "metadata": {
    "collapsed": false
   },
   "outputs": [],
   "source": [
    "df = data[data.DESC == 'REGULAR']\n",
    "df = df.groupby([u'C/A', u'UNIT', u'uni', u'SCP', u'DATE']).sum()"
   ]
  },
  {
   "cell_type": "code",
   "execution_count": 32,
   "metadata": {
    "collapsed": false
   },
   "outputs": [],
   "source": [
    "df[\"ENTRIES_DIFF\"] = df.groupby(level=[0,1,2,3])['ENTRIES'].transform(lambda x: abs(x - x.shift()))\n",
    "df[\"EXITS_DIFF\"] = df.groupby(level=[0,1,2,3])['EXITS'].transform(lambda x: abs(x - x.shift()))"
   ]
  },
  {
   "cell_type": "code",
   "execution_count": 33,
   "metadata": {
    "collapsed": false
   },
   "outputs": [],
   "source": [
    "df.dropna(inplace=True)"
   ]
  },
  {
   "cell_type": "code",
   "execution_count": 34,
   "metadata": {
    "collapsed": false
   },
   "outputs": [],
   "source": [
    "df.reset_index(inplace=True)"
   ]
  },
  {
   "cell_type": "code",
   "execution_count": 35,
   "metadata": {
    "collapsed": false
   },
   "outputs": [
    {
     "data": {
      "text/plain": [
       "20100.60959997773"
      ]
     },
     "execution_count": 35,
     "metadata": {},
     "output_type": "execute_result"
    }
   ],
   "source": [
    "df.ENTRIES_DIFF.quantile(0.9999)"
   ]
  },
  {
   "cell_type": "code",
   "execution_count": 36,
   "metadata": {
    "collapsed": true
   },
   "outputs": [],
   "source": [
    "reduced = df[df.ENTRIES_DIFF < df.ENTRIES_DIFF.quantile(0.9999)]['ENTRIES_DIFF']\n",
    "    \n",
    "lower_thresh = 0\n",
    "upper_thresh = reduced.mean() + 3 * reduced.std()\n",
    "                                                                           \n",
    "outlier_mask = df['ENTRIES_DIFF'].map(lambda x: lower_thresh <= x <= upper_thresh)\n",
    "    \n",
    "df = df[outlier_mask]"
   ]
  },
  {
   "cell_type": "code",
   "execution_count": 37,
   "metadata": {
    "collapsed": false
   },
   "outputs": [],
   "source": [
    "df = df.set_index('DATE').groupby([pd.TimeGrouper('D'), 'uni']).sum()"
   ]
  },
  {
   "cell_type": "code",
   "execution_count": 38,
   "metadata": {
    "collapsed": false
   },
   "outputs": [],
   "source": [
    "df.reset_index(['uni'], inplace=True)"
   ]
  },
  {
   "cell_type": "code",
   "execution_count": 39,
   "metadata": {
    "collapsed": false
   },
   "outputs": [],
   "source": [
    "df.drop(['ENTRIES', 'EXITS'], axis=1, inplace=True)"
   ]
  },
  {
   "cell_type": "code",
   "execution_count": 40,
   "metadata": {
    "collapsed": false
   },
   "outputs": [],
   "source": [
    "df.reset_index(inplace=True)"
   ]
  },
  {
   "cell_type": "code",
   "execution_count": 41,
   "metadata": {
    "collapsed": false
   },
   "outputs": [
    {
     "data": {
      "text/plain": [
       "Index([u'DATE', u'uni', u'ENTRIES_DIFF', u'EXITS_DIFF'], dtype='object')"
      ]
     },
     "execution_count": 41,
     "metadata": {},
     "output_type": "execute_result"
    }
   ],
   "source": [
    "df.columns"
   ]
  },
  {
   "cell_type": "code",
   "execution_count": 42,
   "metadata": {
    "collapsed": true
   },
   "outputs": [],
   "source": [
    "stations = df['uni']"
   ]
  },
  {
   "cell_type": "code",
   "execution_count": 20,
   "metadata": {
    "collapsed": true
   },
   "outputs": [],
   "source": [
    "stations.to_csv(\"../../Data/subway/stations.csv\")"
   ]
  },
  {
   "cell_type": "code",
   "execution_count": 21,
   "metadata": {
    "collapsed": false
   },
   "outputs": [],
   "source": [
    "# df.DATE.describe()"
   ]
  },
  {
   "cell_type": "markdown",
   "metadata": {},
   "source": [
    "# Subways"
   ]
  },
  {
   "cell_type": "code",
   "execution_count": 43,
   "metadata": {
    "collapsed": true
   },
   "outputs": [],
   "source": [
    "subways = pd.read_csv('http://web.mta.info/developers/data/nyct/subway/StationEntrances.csv',\n",
    "                     usecols=['Station_Name', 'Station_Latitude','Station_Longitude', 'Division','Route_1', 'Route_2', \n",
    "                              'Route_3', 'Route_4', 'Route_5', 'Route_6', 'Route_7', 'Route_8', 'Route_9', 'Route_10',\n",
    "                              'Route_11'])"
   ]
  },
  {
   "cell_type": "code",
   "execution_count": 44,
   "metadata": {
    "collapsed": false
   },
   "outputs": [],
   "source": [
    "for i in range(len(subways)):\n",
    "    \n",
    "    if ((str(subways.loc[i,'Route_2']) != 'nan') & (str(subways.loc[i,'Route_3']) != 'nan') & \n",
    "        (str(subways.loc[i,'Route_4']) != 'nan') & (str(subways.loc[i,'Route_5']) != 'nan') &\n",
    "        (str(subways.loc[i,'Route_6']) != 'nan') & (str(subways.loc[i,'Route_7']) != 'nan') &\n",
    "        (str(subways.loc[i,'Route_8']) != 'nan') & (str(subways.loc[i,'Route_9']) != 'nan') &\n",
    "        (str(subways.loc[i,'Route_10']) != 'nan') & (str(subways.loc[i,'Route_11']) != 'nan')):\n",
    "        subways.loc[i,'LINENAME'] = str(str(subways.loc[i,'Route_1']) + str(subways.loc[i,'Route_2']) + \n",
    "                                        str(subways.loc[i,'Route_3']) + str(subways.loc[i,'Route_4']) + \n",
    "                                        str(subways.loc[i,'Route_5']) + str(subways.loc[i,'Route_6']) + \n",
    "                                        str(subways.loc[i,'Route_7']) + str(subways.loc[i,'Route_8']) + \n",
    "                                        str(subways.loc[i,'Route_9']) + str(subways.loc[i,'Route_10']) + \n",
    "                                        str(subways.loc[i,'Route_11']) )\n",
    "        \n",
    "    elif ((str(subways.loc[i,'Route_2']) != 'nan') & (str(subways.loc[i,'Route_3']) != 'nan') & \n",
    "          (str(subways.loc[i,'Route_4']) != 'nan') & (str(subways.loc[i,'Route_5']) != 'nan') &\n",
    "          (str(subways.loc[i,'Route_6']) != 'nan') & (str(subways.loc[i,'Route_7']) != 'nan') &\n",
    "          (str(subways.loc[i,'Route_8']) != 'nan') & (str(subways.loc[i,'Route_9']) != 'nan') &\n",
    "          (str(subways.loc[i,'Route_10']) != 'nan') &(str(subways.loc[i,'Route_11']) == 'nan')):\n",
    "        subways.loc[i,'LINENAME'] = str(str(subways.loc[i,'Route_1']) + str(subways.loc[i,'Route_2']) + \n",
    "                                        str(subways.loc[i,'Route_3']) + str(subways.loc[i,'Route_4']) + \n",
    "                                        str(subways.loc[i,'Route_5']) + str(subways.loc[i,'Route_6']) + \n",
    "                                        str(subways.loc[i,'Route_7']) + str(subways.loc[i,'Route_8']) + \n",
    "                                        str(subways.loc[i,'Route_9']) + str(subways.loc[i,'Route_10']))\n",
    "\n",
    "    elif ((str(subways.loc[i,'Route_2']) != 'nan') & (str(subways.loc[i,'Route_3']) != 'nan') & \n",
    "          (str(subways.loc[i,'Route_4']) != 'nan') & (str(subways.loc[i,'Route_5']) != 'nan') &\n",
    "          (str(subways.loc[i,'Route_6']) != 'nan') & (str(subways.loc[i,'Route_7']) != 'nan') &\n",
    "          (str(subways.loc[i,'Route_8']) != 'nan') & (str(subways.loc[i,'Route_9']) != 'nan') &\n",
    "          (str(subways.loc[i,'Route_10']) == 'nan') & (str(subways.loc[i,'Route_11']) == 'nan')):\n",
    "        subways.loc[i,'LINENAME'] = str(str(subways.loc[i,'Route_1']) + str(subways.loc[i,'Route_2']) + \n",
    "                                        str(subways.loc[i,'Route_3']) + str(subways.loc[i,'Route_4']) + \n",
    "                                        str(subways.loc[i,'Route_5']) + str(subways.loc[i,'Route_6']) + \n",
    "                                        str(subways.loc[i,'Route_7']) + str(subways.loc[i,'Route_8']) + \n",
    "                                        str(subways.loc[i,'Route_9']) )\n",
    "    \n",
    "    elif ((str(subways.loc[i,'Route_2']) != 'nan') & (str(subways.loc[i,'Route_3']) != 'nan') &\n",
    "          (str(subways.loc[i,'Route_4']) != 'nan') & (str(subways.loc[i,'Route_5']) != 'nan') &\n",
    "          (str(subways.loc[i,'Route_6']) != 'nan') & (str(subways.loc[i,'Route_7']) != 'nan') &\n",
    "          (str(subways.loc[i,'Route_8']) != 'nan') & (str(subways.loc[i,'Route_9']) == 'nan') &\n",
    "          (str(subways.loc[i,'Route_10']) == 'nan') & (str(subways.loc[i,'Route_11']) == 'nan')):\n",
    "        subways.loc[i,'LINENAME'] = str(str(subways.loc[i,'Route_1']) + str(subways.loc[i,'Route_2']) + \n",
    "                                        str(subways.loc[i,'Route_3']) + str(subways.loc[i,'Route_4']) + \n",
    "                                        str(subways.loc[i,'Route_5']) + str(subways.loc[i,'Route_6']) + \n",
    "                                        str(subways.loc[i,'Route_7']) + str(subways.loc[i,'Route_8']) )\n",
    "\n",
    "    elif ((str(subways.loc[i,'Route_2']) != 'nan') & (str(subways.loc[i,'Route_3']) != 'nan') &\n",
    "          (str(subways.loc[i,'Route_4']) != 'nan') & (str(subways.loc[i,'Route_5']) != 'nan') &\n",
    "          (str(subways.loc[i,'Route_6']) != 'nan') & (str(subways.loc[i,'Route_7']) != 'nan') &\n",
    "          (str(subways.loc[i,'Route_8']) == 'nan') & (str(subways.loc[i,'Route_9']) == 'nan') &\n",
    "          (str(subways.loc[i,'Route_10']) == 'nan') & (str(subways.loc[i,'Route_11']) == 'nan')):\n",
    "        subways.loc[i,'LINENAME'] = str(str(subways.loc[i,'Route_1']) + str(subways.loc[i,'Route_2']) + \n",
    "                                        str(subways.loc[i,'Route_3']) + str(subways.loc[i,'Route_4']) + \n",
    "                                        str(subways.loc[i,'Route_5']) + str(subways.loc[i,'Route_6']) + \n",
    "                                        str(subways.loc[i,'Route_7']))    \n",
    "\n",
    "    elif ((str(subways.loc[i,'Route_2']) != 'nan') & (str(subways.loc[i,'Route_3']) != 'nan') &\n",
    "          (str(subways.loc[i,'Route_4']) != 'nan') & (str(subways.loc[i,'Route_5']) != 'nan') &\n",
    "          (str(subways.loc[i,'Route_6']) != 'nan') & (str(subways.loc[i,'Route_7']) == 'nan') &\n",
    "          (str(subways.loc[i,'Route_8']) == 'nan') & (str(subways.loc[i,'Route_9']) == 'nan') &\n",
    "          (str(subways.loc[i,'Route_10']) == 'nan') & (str(subways.loc[i,'Route_11']) == 'nan')):\n",
    "        subways.loc[i,'LINENAME'] = str(str(subways.loc[i,'Route_1']) + str(subways.loc[i,'Route_2']) + \n",
    "                                        str(subways.loc[i,'Route_3']) + str(subways.loc[i,'Route_4']) + \n",
    "                                        str(subways.loc[i,'Route_5']) + str(subways.loc[i,'Route_6']) )\n",
    "\n",
    "    elif ((str(subways.loc[i,'Route_2']) != 'nan') & (str(subways.loc[i,'Route_3']) != 'nan') &\n",
    "          (str(subways.loc[i,'Route_4']) != 'nan') & (str(subways.loc[i,'Route_5']) != 'nan') &\n",
    "          (str(subways.loc[i,'Route_6']) == 'nan') & (str(subways.loc[i,'Route_7']) == 'nan') &\n",
    "          (str(subways.loc[i,'Route_8']) == 'nan') & (str(subways.loc[i,'Route_9']) == 'nan') &\n",
    "          (str(subways.loc[i,'Route_10']) == 'nan') & (str(subways.loc[i,'Route_11']) == 'nan')):\n",
    "        subways.loc[i,'LINENAME'] = str(str(subways.loc[i,'Route_1']) + str(subways.loc[i,'Route_2']) + \n",
    "                                        str(subways.loc[i,'Route_3']) + str(subways.loc[i,'Route_4']) + \n",
    "                                        str(subways.loc[i,'Route_5']) )\n",
    "        \n",
    "    elif ((str(subways.loc[i,'Route_2']) != 'nan') & (str(subways.loc[i,'Route_3']) != 'nan') &\n",
    "          (str(subways.loc[i,'Route_4']) != 'nan') & (str(subways.loc[i,'Route_5']) == 'nan') &\n",
    "          (str(subways.loc[i,'Route_6']) == 'nan') & (str(subways.loc[i,'Route_7']) == 'nan') &\n",
    "          (str(subways.loc[i,'Route_8']) == 'nan') & (str(subways.loc[i,'Route_9']) == 'nan') &\n",
    "          (str(subways.loc[i,'Route_10']) == 'nan') & (str(subways.loc[i,'Route_11']) == 'nan')):\n",
    "        subways.loc[i,'LINENAME'] = str(str(subways.loc[i,'Route_1']) + str(subways.loc[i,'Route_2']) + \n",
    "                                        str(subways.loc[i,'Route_3']) + \n",
    "                                        str(subways.loc[i,'Route_4']) )\n",
    "\n",
    "    elif ((str(subways.loc[i,'Route_2']) != 'nan') & (str(subways.loc[i,'Route_3']) != 'nan') &\n",
    "          (str(subways.loc[i,'Route_4']) == 'nan') & (str(subways.loc[i,'Route_5']) == 'nan') &\n",
    "          (str(subways.loc[i,'Route_6']) == 'nan') & (str(subways.loc[i,'Route_7']) == 'nan') &\n",
    "          (str(subways.loc[i,'Route_8']) == 'nan') & (str(subways.loc[i,'Route_9']) == 'nan') &\n",
    "          (str(subways.loc[i,'Route_10']) == 'nan') & (str(subways.loc[i,'Route_11']) == 'nan')):\n",
    "        subways.loc[i,'LINENAME'] = str(str(subways.loc[i,'Route_1']) + str(subways.loc[i,'Route_2']) + \n",
    "                                        str(subways.loc[i,'Route_3']) )\n",
    "        \n",
    "    elif ((str(subways.loc[i,'Route_2']) != 'nan') & (str(subways.loc[i,'Route_3']) == 'nan') &\n",
    "          (str(subways.loc[i,'Route_4']) == 'nan') & (str(subways.loc[i,'Route_5']) == 'nan') &\n",
    "          (str(subways.loc[i,'Route_6']) == 'nan') & (str(subways.loc[i,'Route_7']) == 'nan') &\n",
    "          (str(subways.loc[i,'Route_8']) == 'nan') & (str(subways.loc[i,'Route_9']) == 'nan') &\n",
    "          (str(subways.loc[i,'Route_10']) == 'nan') & (str(subways.loc[i,'Route_11']) == 'nan')):\n",
    "        subways.loc[i,'LINENAME'] = str(str(subways.loc[i,'Route_1']) + str(subways.loc[i,'Route_2']) )\n",
    "\n",
    "    elif ((str(subways.loc[i,'Route_2']) == 'nan') & (str(subways.loc[i,'Route_3']) == 'nan') &\n",
    "          (str(subways.loc[i,'Route_4']) == 'nan') & (str(subways.loc[i,'Route_5']) == 'nan') &\n",
    "          (str(subways.loc[i,'Route_6']) == 'nan') & (str(subways.loc[i,'Route_7']) == 'nan') &\n",
    "          (str(subways.loc[i,'Route_8']) == 'nan') & (str(subways.loc[i,'Route_9']) == 'nan') &\n",
    "          (str(subways.loc[i,'Route_10']) == 'nan') & (str(subways.loc[i,'Route_11']) == 'nan')):\n",
    "        subways.loc[i,'LINENAME'] = str(str(subways.loc[i,'Route_1']))"
   ]
  },
  {
   "cell_type": "code",
   "execution_count": 45,
   "metadata": {
    "collapsed": true
   },
   "outputs": [],
   "source": [
    "subways.loc[:,'uni'] = subways.loc[:,'Station_Name'] + \" \" + subways.loc[:,'LINENAME'] + \" \" + subways.loc[:,'Division']"
   ]
  },
  {
   "cell_type": "code",
   "execution_count": 46,
   "metadata": {
    "collapsed": false
   },
   "outputs": [],
   "source": [
    "subways.drop(['Route_1','Route_2','Route_3','Route_4','Route_5','Route_6','Route_7', 'Route_8', 'Route_9', 'Route_10',\n",
    "              'Route_11'],inplace=True,axis=1)\n",
    "subways.reset_index(drop=True, inplace=True)"
   ]
  },
  {
   "cell_type": "code",
   "execution_count": 47,
   "metadata": {
    "collapsed": false
   },
   "outputs": [],
   "source": [
    "subways.drop_duplicates(inplace = True)\n",
    "subways.reset_index(drop=True, inplace=True)"
   ]
  },
  {
   "cell_type": "code",
   "execution_count": 48,
   "metadata": {
    "collapsed": false
   },
   "outputs": [
    {
     "data": {
      "text/html": [
       "<div>\n",
       "<table border=\"1\" class=\"dataframe\">\n",
       "  <thead>\n",
       "    <tr style=\"text-align: right;\">\n",
       "      <th></th>\n",
       "      <th>Division</th>\n",
       "      <th>Station_Name</th>\n",
       "      <th>Station_Latitude</th>\n",
       "      <th>Station_Longitude</th>\n",
       "      <th>LINENAME</th>\n",
       "      <th>uni</th>\n",
       "    </tr>\n",
       "  </thead>\n",
       "  <tbody>\n",
       "    <tr>\n",
       "      <th>0</th>\n",
       "      <td>BMT</td>\n",
       "      <td>Ditmars Blvd</td>\n",
       "      <td>40.775036</td>\n",
       "      <td>-73.912034</td>\n",
       "      <td>NQ</td>\n",
       "      <td>Ditmars Blvd NQ BMT</td>\n",
       "    </tr>\n",
       "    <tr>\n",
       "      <th>1</th>\n",
       "      <td>BMT</td>\n",
       "      <td>Astoria Blvd-Hoyt Av</td>\n",
       "      <td>40.770258</td>\n",
       "      <td>-73.917843</td>\n",
       "      <td>NQ</td>\n",
       "      <td>Astoria Blvd-Hoyt Av NQ BMT</td>\n",
       "    </tr>\n",
       "    <tr>\n",
       "      <th>2</th>\n",
       "      <td>BMT</td>\n",
       "      <td>30 Av-Grand Av</td>\n",
       "      <td>40.766779</td>\n",
       "      <td>-73.921479</td>\n",
       "      <td>NQ</td>\n",
       "      <td>30 Av-Grand Av NQ BMT</td>\n",
       "    </tr>\n",
       "    <tr>\n",
       "      <th>3</th>\n",
       "      <td>BMT</td>\n",
       "      <td>Broadway</td>\n",
       "      <td>40.761820</td>\n",
       "      <td>-73.925508</td>\n",
       "      <td>NQ</td>\n",
       "      <td>Broadway NQ BMT</td>\n",
       "    </tr>\n",
       "    <tr>\n",
       "      <th>4</th>\n",
       "      <td>BMT</td>\n",
       "      <td>36 Av-Washington Av</td>\n",
       "      <td>40.756804</td>\n",
       "      <td>-73.929575</td>\n",
       "      <td>NQ</td>\n",
       "      <td>36 Av-Washington Av NQ BMT</td>\n",
       "    </tr>\n",
       "  </tbody>\n",
       "</table>\n",
       "</div>"
      ],
      "text/plain": [
       "  Division          Station_Name  Station_Latitude  Station_Longitude  \\\n",
       "0      BMT          Ditmars Blvd         40.775036         -73.912034   \n",
       "1      BMT  Astoria Blvd-Hoyt Av         40.770258         -73.917843   \n",
       "2      BMT        30 Av-Grand Av         40.766779         -73.921479   \n",
       "3      BMT              Broadway         40.761820         -73.925508   \n",
       "4      BMT   36 Av-Washington Av         40.756804         -73.929575   \n",
       "\n",
       "  LINENAME                          uni  \n",
       "0       NQ          Ditmars Blvd NQ BMT  \n",
       "1       NQ  Astoria Blvd-Hoyt Av NQ BMT  \n",
       "2       NQ        30 Av-Grand Av NQ BMT  \n",
       "3       NQ              Broadway NQ BMT  \n",
       "4       NQ   36 Av-Washington Av NQ BMT  "
      ]
     },
     "execution_count": 48,
     "metadata": {},
     "output_type": "execute_result"
    }
   ],
   "source": [
    "subways.head()"
   ]
  },
  {
   "cell_type": "code",
   "execution_count": 28,
   "metadata": {
    "collapsed": true
   },
   "outputs": [],
   "source": [
    "subways.to_csv(\"../Data/subway/subway_locations.csv\")"
   ]
  },
  {
   "cell_type": "code",
   "execution_count": 29,
   "metadata": {
    "collapsed": false
   },
   "outputs": [
    {
     "data": {
      "text/plain": [
       "474"
      ]
     },
     "execution_count": 29,
     "metadata": {},
     "output_type": "execute_result"
    }
   ],
   "source": [
    "len(subways)"
   ]
  },
  {
   "cell_type": "markdown",
   "metadata": {
    "collapsed": true
   },
   "source": [
    "# Subway Mapper"
   ]
  },
  {
   "cell_type": "code",
   "execution_count": 50,
   "metadata": {
    "collapsed": false
   },
   "outputs": [],
   "source": [
    "mapper = pd.read_csv(\"../../Data/subway/stations_mapper.csv\")"
   ]
  },
  {
   "cell_type": "code",
   "execution_count": 51,
   "metadata": {
    "collapsed": false
   },
   "outputs": [
    {
     "data": {
      "text/html": [
       "<div>\n",
       "<table border=\"1\" class=\"dataframe\">\n",
       "  <thead>\n",
       "    <tr style=\"text-align: right;\">\n",
       "      <th></th>\n",
       "      <th>DATE</th>\n",
       "      <th>uni</th>\n",
       "      <th>ENTRIES_DIFF</th>\n",
       "      <th>EXITS_DIFF</th>\n",
       "    </tr>\n",
       "  </thead>\n",
       "  <tbody>\n",
       "    <tr>\n",
       "      <th>0</th>\n",
       "      <td>2014-10-11</td>\n",
       "      <td>1 AVE L BMT</td>\n",
       "      <td>13150.0</td>\n",
       "      <td>15662.0</td>\n",
       "    </tr>\n",
       "    <tr>\n",
       "      <th>1</th>\n",
       "      <td>2014-10-11</td>\n",
       "      <td>103 ST 1 IRT</td>\n",
       "      <td>9486.0</td>\n",
       "      <td>3681.0</td>\n",
       "    </tr>\n",
       "    <tr>\n",
       "      <th>2</th>\n",
       "      <td>2014-10-11</td>\n",
       "      <td>103 ST 6 IRT</td>\n",
       "      <td>8584.0</td>\n",
       "      <td>7402.0</td>\n",
       "    </tr>\n",
       "  </tbody>\n",
       "</table>\n",
       "</div>"
      ],
      "text/plain": [
       "        DATE           uni  ENTRIES_DIFF  EXITS_DIFF\n",
       "0 2014-10-11   1 AVE L BMT       13150.0     15662.0\n",
       "1 2014-10-11  103 ST 1 IRT        9486.0      3681.0\n",
       "2 2014-10-11  103 ST 6 IRT        8584.0      7402.0"
      ]
     },
     "execution_count": 51,
     "metadata": {},
     "output_type": "execute_result"
    }
   ],
   "source": [
    "df.head(3)"
   ]
  },
  {
   "cell_type": "code",
   "execution_count": 52,
   "metadata": {
    "collapsed": false
   },
   "outputs": [
    {
     "data": {
      "text/html": [
       "<div>\n",
       "<table border=\"1\" class=\"dataframe\">\n",
       "  <thead>\n",
       "    <tr style=\"text-align: right;\">\n",
       "      <th></th>\n",
       "      <th>Division</th>\n",
       "      <th>Station_Name</th>\n",
       "      <th>Station_Latitude</th>\n",
       "      <th>Station_Longitude</th>\n",
       "      <th>LINENAME</th>\n",
       "      <th>uni</th>\n",
       "    </tr>\n",
       "  </thead>\n",
       "  <tbody>\n",
       "    <tr>\n",
       "      <th>0</th>\n",
       "      <td>BMT</td>\n",
       "      <td>Ditmars Blvd</td>\n",
       "      <td>40.775036</td>\n",
       "      <td>-73.912034</td>\n",
       "      <td>NQ</td>\n",
       "      <td>Ditmars Blvd NQ BMT</td>\n",
       "    </tr>\n",
       "    <tr>\n",
       "      <th>1</th>\n",
       "      <td>BMT</td>\n",
       "      <td>Astoria Blvd-Hoyt Av</td>\n",
       "      <td>40.770258</td>\n",
       "      <td>-73.917843</td>\n",
       "      <td>NQ</td>\n",
       "      <td>Astoria Blvd-Hoyt Av NQ BMT</td>\n",
       "    </tr>\n",
       "    <tr>\n",
       "      <th>2</th>\n",
       "      <td>BMT</td>\n",
       "      <td>30 Av-Grand Av</td>\n",
       "      <td>40.766779</td>\n",
       "      <td>-73.921479</td>\n",
       "      <td>NQ</td>\n",
       "      <td>30 Av-Grand Av NQ BMT</td>\n",
       "    </tr>\n",
       "  </tbody>\n",
       "</table>\n",
       "</div>"
      ],
      "text/plain": [
       "  Division          Station_Name  Station_Latitude  Station_Longitude  \\\n",
       "0      BMT          Ditmars Blvd         40.775036         -73.912034   \n",
       "1      BMT  Astoria Blvd-Hoyt Av         40.770258         -73.917843   \n",
       "2      BMT        30 Av-Grand Av         40.766779         -73.921479   \n",
       "\n",
       "  LINENAME                          uni  \n",
       "0       NQ          Ditmars Blvd NQ BMT  \n",
       "1       NQ  Astoria Blvd-Hoyt Av NQ BMT  \n",
       "2       NQ        30 Av-Grand Av NQ BMT  "
      ]
     },
     "execution_count": 52,
     "metadata": {},
     "output_type": "execute_result"
    }
   ],
   "source": [
    "subways.head(3)"
   ]
  },
  {
   "cell_type": "code",
   "execution_count": 53,
   "metadata": {
    "collapsed": false
   },
   "outputs": [
    {
     "data": {
      "text/html": [
       "<div>\n",
       "<table border=\"1\" class=\"dataframe\">\n",
       "  <thead>\n",
       "    <tr style=\"text-align: right;\">\n",
       "      <th></th>\n",
       "      <th>stations</th>\n",
       "      <th>Map</th>\n",
       "    </tr>\n",
       "  </thead>\n",
       "  <tbody>\n",
       "    <tr>\n",
       "      <th>0</th>\n",
       "      <td>103 ST 1 IRT</td>\n",
       "      <td>103rd St 1 IRT</td>\n",
       "    </tr>\n",
       "    <tr>\n",
       "      <th>1</th>\n",
       "      <td>103 ST 6 IRT</td>\n",
       "      <td>103rd St 6 IRT</td>\n",
       "    </tr>\n",
       "    <tr>\n",
       "      <th>2</th>\n",
       "      <td>103 ST-CORONA 7 IRT</td>\n",
       "      <td>103rd St 7 IRT</td>\n",
       "    </tr>\n",
       "  </tbody>\n",
       "</table>\n",
       "</div>"
      ],
      "text/plain": [
       "              stations             Map\n",
       "0         103 ST 1 IRT  103rd St 1 IRT\n",
       "1         103 ST 6 IRT  103rd St 6 IRT\n",
       "2  103 ST-CORONA 7 IRT  103rd St 7 IRT"
      ]
     },
     "execution_count": 53,
     "metadata": {},
     "output_type": "execute_result"
    }
   ],
   "source": [
    "mapper.head(3)"
   ]
  },
  {
   "cell_type": "code",
   "execution_count": 81,
   "metadata": {
    "collapsed": true
   },
   "outputs": [],
   "source": [
    "mapper.reset_index(inplace= True)"
   ]
  },
  {
   "cell_type": "code",
   "execution_count": 82,
   "metadata": {
    "collapsed": false
   },
   "outputs": [
    {
     "data": {
      "text/html": [
       "<div>\n",
       "<table border=\"1\" class=\"dataframe\">\n",
       "  <thead>\n",
       "    <tr style=\"text-align: right;\">\n",
       "      <th></th>\n",
       "      <th>index</th>\n",
       "      <th>stations</th>\n",
       "      <th>Map</th>\n",
       "    </tr>\n",
       "  </thead>\n",
       "  <tbody>\n",
       "    <tr>\n",
       "      <th>0</th>\n",
       "      <td>0</td>\n",
       "      <td>103 ST 1 IRT</td>\n",
       "      <td>103rd St 1 IRT</td>\n",
       "    </tr>\n",
       "    <tr>\n",
       "      <th>1</th>\n",
       "      <td>1</td>\n",
       "      <td>103 ST 6 IRT</td>\n",
       "      <td>103rd St 6 IRT</td>\n",
       "    </tr>\n",
       "    <tr>\n",
       "      <th>2</th>\n",
       "      <td>2</td>\n",
       "      <td>103 ST-CORONA 7 IRT</td>\n",
       "      <td>103rd St 7 IRT</td>\n",
       "    </tr>\n",
       "    <tr>\n",
       "      <th>3</th>\n",
       "      <td>3</td>\n",
       "      <td>103 ST BC IND</td>\n",
       "      <td>103rd St BC IND</td>\n",
       "    </tr>\n",
       "    <tr>\n",
       "      <th>4</th>\n",
       "      <td>4</td>\n",
       "      <td>104 ST JZ BMT</td>\n",
       "      <td>104th St-102nd St JZ BMT</td>\n",
       "    </tr>\n",
       "  </tbody>\n",
       "</table>\n",
       "</div>"
      ],
      "text/plain": [
       "   index             stations                       Map\n",
       "0      0         103 ST 1 IRT            103rd St 1 IRT\n",
       "1      1         103 ST 6 IRT            103rd St 6 IRT\n",
       "2      2  103 ST-CORONA 7 IRT            103rd St 7 IRT\n",
       "3      3        103 ST BC IND           103rd St BC IND\n",
       "4      4        104 ST JZ BMT  104th St-102nd St JZ BMT"
      ]
     },
     "execution_count": 82,
     "metadata": {},
     "output_type": "execute_result"
    }
   ],
   "source": [
    "mapper.head()"
   ]
  },
  {
   "cell_type": "code",
   "execution_count": 83,
   "metadata": {
    "collapsed": true
   },
   "outputs": [],
   "source": [
    "mapper.columns = ['StationID', 'stations','Map']"
   ]
  },
  {
   "cell_type": "code",
   "execution_count": 84,
   "metadata": {
    "collapsed": false
   },
   "outputs": [
    {
     "data": {
      "text/plain": [
       "716"
      ]
     },
     "execution_count": 84,
     "metadata": {},
     "output_type": "execute_result"
    }
   ],
   "source": [
    "len(mapper.stations.unique())"
   ]
  },
  {
   "cell_type": "code",
   "execution_count": 98,
   "metadata": {
    "collapsed": false
   },
   "outputs": [],
   "source": [
    "df_merged = pd.merge(df, mapper, left_on='uni', right_on='stations', how='left')"
   ]
  },
  {
   "cell_type": "code",
   "execution_count": 99,
   "metadata": {
    "collapsed": false
   },
   "outputs": [
    {
     "data": {
      "text/plain": [
       "Index([u'DATE', u'uni', u'ENTRIES_DIFF', u'EXITS_DIFF', u'StationID',\n",
       "       u'stations', u'Map'],\n",
       "      dtype='object')"
      ]
     },
     "execution_count": 99,
     "metadata": {},
     "output_type": "execute_result"
    }
   ],
   "source": [
    "df_merged.columns"
   ]
  },
  {
   "cell_type": "code",
   "execution_count": 100,
   "metadata": {
    "collapsed": false,
    "scrolled": false
   },
   "outputs": [],
   "source": [
    "df_merged.dropna(inplace=True)"
   ]
  },
  {
   "cell_type": "code",
   "execution_count": 101,
   "metadata": {
    "collapsed": false
   },
   "outputs": [
    {
     "data": {
      "text/html": [
       "<div>\n",
       "<table border=\"1\" class=\"dataframe\">\n",
       "  <thead>\n",
       "    <tr style=\"text-align: right;\">\n",
       "      <th></th>\n",
       "      <th>DATE</th>\n",
       "      <th>uni</th>\n",
       "      <th>ENTRIES_DIFF</th>\n",
       "      <th>EXITS_DIFF</th>\n",
       "      <th>StationID</th>\n",
       "      <th>stations</th>\n",
       "      <th>Map</th>\n",
       "    </tr>\n",
       "  </thead>\n",
       "  <tbody>\n",
       "    <tr>\n",
       "      <th>0</th>\n",
       "      <td>2014-10-11</td>\n",
       "      <td>1 AVE L BMT</td>\n",
       "      <td>13150.0</td>\n",
       "      <td>15662.0</td>\n",
       "      <td>75.0</td>\n",
       "      <td>1 AVE L BMT</td>\n",
       "      <td>1st Av L BMT</td>\n",
       "    </tr>\n",
       "    <tr>\n",
       "      <th>1</th>\n",
       "      <td>2014-10-11</td>\n",
       "      <td>103 ST 1 IRT</td>\n",
       "      <td>9486.0</td>\n",
       "      <td>3681.0</td>\n",
       "      <td>0.0</td>\n",
       "      <td>103 ST 1 IRT</td>\n",
       "      <td>103rd St 1 IRT</td>\n",
       "    </tr>\n",
       "    <tr>\n",
       "      <th>2</th>\n",
       "      <td>2014-10-11</td>\n",
       "      <td>103 ST 6 IRT</td>\n",
       "      <td>8584.0</td>\n",
       "      <td>7402.0</td>\n",
       "      <td>1.0</td>\n",
       "      <td>103 ST 6 IRT</td>\n",
       "      <td>103rd St 6 IRT</td>\n",
       "    </tr>\n",
       "    <tr>\n",
       "      <th>3</th>\n",
       "      <td>2014-10-11</td>\n",
       "      <td>103 ST BC IND</td>\n",
       "      <td>2266.0</td>\n",
       "      <td>2193.0</td>\n",
       "      <td>3.0</td>\n",
       "      <td>103 ST BC IND</td>\n",
       "      <td>103rd St BC IND</td>\n",
       "    </tr>\n",
       "    <tr>\n",
       "      <th>4</th>\n",
       "      <td>2014-10-11</td>\n",
       "      <td>103 ST-CORONA 7 IRT</td>\n",
       "      <td>13558.0</td>\n",
       "      <td>9128.0</td>\n",
       "      <td>2.0</td>\n",
       "      <td>103 ST-CORONA 7 IRT</td>\n",
       "      <td>103rd St 7 IRT</td>\n",
       "    </tr>\n",
       "  </tbody>\n",
       "</table>\n",
       "</div>"
      ],
      "text/plain": [
       "        DATE                  uni  ENTRIES_DIFF  EXITS_DIFF  StationID  \\\n",
       "0 2014-10-11          1 AVE L BMT       13150.0     15662.0       75.0   \n",
       "1 2014-10-11         103 ST 1 IRT        9486.0      3681.0        0.0   \n",
       "2 2014-10-11         103 ST 6 IRT        8584.0      7402.0        1.0   \n",
       "3 2014-10-11        103 ST BC IND        2266.0      2193.0        3.0   \n",
       "4 2014-10-11  103 ST-CORONA 7 IRT       13558.0      9128.0        2.0   \n",
       "\n",
       "              stations              Map  \n",
       "0          1 AVE L BMT     1st Av L BMT  \n",
       "1         103 ST 1 IRT   103rd St 1 IRT  \n",
       "2         103 ST 6 IRT   103rd St 6 IRT  \n",
       "3        103 ST BC IND  103rd St BC IND  \n",
       "4  103 ST-CORONA 7 IRT   103rd St 7 IRT  "
      ]
     },
     "execution_count": 101,
     "metadata": {},
     "output_type": "execute_result"
    }
   ],
   "source": [
    "df_merged.head()"
   ]
  },
  {
   "cell_type": "code",
   "execution_count": 102,
   "metadata": {
    "collapsed": false
   },
   "outputs": [
    {
     "data": {
      "text/plain": [
       "364104"
      ]
     },
     "execution_count": 102,
     "metadata": {},
     "output_type": "execute_result"
    }
   ],
   "source": [
    "len(df_merged)"
   ]
  },
  {
   "cell_type": "code",
   "execution_count": 103,
   "metadata": {
    "collapsed": false
   },
   "outputs": [
    {
     "data": {
      "text/html": [
       "<div>\n",
       "<table border=\"1\" class=\"dataframe\">\n",
       "  <thead>\n",
       "    <tr style=\"text-align: right;\">\n",
       "      <th></th>\n",
       "      <th>Division</th>\n",
       "      <th>Station_Name</th>\n",
       "      <th>Station_Latitude</th>\n",
       "      <th>Station_Longitude</th>\n",
       "      <th>LINENAME</th>\n",
       "      <th>uni</th>\n",
       "    </tr>\n",
       "  </thead>\n",
       "  <tbody>\n",
       "    <tr>\n",
       "      <th>0</th>\n",
       "      <td>BMT</td>\n",
       "      <td>Ditmars Blvd</td>\n",
       "      <td>40.775036</td>\n",
       "      <td>-73.912034</td>\n",
       "      <td>NQ</td>\n",
       "      <td>Ditmars Blvd NQ BMT</td>\n",
       "    </tr>\n",
       "    <tr>\n",
       "      <th>1</th>\n",
       "      <td>BMT</td>\n",
       "      <td>Astoria Blvd-Hoyt Av</td>\n",
       "      <td>40.770258</td>\n",
       "      <td>-73.917843</td>\n",
       "      <td>NQ</td>\n",
       "      <td>Astoria Blvd-Hoyt Av NQ BMT</td>\n",
       "    </tr>\n",
       "    <tr>\n",
       "      <th>2</th>\n",
       "      <td>BMT</td>\n",
       "      <td>30 Av-Grand Av</td>\n",
       "      <td>40.766779</td>\n",
       "      <td>-73.921479</td>\n",
       "      <td>NQ</td>\n",
       "      <td>30 Av-Grand Av NQ BMT</td>\n",
       "    </tr>\n",
       "  </tbody>\n",
       "</table>\n",
       "</div>"
      ],
      "text/plain": [
       "  Division          Station_Name  Station_Latitude  Station_Longitude  \\\n",
       "0      BMT          Ditmars Blvd         40.775036         -73.912034   \n",
       "1      BMT  Astoria Blvd-Hoyt Av         40.770258         -73.917843   \n",
       "2      BMT        30 Av-Grand Av         40.766779         -73.921479   \n",
       "\n",
       "  LINENAME                          uni  \n",
       "0       NQ          Ditmars Blvd NQ BMT  \n",
       "1       NQ  Astoria Blvd-Hoyt Av NQ BMT  \n",
       "2       NQ        30 Av-Grand Av NQ BMT  "
      ]
     },
     "execution_count": 103,
     "metadata": {},
     "output_type": "execute_result"
    }
   ],
   "source": [
    "subways.head(3)"
   ]
  },
  {
   "cell_type": "code",
   "execution_count": 104,
   "metadata": {
    "collapsed": true
   },
   "outputs": [],
   "source": [
    "df_merged = pd.merge(df_merged, subways, left_on='Map', right_on='uni')"
   ]
  },
  {
   "cell_type": "code",
   "execution_count": 105,
   "metadata": {
    "collapsed": false
   },
   "outputs": [
    {
     "data": {
      "text/plain": [
       "377325"
      ]
     },
     "execution_count": 105,
     "metadata": {},
     "output_type": "execute_result"
    }
   ],
   "source": [
    "len(df_merged)"
   ]
  },
  {
   "cell_type": "code",
   "execution_count": 106,
   "metadata": {
    "collapsed": false,
    "scrolled": false
   },
   "outputs": [
    {
     "data": {
      "text/plain": [
       "Index([u'DATE', u'uni_x', u'ENTRIES_DIFF', u'EXITS_DIFF', u'StationID',\n",
       "       u'stations', u'Map', u'Division', u'Station_Name', u'Station_Latitude',\n",
       "       u'Station_Longitude', u'LINENAME', u'uni_y'],\n",
       "      dtype='object')"
      ]
     },
     "execution_count": 106,
     "metadata": {},
     "output_type": "execute_result"
    }
   ],
   "source": [
    "df_merged.columns"
   ]
  },
  {
   "cell_type": "code",
   "execution_count": 107,
   "metadata": {
    "collapsed": false
   },
   "outputs": [
    {
     "data": {
      "text/html": [
       "<div>\n",
       "<table border=\"1\" class=\"dataframe\">\n",
       "  <thead>\n",
       "    <tr style=\"text-align: right;\">\n",
       "      <th></th>\n",
       "      <th>DATE</th>\n",
       "      <th>uni_x</th>\n",
       "      <th>ENTRIES_DIFF</th>\n",
       "      <th>EXITS_DIFF</th>\n",
       "      <th>StationID</th>\n",
       "      <th>stations</th>\n",
       "      <th>Map</th>\n",
       "      <th>Division</th>\n",
       "      <th>Station_Name</th>\n",
       "      <th>Station_Latitude</th>\n",
       "      <th>Station_Longitude</th>\n",
       "      <th>LINENAME</th>\n",
       "      <th>uni_y</th>\n",
       "    </tr>\n",
       "  </thead>\n",
       "  <tbody>\n",
       "    <tr>\n",
       "      <th>0</th>\n",
       "      <td>2014-10-11</td>\n",
       "      <td>1 AVE L BMT</td>\n",
       "      <td>13150.0</td>\n",
       "      <td>15662.0</td>\n",
       "      <td>75.0</td>\n",
       "      <td>1 AVE L BMT</td>\n",
       "      <td>1st Av L BMT</td>\n",
       "      <td>BMT</td>\n",
       "      <td>1st Av</td>\n",
       "      <td>40.730953</td>\n",
       "      <td>-73.981628</td>\n",
       "      <td>L</td>\n",
       "      <td>1st Av L BMT</td>\n",
       "    </tr>\n",
       "    <tr>\n",
       "      <th>1</th>\n",
       "      <td>2014-10-12</td>\n",
       "      <td>1 AVE L BMT</td>\n",
       "      <td>17117.0</td>\n",
       "      <td>20513.0</td>\n",
       "      <td>75.0</td>\n",
       "      <td>1 AVE L BMT</td>\n",
       "      <td>1st Av L BMT</td>\n",
       "      <td>BMT</td>\n",
       "      <td>1st Av</td>\n",
       "      <td>40.730953</td>\n",
       "      <td>-73.981628</td>\n",
       "      <td>L</td>\n",
       "      <td>1st Av L BMT</td>\n",
       "    </tr>\n",
       "    <tr>\n",
       "      <th>2</th>\n",
       "      <td>2014-10-13</td>\n",
       "      <td>1 AVE L BMT</td>\n",
       "      <td>12663.0</td>\n",
       "      <td>18642.0</td>\n",
       "      <td>75.0</td>\n",
       "      <td>1 AVE L BMT</td>\n",
       "      <td>1st Av L BMT</td>\n",
       "      <td>BMT</td>\n",
       "      <td>1st Av</td>\n",
       "      <td>40.730953</td>\n",
       "      <td>-73.981628</td>\n",
       "      <td>L</td>\n",
       "      <td>1st Av L BMT</td>\n",
       "    </tr>\n",
       "    <tr>\n",
       "      <th>3</th>\n",
       "      <td>2014-10-14</td>\n",
       "      <td>1 AVE L BMT</td>\n",
       "      <td>14588.0</td>\n",
       "      <td>21332.0</td>\n",
       "      <td>75.0</td>\n",
       "      <td>1 AVE L BMT</td>\n",
       "      <td>1st Av L BMT</td>\n",
       "      <td>BMT</td>\n",
       "      <td>1st Av</td>\n",
       "      <td>40.730953</td>\n",
       "      <td>-73.981628</td>\n",
       "      <td>L</td>\n",
       "      <td>1st Av L BMT</td>\n",
       "    </tr>\n",
       "    <tr>\n",
       "      <th>4</th>\n",
       "      <td>2014-10-15</td>\n",
       "      <td>1 AVE L BMT</td>\n",
       "      <td>14857.0</td>\n",
       "      <td>23543.0</td>\n",
       "      <td>75.0</td>\n",
       "      <td>1 AVE L BMT</td>\n",
       "      <td>1st Av L BMT</td>\n",
       "      <td>BMT</td>\n",
       "      <td>1st Av</td>\n",
       "      <td>40.730953</td>\n",
       "      <td>-73.981628</td>\n",
       "      <td>L</td>\n",
       "      <td>1st Av L BMT</td>\n",
       "    </tr>\n",
       "  </tbody>\n",
       "</table>\n",
       "</div>"
      ],
      "text/plain": [
       "        DATE        uni_x  ENTRIES_DIFF  EXITS_DIFF  StationID     stations  \\\n",
       "0 2014-10-11  1 AVE L BMT       13150.0     15662.0       75.0  1 AVE L BMT   \n",
       "1 2014-10-12  1 AVE L BMT       17117.0     20513.0       75.0  1 AVE L BMT   \n",
       "2 2014-10-13  1 AVE L BMT       12663.0     18642.0       75.0  1 AVE L BMT   \n",
       "3 2014-10-14  1 AVE L BMT       14588.0     21332.0       75.0  1 AVE L BMT   \n",
       "4 2014-10-15  1 AVE L BMT       14857.0     23543.0       75.0  1 AVE L BMT   \n",
       "\n",
       "            Map Division Station_Name  Station_Latitude  Station_Longitude  \\\n",
       "0  1st Av L BMT      BMT       1st Av         40.730953         -73.981628   \n",
       "1  1st Av L BMT      BMT       1st Av         40.730953         -73.981628   \n",
       "2  1st Av L BMT      BMT       1st Av         40.730953         -73.981628   \n",
       "3  1st Av L BMT      BMT       1st Av         40.730953         -73.981628   \n",
       "4  1st Av L BMT      BMT       1st Av         40.730953         -73.981628   \n",
       "\n",
       "  LINENAME         uni_y  \n",
       "0        L  1st Av L BMT  \n",
       "1        L  1st Av L BMT  \n",
       "2        L  1st Av L BMT  \n",
       "3        L  1st Av L BMT  \n",
       "4        L  1st Av L BMT  "
      ]
     },
     "execution_count": 107,
     "metadata": {},
     "output_type": "execute_result"
    }
   ],
   "source": [
    "df_merged.head()"
   ]
  },
  {
   "cell_type": "code",
   "execution_count": 108,
   "metadata": {
    "collapsed": false
   },
   "outputs": [],
   "source": [
    "df_merged.drop([u'uni_x',u'stations', u'Map',\n",
    "                u'uni_y'], inplace = True, axis = 1)"
   ]
  },
  {
   "cell_type": "code",
   "execution_count": 112,
   "metadata": {
    "collapsed": false
   },
   "outputs": [
    {
     "data": {
      "text/html": [
       "<div>\n",
       "<table border=\"1\" class=\"dataframe\">\n",
       "  <thead>\n",
       "    <tr style=\"text-align: right;\">\n",
       "      <th></th>\n",
       "      <th>DATE</th>\n",
       "      <th>ENTRIES_DIFF</th>\n",
       "      <th>EXITS_DIFF</th>\n",
       "      <th>StationID</th>\n",
       "      <th>Division</th>\n",
       "      <th>Station_Name</th>\n",
       "      <th>Station_Latitude</th>\n",
       "      <th>Station_Longitude</th>\n",
       "      <th>LINENAME</th>\n",
       "    </tr>\n",
       "  </thead>\n",
       "  <tbody>\n",
       "    <tr>\n",
       "      <th>0</th>\n",
       "      <td>2014-10-11</td>\n",
       "      <td>13150.0</td>\n",
       "      <td>15662.0</td>\n",
       "      <td>75.0</td>\n",
       "      <td>BMT</td>\n",
       "      <td>1st Av</td>\n",
       "      <td>40.730953</td>\n",
       "      <td>-73.981628</td>\n",
       "      <td>L</td>\n",
       "    </tr>\n",
       "    <tr>\n",
       "      <th>1</th>\n",
       "      <td>2014-10-12</td>\n",
       "      <td>17117.0</td>\n",
       "      <td>20513.0</td>\n",
       "      <td>75.0</td>\n",
       "      <td>BMT</td>\n",
       "      <td>1st Av</td>\n",
       "      <td>40.730953</td>\n",
       "      <td>-73.981628</td>\n",
       "      <td>L</td>\n",
       "    </tr>\n",
       "    <tr>\n",
       "      <th>2</th>\n",
       "      <td>2014-10-13</td>\n",
       "      <td>12663.0</td>\n",
       "      <td>18642.0</td>\n",
       "      <td>75.0</td>\n",
       "      <td>BMT</td>\n",
       "      <td>1st Av</td>\n",
       "      <td>40.730953</td>\n",
       "      <td>-73.981628</td>\n",
       "      <td>L</td>\n",
       "    </tr>\n",
       "    <tr>\n",
       "      <th>3</th>\n",
       "      <td>2014-10-14</td>\n",
       "      <td>14588.0</td>\n",
       "      <td>21332.0</td>\n",
       "      <td>75.0</td>\n",
       "      <td>BMT</td>\n",
       "      <td>1st Av</td>\n",
       "      <td>40.730953</td>\n",
       "      <td>-73.981628</td>\n",
       "      <td>L</td>\n",
       "    </tr>\n",
       "    <tr>\n",
       "      <th>4</th>\n",
       "      <td>2014-10-15</td>\n",
       "      <td>14857.0</td>\n",
       "      <td>23543.0</td>\n",
       "      <td>75.0</td>\n",
       "      <td>BMT</td>\n",
       "      <td>1st Av</td>\n",
       "      <td>40.730953</td>\n",
       "      <td>-73.981628</td>\n",
       "      <td>L</td>\n",
       "    </tr>\n",
       "  </tbody>\n",
       "</table>\n",
       "</div>"
      ],
      "text/plain": [
       "        DATE  ENTRIES_DIFF  EXITS_DIFF  StationID Division Station_Name  \\\n",
       "0 2014-10-11       13150.0     15662.0       75.0      BMT       1st Av   \n",
       "1 2014-10-12       17117.0     20513.0       75.0      BMT       1st Av   \n",
       "2 2014-10-13       12663.0     18642.0       75.0      BMT       1st Av   \n",
       "3 2014-10-14       14588.0     21332.0       75.0      BMT       1st Av   \n",
       "4 2014-10-15       14857.0     23543.0       75.0      BMT       1st Av   \n",
       "\n",
       "   Station_Latitude  Station_Longitude LINENAME  \n",
       "0         40.730953         -73.981628        L  \n",
       "1         40.730953         -73.981628        L  \n",
       "2         40.730953         -73.981628        L  \n",
       "3         40.730953         -73.981628        L  \n",
       "4         40.730953         -73.981628        L  "
      ]
     },
     "execution_count": 112,
     "metadata": {},
     "output_type": "execute_result"
    }
   ],
   "source": [
    "df_merged.head()"
   ]
  },
  {
   "cell_type": "code",
   "execution_count": 114,
   "metadata": {
    "collapsed": false
   },
   "outputs": [],
   "source": [
    "df_subways = df_merged.loc[:,['StationID','Division','Station_Name','Station_Latitude','Station_Longitude','LINENAME' ]]"
   ]
  },
  {
   "cell_type": "code",
   "execution_count": 116,
   "metadata": {
    "collapsed": false
   },
   "outputs": [],
   "source": [
    "df_subways.drop_duplicates(inplace = True)"
   ]
  },
  {
   "cell_type": "code",
   "execution_count": 119,
   "metadata": {
    "collapsed": false
   },
   "outputs": [],
   "source": [
    "df_subways.reset_index(inplace=True, drop=True)"
   ]
  },
  {
   "cell_type": "code",
   "execution_count": 120,
   "metadata": {
    "collapsed": false
   },
   "outputs": [
    {
     "data": {
      "text/html": [
       "<div>\n",
       "<table border=\"1\" class=\"dataframe\">\n",
       "  <thead>\n",
       "    <tr style=\"text-align: right;\">\n",
       "      <th></th>\n",
       "      <th>StationID</th>\n",
       "      <th>Division</th>\n",
       "      <th>Station_Name</th>\n",
       "      <th>Station_Latitude</th>\n",
       "      <th>Station_Longitude</th>\n",
       "      <th>LINENAME</th>\n",
       "    </tr>\n",
       "  </thead>\n",
       "  <tbody>\n",
       "    <tr>\n",
       "      <th>0</th>\n",
       "      <td>75.0</td>\n",
       "      <td>BMT</td>\n",
       "      <td>1st Av</td>\n",
       "      <td>40.730953</td>\n",
       "      <td>-73.981628</td>\n",
       "      <td>L</td>\n",
       "    </tr>\n",
       "    <tr>\n",
       "      <th>1</th>\n",
       "      <td>76.0</td>\n",
       "      <td>BMT</td>\n",
       "      <td>1st Av</td>\n",
       "      <td>40.730953</td>\n",
       "      <td>-73.981628</td>\n",
       "      <td>L</td>\n",
       "    </tr>\n",
       "    <tr>\n",
       "      <th>2</th>\n",
       "      <td>77.0</td>\n",
       "      <td>BMT</td>\n",
       "      <td>1st Av</td>\n",
       "      <td>40.730953</td>\n",
       "      <td>-73.981628</td>\n",
       "      <td>L</td>\n",
       "    </tr>\n",
       "    <tr>\n",
       "      <th>3</th>\n",
       "      <td>0.0</td>\n",
       "      <td>IRT</td>\n",
       "      <td>103rd St</td>\n",
       "      <td>40.799446</td>\n",
       "      <td>-73.968379</td>\n",
       "      <td>1</td>\n",
       "    </tr>\n",
       "    <tr>\n",
       "      <th>4</th>\n",
       "      <td>1.0</td>\n",
       "      <td>IRT</td>\n",
       "      <td>103rd St</td>\n",
       "      <td>40.790600</td>\n",
       "      <td>-73.947478</td>\n",
       "      <td>6</td>\n",
       "    </tr>\n",
       "  </tbody>\n",
       "</table>\n",
       "</div>"
      ],
      "text/plain": [
       "   StationID Division Station_Name  Station_Latitude  Station_Longitude  \\\n",
       "0       75.0      BMT       1st Av         40.730953         -73.981628   \n",
       "1       76.0      BMT       1st Av         40.730953         -73.981628   \n",
       "2       77.0      BMT       1st Av         40.730953         -73.981628   \n",
       "3        0.0      IRT     103rd St         40.799446         -73.968379   \n",
       "4        1.0      IRT     103rd St         40.790600         -73.947478   \n",
       "\n",
       "  LINENAME  \n",
       "0        L  \n",
       "1        L  \n",
       "2        L  \n",
       "3        1  \n",
       "4        6  "
      ]
     },
     "execution_count": 120,
     "metadata": {},
     "output_type": "execute_result"
    }
   ],
   "source": [
    "df_subways.head()"
   ]
  },
  {
   "cell_type": "code",
   "execution_count": 121,
   "metadata": {
    "collapsed": true
   },
   "outputs": [],
   "source": [
    "df_subways.to_csv(\"../../Data/subway/subway_sta_id.csv\")"
   ]
  },
  {
   "cell_type": "code",
   "execution_count": 122,
   "metadata": {
    "collapsed": false
   },
   "outputs": [
    {
     "data": {
      "text/html": [
       "<div>\n",
       "<table border=\"1\" class=\"dataframe\">\n",
       "  <thead>\n",
       "    <tr style=\"text-align: right;\">\n",
       "      <th></th>\n",
       "      <th>DATE</th>\n",
       "      <th>ENTRIES_DIFF</th>\n",
       "      <th>EXITS_DIFF</th>\n",
       "      <th>StationID</th>\n",
       "      <th>Division</th>\n",
       "      <th>Station_Name</th>\n",
       "      <th>Station_Latitude</th>\n",
       "      <th>Station_Longitude</th>\n",
       "      <th>LINENAME</th>\n",
       "    </tr>\n",
       "  </thead>\n",
       "  <tbody>\n",
       "    <tr>\n",
       "      <th>0</th>\n",
       "      <td>2014-10-11</td>\n",
       "      <td>13150.0</td>\n",
       "      <td>15662.0</td>\n",
       "      <td>75.0</td>\n",
       "      <td>BMT</td>\n",
       "      <td>1st Av</td>\n",
       "      <td>40.730953</td>\n",
       "      <td>-73.981628</td>\n",
       "      <td>L</td>\n",
       "    </tr>\n",
       "    <tr>\n",
       "      <th>1</th>\n",
       "      <td>2014-10-12</td>\n",
       "      <td>17117.0</td>\n",
       "      <td>20513.0</td>\n",
       "      <td>75.0</td>\n",
       "      <td>BMT</td>\n",
       "      <td>1st Av</td>\n",
       "      <td>40.730953</td>\n",
       "      <td>-73.981628</td>\n",
       "      <td>L</td>\n",
       "    </tr>\n",
       "    <tr>\n",
       "      <th>2</th>\n",
       "      <td>2014-10-13</td>\n",
       "      <td>12663.0</td>\n",
       "      <td>18642.0</td>\n",
       "      <td>75.0</td>\n",
       "      <td>BMT</td>\n",
       "      <td>1st Av</td>\n",
       "      <td>40.730953</td>\n",
       "      <td>-73.981628</td>\n",
       "      <td>L</td>\n",
       "    </tr>\n",
       "    <tr>\n",
       "      <th>3</th>\n",
       "      <td>2014-10-14</td>\n",
       "      <td>14588.0</td>\n",
       "      <td>21332.0</td>\n",
       "      <td>75.0</td>\n",
       "      <td>BMT</td>\n",
       "      <td>1st Av</td>\n",
       "      <td>40.730953</td>\n",
       "      <td>-73.981628</td>\n",
       "      <td>L</td>\n",
       "    </tr>\n",
       "    <tr>\n",
       "      <th>4</th>\n",
       "      <td>2014-10-15</td>\n",
       "      <td>14857.0</td>\n",
       "      <td>23543.0</td>\n",
       "      <td>75.0</td>\n",
       "      <td>BMT</td>\n",
       "      <td>1st Av</td>\n",
       "      <td>40.730953</td>\n",
       "      <td>-73.981628</td>\n",
       "      <td>L</td>\n",
       "    </tr>\n",
       "  </tbody>\n",
       "</table>\n",
       "</div>"
      ],
      "text/plain": [
       "        DATE  ENTRIES_DIFF  EXITS_DIFF  StationID Division Station_Name  \\\n",
       "0 2014-10-11       13150.0     15662.0       75.0      BMT       1st Av   \n",
       "1 2014-10-12       17117.0     20513.0       75.0      BMT       1st Av   \n",
       "2 2014-10-13       12663.0     18642.0       75.0      BMT       1st Av   \n",
       "3 2014-10-14       14588.0     21332.0       75.0      BMT       1st Av   \n",
       "4 2014-10-15       14857.0     23543.0       75.0      BMT       1st Av   \n",
       "\n",
       "   Station_Latitude  Station_Longitude LINENAME  \n",
       "0         40.730953         -73.981628        L  \n",
       "1         40.730953         -73.981628        L  \n",
       "2         40.730953         -73.981628        L  \n",
       "3         40.730953         -73.981628        L  \n",
       "4         40.730953         -73.981628        L  "
      ]
     },
     "execution_count": 122,
     "metadata": {},
     "output_type": "execute_result"
    }
   ],
   "source": [
    "df_merged.head()"
   ]
  },
  {
   "cell_type": "code",
   "execution_count": 123,
   "metadata": {
    "collapsed": true
   },
   "outputs": [],
   "source": [
    "df_merged.to_csv(\"../../Data/subway/subway_station_counts.csv\")"
   ]
  },
  {
   "cell_type": "markdown",
   "metadata": {},
   "source": [
    "# Taxi Zone"
   ]
  },
  {
   "cell_type": "code",
   "execution_count": 69,
   "metadata": {
    "collapsed": true
   },
   "outputs": [],
   "source": [
    "tzones = gp.read_file(\"../Data/taxi_zones/taxi_zones_updated.shp\")"
   ]
  },
  {
   "cell_type": "code",
   "execution_count": 75,
   "metadata": {
    "collapsed": false,
    "scrolled": false
   },
   "outputs": [],
   "source": [
    "tzones.to_crs(epsg=4326, inplace=True)"
   ]
  },
  {
   "cell_type": "code",
   "execution_count": 71,
   "metadata": {
    "collapsed": false
   },
   "outputs": [
    {
     "data": {
      "text/html": [
       "<div>\n",
       "<table border=\"1\" class=\"dataframe\">\n",
       "  <thead>\n",
       "    <tr style=\"text-align: right;\">\n",
       "      <th></th>\n",
       "      <th>DATE</th>\n",
       "      <th>ENTRIES_DIFF</th>\n",
       "      <th>EXITS_DIFF</th>\n",
       "      <th>Station_Name</th>\n",
       "      <th>geometry</th>\n",
       "    </tr>\n",
       "  </thead>\n",
       "  <tbody>\n",
       "    <tr>\n",
       "      <th>0</th>\n",
       "      <td>2014-10-11</td>\n",
       "      <td>13150.0</td>\n",
       "      <td>15662.0</td>\n",
       "      <td>1st Av</td>\n",
       "      <td>POINT (-73.981628 40.730953)</td>\n",
       "    </tr>\n",
       "    <tr>\n",
       "      <th>1</th>\n",
       "      <td>2014-10-12</td>\n",
       "      <td>17117.0</td>\n",
       "      <td>20513.0</td>\n",
       "      <td>1st Av</td>\n",
       "      <td>POINT (-73.981628 40.730953)</td>\n",
       "    </tr>\n",
       "  </tbody>\n",
       "</table>\n",
       "</div>"
      ],
      "text/plain": [
       "        DATE  ENTRIES_DIFF  EXITS_DIFF Station_Name  \\\n",
       "0 2014-10-11       13150.0     15662.0       1st Av   \n",
       "1 2014-10-12       17117.0     20513.0       1st Av   \n",
       "\n",
       "                       geometry  \n",
       "0  POINT (-73.981628 40.730953)  \n",
       "1  POINT (-73.981628 40.730953)  "
      ]
     },
     "execution_count": 71,
     "metadata": {},
     "output_type": "execute_result"
    }
   ],
   "source": [
    "df_merged.head(2)"
   ]
  },
  {
   "cell_type": "code",
   "execution_count": 76,
   "metadata": {
    "collapsed": false
   },
   "outputs": [
    {
     "data": {
      "text/html": [
       "<div>\n",
       "<table border=\"1\" class=\"dataframe\">\n",
       "  <thead>\n",
       "    <tr style=\"text-align: right;\">\n",
       "      <th></th>\n",
       "      <th>LocationID</th>\n",
       "      <th>OBJECTID</th>\n",
       "      <th>Shape_Area</th>\n",
       "      <th>Shape_Leng</th>\n",
       "      <th>borough</th>\n",
       "      <th>geometry</th>\n",
       "      <th>zone</th>\n",
       "    </tr>\n",
       "  </thead>\n",
       "  <tbody>\n",
       "    <tr>\n",
       "      <th>0</th>\n",
       "      <td>1</td>\n",
       "      <td>1</td>\n",
       "      <td>0.000782</td>\n",
       "      <td>0.116357</td>\n",
       "      <td>EWR</td>\n",
       "      <td>POLYGON ((-74.18445300000005 40.69499600003324...</td>\n",
       "      <td>Newark Airport</td>\n",
       "    </tr>\n",
       "    <tr>\n",
       "      <th>1</th>\n",
       "      <td>2</td>\n",
       "      <td>2</td>\n",
       "      <td>0.004866</td>\n",
       "      <td>0.433470</td>\n",
       "      <td>Queens</td>\n",
       "      <td>(POLYGON ((-73.82337597260654 40.6389870472100...</td>\n",
       "      <td>Jamaica Bay</td>\n",
       "    </tr>\n",
       "    <tr>\n",
       "      <th>2</th>\n",
       "      <td>3</td>\n",
       "      <td>3</td>\n",
       "      <td>0.000314</td>\n",
       "      <td>0.084341</td>\n",
       "      <td>Bronx</td>\n",
       "      <td>POLYGON ((-73.84792614099977 40.87134223403326...</td>\n",
       "      <td>Allerton/Pelham Gardens</td>\n",
       "    </tr>\n",
       "  </tbody>\n",
       "</table>\n",
       "</div>"
      ],
      "text/plain": [
       "   LocationID  OBJECTID  Shape_Area  Shape_Leng borough  \\\n",
       "0           1         1    0.000782    0.116357     EWR   \n",
       "1           2         2    0.004866    0.433470  Queens   \n",
       "2           3         3    0.000314    0.084341   Bronx   \n",
       "\n",
       "                                            geometry                     zone  \n",
       "0  POLYGON ((-74.18445300000005 40.69499600003324...           Newark Airport  \n",
       "1  (POLYGON ((-73.82337597260654 40.6389870472100...              Jamaica Bay  \n",
       "2  POLYGON ((-73.84792614099977 40.87134223403326...  Allerton/Pelham Gardens  "
      ]
     },
     "execution_count": 76,
     "metadata": {},
     "output_type": "execute_result"
    }
   ],
   "source": [
    "tzones.head(3)"
   ]
  },
  {
   "cell_type": "code",
   "execution_count": 81,
   "metadata": {
    "collapsed": false
   },
   "outputs": [],
   "source": [
    "df_merged['DATE'] = pd.to_datetime(df_merged[\"DATE\"])\n",
    "\n",
    "crs = {'init': 'epsg:4326', 'no_defs': True}\n",
    "geometry = [Point(xy) for xy in zip(df_merged[\"Station_Longitude\"], df_merged[\"Station_Latitude\"])]\n",
    "df_merged = df_merged.drop([\"Station_Longitude\", \"Station_Latitude\"], axis=1)\n",
    "df_merged = gp.GeoDataFrame(df_merged, crs=crs, geometry=geometry)\n",
    "\n",
    "print \"Spatially joining data and taxi zones\"\n",
    "\n",
    "data_geo = gp.sjoin(tzones, df_merged) \n",
    "data_geo.drop(['borough', u'OBJECTID', 'Shape_Area', 'Shape_Leng',\n",
    "                   u'geometry', 'index_right', 'zone', 'Station_Name'], axis = 1, inplace = True)   \n",
    "    \n",
    "\n",
    "data_agg = data_geo.set_index('DATE').groupby([pd.TimeGrouper('D'),'LocationID']).agg({'ENTRIES_DIFF':'sum', \n",
    "                                                                                      'EXITS_DIFF': 'sum'})\n",
    "data_agg.reset_index('LocationID', inplace=True)"
   ]
  },
  {
   "cell_type": "code",
   "execution_count": 82,
   "metadata": {
    "collapsed": false,
    "scrolled": false
   },
   "outputs": [
    {
     "data": {
      "text/html": [
       "<div>\n",
       "<table border=\"1\" class=\"dataframe\">\n",
       "  <thead>\n",
       "    <tr style=\"text-align: right;\">\n",
       "      <th></th>\n",
       "      <th>LocationID</th>\n",
       "      <th>EXITS_DIFF</th>\n",
       "      <th>ENTRIES_DIFF</th>\n",
       "    </tr>\n",
       "    <tr>\n",
       "      <th>DATE</th>\n",
       "      <th></th>\n",
       "      <th></th>\n",
       "      <th></th>\n",
       "    </tr>\n",
       "  </thead>\n",
       "  <tbody>\n",
       "    <tr>\n",
       "      <th>2014-10-11</th>\n",
       "      <td>3</td>\n",
       "      <td>280.0</td>\n",
       "      <td>10.0</td>\n",
       "    </tr>\n",
       "    <tr>\n",
       "      <th>2014-10-11</th>\n",
       "      <td>7</td>\n",
       "      <td>27564.0</td>\n",
       "      <td>31367.0</td>\n",
       "    </tr>\n",
       "    <tr>\n",
       "      <th>2014-10-11</th>\n",
       "      <td>14</td>\n",
       "      <td>8609.0</td>\n",
       "      <td>16793.0</td>\n",
       "    </tr>\n",
       "  </tbody>\n",
       "</table>\n",
       "</div>"
      ],
      "text/plain": [
       "            LocationID  EXITS_DIFF  ENTRIES_DIFF\n",
       "DATE                                            \n",
       "2014-10-11           3       280.0          10.0\n",
       "2014-10-11           7     27564.0       31367.0\n",
       "2014-10-11          14      8609.0       16793.0"
      ]
     },
     "execution_count": 82,
     "metadata": {},
     "output_type": "execute_result"
    }
   ],
   "source": [
    "data_agg.head(3)"
   ]
  },
  {
   "cell_type": "code",
   "execution_count": 83,
   "metadata": {
    "collapsed": false
   },
   "outputs": [
    {
     "data": {
      "text/plain": [
       "152"
      ]
     },
     "execution_count": 83,
     "metadata": {},
     "output_type": "execute_result"
    }
   ],
   "source": [
    "len(data_agg.LocationID.unique())"
   ]
  },
  {
   "cell_type": "code",
   "execution_count": 84,
   "metadata": {
    "collapsed": true
   },
   "outputs": [],
   "source": [
    "data_agg.to_csv(\"../Data/Aggregated/subways.csv\")"
   ]
  },
  {
   "cell_type": "code",
   "execution_count": 85,
   "metadata": {
    "collapsed": false
   },
   "outputs": [
    {
     "data": {
      "text/plain": [
       "Index([u'LocationID', u'EXITS_DIFF', u'ENTRIES_DIFF'], dtype='object')"
      ]
     },
     "execution_count": 85,
     "metadata": {},
     "output_type": "execute_result"
    }
   ],
   "source": [
    "data_agg.columns"
   ]
  },
  {
   "cell_type": "code",
   "execution_count": 87,
   "metadata": {
    "collapsed": false
   },
   "outputs": [],
   "source": [
    "data_agg.reset_index(inplace=True)"
   ]
  },
  {
   "cell_type": "code",
   "execution_count": 88,
   "metadata": {
    "collapsed": false
   },
   "outputs": [
    {
     "data": {
      "text/plain": [
       "count                  121999\n",
       "unique                    812\n",
       "top       2016-04-04 00:00:00\n",
       "freq                      152\n",
       "first     2014-10-11 00:00:00\n",
       "last      2016-12-30 00:00:00\n",
       "Name: DATE, dtype: object"
      ]
     },
     "execution_count": 88,
     "metadata": {},
     "output_type": "execute_result"
    }
   ],
   "source": [
    "data_agg.DATE.describe()"
   ]
  },
  {
   "cell_type": "code",
   "execution_count": null,
   "metadata": {
    "collapsed": true
   },
   "outputs": [],
   "source": []
  }
 ],
 "metadata": {
  "kernelspec": {
   "display_name": "Python 2",
   "language": "python",
   "name": "python2"
  },
  "language_info": {
   "codemirror_mode": {
    "name": "ipython",
    "version": 2
   },
   "file_extension": ".py",
   "mimetype": "text/x-python",
   "name": "python",
   "nbconvert_exporter": "python",
   "pygments_lexer": "ipython2",
   "version": "2.7.11"
  }
 },
 "nbformat": 4,
 "nbformat_minor": 0
}
