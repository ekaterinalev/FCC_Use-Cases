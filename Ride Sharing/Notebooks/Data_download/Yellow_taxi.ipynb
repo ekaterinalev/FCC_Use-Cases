{
 "cells": [
  {
   "cell_type": "code",
   "execution_count": 1,
   "metadata": {
    "collapsed": false
   },
   "outputs": [],
   "source": [
    "import os\n",
    "\n",
    "def yellow_taxi(years, months):\n",
    "    '''The function downloads a CSV file into the Data/Yellow directory from the tlc website\n",
    "    Arguments:\n",
    "    year = list of years passed as string. Eg['2014', '2015']\n",
    "    months = list of months passed as string. Eg.['01', '02', '03', '12']\n",
    "    '''\n",
    "    \n",
    "    year = years\n",
    "    months = months\n",
    "    \n",
    "    if not (os.path.isdir(\"../../Data/\")):\n",
    "        print \"Creating Folder Data\"\n",
    "        os.system(\"mkdir ../../Data\")\n",
    "    elif not (os.path.isdir(\"../../Data/Yellow/\")):\n",
    "        print \"Creating Folder Data/Yellow\"\n",
    "        os.system(\"mkdir ../../Data/Yellow\")\n",
    "    \n",
    "    for year in years:\n",
    "        for month in months:\n",
    "            \n",
    "            ### First I will check that it is not already there\n",
    "            if os.path.isfile(\"../../Data/Yellow/yellow_tripdata_\" + year + \"-\" + month + \".csv\"):\n",
    "                print \"File yellow_tripdata_\" + year + \"-\" + month + \".csv\" + \" already present in Data/Yellow/\"\n",
    "            else:        \n",
    "                print \"Downloading yellow_tripdata_\" + year + \"-\" + month + \".csv\"\n",
    "                os.system(\"wget https://s3.amazonaws.com/nyc-tlc/trip+data/yellow_tripdata_\" + year + \"-\" + month + \".csv\")\n",
    "                print \"Moving yellow_tripdata_\" + year + \"-\" + month + \".csv to Data/Yellow/\"\n",
    "                os.system(\"mv yellow_tripdata_\" + year + \"-\" + month + \".csv ../../Data/Yellow/\" )\n",
    "    \n",
    "            ### One final check:\n",
    "            if not os.path.isfile(\"../../Data/Yellow/yellow_tripdata_\" + year + \"-\" + month + \".csv\"):\n",
    "                print (\"WARNING!!! something is wrong: the file is not there!\")\n",
    "            else:\n",
    "                print (\"File in place\")"
   ]
  },
  {
   "cell_type": "code",
   "execution_count": 2,
   "metadata": {
    "collapsed": false
   },
   "outputs": [
    {
     "name": "stdout",
     "output_type": "stream",
     "text": [
      "Downloading yellow_tripdata_2013-01.csv\n",
      "Moving yellow_tripdata_2013-01.csv to Data/Yellow/\n",
      "File in place\n",
      "Downloading yellow_tripdata_2013-02.csv\n",
      "Moving yellow_tripdata_2013-02.csv to Data/Yellow/\n",
      "File in place\n",
      "Downloading yellow_tripdata_2013-03.csv\n",
      "Moving yellow_tripdata_2013-03.csv to Data/Yellow/\n",
      "File in place\n",
      "Downloading yellow_tripdata_2013-04.csv\n",
      "Moving yellow_tripdata_2013-04.csv to Data/Yellow/\n",
      "File in place\n",
      "Downloading yellow_tripdata_2013-05.csv\n",
      "Moving yellow_tripdata_2013-05.csv to Data/Yellow/\n",
      "File in place\n",
      "Downloading yellow_tripdata_2013-06.csv\n",
      "Moving yellow_tripdata_2013-06.csv to Data/Yellow/\n",
      "File in place\n",
      "Downloading yellow_tripdata_2013-07.csv\n",
      "Moving yellow_tripdata_2013-07.csv to Data/Yellow/\n",
      "File in place\n",
      "Downloading yellow_tripdata_2013-08.csv\n",
      "Moving yellow_tripdata_2013-08.csv to Data/Yellow/\n",
      "File in place\n",
      "Downloading yellow_tripdata_2013-09.csv\n",
      "Moving yellow_tripdata_2013-09.csv to Data/Yellow/\n",
      "File in place\n",
      "Downloading yellow_tripdata_2013-10.csv\n",
      "Moving yellow_tripdata_2013-10.csv to Data/Yellow/\n",
      "File in place\n",
      "Downloading yellow_tripdata_2013-11.csv\n",
      "Moving yellow_tripdata_2013-11.csv to Data/Yellow/\n",
      "File in place\n",
      "Downloading yellow_tripdata_2013-12.csv\n",
      "Moving yellow_tripdata_2013-12.csv to Data/Yellow/\n",
      "File in place\n"
     ]
    }
   ],
   "source": [
    "yellow_taxi(['2013'], ['01','02','03','04','05','06','07','08','09','10','11','12'])"
   ]
  },
  {
   "cell_type": "code",
   "execution_count": null,
   "metadata": {
    "collapsed": true
   },
   "outputs": [],
   "source": []
  }
 ],
 "metadata": {
  "kernelspec": {
   "display_name": "PUI2016_Python2",
   "language": "python",
   "name": "pui2016_python2"
  },
  "language_info": {
   "codemirror_mode": {
    "name": "ipython",
    "version": 2
   },
   "file_extension": ".py",
   "mimetype": "text/x-python",
   "name": "python",
   "nbconvert_exporter": "python",
   "pygments_lexer": "ipython2",
   "version": "2.7.12"
  }
 },
 "nbformat": 4,
 "nbformat_minor": 0
}
