{
 "cells": [
  {
   "cell_type": "code",
   "execution_count": 20,
   "metadata": {
    "collapsed": true
   },
   "outputs": [],
   "source": [
    "import os\n",
    "\n",
    "def getCitiBikeCSV(datestring):\n",
    "    '''The function downloads a CSV file into the PUIDATA directory from the Citibike database for the given datestring\n",
    "    Author: vys217 lifting code from \n",
    "    https://github.com/fedhere/PUI2016_fb55/blob/master/HW3_fb55/citibikes_gender.ipynb\n",
    "    '''\n",
    "    if not os.path.isdir(\"../../Data/Citibike\"):\n",
    "        os.system(\"mkdir ../../Data/Citibike\") \n",
    "    \n",
    "    if os.path.isfile( \"../../Data/Citibike/\" + datestring + \"-citibike-tripdata.csv\"):\n",
    "        print \"File \"+ datestring + \"-citibike-tripdata.csv is in Data/Citibike folder already\" \n",
    "    else:\n",
    "        os.system(\"curl -O https://s3.amazonaws.com/tripdata/\" + datestring + \"-citibike-tripdata.zip\")\n",
    "        os.system(\"mv \" + datestring + \"-citibike-tripdata.zip ../../Data/Citibike/\" )\n",
    "            ### unzip the csv \n",
    "        os.system(\"unzip ../../Data/Citibike/\" + datestring + \"-citibike-tripdata.zip\")\n",
    "        print(\"unzip ../../Data/Citibike/\" + datestring + \"-citibike-tripdata.zip\")\n",
    "        \n",
    "        os.system(\"mv \" + datestring + \"-citibike-tripdata.csv ../../Data/Citibike/\")\n",
    "        \n",
    "            ## NOTE: old csv citibike data had a different name structure. \n",
    "        if ('2013' in datestring) | ('2014' in datestring):\n",
    "            os.system(\"mv \" + datestring[:4] + '-' +  datestring[4:] + \n",
    "                          \"\\ -\\ Citi\\ Bike\\ trip\\ data.csv \" + datestring + \"-citibike-tripdata.csv\")\n",
    "            os.system(\"mv \" + datestring + \"-citibike-tripdata.csv ../../Data/Citibike/\")\n",
    "    \n",
    "    ### One final check:\n",
    "    if not os.path.isfile(\"../../Data/Citibike/\" + datestring + \"-citibike-tripdata.csv\"):\n",
    "        print (\"WARNING!!! something is wrong: the file is not there!\")\n",
    "\n",
    "    else:\n",
    "        print (\"file in place, you can continue\")"
   ]
  },
  {
   "cell_type": "code",
   "execution_count": 12,
   "metadata": {
    "collapsed": false
   },
   "outputs": [
    {
     "name": "stdout",
     "output_type": "stream",
     "text": [
      "unzip ../../Data/Citibike/201307-citibike-tripdata.zip\n",
      "file in place, you can continue\n"
     ]
    }
   ],
   "source": [
    "getCitiBikeCSV('201307')"
   ]
  },
  {
   "cell_type": "code",
   "execution_count": 13,
   "metadata": {
    "collapsed": false
   },
   "outputs": [
    {
     "name": "stdout",
     "output_type": "stream",
     "text": [
      "unzip ../../Data/Citibike/201308-citibike-tripdata.zip\n",
      "file in place, you can continue\n"
     ]
    }
   ],
   "source": [
    "getCitiBikeCSV('201308')"
   ]
  },
  {
   "cell_type": "code",
   "execution_count": 14,
   "metadata": {
    "collapsed": false
   },
   "outputs": [
    {
     "name": "stdout",
     "output_type": "stream",
     "text": [
      "unzip ../../Data/Citibike/201309-citibike-tripdata.zip\n",
      "file in place, you can continue\n"
     ]
    }
   ],
   "source": [
    "getCitiBikeCSV('201309')"
   ]
  },
  {
   "cell_type": "code",
   "execution_count": 15,
   "metadata": {
    "collapsed": false
   },
   "outputs": [
    {
     "name": "stdout",
     "output_type": "stream",
     "text": [
      "unzip ../../Data/Citibike/201310-citibike-tripdata.zip\n",
      "file in place, you can continue\n"
     ]
    }
   ],
   "source": [
    "getCitiBikeCSV('201310')"
   ]
  },
  {
   "cell_type": "code",
   "execution_count": 16,
   "metadata": {
    "collapsed": false
   },
   "outputs": [
    {
     "name": "stdout",
     "output_type": "stream",
     "text": [
      "unzip ../../Data/Citibike/201311-citibike-tripdata.zip\n",
      "file in place, you can continue\n",
      "unzip ../../Data/Citibike/201312-citibike-tripdata.zip\n",
      "file in place, you can continue\n",
      "unzip ../../Data/Citibike/201401-citibike-tripdata.zip\n",
      "file in place, you can continue\n",
      "unzip ../../Data/Citibike/201402-citibike-tripdata.zip\n",
      "file in place, you can continue\n",
      "unzip ../../Data/Citibike/201403-citibike-tripdata.zip\n",
      "file in place, you can continue\n",
      "unzip ../../Data/Citibike/201404-citibike-tripdata.zip\n",
      "file in place, you can continue\n",
      "unzip ../../Data/Citibike/201405-citibike-tripdata.zip\n",
      "file in place, you can continue\n",
      "unzip ../../Data/Citibike/201406-citibike-tripdata.zip\n",
      "file in place, you can continue\n",
      "unzip ../../Data/Citibike/201407-citibike-tripdata.zip\n",
      "file in place, you can continue\n",
      "unzip ../../Data/Citibike/201408-citibike-tripdata.zip\n",
      "file in place, you can continue\n",
      "unzip ../../Data/Citibike/201409-citibike-tripdata.zip\n",
      "file in place, you can continue\n",
      "unzip ../../Data/Citibike/201410-citibike-tripdata.zip\n",
      "file in place, you can continue\n",
      "unzip ../../Data/Citibike/201411-citibike-tripdata.zip\n",
      "file in place, you can continue\n",
      "unzip ../../Data/Citibike/201412-citibike-tripdata.zip\n",
      "file in place, you can continue\n"
     ]
    }
   ],
   "source": [
    "getCitiBikeCSV('201311')\n",
    "getCitiBikeCSV('201312')\n",
    "getCitiBikeCSV('201401')\n",
    "getCitiBikeCSV('201402')\n",
    "getCitiBikeCSV('201403')\n",
    "getCitiBikeCSV('201404')\n",
    "getCitiBikeCSV('201405')\n",
    "getCitiBikeCSV('201406')\n",
    "getCitiBikeCSV('201407')\n",
    "getCitiBikeCSV('201408')\n",
    "getCitiBikeCSV('201409')\n",
    "getCitiBikeCSV('201410')\n",
    "getCitiBikeCSV('201411')\n",
    "getCitiBikeCSV('201412')"
   ]
  },
  {
   "cell_type": "code",
   "execution_count": 21,
   "metadata": {
    "collapsed": false
   },
   "outputs": [
    {
     "name": "stdout",
     "output_type": "stream",
     "text": [
      "unzip ../../Data/Citibike/201501-citibike-tripdata.zip\n",
      "file in place, you can continue\n",
      "unzip ../../Data/Citibike/201502-citibike-tripdata.zip\n",
      "file in place, you can continue\n",
      "unzip ../../Data/Citibike/201503-citibike-tripdata.zip\n",
      "file in place, you can continue\n",
      "unzip ../../Data/Citibike/201504-citibike-tripdata.zip\n",
      "file in place, you can continue\n",
      "unzip ../../Data/Citibike/201505-citibike-tripdata.zip\n",
      "file in place, you can continue\n",
      "unzip ../../Data/Citibike/201506-citibike-tripdata.zip\n",
      "file in place, you can continue\n",
      "unzip ../../Data/Citibike/201507-citibike-tripdata.zip\n",
      "file in place, you can continue\n",
      "unzip ../../Data/Citibike/201508-citibike-tripdata.zip\n",
      "file in place, you can continue\n",
      "unzip ../../Data/Citibike/201509-citibike-tripdata.zip\n",
      "file in place, you can continue\n",
      "unzip ../../Data/Citibike/201510-citibike-tripdata.zip\n",
      "file in place, you can continue\n",
      "unzip ../../Data/Citibike/201511-citibike-tripdata.zip\n",
      "file in place, you can continue\n",
      "unzip ../../Data/Citibike/201512-citibike-tripdata.zip\n",
      "file in place, you can continue\n"
     ]
    }
   ],
   "source": [
    "getCitiBikeCSV('201501')\n",
    "getCitiBikeCSV('201502')\n",
    "getCitiBikeCSV('201503')\n",
    "getCitiBikeCSV('201504')\n",
    "getCitiBikeCSV('201505')\n",
    "getCitiBikeCSV('201506')\n",
    "getCitiBikeCSV('201507')\n",
    "getCitiBikeCSV('201508')\n",
    "getCitiBikeCSV('201509')\n",
    "getCitiBikeCSV('201510')\n",
    "getCitiBikeCSV('201511')\n",
    "getCitiBikeCSV('201512')"
   ]
  },
  {
   "cell_type": "code",
   "execution_count": 22,
   "metadata": {
    "collapsed": false
   },
   "outputs": [
    {
     "name": "stdout",
     "output_type": "stream",
     "text": [
      "unzip ../../Data/Citibike/201601-citibike-tripdata.zip\n",
      "file in place, you can continue\n",
      "unzip ../../Data/Citibike/201602-citibike-tripdata.zip\n",
      "file in place, you can continue\n",
      "unzip ../../Data/Citibike/201603-citibike-tripdata.zip\n",
      "file in place, you can continue\n",
      "unzip ../../Data/Citibike/201604-citibike-tripdata.zip\n",
      "file in place, you can continue\n",
      "unzip ../../Data/Citibike/201605-citibike-tripdata.zip\n",
      "file in place, you can continue\n",
      "unzip ../../Data/Citibike/201606-citibike-tripdata.zip\n",
      "file in place, you can continue\n",
      "unzip ../../Data/Citibike/201607-citibike-tripdata.zip\n",
      "file in place, you can continue\n",
      "unzip ../../Data/Citibike/201608-citibike-tripdata.zip\n",
      "file in place, you can continue\n",
      "unzip ../../Data/Citibike/201609-citibike-tripdata.zip\n",
      "file in place, you can continue\n",
      "unzip ../../Data/Citibike/201610-citibike-tripdata.zip\n",
      "file in place, you can continue\n",
      "unzip ../../Data/Citibike/201611-citibike-tripdata.zip\n",
      "file in place, you can continue\n",
      "unzip ../../Data/Citibike/201612-citibike-tripdata.zip\n",
      "file in place, you can continue\n"
     ]
    }
   ],
   "source": [
    "getCitiBikeCSV('201601')\n",
    "getCitiBikeCSV('201602')\n",
    "getCitiBikeCSV('201603')\n",
    "getCitiBikeCSV('201604')\n",
    "getCitiBikeCSV('201605')\n",
    "getCitiBikeCSV('201606')\n",
    "getCitiBikeCSV('201607')\n",
    "getCitiBikeCSV('201608')\n",
    "getCitiBikeCSV('201609')\n",
    "getCitiBikeCSV('201610')\n",
    "getCitiBikeCSV('201611')\n",
    "getCitiBikeCSV('201612')"
   ]
  },
  {
   "cell_type": "code",
   "execution_count": null,
   "metadata": {
    "collapsed": true
   },
   "outputs": [],
   "source": []
  },
  {
   "cell_type": "code",
   "execution_count": null,
   "metadata": {
    "collapsed": true
   },
   "outputs": [],
   "source": []
  },
  {
   "cell_type": "code",
   "execution_count": null,
   "metadata": {
    "collapsed": true
   },
   "outputs": [],
   "source": []
  },
  {
   "cell_type": "code",
   "execution_count": null,
   "metadata": {
    "collapsed": true
   },
   "outputs": [],
   "source": []
  },
  {
   "cell_type": "code",
   "execution_count": null,
   "metadata": {
    "collapsed": true
   },
   "outputs": [],
   "source": []
  },
  {
   "cell_type": "code",
   "execution_count": null,
   "metadata": {
    "collapsed": true
   },
   "outputs": [],
   "source": []
  },
  {
   "cell_type": "code",
   "execution_count": null,
   "metadata": {
    "collapsed": true
   },
   "outputs": [],
   "source": []
  },
  {
   "cell_type": "code",
   "execution_count": null,
   "metadata": {
    "collapsed": true
   },
   "outputs": [],
   "source": []
  },
  {
   "cell_type": "code",
   "execution_count": null,
   "metadata": {
    "collapsed": true
   },
   "outputs": [],
   "source": []
  },
  {
   "cell_type": "code",
   "execution_count": null,
   "metadata": {
    "collapsed": true
   },
   "outputs": [],
   "source": []
  },
  {
   "cell_type": "code",
   "execution_count": null,
   "metadata": {
    "collapsed": true
   },
   "outputs": [],
   "source": []
  },
  {
   "cell_type": "code",
   "execution_count": null,
   "metadata": {
    "collapsed": true
   },
   "outputs": [],
   "source": []
  },
  {
   "cell_type": "code",
   "execution_count": null,
   "metadata": {
    "collapsed": true
   },
   "outputs": [],
   "source": []
  },
  {
   "cell_type": "code",
   "execution_count": null,
   "metadata": {
    "collapsed": true
   },
   "outputs": [],
   "source": []
  },
  {
   "cell_type": "code",
   "execution_count": null,
   "metadata": {
    "collapsed": true
   },
   "outputs": [],
   "source": []
  },
  {
   "cell_type": "code",
   "execution_count": null,
   "metadata": {
    "collapsed": true
   },
   "outputs": [],
   "source": []
  },
  {
   "cell_type": "code",
   "execution_count": null,
   "metadata": {
    "collapsed": true
   },
   "outputs": [],
   "source": []
  },
  {
   "cell_type": "code",
   "execution_count": null,
   "metadata": {
    "collapsed": true
   },
   "outputs": [],
   "source": []
  },
  {
   "cell_type": "code",
   "execution_count": null,
   "metadata": {
    "collapsed": true
   },
   "outputs": [],
   "source": []
  },
  {
   "cell_type": "code",
   "execution_count": null,
   "metadata": {
    "collapsed": true
   },
   "outputs": [],
   "source": []
  },
  {
   "cell_type": "code",
   "execution_count": null,
   "metadata": {
    "collapsed": true
   },
   "outputs": [],
   "source": []
  },
  {
   "cell_type": "code",
   "execution_count": null,
   "metadata": {
    "collapsed": true
   },
   "outputs": [],
   "source": []
  },
  {
   "cell_type": "code",
   "execution_count": null,
   "metadata": {
    "collapsed": true
   },
   "outputs": [],
   "source": []
  },
  {
   "cell_type": "code",
   "execution_count": null,
   "metadata": {
    "collapsed": true
   },
   "outputs": [],
   "source": []
  },
  {
   "cell_type": "code",
   "execution_count": null,
   "metadata": {
    "collapsed": true
   },
   "outputs": [],
   "source": []
  },
  {
   "cell_type": "code",
   "execution_count": null,
   "metadata": {
    "collapsed": true
   },
   "outputs": [],
   "source": []
  },
  {
   "cell_type": "code",
   "execution_count": null,
   "metadata": {
    "collapsed": true
   },
   "outputs": [],
   "source": []
  },
  {
   "cell_type": "code",
   "execution_count": null,
   "metadata": {
    "collapsed": true
   },
   "outputs": [],
   "source": []
  }
 ],
 "metadata": {
  "kernelspec": {
   "display_name": "PUI2016_Python2",
   "language": "python",
   "name": "pui2016_python2"
  },
  "language_info": {
   "codemirror_mode": {
    "name": "ipython",
    "version": 2
   },
   "file_extension": ".py",
   "mimetype": "text/x-python",
   "name": "python",
   "nbconvert_exporter": "python",
   "pygments_lexer": "ipython2",
   "version": "2.7.12"
  }
 },
 "nbformat": 4,
 "nbformat_minor": 0
}
