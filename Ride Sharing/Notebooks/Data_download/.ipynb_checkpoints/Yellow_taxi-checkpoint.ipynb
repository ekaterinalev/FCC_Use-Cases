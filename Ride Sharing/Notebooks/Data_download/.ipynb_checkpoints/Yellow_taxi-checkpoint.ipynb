{
 "cells": [
  {
   "cell_type": "code",
   "execution_count": 3,
   "metadata": {
    "collapsed": false
   },
   "outputs": [],
   "source": [
    "import os\n",
    "\n",
    "def yellow_taxi(years, months):\n",
    "    '''The function downloads a CSV file into the Data/Yellow directory from the tlc website\n",
    "    Arguments:\n",
    "    year = list of years passed as string. Eg['2014', '2015']\n",
    "    months = list of months passed as string. Eg.['01', '02', '03', '12']\n",
    "    '''\n",
    "    \n",
    "    year = years\n",
    "    months = months\n",
    "    \n",
    "    if not (os.path.isdir(\"../../Data/\")):\n",
    "        print \"Creating Folder Data\"\n",
    "        os.system(\"mkdir ../../Data\")\n",
    "    elif not (os.path.isdir(\"../../Data/Yellow/\")):\n",
    "        print \"Creating Folder Data/Yellow\"\n",
    "        os.system(\"mkdir ../../Data/Yellow\")\n",
    "    \n",
    "    for year in years:\n",
    "        for month in months:\n",
    "            \n",
    "            ### First I will check that it is not already there\n",
    "            if os.path.isfile(\"../../Data/Yellow/yellow_tripdata_\" + year + \"-\" + month + \".csv\"):\n",
    "                print \"File yellow_tripdata_\" + year + \"-\" + month + \".csv\" + \" already present in Data/Yellow/\"\n",
    "            else:        \n",
    "                print \"Downloading yellow_tripdata_\" + year + \"-\" + month + \".csv\"\n",
    "                os.system(\"wget https://s3.amazonaws.com/nyc-tlc/trip+data/yellow_tripdata_\" + year + \"-\" + month + \".csv\")\n",
    "                print \"Moving yellow_tripdata_\" + year + \"-\" + month + \".csv to Data/Yellow/\"\n",
    "                os.system(\"mv yellow_tripdata_\" + year + \"-\" + month + \".csv ../../Data/Yellow/\" )\n",
    "    \n",
    "            ### One final check:\n",
    "            if not os.path.isfile(\"../../Data/Yellow/yellow_tripdata_\" + year + \"-\" + month + \".csv\"):\n",
    "                print (\"WARNING!!! something is wrong: the file is not there!\")\n",
    "            else:\n",
    "                print (\"File in place\")"
   ]
  },
  {
   "cell_type": "code",
   "execution_count": 4,
   "metadata": {
    "collapsed": false
   },
   "outputs": [
    {
     "name": "stdout",
     "output_type": "stream",
     "text": [
      "File yellow_tripdata_2014-01.csv already present in Data/Yellow/\n",
      "File in place\n",
      "File yellow_tripdata_2014-02.csv already present in Data/Yellow/\n",
      "File in place\n",
      "File yellow_tripdata_2014-03.csv already present in Data/Yellow/\n",
      "File in place\n",
      "File yellow_tripdata_2014-04.csv already present in Data/Yellow/\n",
      "File in place\n",
      "File yellow_tripdata_2014-05.csv already present in Data/Yellow/\n",
      "File in place\n",
      "File yellow_tripdata_2014-06.csv already present in Data/Yellow/\n",
      "File in place\n",
      "File yellow_tripdata_2014-07.csv already present in Data/Yellow/\n",
      "File in place\n",
      "File yellow_tripdata_2014-08.csv already present in Data/Yellow/\n",
      "File in place\n",
      "File yellow_tripdata_2014-09.csv already present in Data/Yellow/\n",
      "File in place\n",
      "File yellow_tripdata_2014-10.csv already present in Data/Yellow/\n",
      "File in place\n",
      "File yellow_tripdata_2014-11.csv already present in Data/Yellow/\n",
      "File in place\n",
      "File yellow_tripdata_2014-12.csv already present in Data/Yellow/\n",
      "File in place\n",
      "File yellow_tripdata_2015-01.csv already present in Data/Yellow/\n",
      "File in place\n",
      "File yellow_tripdata_2015-02.csv already present in Data/Yellow/\n",
      "File in place\n",
      "File yellow_tripdata_2015-03.csv already present in Data/Yellow/\n",
      "File in place\n",
      "File yellow_tripdata_2015-04.csv already present in Data/Yellow/\n",
      "File in place\n",
      "File yellow_tripdata_2015-05.csv already present in Data/Yellow/\n",
      "File in place\n",
      "File yellow_tripdata_2015-06.csv already present in Data/Yellow/\n",
      "File in place\n",
      "File yellow_tripdata_2015-07.csv already present in Data/Yellow/\n",
      "File in place\n",
      "File yellow_tripdata_2015-08.csv already present in Data/Yellow/\n",
      "File in place\n",
      "File yellow_tripdata_2015-09.csv already present in Data/Yellow/\n",
      "File in place\n",
      "File yellow_tripdata_2015-10.csv already present in Data/Yellow/\n",
      "File in place\n",
      "File yellow_tripdata_2015-11.csv already present in Data/Yellow/\n",
      "File in place\n",
      "File yellow_tripdata_2015-12.csv already present in Data/Yellow/\n",
      "File in place\n"
     ]
    }
   ],
   "source": [
    "yellow_taxi(['2014', '2015'], ['01','02','03','04','05','06','07','08','09','10','11','12'])"
   ]
  },
  {
   "cell_type": "code",
   "execution_count": null,
   "metadata": {
    "collapsed": true
   },
   "outputs": [],
   "source": []
  }
 ],
 "metadata": {
  "kernelspec": {
   "display_name": "PUI2016_Python2",
   "language": "python",
   "name": "pui2016_python2"
  },
  "language_info": {
   "codemirror_mode": {
    "name": "ipython",
    "version": 2
   },
   "file_extension": ".py",
   "mimetype": "text/x-python",
   "name": "python",
   "nbconvert_exporter": "python",
   "pygments_lexer": "ipython2",
   "version": "2.7.12"
  }
 },
 "nbformat": 4,
 "nbformat_minor": 0
}
