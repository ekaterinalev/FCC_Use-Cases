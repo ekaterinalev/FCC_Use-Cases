{
 "cells": [
  {
   "cell_type": "code",
   "execution_count": 1,
   "metadata": {
    "collapsed": false
   },
   "outputs": [
    {
     "name": "stderr",
     "output_type": "stream",
     "text": [
      "/opt/rh/anaconda/root/envs/PUI2016_Python2/lib/python2.7/site-packages/matplotlib/font_manager.py:273: UserWarning: Matplotlib is building the font cache using fc-list. This may take a moment.\n",
      "  warnings.warn('Matplotlib is building the font cache using fc-list. This may take a moment.')\n"
     ]
    }
   ],
   "source": [
    "import pandas as pd\n",
    "import os\n",
    "import json\n",
    "from shapely.geometry import Point\n",
    "import geopandas as gp\n",
    "import numpy as np\n",
    "import urllib\n",
    "import matplotlib.pyplot as plt\n",
    "%matplotlib inline"
   ]
  },
  {
   "cell_type": "code",
   "execution_count": 2,
   "metadata": {
    "collapsed": true
   },
   "outputs": [],
   "source": [
    "url = \"https://feeds.citibikenyc.com/stations/stations.json\"\n",
    "response = urllib.urlopen(url)\n",
    "stations = json.loads(response.read())\n",
    "    \n",
    "# https://feeds.citibikenyc.com/stations/stations.json"
   ]
  },
  {
   "cell_type": "code",
   "execution_count": 3,
   "metadata": {
    "collapsed": true
   },
   "outputs": [],
   "source": [
    "st = map(lambda x: (x['id'],x['latitude'], x['longitude'], x['stAddress1']),stations['stationBeanList'])"
   ]
  },
  {
   "cell_type": "code",
   "execution_count": 4,
   "metadata": {
    "collapsed": true
   },
   "outputs": [],
   "source": [
    "cb_stations = pd.DataFrame(st, columns=['id', 'latitude', 'longitude', 'station_address'])"
   ]
  },
  {
   "cell_type": "code",
   "execution_count": 5,
   "metadata": {
    "collapsed": false
   },
   "outputs": [],
   "source": [
    "cb_stations.to_csv('../data/citibike_stations.csv')"
   ]
  },
  {
   "cell_type": "code",
   "execution_count": 6,
   "metadata": {
    "collapsed": true
   },
   "outputs": [],
   "source": [
    "cb = pd.read_csv(\"../data/jersey_city/JC-201609-citibike-tripdata.csv\")"
   ]
  },
  {
   "cell_type": "code",
   "execution_count": 7,
   "metadata": {
    "collapsed": false
   },
   "outputs": [
    {
     "data": {
      "text/plain": [
       "Index([u'Trip Duration', u'Start Time', u'Stop Time', u'Start Station ID',\n",
       "       u'Start Station Name', u'Start Station Latitude',\n",
       "       u'Start Station Longitude', u'End Station ID', u'End Station Name',\n",
       "       u'End Station Latitude', u'End Station Longitude', u'Bike ID',\n",
       "       u'User Type', u'Birth Year', u'Gender'],\n",
       "      dtype='object')"
      ]
     },
     "execution_count": 7,
     "metadata": {},
     "output_type": "execute_result"
    }
   ],
   "source": [
    "cb.columns"
   ]
  },
  {
   "cell_type": "code",
   "execution_count": 8,
   "metadata": {
    "collapsed": true
   },
   "outputs": [],
   "source": [
    "cb_jc = gp.read_file(\"../data/jersey_city/jc_stations/jc_cb_stations.shp\")"
   ]
  },
  {
   "cell_type": "code",
   "execution_count": 9,
   "metadata": {
    "collapsed": false
   },
   "outputs": [
    {
     "data": {
      "text/html": [
       "<div>\n",
       "<table border=\"1\" class=\"dataframe\">\n",
       "  <thead>\n",
       "    <tr style=\"text-align: right;\">\n",
       "      <th></th>\n",
       "      <th>geometry</th>\n",
       "      <th>id</th>\n",
       "      <th>latitude</th>\n",
       "      <th>longitude</th>\n",
       "      <th>station_ad</th>\n",
       "    </tr>\n",
       "  </thead>\n",
       "  <tbody>\n",
       "    <tr>\n",
       "      <th>0</th>\n",
       "      <td>POINT (-74.03345880000001 40.7162469)</td>\n",
       "      <td>3183</td>\n",
       "      <td>40.716247</td>\n",
       "      <td>-74.033459</td>\n",
       "      <td>Exchange Place</td>\n",
       "    </tr>\n",
       "    <tr>\n",
       "      <th>1</th>\n",
       "      <td>POINT (-74.03355190000001 40.7141454)</td>\n",
       "      <td>3184</td>\n",
       "      <td>40.714145</td>\n",
       "      <td>-74.033552</td>\n",
       "      <td>Paulus Hook</td>\n",
       "    </tr>\n",
       "    <tr>\n",
       "      <th>2</th>\n",
       "      <td>POINT (-74.043845 40.7177325)</td>\n",
       "      <td>3185</td>\n",
       "      <td>40.717732</td>\n",
       "      <td>-74.043845</td>\n",
       "      <td>City Hall</td>\n",
       "    </tr>\n",
       "    <tr>\n",
       "      <th>3</th>\n",
       "      <td>POINT (-74.0431174636 40.7195861165)</td>\n",
       "      <td>3186</td>\n",
       "      <td>40.719586</td>\n",
       "      <td>-74.043117</td>\n",
       "      <td>Grove St PATH</td>\n",
       "    </tr>\n",
       "    <tr>\n",
       "      <th>4</th>\n",
       "      <td>POINT (-74.03805095 40.7211236)</td>\n",
       "      <td>3187</td>\n",
       "      <td>40.721124</td>\n",
       "      <td>-74.038051</td>\n",
       "      <td>Warren St</td>\n",
       "    </tr>\n",
       "  </tbody>\n",
       "</table>\n",
       "</div>"
      ],
      "text/plain": [
       "                                geometry    id   latitude  longitude  \\\n",
       "0  POINT (-74.03345880000001 40.7162469)  3183  40.716247 -74.033459   \n",
       "1  POINT (-74.03355190000001 40.7141454)  3184  40.714145 -74.033552   \n",
       "2          POINT (-74.043845 40.7177325)  3185  40.717732 -74.043845   \n",
       "3   POINT (-74.0431174636 40.7195861165)  3186  40.719586 -74.043117   \n",
       "4        POINT (-74.03805095 40.7211236)  3187  40.721124 -74.038051   \n",
       "\n",
       "       station_ad  \n",
       "0  Exchange Place  \n",
       "1     Paulus Hook  \n",
       "2       City Hall  \n",
       "3   Grove St PATH  \n",
       "4       Warren St  "
      ]
     },
     "execution_count": 9,
     "metadata": {},
     "output_type": "execute_result"
    }
   ],
   "source": [
    "cb_jc.head()"
   ]
  },
  {
   "cell_type": "code",
   "execution_count": 10,
   "metadata": {
    "collapsed": true
   },
   "outputs": [],
   "source": [
    "cb_jc_blocks = gp.read_file(\"../data/jersey_city/jc_census_blocks/jc_census_blocks.shp\")"
   ]
  },
  {
   "cell_type": "code",
   "execution_count": 11,
   "metadata": {
    "collapsed": false
   },
   "outputs": [
    {
     "data": {
      "text/html": [
       "<div>\n",
       "<table border=\"1\" class=\"dataframe\">\n",
       "  <thead>\n",
       "    <tr style=\"text-align: right;\">\n",
       "      <th></th>\n",
       "      <th>ALAND10</th>\n",
       "      <th>AWATER10</th>\n",
       "      <th>BLOCKCE10</th>\n",
       "      <th>COUNTYFP10</th>\n",
       "      <th>FUNCSTAT10</th>\n",
       "      <th>GEOID10</th>\n",
       "      <th>HH100_RD</th>\n",
       "      <th>INTPTLAT10</th>\n",
       "      <th>INTPTLON10</th>\n",
       "      <th>MTFCC10</th>\n",
       "      <th>NAME10</th>\n",
       "      <th>POP100_RD</th>\n",
       "      <th>SHAPE_AREA</th>\n",
       "      <th>SHAPE_LEN</th>\n",
       "      <th>STATEFP10</th>\n",
       "      <th>TRACTCE10</th>\n",
       "      <th>UACE10</th>\n",
       "      <th>UR10</th>\n",
       "      <th>geometry</th>\n",
       "    </tr>\n",
       "  </thead>\n",
       "  <tbody>\n",
       "    <tr>\n",
       "      <th>0</th>\n",
       "      <td>121029.0</td>\n",
       "      <td>0.0</td>\n",
       "      <td>4004</td>\n",
       "      <td>017</td>\n",
       "      <td>S</td>\n",
       "      <td>340170061004004</td>\n",
       "      <td>287</td>\n",
       "      <td>+40.6960651</td>\n",
       "      <td>-074.1012406</td>\n",
       "      <td>G5040</td>\n",
       "      <td>Block 4004</td>\n",
       "      <td>813</td>\n",
       "      <td>1.302517e+06</td>\n",
       "      <td>6098.972938</td>\n",
       "      <td>34</td>\n",
       "      <td>006100</td>\n",
       "      <td>None</td>\n",
       "      <td>None</td>\n",
       "      <td>POLYGON ((603128.8201636747 678343.7580376044,...</td>\n",
       "    </tr>\n",
       "    <tr>\n",
       "      <th>1</th>\n",
       "      <td>28649.0</td>\n",
       "      <td>0.0</td>\n",
       "      <td>1008</td>\n",
       "      <td>017</td>\n",
       "      <td>S</td>\n",
       "      <td>340170001001008</td>\n",
       "      <td>65</td>\n",
       "      <td>+40.7547592</td>\n",
       "      <td>-074.0553121</td>\n",
       "      <td>G5040</td>\n",
       "      <td>Block 1008</td>\n",
       "      <td>195</td>\n",
       "      <td>3.083178e+05</td>\n",
       "      <td>2703.468388</td>\n",
       "      <td>34</td>\n",
       "      <td>000100</td>\n",
       "      <td>None</td>\n",
       "      <td>None</td>\n",
       "      <td>POLYGON ((615682.0929573439 700587.5409777761,...</td>\n",
       "    </tr>\n",
       "  </tbody>\n",
       "</table>\n",
       "</div>"
      ],
      "text/plain": [
       "    ALAND10  AWATER10 BLOCKCE10 COUNTYFP10 FUNCSTAT10          GEOID10  \\\n",
       "0  121029.0       0.0      4004        017          S  340170061004004   \n",
       "1   28649.0       0.0      1008        017          S  340170001001008   \n",
       "\n",
       "   HH100_RD   INTPTLAT10    INTPTLON10 MTFCC10      NAME10  POP100_RD  \\\n",
       "0       287  +40.6960651  -074.1012406   G5040  Block 4004        813   \n",
       "1        65  +40.7547592  -074.0553121   G5040  Block 1008        195   \n",
       "\n",
       "     SHAPE_AREA    SHAPE_LEN STATEFP10 TRACTCE10 UACE10  UR10  \\\n",
       "0  1.302517e+06  6098.972938        34    006100   None  None   \n",
       "1  3.083178e+05  2703.468388        34    000100   None  None   \n",
       "\n",
       "                                            geometry  \n",
       "0  POLYGON ((603128.8201636747 678343.7580376044,...  \n",
       "1  POLYGON ((615682.0929573439 700587.5409777761,...  "
      ]
     },
     "execution_count": 11,
     "metadata": {},
     "output_type": "execute_result"
    }
   ],
   "source": [
    "cb_jc_blocks.head(2)"
   ]
  },
  {
   "cell_type": "code",
   "execution_count": 61,
   "metadata": {
    "collapsed": true
   },
   "outputs": [],
   "source": [
    "jc_blocks = cb_jc_blocks.loc[:,['BLOCKCE10', 'geometry']]"
   ]
  },
  {
   "cell_type": "code",
   "execution_count": 14,
   "metadata": {
    "collapsed": false,
    "scrolled": false
   },
   "outputs": [],
   "source": [
    "cb_picks = cb.loc[:,['Start Time', 'Start Station ID']]\n",
    "cb_drops = cb.loc[:,['Stop Time', 'End Station ID']]"
   ]
  },
  {
   "cell_type": "code",
   "execution_count": 15,
   "metadata": {
    "collapsed": false
   },
   "outputs": [],
   "source": [
    "cb_picks['Start Time'] = pd.to_datetime(cb_picks['Start Time'])\n",
    "cb_drops['Stop Time'] = pd.to_datetime(cb_drops['Stop Time'])"
   ]
  },
  {
   "cell_type": "code",
   "execution_count": 21,
   "metadata": {
    "collapsed": false
   },
   "outputs": [],
   "source": [
    "cb_grp_picks = cb_picks.set_index(['Start Time']).groupby([pd.TimeGrouper('D'), \n",
    "                                                               'Start Station ID']).agg({'Start Station ID':'count'})"
   ]
  },
  {
   "cell_type": "code",
   "execution_count": 25,
   "metadata": {
    "collapsed": false,
    "scrolled": true
   },
   "outputs": [],
   "source": [
    "cb_grp_drops = cb_drops.set_index(['Stop Time']).groupby([pd.TimeGrouper('D'), \n",
    "                                                               'End Station ID']).agg({'End Station ID':'count'})"
   ]
  },
  {
   "cell_type": "code",
   "execution_count": 30,
   "metadata": {
    "collapsed": false
   },
   "outputs": [],
   "source": [
    "cb_grp_picks.columns = ['pickups']\n",
    "cb_grp_picks.reset_index(['Start Time', 'Start Station ID'], inplace=True)\n",
    "cb_grp_picks.columns = ['Date', 'StationID', 'pickups']\n",
    "\n",
    "cb_grp_drops.columns = ['drops']\n",
    "cb_grp_drops.reset_index(['Stop Time', 'End Station ID'], inplace=True)\n",
    "cb_grp_drops.columns = ['Date', 'StationID', 'drops']"
   ]
  },
  {
   "cell_type": "code",
   "execution_count": 35,
   "metadata": {
    "collapsed": true
   },
   "outputs": [],
   "source": [
    "citibike_all = pd.merge(cb_grp_picks, cb_grp_drops, on=['StationID', 'Date'], how='outer')"
   ]
  },
  {
   "cell_type": "code",
   "execution_count": 41,
   "metadata": {
    "collapsed": false
   },
   "outputs": [
    {
     "data": {
      "text/html": [
       "<div>\n",
       "<table border=\"1\" class=\"dataframe\">\n",
       "  <thead>\n",
       "    <tr style=\"text-align: right;\">\n",
       "      <th></th>\n",
       "      <th>Date</th>\n",
       "      <th>StationID</th>\n",
       "      <th>pickups</th>\n",
       "      <th>drops</th>\n",
       "    </tr>\n",
       "  </thead>\n",
       "  <tbody>\n",
       "    <tr>\n",
       "      <th>0</th>\n",
       "      <td>2016-09-01</td>\n",
       "      <td>3183.0</td>\n",
       "      <td>96.0</td>\n",
       "      <td>69.0</td>\n",
       "    </tr>\n",
       "    <tr>\n",
       "      <th>1</th>\n",
       "      <td>2016-09-01</td>\n",
       "      <td>3184.0</td>\n",
       "      <td>28.0</td>\n",
       "      <td>28.0</td>\n",
       "    </tr>\n",
       "    <tr>\n",
       "      <th>2</th>\n",
       "      <td>2016-09-01</td>\n",
       "      <td>3185.0</td>\n",
       "      <td>19.0</td>\n",
       "      <td>21.0</td>\n",
       "    </tr>\n",
       "    <tr>\n",
       "      <th>3</th>\n",
       "      <td>2016-09-01</td>\n",
       "      <td>3186.0</td>\n",
       "      <td>142.0</td>\n",
       "      <td>126.0</td>\n",
       "    </tr>\n",
       "    <tr>\n",
       "      <th>4</th>\n",
       "      <td>2016-09-01</td>\n",
       "      <td>3187.0</td>\n",
       "      <td>30.0</td>\n",
       "      <td>25.0</td>\n",
       "    </tr>\n",
       "  </tbody>\n",
       "</table>\n",
       "</div>"
      ],
      "text/plain": [
       "        Date  StationID  pickups  drops\n",
       "0 2016-09-01     3183.0     96.0   69.0\n",
       "1 2016-09-01     3184.0     28.0   28.0\n",
       "2 2016-09-01     3185.0     19.0   21.0\n",
       "3 2016-09-01     3186.0    142.0  126.0\n",
       "4 2016-09-01     3187.0     30.0   25.0"
      ]
     },
     "execution_count": 41,
     "metadata": {},
     "output_type": "execute_result"
    }
   ],
   "source": [
    "citibike_all.head()"
   ]
  },
  {
   "cell_type": "code",
   "execution_count": 46,
   "metadata": {
    "collapsed": false
   },
   "outputs": [
    {
     "data": {
      "text/html": [
       "<div>\n",
       "<table border=\"1\" class=\"dataframe\">\n",
       "  <thead>\n",
       "    <tr style=\"text-align: right;\">\n",
       "      <th></th>\n",
       "      <th>geometry</th>\n",
       "      <th>id</th>\n",
       "      <th>latitude</th>\n",
       "      <th>longitude</th>\n",
       "      <th>station_ad</th>\n",
       "    </tr>\n",
       "  </thead>\n",
       "  <tbody>\n",
       "    <tr>\n",
       "      <th>0</th>\n",
       "      <td>POINT (-74.03345880000001 40.7162469)</td>\n",
       "      <td>3183</td>\n",
       "      <td>40.716247</td>\n",
       "      <td>-74.033459</td>\n",
       "      <td>Exchange Place</td>\n",
       "    </tr>\n",
       "    <tr>\n",
       "      <th>1</th>\n",
       "      <td>POINT (-74.03355190000001 40.7141454)</td>\n",
       "      <td>3184</td>\n",
       "      <td>40.714145</td>\n",
       "      <td>-74.033552</td>\n",
       "      <td>Paulus Hook</td>\n",
       "    </tr>\n",
       "    <tr>\n",
       "      <th>2</th>\n",
       "      <td>POINT (-74.043845 40.7177325)</td>\n",
       "      <td>3185</td>\n",
       "      <td>40.717732</td>\n",
       "      <td>-74.043845</td>\n",
       "      <td>City Hall</td>\n",
       "    </tr>\n",
       "    <tr>\n",
       "      <th>3</th>\n",
       "      <td>POINT (-74.0431174636 40.7195861165)</td>\n",
       "      <td>3186</td>\n",
       "      <td>40.719586</td>\n",
       "      <td>-74.043117</td>\n",
       "      <td>Grove St PATH</td>\n",
       "    </tr>\n",
       "    <tr>\n",
       "      <th>4</th>\n",
       "      <td>POINT (-74.03805095 40.7211236)</td>\n",
       "      <td>3187</td>\n",
       "      <td>40.721124</td>\n",
       "      <td>-74.038051</td>\n",
       "      <td>Warren St</td>\n",
       "    </tr>\n",
       "  </tbody>\n",
       "</table>\n",
       "</div>"
      ],
      "text/plain": [
       "                                geometry    id   latitude  longitude  \\\n",
       "0  POINT (-74.03345880000001 40.7162469)  3183  40.716247 -74.033459   \n",
       "1  POINT (-74.03355190000001 40.7141454)  3184  40.714145 -74.033552   \n",
       "2          POINT (-74.043845 40.7177325)  3185  40.717732 -74.043845   \n",
       "3   POINT (-74.0431174636 40.7195861165)  3186  40.719586 -74.043117   \n",
       "4        POINT (-74.03805095 40.7211236)  3187  40.721124 -74.038051   \n",
       "\n",
       "       station_ad  \n",
       "0  Exchange Place  \n",
       "1     Paulus Hook  \n",
       "2       City Hall  \n",
       "3   Grove St PATH  \n",
       "4       Warren St  "
      ]
     },
     "execution_count": 46,
     "metadata": {},
     "output_type": "execute_result"
    }
   ],
   "source": [
    "cb_jc.head()"
   ]
  },
  {
   "cell_type": "code",
   "execution_count": 63,
   "metadata": {
    "collapsed": false
   },
   "outputs": [
    {
     "data": {
      "text/html": [
       "<div>\n",
       "<table border=\"1\" class=\"dataframe\">\n",
       "  <thead>\n",
       "    <tr style=\"text-align: right;\">\n",
       "      <th></th>\n",
       "      <th>BLOCKCE10</th>\n",
       "      <th>geometry</th>\n",
       "    </tr>\n",
       "  </thead>\n",
       "  <tbody>\n",
       "    <tr>\n",
       "      <th>0</th>\n",
       "      <td>4004</td>\n",
       "      <td>POLYGON ((603128.8201636747 678343.7580376044,...</td>\n",
       "    </tr>\n",
       "    <tr>\n",
       "      <th>1</th>\n",
       "      <td>1008</td>\n",
       "      <td>POLYGON ((615682.0929573439 700587.5409777761,...</td>\n",
       "    </tr>\n",
       "    <tr>\n",
       "      <th>2</th>\n",
       "      <td>2001</td>\n",
       "      <td>POLYGON ((616410.1010157578 700213.4636419415,...</td>\n",
       "    </tr>\n",
       "    <tr>\n",
       "      <th>3</th>\n",
       "      <td>4001</td>\n",
       "      <td>POLYGON ((621789.2306774259 690035.8127374426,...</td>\n",
       "    </tr>\n",
       "    <tr>\n",
       "      <th>4</th>\n",
       "      <td>3013</td>\n",
       "      <td>POLYGON ((605238.8641719259 686058.4824375212,...</td>\n",
       "    </tr>\n",
       "  </tbody>\n",
       "</table>\n",
       "</div>"
      ],
      "text/plain": [
       "  BLOCKCE10                                           geometry\n",
       "0      4004  POLYGON ((603128.8201636747 678343.7580376044,...\n",
       "1      1008  POLYGON ((615682.0929573439 700587.5409777761,...\n",
       "2      2001  POLYGON ((616410.1010157578 700213.4636419415,...\n",
       "3      4001  POLYGON ((621789.2306774259 690035.8127374426,...\n",
       "4      3013  POLYGON ((605238.8641719259 686058.4824375212,..."
      ]
     },
     "execution_count": 63,
     "metadata": {},
     "output_type": "execute_result"
    }
   ],
   "source": [
    "jc_blocks.head()"
   ]
  },
  {
   "cell_type": "code",
   "execution_count": 66,
   "metadata": {
    "collapsed": false
   },
   "outputs": [],
   "source": [
    "jc_blocks = jc_blocks.to_crs(epsg=4326)"
   ]
  },
  {
   "cell_type": "code",
   "execution_count": 67,
   "metadata": {
    "collapsed": false
   },
   "outputs": [
    {
     "data": {
      "text/plain": [
       "{'init': 'epsg:4326', 'no_defs': True}"
      ]
     },
     "execution_count": 67,
     "metadata": {},
     "output_type": "execute_result"
    }
   ],
   "source": [
    "jc_blocks.crs"
   ]
  },
  {
   "cell_type": "code",
   "execution_count": 69,
   "metadata": {
    "collapsed": false
   },
   "outputs": [],
   "source": [
    "cb_jc = cb_jc.to_crs(epsg=4326)"
   ]
  },
  {
   "cell_type": "code",
   "execution_count": 70,
   "metadata": {
    "collapsed": false
   },
   "outputs": [
    {
     "data": {
      "text/plain": [
       "{'init': 'epsg:4326', 'no_defs': True}"
      ]
     },
     "execution_count": 70,
     "metadata": {},
     "output_type": "execute_result"
    }
   ],
   "source": [
    "cb_jc.crs"
   ]
  },
  {
   "cell_type": "code",
   "execution_count": 77,
   "metadata": {
    "collapsed": false
   },
   "outputs": [],
   "source": [
    "citibike_geo = gp.sjoin(cb_jc, jc_blocks)"
   ]
  },
  {
   "cell_type": "code",
   "execution_count": 78,
   "metadata": {
    "collapsed": false
   },
   "outputs": [
    {
     "data": {
      "text/html": [
       "<div>\n",
       "<table border=\"1\" class=\"dataframe\">\n",
       "  <thead>\n",
       "    <tr style=\"text-align: right;\">\n",
       "      <th></th>\n",
       "      <th>geometry</th>\n",
       "      <th>id</th>\n",
       "      <th>latitude</th>\n",
       "      <th>longitude</th>\n",
       "      <th>station_ad</th>\n",
       "      <th>index_right</th>\n",
       "      <th>BLOCKCE10</th>\n",
       "    </tr>\n",
       "  </thead>\n",
       "  <tbody>\n",
       "    <tr>\n",
       "      <th>0</th>\n",
       "      <td>POINT (-74.03345880000001 40.7162469)</td>\n",
       "      <td>3183</td>\n",
       "      <td>40.716247</td>\n",
       "      <td>-74.033459</td>\n",
       "      <td>Exchange Place</td>\n",
       "      <td>1325</td>\n",
       "      <td>1004</td>\n",
       "    </tr>\n",
       "    <tr>\n",
       "      <th>1</th>\n",
       "      <td>POINT (-74.03355190000001 40.7141454)</td>\n",
       "      <td>3184</td>\n",
       "      <td>40.714145</td>\n",
       "      <td>-74.033552</td>\n",
       "      <td>Paulus Hook</td>\n",
       "      <td>1750</td>\n",
       "      <td>1007</td>\n",
       "    </tr>\n",
       "    <tr>\n",
       "      <th>29</th>\n",
       "      <td>POINT (-74.0364857 40.7127742)</td>\n",
       "      <td>3214</td>\n",
       "      <td>40.712774</td>\n",
       "      <td>-74.036486</td>\n",
       "      <td>Essex Light Rail</td>\n",
       "      <td>1750</td>\n",
       "      <td>1007</td>\n",
       "    </tr>\n",
       "    <tr>\n",
       "      <th>35</th>\n",
       "      <td>POINT (-74.0385255218 40.7124188238)</td>\n",
       "      <td>3267</td>\n",
       "      <td>40.712419</td>\n",
       "      <td>-74.038526</td>\n",
       "      <td>Morris Canal</td>\n",
       "      <td>1750</td>\n",
       "      <td>1007</td>\n",
       "    </tr>\n",
       "    <tr>\n",
       "      <th>2</th>\n",
       "      <td>POINT (-74.043845 40.7177325)</td>\n",
       "      <td>3185</td>\n",
       "      <td>40.717732</td>\n",
       "      <td>-74.043845</td>\n",
       "      <td>City Hall</td>\n",
       "      <td>174</td>\n",
       "      <td>2003</td>\n",
       "    </tr>\n",
       "  </tbody>\n",
       "</table>\n",
       "</div>"
      ],
      "text/plain": [
       "                                 geometry    id   latitude  longitude  \\\n",
       "0   POINT (-74.03345880000001 40.7162469)  3183  40.716247 -74.033459   \n",
       "1   POINT (-74.03355190000001 40.7141454)  3184  40.714145 -74.033552   \n",
       "29         POINT (-74.0364857 40.7127742)  3214  40.712774 -74.036486   \n",
       "35   POINT (-74.0385255218 40.7124188238)  3267  40.712419 -74.038526   \n",
       "2           POINT (-74.043845 40.7177325)  3185  40.717732 -74.043845   \n",
       "\n",
       "          station_ad  index_right BLOCKCE10  \n",
       "0     Exchange Place         1325      1004  \n",
       "1        Paulus Hook         1750      1007  \n",
       "29  Essex Light Rail         1750      1007  \n",
       "35      Morris Canal         1750      1007  \n",
       "2          City Hall          174      2003  "
      ]
     },
     "execution_count": 78,
     "metadata": {},
     "output_type": "execute_result"
    }
   ],
   "source": [
    "citibike_geo.head()"
   ]
  },
  {
   "cell_type": "code",
   "execution_count": 79,
   "metadata": {
    "collapsed": false
   },
   "outputs": [],
   "source": [
    "citibike_geo = citibike_geo.loc[:,['id', 'BLOCKCE10']]"
   ]
  },
  {
   "cell_type": "code",
   "execution_count": 80,
   "metadata": {
    "collapsed": false
   },
   "outputs": [
    {
     "data": {
      "text/html": [
       "<div>\n",
       "<table border=\"1\" class=\"dataframe\">\n",
       "  <thead>\n",
       "    <tr style=\"text-align: right;\">\n",
       "      <th></th>\n",
       "      <th>id</th>\n",
       "      <th>BLOCKCE10</th>\n",
       "    </tr>\n",
       "  </thead>\n",
       "  <tbody>\n",
       "    <tr>\n",
       "      <th>0</th>\n",
       "      <td>3183</td>\n",
       "      <td>1004</td>\n",
       "    </tr>\n",
       "    <tr>\n",
       "      <th>1</th>\n",
       "      <td>3184</td>\n",
       "      <td>1007</td>\n",
       "    </tr>\n",
       "    <tr>\n",
       "      <th>29</th>\n",
       "      <td>3214</td>\n",
       "      <td>1007</td>\n",
       "    </tr>\n",
       "    <tr>\n",
       "      <th>35</th>\n",
       "      <td>3267</td>\n",
       "      <td>1007</td>\n",
       "    </tr>\n",
       "    <tr>\n",
       "      <th>2</th>\n",
       "      <td>3185</td>\n",
       "      <td>2003</td>\n",
       "    </tr>\n",
       "  </tbody>\n",
       "</table>\n",
       "</div>"
      ],
      "text/plain": [
       "      id BLOCKCE10\n",
       "0   3183      1004\n",
       "1   3184      1007\n",
       "29  3214      1007\n",
       "35  3267      1007\n",
       "2   3185      2003"
      ]
     },
     "execution_count": 80,
     "metadata": {},
     "output_type": "execute_result"
    }
   ],
   "source": [
    "citibike_geo.head()"
   ]
  },
  {
   "cell_type": "code",
   "execution_count": 81,
   "metadata": {
    "collapsed": true
   },
   "outputs": [],
   "source": [
    "cb_jc_citibike = pd.merge(citibike_all, citibike_geo, left_on='StationID', right_on='id', how='left')"
   ]
  },
  {
   "cell_type": "code",
   "execution_count": 83,
   "metadata": {
    "collapsed": true
   },
   "outputs": [],
   "source": [
    "cb_jc_citibike.drop('id',axis=1, inplace=True)"
   ]
  },
  {
   "cell_type": "code",
   "execution_count": 84,
   "metadata": {
    "collapsed": false
   },
   "outputs": [],
   "source": [
    "cb_jc_citibike.columns = ['Date', 'StationID', 'pickups', 'dropoffs', 'census_block']"
   ]
  },
  {
   "cell_type": "code",
   "execution_count": null,
   "metadata": {
    "collapsed": true
   },
   "outputs": [],
   "source": [
    "os.system(\"mkdir ../data/jersey_city/aggrega\")"
   ]
  },
  {
   "cell_type": "code",
   "execution_count": 85,
   "metadata": {
    "collapsed": false
   },
   "outputs": [
    {
     "data": {
      "text/html": [
       "<div>\n",
       "<table border=\"1\" class=\"dataframe\">\n",
       "  <thead>\n",
       "    <tr style=\"text-align: right;\">\n",
       "      <th></th>\n",
       "      <th>Date</th>\n",
       "      <th>StationID</th>\n",
       "      <th>pickups</th>\n",
       "      <th>dropoffs</th>\n",
       "      <th>census_block</th>\n",
       "    </tr>\n",
       "  </thead>\n",
       "  <tbody>\n",
       "    <tr>\n",
       "      <th>0</th>\n",
       "      <td>2016-09-01</td>\n",
       "      <td>3183.0</td>\n",
       "      <td>96.0</td>\n",
       "      <td>69.0</td>\n",
       "      <td>1004</td>\n",
       "    </tr>\n",
       "    <tr>\n",
       "      <th>1</th>\n",
       "      <td>2016-09-01</td>\n",
       "      <td>3184.0</td>\n",
       "      <td>28.0</td>\n",
       "      <td>28.0</td>\n",
       "      <td>1007</td>\n",
       "    </tr>\n",
       "    <tr>\n",
       "      <th>2</th>\n",
       "      <td>2016-09-01</td>\n",
       "      <td>3185.0</td>\n",
       "      <td>19.0</td>\n",
       "      <td>21.0</td>\n",
       "      <td>2003</td>\n",
       "    </tr>\n",
       "    <tr>\n",
       "      <th>3</th>\n",
       "      <td>2016-09-01</td>\n",
       "      <td>3186.0</td>\n",
       "      <td>142.0</td>\n",
       "      <td>126.0</td>\n",
       "      <td>3010</td>\n",
       "    </tr>\n",
       "    <tr>\n",
       "      <th>4</th>\n",
       "      <td>2016-09-01</td>\n",
       "      <td>3187.0</td>\n",
       "      <td>30.0</td>\n",
       "      <td>25.0</td>\n",
       "      <td>1012</td>\n",
       "    </tr>\n",
       "    <tr>\n",
       "      <th>5</th>\n",
       "      <td>2016-09-01</td>\n",
       "      <td>3188.0</td>\n",
       "      <td>1.0</td>\n",
       "      <td>1.0</td>\n",
       "      <td>4002</td>\n",
       "    </tr>\n",
       "    <tr>\n",
       "      <th>6</th>\n",
       "      <td>2016-09-01</td>\n",
       "      <td>3190.0</td>\n",
       "      <td>6.0</td>\n",
       "      <td>2.0</td>\n",
       "      <td>2001</td>\n",
       "    </tr>\n",
       "    <tr>\n",
       "      <th>7</th>\n",
       "      <td>2016-09-01</td>\n",
       "      <td>3191.0</td>\n",
       "      <td>2.0</td>\n",
       "      <td>1.0</td>\n",
       "      <td>1005</td>\n",
       "    </tr>\n",
       "    <tr>\n",
       "      <th>8</th>\n",
       "      <td>2016-09-01</td>\n",
       "      <td>3192.0</td>\n",
       "      <td>18.0</td>\n",
       "      <td>21.0</td>\n",
       "      <td>1013</td>\n",
       "    </tr>\n",
       "    <tr>\n",
       "      <th>9</th>\n",
       "      <td>2016-09-01</td>\n",
       "      <td>3193.0</td>\n",
       "      <td>15.0</td>\n",
       "      <td>25.0</td>\n",
       "      <td>1008</td>\n",
       "    </tr>\n",
       "    <tr>\n",
       "      <th>10</th>\n",
       "      <td>2016-09-01</td>\n",
       "      <td>3194.0</td>\n",
       "      <td>19.0</td>\n",
       "      <td>13.0</td>\n",
       "      <td>1006</td>\n",
       "    </tr>\n",
       "    <tr>\n",
       "      <th>11</th>\n",
       "      <td>2016-09-01</td>\n",
       "      <td>3195.0</td>\n",
       "      <td>60.0</td>\n",
       "      <td>46.0</td>\n",
       "      <td>1009</td>\n",
       "    </tr>\n",
       "    <tr>\n",
       "      <th>12</th>\n",
       "      <td>2016-09-01</td>\n",
       "      <td>3196.0</td>\n",
       "      <td>5.0</td>\n",
       "      <td>4.0</td>\n",
       "      <td>2006</td>\n",
       "    </tr>\n",
       "    <tr>\n",
       "      <th>13</th>\n",
       "      <td>2016-09-01</td>\n",
       "      <td>3197.0</td>\n",
       "      <td>2.0</td>\n",
       "      <td>5.0</td>\n",
       "      <td>1000</td>\n",
       "    </tr>\n",
       "    <tr>\n",
       "      <th>14</th>\n",
       "      <td>2016-09-01</td>\n",
       "      <td>3198.0</td>\n",
       "      <td>5.0</td>\n",
       "      <td>4.0</td>\n",
       "      <td>1005</td>\n",
       "    </tr>\n",
       "    <tr>\n",
       "      <th>15</th>\n",
       "      <td>2016-09-01</td>\n",
       "      <td>3199.0</td>\n",
       "      <td>22.0</td>\n",
       "      <td>27.0</td>\n",
       "      <td>3002</td>\n",
       "    </tr>\n",
       "    <tr>\n",
       "      <th>16</th>\n",
       "      <td>2016-09-01</td>\n",
       "      <td>3201.0</td>\n",
       "      <td>9.0</td>\n",
       "      <td>10.0</td>\n",
       "      <td>1007</td>\n",
       "    </tr>\n",
       "    <tr>\n",
       "      <th>17</th>\n",
       "      <td>2016-09-01</td>\n",
       "      <td>3202.0</td>\n",
       "      <td>44.0</td>\n",
       "      <td>43.0</td>\n",
       "      <td>3002</td>\n",
       "    </tr>\n",
       "    <tr>\n",
       "      <th>18</th>\n",
       "      <td>2016-09-01</td>\n",
       "      <td>3203.0</td>\n",
       "      <td>59.0</td>\n",
       "      <td>82.0</td>\n",
       "      <td>1003</td>\n",
       "    </tr>\n",
       "    <tr>\n",
       "      <th>19</th>\n",
       "      <td>2016-09-01</td>\n",
       "      <td>3205.0</td>\n",
       "      <td>5.0</td>\n",
       "      <td>10.0</td>\n",
       "      <td>1007</td>\n",
       "    </tr>\n",
       "    <tr>\n",
       "      <th>20</th>\n",
       "      <td>2016-09-01</td>\n",
       "      <td>3206.0</td>\n",
       "      <td>9.0</td>\n",
       "      <td>2.0</td>\n",
       "      <td>1000</td>\n",
       "    </tr>\n",
       "    <tr>\n",
       "      <th>21</th>\n",
       "      <td>2016-09-01</td>\n",
       "      <td>3207.0</td>\n",
       "      <td>10.0</td>\n",
       "      <td>13.0</td>\n",
       "      <td>1000</td>\n",
       "    </tr>\n",
       "    <tr>\n",
       "      <th>22</th>\n",
       "      <td>2016-09-01</td>\n",
       "      <td>3209.0</td>\n",
       "      <td>22.0</td>\n",
       "      <td>25.0</td>\n",
       "      <td>1002</td>\n",
       "    </tr>\n",
       "    <tr>\n",
       "      <th>23</th>\n",
       "      <td>2016-09-01</td>\n",
       "      <td>3210.0</td>\n",
       "      <td>13.0</td>\n",
       "      <td>12.0</td>\n",
       "      <td>1000</td>\n",
       "    </tr>\n",
       "    <tr>\n",
       "      <th>24</th>\n",
       "      <td>2016-09-01</td>\n",
       "      <td>3211.0</td>\n",
       "      <td>32.0</td>\n",
       "      <td>30.0</td>\n",
       "      <td>2007</td>\n",
       "    </tr>\n",
       "    <tr>\n",
       "      <th>25</th>\n",
       "      <td>2016-09-01</td>\n",
       "      <td>3212.0</td>\n",
       "      <td>7.0</td>\n",
       "      <td>9.0</td>\n",
       "      <td>1004</td>\n",
       "    </tr>\n",
       "    <tr>\n",
       "      <th>26</th>\n",
       "      <td>2016-09-01</td>\n",
       "      <td>3213.0</td>\n",
       "      <td>23.0</td>\n",
       "      <td>22.0</td>\n",
       "      <td>2006</td>\n",
       "    </tr>\n",
       "    <tr>\n",
       "      <th>27</th>\n",
       "      <td>2016-09-01</td>\n",
       "      <td>3214.0</td>\n",
       "      <td>16.0</td>\n",
       "      <td>23.0</td>\n",
       "      <td>1007</td>\n",
       "    </tr>\n",
       "    <tr>\n",
       "      <th>28</th>\n",
       "      <td>2016-09-01</td>\n",
       "      <td>3215.0</td>\n",
       "      <td>6.0</td>\n",
       "      <td>7.0</td>\n",
       "      <td>4002</td>\n",
       "    </tr>\n",
       "    <tr>\n",
       "      <th>29</th>\n",
       "      <td>2016-09-01</td>\n",
       "      <td>3220.0</td>\n",
       "      <td>12.0</td>\n",
       "      <td>7.0</td>\n",
       "      <td>4000</td>\n",
       "    </tr>\n",
       "    <tr>\n",
       "      <th>...</th>\n",
       "      <td>...</td>\n",
       "      <td>...</td>\n",
       "      <td>...</td>\n",
       "      <td>...</td>\n",
       "      <td>...</td>\n",
       "    </tr>\n",
       "    <tr>\n",
       "      <th>1324</th>\n",
       "      <td>2016-09-15</td>\n",
       "      <td>3274.0</td>\n",
       "      <td>NaN</td>\n",
       "      <td>1.0</td>\n",
       "      <td>1003</td>\n",
       "    </tr>\n",
       "    <tr>\n",
       "      <th>1325</th>\n",
       "      <td>2016-09-16</td>\n",
       "      <td>359.0</td>\n",
       "      <td>NaN</td>\n",
       "      <td>1.0</td>\n",
       "      <td>NaN</td>\n",
       "    </tr>\n",
       "    <tr>\n",
       "      <th>1326</th>\n",
       "      <td>2016-09-16</td>\n",
       "      <td>3189.0</td>\n",
       "      <td>NaN</td>\n",
       "      <td>1.0</td>\n",
       "      <td>1003</td>\n",
       "    </tr>\n",
       "    <tr>\n",
       "      <th>1327</th>\n",
       "      <td>2016-09-16</td>\n",
       "      <td>3191.0</td>\n",
       "      <td>NaN</td>\n",
       "      <td>1.0</td>\n",
       "      <td>1005</td>\n",
       "    </tr>\n",
       "    <tr>\n",
       "      <th>1328</th>\n",
       "      <td>2016-09-17</td>\n",
       "      <td>3191.0</td>\n",
       "      <td>NaN</td>\n",
       "      <td>3.0</td>\n",
       "      <td>1005</td>\n",
       "    </tr>\n",
       "    <tr>\n",
       "      <th>1329</th>\n",
       "      <td>2016-09-18</td>\n",
       "      <td>426.0</td>\n",
       "      <td>NaN</td>\n",
       "      <td>1.0</td>\n",
       "      <td>NaN</td>\n",
       "    </tr>\n",
       "    <tr>\n",
       "      <th>1330</th>\n",
       "      <td>2016-09-18</td>\n",
       "      <td>514.0</td>\n",
       "      <td>NaN</td>\n",
       "      <td>1.0</td>\n",
       "      <td>NaN</td>\n",
       "    </tr>\n",
       "    <tr>\n",
       "      <th>1331</th>\n",
       "      <td>2016-09-19</td>\n",
       "      <td>3189.0</td>\n",
       "      <td>NaN</td>\n",
       "      <td>2.0</td>\n",
       "      <td>1003</td>\n",
       "    </tr>\n",
       "    <tr>\n",
       "      <th>1332</th>\n",
       "      <td>2016-09-19</td>\n",
       "      <td>3191.0</td>\n",
       "      <td>NaN</td>\n",
       "      <td>2.0</td>\n",
       "      <td>1005</td>\n",
       "    </tr>\n",
       "    <tr>\n",
       "      <th>1333</th>\n",
       "      <td>2016-09-19</td>\n",
       "      <td>3281.0</td>\n",
       "      <td>NaN</td>\n",
       "      <td>6.0</td>\n",
       "      <td>2005</td>\n",
       "    </tr>\n",
       "    <tr>\n",
       "      <th>1334</th>\n",
       "      <td>2016-09-20</td>\n",
       "      <td>3191.0</td>\n",
       "      <td>NaN</td>\n",
       "      <td>3.0</td>\n",
       "      <td>1005</td>\n",
       "    </tr>\n",
       "    <tr>\n",
       "      <th>1335</th>\n",
       "      <td>2016-09-20</td>\n",
       "      <td>3200.0</td>\n",
       "      <td>NaN</td>\n",
       "      <td>2.0</td>\n",
       "      <td>1003</td>\n",
       "    </tr>\n",
       "    <tr>\n",
       "      <th>1336</th>\n",
       "      <td>2016-09-20</td>\n",
       "      <td>3216.0</td>\n",
       "      <td>NaN</td>\n",
       "      <td>1.0</td>\n",
       "      <td>2000</td>\n",
       "    </tr>\n",
       "    <tr>\n",
       "      <th>1337</th>\n",
       "      <td>2016-09-21</td>\n",
       "      <td>347.0</td>\n",
       "      <td>NaN</td>\n",
       "      <td>1.0</td>\n",
       "      <td>NaN</td>\n",
       "    </tr>\n",
       "    <tr>\n",
       "      <th>1338</th>\n",
       "      <td>2016-09-21</td>\n",
       "      <td>3189.0</td>\n",
       "      <td>NaN</td>\n",
       "      <td>2.0</td>\n",
       "      <td>1003</td>\n",
       "    </tr>\n",
       "    <tr>\n",
       "      <th>1339</th>\n",
       "      <td>2016-09-23</td>\n",
       "      <td>3189.0</td>\n",
       "      <td>NaN</td>\n",
       "      <td>1.0</td>\n",
       "      <td>1003</td>\n",
       "    </tr>\n",
       "    <tr>\n",
       "      <th>1340</th>\n",
       "      <td>2016-09-24</td>\n",
       "      <td>3200.0</td>\n",
       "      <td>NaN</td>\n",
       "      <td>1.0</td>\n",
       "      <td>1003</td>\n",
       "    </tr>\n",
       "    <tr>\n",
       "      <th>1341</th>\n",
       "      <td>2016-09-25</td>\n",
       "      <td>3191.0</td>\n",
       "      <td>NaN</td>\n",
       "      <td>2.0</td>\n",
       "      <td>1005</td>\n",
       "    </tr>\n",
       "    <tr>\n",
       "      <th>1342</th>\n",
       "      <td>2016-09-26</td>\n",
       "      <td>3085.0</td>\n",
       "      <td>NaN</td>\n",
       "      <td>1.0</td>\n",
       "      <td>NaN</td>\n",
       "    </tr>\n",
       "    <tr>\n",
       "      <th>1343</th>\n",
       "      <td>2016-09-27</td>\n",
       "      <td>3189.0</td>\n",
       "      <td>NaN</td>\n",
       "      <td>1.0</td>\n",
       "      <td>1003</td>\n",
       "    </tr>\n",
       "    <tr>\n",
       "      <th>1344</th>\n",
       "      <td>2016-09-28</td>\n",
       "      <td>3189.0</td>\n",
       "      <td>NaN</td>\n",
       "      <td>3.0</td>\n",
       "      <td>1003</td>\n",
       "    </tr>\n",
       "    <tr>\n",
       "      <th>1345</th>\n",
       "      <td>2016-09-29</td>\n",
       "      <td>3188.0</td>\n",
       "      <td>NaN</td>\n",
       "      <td>1.0</td>\n",
       "      <td>4002</td>\n",
       "    </tr>\n",
       "    <tr>\n",
       "      <th>1346</th>\n",
       "      <td>2016-09-29</td>\n",
       "      <td>3189.0</td>\n",
       "      <td>NaN</td>\n",
       "      <td>2.0</td>\n",
       "      <td>1003</td>\n",
       "    </tr>\n",
       "    <tr>\n",
       "      <th>1347</th>\n",
       "      <td>2016-09-29</td>\n",
       "      <td>3216.0</td>\n",
       "      <td>NaN</td>\n",
       "      <td>1.0</td>\n",
       "      <td>2000</td>\n",
       "    </tr>\n",
       "    <tr>\n",
       "      <th>1348</th>\n",
       "      <td>2016-09-29</td>\n",
       "      <td>3217.0</td>\n",
       "      <td>NaN</td>\n",
       "      <td>3.0</td>\n",
       "      <td>4003</td>\n",
       "    </tr>\n",
       "    <tr>\n",
       "      <th>1349</th>\n",
       "      <td>2016-09-30</td>\n",
       "      <td>3189.0</td>\n",
       "      <td>NaN</td>\n",
       "      <td>1.0</td>\n",
       "      <td>1003</td>\n",
       "    </tr>\n",
       "    <tr>\n",
       "      <th>1350</th>\n",
       "      <td>2016-09-30</td>\n",
       "      <td>3191.0</td>\n",
       "      <td>NaN</td>\n",
       "      <td>1.0</td>\n",
       "      <td>1005</td>\n",
       "    </tr>\n",
       "    <tr>\n",
       "      <th>1351</th>\n",
       "      <td>2016-09-30</td>\n",
       "      <td>3197.0</td>\n",
       "      <td>NaN</td>\n",
       "      <td>1.0</td>\n",
       "      <td>1000</td>\n",
       "    </tr>\n",
       "    <tr>\n",
       "      <th>1352</th>\n",
       "      <td>2016-09-30</td>\n",
       "      <td>3216.0</td>\n",
       "      <td>NaN</td>\n",
       "      <td>1.0</td>\n",
       "      <td>2000</td>\n",
       "    </tr>\n",
       "    <tr>\n",
       "      <th>1353</th>\n",
       "      <td>2016-10-01</td>\n",
       "      <td>3272.0</td>\n",
       "      <td>NaN</td>\n",
       "      <td>1.0</td>\n",
       "      <td>2000</td>\n",
       "    </tr>\n",
       "  </tbody>\n",
       "</table>\n",
       "<p>1354 rows × 5 columns</p>\n",
       "</div>"
      ],
      "text/plain": [
       "           Date  StationID  pickups  dropoffs census_block\n",
       "0    2016-09-01     3183.0     96.0      69.0         1004\n",
       "1    2016-09-01     3184.0     28.0      28.0         1007\n",
       "2    2016-09-01     3185.0     19.0      21.0         2003\n",
       "3    2016-09-01     3186.0    142.0     126.0         3010\n",
       "4    2016-09-01     3187.0     30.0      25.0         1012\n",
       "5    2016-09-01     3188.0      1.0       1.0         4002\n",
       "6    2016-09-01     3190.0      6.0       2.0         2001\n",
       "7    2016-09-01     3191.0      2.0       1.0         1005\n",
       "8    2016-09-01     3192.0     18.0      21.0         1013\n",
       "9    2016-09-01     3193.0     15.0      25.0         1008\n",
       "10   2016-09-01     3194.0     19.0      13.0         1006\n",
       "11   2016-09-01     3195.0     60.0      46.0         1009\n",
       "12   2016-09-01     3196.0      5.0       4.0         2006\n",
       "13   2016-09-01     3197.0      2.0       5.0         1000\n",
       "14   2016-09-01     3198.0      5.0       4.0         1005\n",
       "15   2016-09-01     3199.0     22.0      27.0         3002\n",
       "16   2016-09-01     3201.0      9.0      10.0         1007\n",
       "17   2016-09-01     3202.0     44.0      43.0         3002\n",
       "18   2016-09-01     3203.0     59.0      82.0         1003\n",
       "19   2016-09-01     3205.0      5.0      10.0         1007\n",
       "20   2016-09-01     3206.0      9.0       2.0         1000\n",
       "21   2016-09-01     3207.0     10.0      13.0         1000\n",
       "22   2016-09-01     3209.0     22.0      25.0         1002\n",
       "23   2016-09-01     3210.0     13.0      12.0         1000\n",
       "24   2016-09-01     3211.0     32.0      30.0         2007\n",
       "25   2016-09-01     3212.0      7.0       9.0         1004\n",
       "26   2016-09-01     3213.0     23.0      22.0         2006\n",
       "27   2016-09-01     3214.0     16.0      23.0         1007\n",
       "28   2016-09-01     3215.0      6.0       7.0         4002\n",
       "29   2016-09-01     3220.0     12.0       7.0         4000\n",
       "...         ...        ...      ...       ...          ...\n",
       "1324 2016-09-15     3274.0      NaN       1.0         1003\n",
       "1325 2016-09-16      359.0      NaN       1.0          NaN\n",
       "1326 2016-09-16     3189.0      NaN       1.0         1003\n",
       "1327 2016-09-16     3191.0      NaN       1.0         1005\n",
       "1328 2016-09-17     3191.0      NaN       3.0         1005\n",
       "1329 2016-09-18      426.0      NaN       1.0          NaN\n",
       "1330 2016-09-18      514.0      NaN       1.0          NaN\n",
       "1331 2016-09-19     3189.0      NaN       2.0         1003\n",
       "1332 2016-09-19     3191.0      NaN       2.0         1005\n",
       "1333 2016-09-19     3281.0      NaN       6.0         2005\n",
       "1334 2016-09-20     3191.0      NaN       3.0         1005\n",
       "1335 2016-09-20     3200.0      NaN       2.0         1003\n",
       "1336 2016-09-20     3216.0      NaN       1.0         2000\n",
       "1337 2016-09-21      347.0      NaN       1.0          NaN\n",
       "1338 2016-09-21     3189.0      NaN       2.0         1003\n",
       "1339 2016-09-23     3189.0      NaN       1.0         1003\n",
       "1340 2016-09-24     3200.0      NaN       1.0         1003\n",
       "1341 2016-09-25     3191.0      NaN       2.0         1005\n",
       "1342 2016-09-26     3085.0      NaN       1.0          NaN\n",
       "1343 2016-09-27     3189.0      NaN       1.0         1003\n",
       "1344 2016-09-28     3189.0      NaN       3.0         1003\n",
       "1345 2016-09-29     3188.0      NaN       1.0         4002\n",
       "1346 2016-09-29     3189.0      NaN       2.0         1003\n",
       "1347 2016-09-29     3216.0      NaN       1.0         2000\n",
       "1348 2016-09-29     3217.0      NaN       3.0         4003\n",
       "1349 2016-09-30     3189.0      NaN       1.0         1003\n",
       "1350 2016-09-30     3191.0      NaN       1.0         1005\n",
       "1351 2016-09-30     3197.0      NaN       1.0         1000\n",
       "1352 2016-09-30     3216.0      NaN       1.0         2000\n",
       "1353 2016-10-01     3272.0      NaN       1.0         2000\n",
       "\n",
       "[1354 rows x 5 columns]"
      ]
     },
     "execution_count": 85,
     "metadata": {},
     "output_type": "execute_result"
    }
   ],
   "source": [
    "cb_jc_citibike.to_csv('../data/jersey_city/jc_s')"
   ]
  },
  {
   "cell_type": "code",
   "execution_count": null,
   "metadata": {
    "collapsed": true
   },
   "outputs": [],
   "source": []
  }
 ],
 "metadata": {
  "kernelspec": {
   "display_name": "PUI2016_Python2",
   "language": "python",
   "name": "pui2016_python2"
  },
  "language_info": {
   "codemirror_mode": {
    "name": "ipython",
    "version": 2
   },
   "file_extension": ".py",
   "mimetype": "text/x-python",
   "name": "python",
   "nbconvert_exporter": "python",
   "pygments_lexer": "ipython2",
   "version": "2.7.12"
  }
 },
 "nbformat": 4,
 "nbformat_minor": 0
}
