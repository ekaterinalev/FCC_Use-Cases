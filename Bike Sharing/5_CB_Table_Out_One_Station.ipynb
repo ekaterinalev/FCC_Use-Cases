{
 "cells": [
  {
   "cell_type": "code",
   "execution_count": 1,
   "metadata": {
    "collapsed": false
   },
   "outputs": [
    {
     "name": "stdout",
     "output_type": "stream",
     "text": [
      "Populating the interactive namespace from numpy and matplotlib\n"
     ]
    }
   ],
   "source": [
    "#from __future__ import division, print_function\n",
    "import sys\n",
    "import os\n",
    "#import json\n",
    "import csv\n",
    "import pandas as pd\n",
    "import numpy as np\n",
    "import pylab as pl\n",
    "%pylab inline\n",
    "#import seaborn\n",
    "#from scipy.optimize import curve_fit, minimize\n",
    "import pyproj\n",
    "from pyproj import Proj, transform\n",
    "\n",
    "from scipy.stats import mode\n",
    "\n",
    "import geopandas as gp\n",
    "from fiona.crs import from_epsg\n",
    "#import subprocess\n",
    "import shapely as shp\n",
    "from datetime import datetime\n",
    "from itertools import compress\n",
    "from geopandas.tools import sjoin\n",
    "from shapely.geometry import Point\n"
   ]
  },
  {
   "cell_type": "code",
   "execution_count": 2,
   "metadata": {
    "collapsed": false
   },
   "outputs": [
    {
     "name": "stderr",
     "output_type": "stream",
     "text": [
      "/opt/rh/anaconda/root/lib/python2.7/site-packages/IPython/core/interactiveshell.py:2723: DtypeWarning: Columns (14) have mixed types. Specify dtype option on import or set low_memory=False.\n",
      "  interactivity=interactivity, compiler=compiler, result=result)\n"
     ]
    }
   ],
   "source": [
    "# write clean yearly raw data to files\n",
    "\n",
    "cb_2013 = pd.read_csv('data_raw_cb/cb_year_2013.csv')\n",
    "cb_2014 = pd.read_csv('data_raw_cb/cb_year_2014.csv')\n",
    "cb_2015 = pd.read_csv('data_raw_cb/cb_year_2015.csv')\n",
    "cb_2016 = pd.read_csv('data_raw_cb/cb_year_2016.csv')\n",
    "cb_2017 = pd.read_csv('data_raw_cb/cb_year_2017.csv')"
   ]
  },
  {
   "cell_type": "code",
   "execution_count": null,
   "metadata": {
    "collapsed": true
   },
   "outputs": [],
   "source": []
  },
  {
   "cell_type": "code",
   "execution_count": 3,
   "metadata": {
    "collapsed": false
   },
   "outputs": [],
   "source": [
    "cb_2013_pu = cb_2013[['start station id','starttime', 'end station id','tripduration']]\n",
    "cb_2014_pu = cb_2014[['start station id','starttime', 'end station id','tripduration']]\n",
    "cb_2015_pu = cb_2015[['start station id','starttime', 'end station id','tripduration']]\n",
    "cb_2016_pu = cb_2016[['start station id','starttime', 'end station id','tripduration']]\n",
    "\n",
    "cb_2013_do = cb_2013[['end station id','stoptime', 'start station id','tripduration']]\n",
    "cb_2014_do = cb_2014[['end station id','stoptime', 'start station id','tripduration']]\n",
    "cb_2015_do = cb_2015[['end station id','stoptime', 'start station id','tripduration']]\n",
    "cb_2016_do = cb_2016[['end station id','stoptime', 'start station id','tripduration']]"
   ]
  },
  {
   "cell_type": "code",
   "execution_count": 4,
   "metadata": {
    "collapsed": false,
    "scrolled": false
   },
   "outputs": [
    {
     "name": "stderr",
     "output_type": "stream",
     "text": [
      "/opt/rh/anaconda/root/lib/python2.7/site-packages/pandas/core/frame.py:2834: SettingWithCopyWarning: \n",
      "A value is trying to be set on a copy of a slice from a DataFrame\n",
      "\n",
      "See the caveats in the documentation: http://pandas.pydata.org/pandas-docs/stable/indexing.html#indexing-view-versus-copy\n",
      "  **kwargs)\n"
     ]
    }
   ],
   "source": [
    "cb_2013_do.rename(columns={'end station id':'station_id','stoptime':'do_time','start station id':'cb_do_num_trips','tripduration':'cb_do_trip_time'}, inplace=True)\n",
    "cb_2014_do.rename(columns={'end station id':'station_id','stoptime':'do_time','start station id':'cb_do_num_trips','tripduration':'cb_do_trip_time'}, inplace=True)\n",
    "cb_2015_do.rename(columns={'end station id':'station_id','stoptime':'do_time','start station id':'cb_do_num_trips','tripduration':'cb_do_trip_time'}, inplace=True)\n",
    "cb_2016_do.rename(columns={'end station id':'station_id','stoptime':'do_time','start station id':'cb_do_num_trips','tripduration':'cb_do_trip_time'}, inplace=True)"
   ]
  },
  {
   "cell_type": "code",
   "execution_count": 5,
   "metadata": {
    "collapsed": false
   },
   "outputs": [],
   "source": [
    "cb_2013_pu.rename(columns={'start station id':'station_id','starttime':'pu_time','end station id':'cb_pu_num_trips','tripduration':'cb_pu_trip_time'}, inplace=True)\n",
    "cb_2014_pu.rename(columns={'start station id':'station_id','starttime':'pu_time','end station id':'cb_pu_num_trips','tripduration':'cb_pu_trip_time'}, inplace=True)\n",
    "cb_2015_pu.rename(columns={'start station id':'station_id','starttime':'pu_time','end station id':'cb_pu_num_trips','tripduration':'cb_pu_trip_time'}, inplace=True)\n",
    "cb_2016_pu.rename(columns={'start station id':'station_id','starttime':'pu_time','end station id':'cb_pu_num_trips','tripduration':'cb_pu_trip_time'}, inplace=True)"
   ]
  },
  {
   "cell_type": "code",
   "execution_count": 6,
   "metadata": {
    "collapsed": false
   },
   "outputs": [],
   "source": [
    "cb_pu = cb_2013_pu.append(cb_2014_pu, ignore_index = True)\n",
    "cb_pu = cb_pu.append(cb_2015_pu, ignore_index=True)\n",
    "cb_pu = cb_pu.append(cb_2016_pu, ignore_index=True)\n",
    "cb_pu.reset_index(drop=True,inplace = True)\n",
    "\n",
    "cb_do = cb_2013_do.append(cb_2014_do, ignore_index=True)\n",
    "cb_do = cb_do.append(cb_2015_do, ignore_index=True)\n",
    "cb_do = cb_do.append(cb_2016_do, ignore_index=True)\n",
    "cb_do.reset_index(drop=True,inplace = True)"
   ]
  },
  {
   "cell_type": "code",
   "execution_count": 7,
   "metadata": {
    "collapsed": false
   },
   "outputs": [],
   "source": [
    "cb_pu_3119 = cb_pu[cb_pu.station_id == 3119]\n",
    "cb_pu_3119.reset_index(drop=True,inplace = True)\n",
    "\n",
    "cb_do_3119 = cb_do[cb_do.station_id == 3119]\n",
    "cb_do_3119.reset_index(drop=True,inplace = True)"
   ]
  },
  {
   "cell_type": "code",
   "execution_count": 8,
   "metadata": {
    "collapsed": false
   },
   "outputs": [
    {
     "name": "stderr",
     "output_type": "stream",
     "text": [
      "/opt/rh/anaconda/root/lib/python2.7/site-packages/pandas/core/indexing.py:477: SettingWithCopyWarning: \n",
      "A value is trying to be set on a copy of a slice from a DataFrame.\n",
      "Try using .loc[row_indexer,col_indexer] = value instead\n",
      "\n",
      "See the caveats in the documentation: http://pandas.pydata.org/pandas-docs/stable/indexing.html#indexing-view-versus-copy\n",
      "  self.obj[item] = s\n",
      "/opt/rh/anaconda/root/lib/python2.7/site-packages/IPython/core/interactiveshell.py:2885: FutureWarning: to_datetime is deprecated. Use self.to_pydatetime()\n",
      "  exec(code_obj, self.user_global_ns, self.user_ns)\n"
     ]
    }
   ],
   "source": [
    "cb_pu_3119.iloc[:,1:2] = pd.to_datetime(cb_pu_3119.pu_time).dt.date\n",
    "cb_pu_3119.rename(columns={'pu_time':'pu_date'},inplace=True)\n",
    "cb_pu_3119.iloc[:,2:3] = 1\n",
    "cb_pu_3119.iloc[:,3:4] = cb_pu_3119.cb_pu_trip_time/60.0\n",
    "cb_pu_3119 = cb_pu_3119[cb_pu_3119.pu_date <= pd.to_datetime('2016-06-30').to_datetime().date()]\n",
    "\n",
    "cb_do_3119.iloc[:,1:2] = pd.to_datetime(cb_do_3119.do_time).dt.date\n",
    "cb_do_3119.rename(columns={'do_time':'do_date'},inplace=True)\n",
    "cb_do_3119.iloc[:,2:3] = 1\n",
    "cb_do_3119.iloc[:,3:4] = cb_do_3119.cb_do_trip_time/60.0\n",
    "cb_do_3119 = cb_do_3119[cb_do_3119.do_date <= pd.to_datetime('2016-06-30').to_datetime().date()]"
   ]
  },
  {
   "cell_type": "code",
   "execution_count": 9,
   "metadata": {
    "collapsed": false
   },
   "outputs": [],
   "source": [
    "cb_pu_3119 = cb_pu_3119.groupby(by=['station_id','pu_date'],as_index=False).agg({'cb_pu_num_trips':\"count\", 'cb_pu_trip_time':\"mean\"})\n",
    "cb_do_3119 = cb_do_3119.groupby(by=['station_id','do_date'],as_index=False).agg({'cb_do_num_trips':\"count\", 'cb_do_trip_time':\"mean\"})"
   ]
  },
  {
   "cell_type": "code",
   "execution_count": 10,
   "metadata": {
    "collapsed": false
   },
   "outputs": [],
   "source": [
    "yt_3119_pu = pd.read_csv('data_pre_yellow/yellow_3119_pu.csv').drop(['Unnamed: 0'],axis=1)\n",
    "yt_3119_pu.reset_index(drop=True,inplace=True)\n",
    "yt_3119_pu.rename(columns={'num_trips':'yt_pu_num_trips','trip_time':'yt_pu_trip_time','trip_distance':'yt_pu_trip_distance'},inplace=True)\n",
    "yt_3119_pu.iloc[:,2:3] = pd.to_datetime(yt_3119_pu.pu_date).dt.date\n",
    "#yt_3119_pu = yt_3119_pu.sort_values(by=['station_id','radius','pu_date'])[yt_3119_pu.pu_date <= pd.to_datetime('2016-06-30').to_datetime().date()]\n",
    "yt_3119_pu = yt_3119_pu[yt_3119_pu.pu_date >= pd.to_datetime('2013-09-01').to_datetime().date()]\n",
    "yt_3119_pu = yt_3119_pu[yt_3119_pu.pu_date <= pd.to_datetime('2016-06-30').to_datetime().date()]\n",
    "\n",
    "yt_3119_do = pd.read_csv('data_pre_yellow/yellow_3119_do.csv').drop(['Unnamed: 0'],axis=1)\n",
    "yt_3119_do.reset_index(drop=True,inplace=True)\n",
    "yt_3119_do.rename(columns={'num_trips':'yt_do_num_trips','trip_time':'yt_do_trip_time','trip_distance':'yt_do_trip_distance'},inplace=True)\n",
    "yt_3119_do.iloc[:,2:3] = pd.to_datetime(yt_3119_do.do_date).dt.date\n",
    "#yt_3119_do = yt_3119_do.sort_values(by=['radius','station_id','do_date'])[yt_3119_do.do_date <= pd.to_datetime('2016-06-30').to_datetime().date()]\n",
    "yt_3119_do = yt_3119_do[yt_3119_do.do_date >= pd.to_datetime('2013-09-01').to_datetime().date()]\n",
    "yt_3119_do = yt_3119_do[yt_3119_do.do_date <= pd.to_datetime('2016-06-30').to_datetime().date()]\n"
   ]
  },
  {
   "cell_type": "code",
   "execution_count": 11,
   "metadata": {
    "collapsed": false
   },
   "outputs": [],
   "source": [
    "gt_3119_pu = pd.read_csv('data_pre_green/green_3119_pu.csv').drop(['Unnamed: 0'],axis=1)\n",
    "gt_3119_pu.reset_index(drop=True,inplace=True)\n",
    "gt_3119_pu.rename(columns={'num_trips':'gt_pu_num_trips','trip_time':'gt_pu_trip_time','trip_distance':'gt_pu_trip_distance'},inplace=True)\n",
    "gt_3119_pu.iloc[:,2:3] = pd.to_datetime(gt_3119_pu.pu_date).dt.date\n",
    "gt_3119_pu = gt_3119_pu[gt_3119_pu.pu_date >= pd.to_datetime('2013-09-01').to_datetime().date()]\n",
    "gt_3119_pu = gt_3119_pu[gt_3119_pu.pu_date <= pd.to_datetime('2016-06-30').to_datetime().date()]\n",
    "\n",
    "gt_3119_do = pd.read_csv('data_pre_green/green_3119_do.csv').drop(['Unnamed: 0'],axis=1)\n",
    "gt_3119_do.reset_index(drop=True,inplace=True)\n",
    "gt_3119_do.rename(columns={'num_trips':'gt_do_num_trips','trip_time':'gt_do_trip_time','trip_distance':'gt_do_trip_distance'},inplace=True)\n",
    "gt_3119_do.iloc[:,2:3] = pd.to_datetime(gt_3119_do.do_date).dt.date\n",
    "gt_3119_do = gt_3119_do[gt_3119_do.do_date >= pd.to_datetime('2013-09-01').to_datetime().date()]\n",
    "gt_3119_do = gt_3119_do[gt_3119_do.do_date <= pd.to_datetime('2016-06-30').to_datetime().date()]"
   ]
  },
  {
   "cell_type": "code",
   "execution_count": 12,
   "metadata": {
    "collapsed": false
   },
   "outputs": [
    {
     "data": {
      "text/html": [
       "<div>\n",
       "<table border=\"1\" class=\"dataframe\">\n",
       "  <thead>\n",
       "    <tr style=\"text-align: right;\">\n",
       "      <th></th>\n",
       "      <th>station_id</th>\n",
       "      <th>radius</th>\n",
       "      <th>pu_date</th>\n",
       "      <th>yt_pu_num_trips</th>\n",
       "      <th>yt_pu_trip_distance</th>\n",
       "      <th>yt_pu_trip_time</th>\n",
       "    </tr>\n",
       "  </thead>\n",
       "  <tbody>\n",
       "  </tbody>\n",
       "</table>\n",
       "</div>"
      ],
      "text/plain": [
       "Empty DataFrame\n",
       "Columns: [station_id, radius, pu_date, yt_pu_num_trips, yt_pu_trip_distance, yt_pu_trip_time]\n",
       "Index: []"
      ]
     },
     "execution_count": 12,
     "metadata": {},
     "output_type": "execute_result"
    }
   ],
   "source": [
    "yt_3119_pu[yt_3119_pu.duplicated(subset=['station_id','radius','pu_date'],keep='last') == True]"
   ]
  },
  {
   "cell_type": "code",
   "execution_count": 13,
   "metadata": {
    "collapsed": false
   },
   "outputs": [
    {
     "data": {
      "text/html": [
       "<div>\n",
       "<table border=\"1\" class=\"dataframe\">\n",
       "  <thead>\n",
       "    <tr style=\"text-align: right;\">\n",
       "      <th></th>\n",
       "      <th>station_id</th>\n",
       "      <th>radius</th>\n",
       "      <th>pu_date</th>\n",
       "      <th>gt_pu_num_trips</th>\n",
       "      <th>gt_pu_trip_distance</th>\n",
       "      <th>gt_pu_trip_time</th>\n",
       "    </tr>\n",
       "  </thead>\n",
       "  <tbody>\n",
       "  </tbody>\n",
       "</table>\n",
       "</div>"
      ],
      "text/plain": [
       "Empty DataFrame\n",
       "Columns: [station_id, radius, pu_date, gt_pu_num_trips, gt_pu_trip_distance, gt_pu_trip_time]\n",
       "Index: []"
      ]
     },
     "execution_count": 13,
     "metadata": {},
     "output_type": "execute_result"
    }
   ],
   "source": [
    "gt_3119_pu[gt_3119_pu.duplicated(subset=['station_id','radius','pu_date'],keep='last') == True]"
   ]
  },
  {
   "cell_type": "code",
   "execution_count": 14,
   "metadata": {
    "collapsed": false
   },
   "outputs": [
    {
     "data": {
      "text/html": [
       "<div>\n",
       "<table border=\"1\" class=\"dataframe\">\n",
       "  <thead>\n",
       "    <tr style=\"text-align: right;\">\n",
       "      <th></th>\n",
       "      <th>station_id</th>\n",
       "      <th>radius</th>\n",
       "      <th>do_date</th>\n",
       "      <th>yt_do_num_trips</th>\n",
       "      <th>yt_do_trip_distance</th>\n",
       "      <th>yt_do_trip_time</th>\n",
       "    </tr>\n",
       "  </thead>\n",
       "  <tbody>\n",
       "    <tr>\n",
       "      <th>61</th>\n",
       "      <td>3119</td>\n",
       "      <td>150</td>\n",
       "      <td>2013-11-01</td>\n",
       "      <td>1</td>\n",
       "      <td>3.200000</td>\n",
       "      <td>12.466667</td>\n",
       "    </tr>\n",
       "    <tr>\n",
       "      <th>182</th>\n",
       "      <td>3119</td>\n",
       "      <td>150</td>\n",
       "      <td>2014-03-01</td>\n",
       "      <td>1</td>\n",
       "      <td>2.700000</td>\n",
       "      <td>12.000000</td>\n",
       "    </tr>\n",
       "    <tr>\n",
       "      <th>244</th>\n",
       "      <td>3119</td>\n",
       "      <td>150</td>\n",
       "      <td>2014-05-01</td>\n",
       "      <td>1</td>\n",
       "      <td>4.310000</td>\n",
       "      <td>20.000000</td>\n",
       "    </tr>\n",
       "    <tr>\n",
       "      <th>337</th>\n",
       "      <td>3119</td>\n",
       "      <td>150</td>\n",
       "      <td>2014-08-01</td>\n",
       "      <td>1</td>\n",
       "      <td>4.150000</td>\n",
       "      <td>21.000000</td>\n",
       "    </tr>\n",
       "    <tr>\n",
       "      <th>703</th>\n",
       "      <td>3119</td>\n",
       "      <td>150</td>\n",
       "      <td>2015-08-01</td>\n",
       "      <td>1</td>\n",
       "      <td>7.440000</td>\n",
       "      <td>19.450000</td>\n",
       "    </tr>\n",
       "    <tr>\n",
       "      <th>977</th>\n",
       "      <td>3119</td>\n",
       "      <td>150</td>\n",
       "      <td>2016-05-01</td>\n",
       "      <td>1</td>\n",
       "      <td>3.100000</td>\n",
       "      <td>25.016667</td>\n",
       "    </tr>\n",
       "    <tr>\n",
       "      <th>1101</th>\n",
       "      <td>3119</td>\n",
       "      <td>300</td>\n",
       "      <td>2013-11-01</td>\n",
       "      <td>3</td>\n",
       "      <td>3.943333</td>\n",
       "      <td>18.561111</td>\n",
       "    </tr>\n",
       "    <tr>\n",
       "      <th>1222</th>\n",
       "      <td>3119</td>\n",
       "      <td>300</td>\n",
       "      <td>2014-03-01</td>\n",
       "      <td>3</td>\n",
       "      <td>6.883333</td>\n",
       "      <td>18.572222</td>\n",
       "    </tr>\n",
       "    <tr>\n",
       "      <th>1254</th>\n",
       "      <td>3119</td>\n",
       "      <td>300</td>\n",
       "      <td>2014-04-01</td>\n",
       "      <td>1</td>\n",
       "      <td>7.940000</td>\n",
       "      <td>13.000000</td>\n",
       "    </tr>\n",
       "    <tr>\n",
       "      <th>1285</th>\n",
       "      <td>3119</td>\n",
       "      <td>300</td>\n",
       "      <td>2014-05-01</td>\n",
       "      <td>2</td>\n",
       "      <td>6.840000</td>\n",
       "      <td>18.500000</td>\n",
       "    </tr>\n",
       "    <tr>\n",
       "      <th>1317</th>\n",
       "      <td>3119</td>\n",
       "      <td>300</td>\n",
       "      <td>2014-06-01</td>\n",
       "      <td>4</td>\n",
       "      <td>5.117500</td>\n",
       "      <td>18.558333</td>\n",
       "    </tr>\n",
       "    <tr>\n",
       "      <th>1379</th>\n",
       "      <td>3119</td>\n",
       "      <td>300</td>\n",
       "      <td>2014-08-01</td>\n",
       "      <td>1</td>\n",
       "      <td>4.150000</td>\n",
       "      <td>21.000000</td>\n",
       "    </tr>\n",
       "    <tr>\n",
       "      <th>1441</th>\n",
       "      <td>3119</td>\n",
       "      <td>300</td>\n",
       "      <td>2014-10-01</td>\n",
       "      <td>1</td>\n",
       "      <td>2.300000</td>\n",
       "      <td>11.616667</td>\n",
       "    </tr>\n",
       "    <tr>\n",
       "      <th>1473</th>\n",
       "      <td>3119</td>\n",
       "      <td>300</td>\n",
       "      <td>2014-11-01</td>\n",
       "      <td>1</td>\n",
       "      <td>0.500000</td>\n",
       "      <td>2.550000</td>\n",
       "    </tr>\n",
       "    <tr>\n",
       "      <th>1625</th>\n",
       "      <td>3119</td>\n",
       "      <td>300</td>\n",
       "      <td>2015-04-01</td>\n",
       "      <td>1</td>\n",
       "      <td>17.170000</td>\n",
       "      <td>518.016667</td>\n",
       "    </tr>\n",
       "    <tr>\n",
       "      <th>1717</th>\n",
       "      <td>3119</td>\n",
       "      <td>300</td>\n",
       "      <td>2015-07-01</td>\n",
       "      <td>2</td>\n",
       "      <td>3.750000</td>\n",
       "      <td>13.041667</td>\n",
       "    </tr>\n",
       "    <tr>\n",
       "      <th>1749</th>\n",
       "      <td>3119</td>\n",
       "      <td>300</td>\n",
       "      <td>2015-08-01</td>\n",
       "      <td>1</td>\n",
       "      <td>7.440000</td>\n",
       "      <td>19.450000</td>\n",
       "    </tr>\n",
       "    <tr>\n",
       "      <th>1811</th>\n",
       "      <td>3119</td>\n",
       "      <td>300</td>\n",
       "      <td>2015-10-01</td>\n",
       "      <td>3</td>\n",
       "      <td>5.383333</td>\n",
       "      <td>21.972222</td>\n",
       "    </tr>\n",
       "    <tr>\n",
       "      <th>1843</th>\n",
       "      <td>3119</td>\n",
       "      <td>300</td>\n",
       "      <td>2015-11-01</td>\n",
       "      <td>2</td>\n",
       "      <td>5.200000</td>\n",
       "      <td>35.433333</td>\n",
       "    </tr>\n",
       "    <tr>\n",
       "      <th>1905</th>\n",
       "      <td>3119</td>\n",
       "      <td>300</td>\n",
       "      <td>2016-01-01</td>\n",
       "      <td>2</td>\n",
       "      <td>9.950000</td>\n",
       "      <td>22.241667</td>\n",
       "    </tr>\n",
       "    <tr>\n",
       "      <th>1997</th>\n",
       "      <td>3119</td>\n",
       "      <td>300</td>\n",
       "      <td>2016-04-01</td>\n",
       "      <td>1</td>\n",
       "      <td>3.000000</td>\n",
       "      <td>10.850000</td>\n",
       "    </tr>\n",
       "    <tr>\n",
       "      <th>2028</th>\n",
       "      <td>3119</td>\n",
       "      <td>300</td>\n",
       "      <td>2016-05-01</td>\n",
       "      <td>2</td>\n",
       "      <td>4.765000</td>\n",
       "      <td>25.541667</td>\n",
       "    </tr>\n",
       "    <tr>\n",
       "      <th>2152</th>\n",
       "      <td>3119</td>\n",
       "      <td>450</td>\n",
       "      <td>2013-11-01</td>\n",
       "      <td>4</td>\n",
       "      <td>7.540000</td>\n",
       "      <td>22.420833</td>\n",
       "    </tr>\n",
       "    <tr>\n",
       "      <th>2273</th>\n",
       "      <td>3119</td>\n",
       "      <td>450</td>\n",
       "      <td>2014-03-01</td>\n",
       "      <td>3</td>\n",
       "      <td>6.883333</td>\n",
       "      <td>18.572222</td>\n",
       "    </tr>\n",
       "    <tr>\n",
       "      <th>2305</th>\n",
       "      <td>3119</td>\n",
       "      <td>450</td>\n",
       "      <td>2014-04-01</td>\n",
       "      <td>2</td>\n",
       "      <td>7.390000</td>\n",
       "      <td>14.000000</td>\n",
       "    </tr>\n",
       "    <tr>\n",
       "      <th>2336</th>\n",
       "      <td>3119</td>\n",
       "      <td>450</td>\n",
       "      <td>2014-05-01</td>\n",
       "      <td>4</td>\n",
       "      <td>6.030000</td>\n",
       "      <td>20.791667</td>\n",
       "    </tr>\n",
       "    <tr>\n",
       "      <th>2368</th>\n",
       "      <td>3119</td>\n",
       "      <td>450</td>\n",
       "      <td>2014-06-01</td>\n",
       "      <td>6</td>\n",
       "      <td>4.680000</td>\n",
       "      <td>18.705556</td>\n",
       "    </tr>\n",
       "    <tr>\n",
       "      <th>2430</th>\n",
       "      <td>3119</td>\n",
       "      <td>450</td>\n",
       "      <td>2014-08-01</td>\n",
       "      <td>2</td>\n",
       "      <td>3.910000</td>\n",
       "      <td>17.500000</td>\n",
       "    </tr>\n",
       "    <tr>\n",
       "      <th>2462</th>\n",
       "      <td>3119</td>\n",
       "      <td>450</td>\n",
       "      <td>2014-09-01</td>\n",
       "      <td>1</td>\n",
       "      <td>2.900000</td>\n",
       "      <td>17.950000</td>\n",
       "    </tr>\n",
       "    <tr>\n",
       "      <th>2493</th>\n",
       "      <td>3119</td>\n",
       "      <td>450</td>\n",
       "      <td>2014-10-01</td>\n",
       "      <td>2</td>\n",
       "      <td>2.500000</td>\n",
       "      <td>11.308333</td>\n",
       "    </tr>\n",
       "    <tr>\n",
       "      <th>2525</th>\n",
       "      <td>3119</td>\n",
       "      <td>450</td>\n",
       "      <td>2014-11-01</td>\n",
       "      <td>1</td>\n",
       "      <td>0.500000</td>\n",
       "      <td>2.550000</td>\n",
       "    </tr>\n",
       "    <tr>\n",
       "      <th>2618</th>\n",
       "      <td>3119</td>\n",
       "      <td>450</td>\n",
       "      <td>2015-02-01</td>\n",
       "      <td>1</td>\n",
       "      <td>2.240000</td>\n",
       "      <td>1435.250000</td>\n",
       "    </tr>\n",
       "    <tr>\n",
       "      <th>2678</th>\n",
       "      <td>3119</td>\n",
       "      <td>450</td>\n",
       "      <td>2015-04-01</td>\n",
       "      <td>2</td>\n",
       "      <td>9.735000</td>\n",
       "      <td>267.358333</td>\n",
       "    </tr>\n",
       "    <tr>\n",
       "      <th>2709</th>\n",
       "      <td>3119</td>\n",
       "      <td>450</td>\n",
       "      <td>2015-05-01</td>\n",
       "      <td>2</td>\n",
       "      <td>9.015000</td>\n",
       "      <td>511.408333</td>\n",
       "    </tr>\n",
       "    <tr>\n",
       "      <th>2771</th>\n",
       "      <td>3119</td>\n",
       "      <td>450</td>\n",
       "      <td>2015-07-01</td>\n",
       "      <td>2</td>\n",
       "      <td>3.750000</td>\n",
       "      <td>13.041667</td>\n",
       "    </tr>\n",
       "    <tr>\n",
       "      <th>2803</th>\n",
       "      <td>3119</td>\n",
       "      <td>450</td>\n",
       "      <td>2015-08-01</td>\n",
       "      <td>2</td>\n",
       "      <td>6.930000</td>\n",
       "      <td>22.175000</td>\n",
       "    </tr>\n",
       "    <tr>\n",
       "      <th>2865</th>\n",
       "      <td>3119</td>\n",
       "      <td>450</td>\n",
       "      <td>2015-10-01</td>\n",
       "      <td>3</td>\n",
       "      <td>5.383333</td>\n",
       "      <td>21.972222</td>\n",
       "    </tr>\n",
       "    <tr>\n",
       "      <th>2897</th>\n",
       "      <td>3119</td>\n",
       "      <td>450</td>\n",
       "      <td>2015-11-01</td>\n",
       "      <td>2</td>\n",
       "      <td>5.200000</td>\n",
       "      <td>35.433333</td>\n",
       "    </tr>\n",
       "    <tr>\n",
       "      <th>2959</th>\n",
       "      <td>3119</td>\n",
       "      <td>450</td>\n",
       "      <td>2016-01-01</td>\n",
       "      <td>3</td>\n",
       "      <td>7.766667</td>\n",
       "      <td>20.344444</td>\n",
       "    </tr>\n",
       "    <tr>\n",
       "      <th>3051</th>\n",
       "      <td>3119</td>\n",
       "      <td>450</td>\n",
       "      <td>2016-04-01</td>\n",
       "      <td>4</td>\n",
       "      <td>4.122500</td>\n",
       "      <td>19.483333</td>\n",
       "    </tr>\n",
       "    <tr>\n",
       "      <th>3082</th>\n",
       "      <td>3119</td>\n",
       "      <td>450</td>\n",
       "      <td>2016-05-01</td>\n",
       "      <td>3</td>\n",
       "      <td>4.346667</td>\n",
       "      <td>23.711111</td>\n",
       "    </tr>\n",
       "  </tbody>\n",
       "</table>\n",
       "</div>"
      ],
      "text/plain": [
       "      station_id  radius     do_date  yt_do_num_trips  yt_do_trip_distance  \\\n",
       "61          3119     150  2013-11-01                1             3.200000   \n",
       "182         3119     150  2014-03-01                1             2.700000   \n",
       "244         3119     150  2014-05-01                1             4.310000   \n",
       "337         3119     150  2014-08-01                1             4.150000   \n",
       "703         3119     150  2015-08-01                1             7.440000   \n",
       "977         3119     150  2016-05-01                1             3.100000   \n",
       "1101        3119     300  2013-11-01                3             3.943333   \n",
       "1222        3119     300  2014-03-01                3             6.883333   \n",
       "1254        3119     300  2014-04-01                1             7.940000   \n",
       "1285        3119     300  2014-05-01                2             6.840000   \n",
       "1317        3119     300  2014-06-01                4             5.117500   \n",
       "1379        3119     300  2014-08-01                1             4.150000   \n",
       "1441        3119     300  2014-10-01                1             2.300000   \n",
       "1473        3119     300  2014-11-01                1             0.500000   \n",
       "1625        3119     300  2015-04-01                1            17.170000   \n",
       "1717        3119     300  2015-07-01                2             3.750000   \n",
       "1749        3119     300  2015-08-01                1             7.440000   \n",
       "1811        3119     300  2015-10-01                3             5.383333   \n",
       "1843        3119     300  2015-11-01                2             5.200000   \n",
       "1905        3119     300  2016-01-01                2             9.950000   \n",
       "1997        3119     300  2016-04-01                1             3.000000   \n",
       "2028        3119     300  2016-05-01                2             4.765000   \n",
       "2152        3119     450  2013-11-01                4             7.540000   \n",
       "2273        3119     450  2014-03-01                3             6.883333   \n",
       "2305        3119     450  2014-04-01                2             7.390000   \n",
       "2336        3119     450  2014-05-01                4             6.030000   \n",
       "2368        3119     450  2014-06-01                6             4.680000   \n",
       "2430        3119     450  2014-08-01                2             3.910000   \n",
       "2462        3119     450  2014-09-01                1             2.900000   \n",
       "2493        3119     450  2014-10-01                2             2.500000   \n",
       "2525        3119     450  2014-11-01                1             0.500000   \n",
       "2618        3119     450  2015-02-01                1             2.240000   \n",
       "2678        3119     450  2015-04-01                2             9.735000   \n",
       "2709        3119     450  2015-05-01                2             9.015000   \n",
       "2771        3119     450  2015-07-01                2             3.750000   \n",
       "2803        3119     450  2015-08-01                2             6.930000   \n",
       "2865        3119     450  2015-10-01                3             5.383333   \n",
       "2897        3119     450  2015-11-01                2             5.200000   \n",
       "2959        3119     450  2016-01-01                3             7.766667   \n",
       "3051        3119     450  2016-04-01                4             4.122500   \n",
       "3082        3119     450  2016-05-01                3             4.346667   \n",
       "\n",
       "      yt_do_trip_time  \n",
       "61          12.466667  \n",
       "182         12.000000  \n",
       "244         20.000000  \n",
       "337         21.000000  \n",
       "703         19.450000  \n",
       "977         25.016667  \n",
       "1101        18.561111  \n",
       "1222        18.572222  \n",
       "1254        13.000000  \n",
       "1285        18.500000  \n",
       "1317        18.558333  \n",
       "1379        21.000000  \n",
       "1441        11.616667  \n",
       "1473         2.550000  \n",
       "1625       518.016667  \n",
       "1717        13.041667  \n",
       "1749        19.450000  \n",
       "1811        21.972222  \n",
       "1843        35.433333  \n",
       "1905        22.241667  \n",
       "1997        10.850000  \n",
       "2028        25.541667  \n",
       "2152        22.420833  \n",
       "2273        18.572222  \n",
       "2305        14.000000  \n",
       "2336        20.791667  \n",
       "2368        18.705556  \n",
       "2430        17.500000  \n",
       "2462        17.950000  \n",
       "2493        11.308333  \n",
       "2525         2.550000  \n",
       "2618      1435.250000  \n",
       "2678       267.358333  \n",
       "2709       511.408333  \n",
       "2771        13.041667  \n",
       "2803        22.175000  \n",
       "2865        21.972222  \n",
       "2897        35.433333  \n",
       "2959        20.344444  \n",
       "3051        19.483333  \n",
       "3082        23.711111  "
      ]
     },
     "execution_count": 14,
     "metadata": {},
     "output_type": "execute_result"
    }
   ],
   "source": [
    "yt_3119_do[yt_3119_do.duplicated(subset=['station_id','do_date','radius'],keep='last') == True]"
   ]
  },
  {
   "cell_type": "code",
   "execution_count": 15,
   "metadata": {
    "collapsed": false
   },
   "outputs": [
    {
     "data": {
      "text/html": [
       "<div>\n",
       "<table border=\"1\" class=\"dataframe\">\n",
       "  <thead>\n",
       "    <tr style=\"text-align: right;\">\n",
       "      <th></th>\n",
       "      <th>station_id</th>\n",
       "      <th>radius</th>\n",
       "      <th>do_date</th>\n",
       "      <th>gt_do_num_trips</th>\n",
       "      <th>gt_do_trip_distance</th>\n",
       "      <th>gt_do_trip_time</th>\n",
       "    </tr>\n",
       "  </thead>\n",
       "  <tbody>\n",
       "    <tr>\n",
       "      <th>719</th>\n",
       "      <td>3119</td>\n",
       "      <td>150</td>\n",
       "      <td>2015-11-01</td>\n",
       "      <td>2</td>\n",
       "      <td>2.365</td>\n",
       "      <td>711.325000</td>\n",
       "    </tr>\n",
       "    <tr>\n",
       "      <th>1361</th>\n",
       "      <td>3119</td>\n",
       "      <td>300</td>\n",
       "      <td>2014-11-01</td>\n",
       "      <td>1</td>\n",
       "      <td>2.870</td>\n",
       "      <td>1433.083333</td>\n",
       "    </tr>\n",
       "    <tr>\n",
       "      <th>1423</th>\n",
       "      <td>3119</td>\n",
       "      <td>300</td>\n",
       "      <td>2015-01-01</td>\n",
       "      <td>1</td>\n",
       "      <td>7.200</td>\n",
       "      <td>24.666667</td>\n",
       "    </tr>\n",
       "    <tr>\n",
       "      <th>1483</th>\n",
       "      <td>3119</td>\n",
       "      <td>300</td>\n",
       "      <td>2015-03-01</td>\n",
       "      <td>1</td>\n",
       "      <td>4.900</td>\n",
       "      <td>27.450000</td>\n",
       "    </tr>\n",
       "    <tr>\n",
       "      <th>1698</th>\n",
       "      <td>3119</td>\n",
       "      <td>300</td>\n",
       "      <td>2015-10-01</td>\n",
       "      <td>1</td>\n",
       "      <td>0.570</td>\n",
       "      <td>1426.483333</td>\n",
       "    </tr>\n",
       "    <tr>\n",
       "      <th>1730</th>\n",
       "      <td>3119</td>\n",
       "      <td>300</td>\n",
       "      <td>2015-11-01</td>\n",
       "      <td>2</td>\n",
       "      <td>2.365</td>\n",
       "      <td>711.325000</td>\n",
       "    </tr>\n",
       "    <tr>\n",
       "      <th>1913</th>\n",
       "      <td>3119</td>\n",
       "      <td>300</td>\n",
       "      <td>2016-05-01</td>\n",
       "      <td>1</td>\n",
       "      <td>5.000</td>\n",
       "      <td>16.983333</td>\n",
       "    </tr>\n",
       "    <tr>\n",
       "      <th>2136</th>\n",
       "      <td>3119</td>\n",
       "      <td>450</td>\n",
       "      <td>2014-03-01</td>\n",
       "      <td>1</td>\n",
       "      <td>2.300</td>\n",
       "      <td>10.433333</td>\n",
       "    </tr>\n",
       "    <tr>\n",
       "      <th>2382</th>\n",
       "      <td>3119</td>\n",
       "      <td>450</td>\n",
       "      <td>2014-11-01</td>\n",
       "      <td>1</td>\n",
       "      <td>2.870</td>\n",
       "      <td>1433.083333</td>\n",
       "    </tr>\n",
       "    <tr>\n",
       "      <th>2413</th>\n",
       "      <td>3119</td>\n",
       "      <td>450</td>\n",
       "      <td>2014-12-01</td>\n",
       "      <td>1</td>\n",
       "      <td>4.350</td>\n",
       "      <td>18.466667</td>\n",
       "    </tr>\n",
       "    <tr>\n",
       "      <th>2445</th>\n",
       "      <td>3119</td>\n",
       "      <td>450</td>\n",
       "      <td>2015-01-01</td>\n",
       "      <td>1</td>\n",
       "      <td>7.200</td>\n",
       "      <td>24.666667</td>\n",
       "    </tr>\n",
       "    <tr>\n",
       "      <th>2505</th>\n",
       "      <td>3119</td>\n",
       "      <td>450</td>\n",
       "      <td>2015-03-01</td>\n",
       "      <td>1</td>\n",
       "      <td>4.900</td>\n",
       "      <td>27.450000</td>\n",
       "    </tr>\n",
       "    <tr>\n",
       "      <th>2659</th>\n",
       "      <td>3119</td>\n",
       "      <td>450</td>\n",
       "      <td>2015-08-01</td>\n",
       "      <td>1</td>\n",
       "      <td>1.900</td>\n",
       "      <td>9.066667</td>\n",
       "    </tr>\n",
       "    <tr>\n",
       "      <th>2721</th>\n",
       "      <td>3119</td>\n",
       "      <td>450</td>\n",
       "      <td>2015-10-01</td>\n",
       "      <td>1</td>\n",
       "      <td>0.570</td>\n",
       "      <td>1426.483333</td>\n",
       "    </tr>\n",
       "    <tr>\n",
       "      <th>2753</th>\n",
       "      <td>3119</td>\n",
       "      <td>450</td>\n",
       "      <td>2015-11-01</td>\n",
       "      <td>2</td>\n",
       "      <td>2.365</td>\n",
       "      <td>711.325000</td>\n",
       "    </tr>\n",
       "    <tr>\n",
       "      <th>2936</th>\n",
       "      <td>3119</td>\n",
       "      <td>450</td>\n",
       "      <td>2016-05-01</td>\n",
       "      <td>1</td>\n",
       "      <td>5.000</td>\n",
       "      <td>16.983333</td>\n",
       "    </tr>\n",
       "  </tbody>\n",
       "</table>\n",
       "</div>"
      ],
      "text/plain": [
       "      station_id  radius     do_date  gt_do_num_trips  gt_do_trip_distance  \\\n",
       "719         3119     150  2015-11-01                2                2.365   \n",
       "1361        3119     300  2014-11-01                1                2.870   \n",
       "1423        3119     300  2015-01-01                1                7.200   \n",
       "1483        3119     300  2015-03-01                1                4.900   \n",
       "1698        3119     300  2015-10-01                1                0.570   \n",
       "1730        3119     300  2015-11-01                2                2.365   \n",
       "1913        3119     300  2016-05-01                1                5.000   \n",
       "2136        3119     450  2014-03-01                1                2.300   \n",
       "2382        3119     450  2014-11-01                1                2.870   \n",
       "2413        3119     450  2014-12-01                1                4.350   \n",
       "2445        3119     450  2015-01-01                1                7.200   \n",
       "2505        3119     450  2015-03-01                1                4.900   \n",
       "2659        3119     450  2015-08-01                1                1.900   \n",
       "2721        3119     450  2015-10-01                1                0.570   \n",
       "2753        3119     450  2015-11-01                2                2.365   \n",
       "2936        3119     450  2016-05-01                1                5.000   \n",
       "\n",
       "      gt_do_trip_time  \n",
       "719        711.325000  \n",
       "1361      1433.083333  \n",
       "1423        24.666667  \n",
       "1483        27.450000  \n",
       "1698      1426.483333  \n",
       "1730       711.325000  \n",
       "1913        16.983333  \n",
       "2136        10.433333  \n",
       "2382      1433.083333  \n",
       "2413        18.466667  \n",
       "2445        24.666667  \n",
       "2505        27.450000  \n",
       "2659         9.066667  \n",
       "2721      1426.483333  \n",
       "2753       711.325000  \n",
       "2936        16.983333  "
      ]
     },
     "execution_count": 15,
     "metadata": {},
     "output_type": "execute_result"
    }
   ],
   "source": [
    "gt_3119_do[gt_3119_do.duplicated(subset=['station_id','do_date','radius'],keep='last') == True]"
   ]
  },
  {
   "cell_type": "code",
   "execution_count": 16,
   "metadata": {
    "collapsed": false
   },
   "outputs": [
    {
     "data": {
      "text/plain": [
       "(3102, 2961, 3101, 2982)"
      ]
     },
     "execution_count": 16,
     "metadata": {},
     "output_type": "execute_result"
    }
   ],
   "source": [
    "yt_3119_pu = yt_3119_pu.drop_duplicates(subset=['station_id','pu_date','radius'],keep='last')\n",
    "gt_3119_pu = gt_3119_pu.drop_duplicates(subset=['station_id','pu_date','radius'],keep='last')\n",
    "\n",
    "yt_3119_do = yt_3119_do.drop_duplicates(subset=['station_id','do_date','radius'],keep='last')\n",
    "gt_3119_do = gt_3119_do.drop_duplicates(subset=['station_id','do_date','radius'],keep='last')\n",
    "\n",
    "len(yt_3119_pu), len(gt_3119_pu), len(yt_3119_do), len(gt_3119_do)"
   ]
  },
  {
   "cell_type": "code",
   "execution_count": 17,
   "metadata": {
    "collapsed": true
   },
   "outputs": [],
   "source": [
    "taxis_3119_pu = yt_3119_pu.merge(gt_3119_pu, how='outer', on=['station_id','radius','pu_date']).sort_values(by=['radius','pu_date'])\n",
    "taxis_3119_do = yt_3119_do.merge(gt_3119_do, how='outer', on=['station_id','radius','do_date']).sort_values(by=['radius','do_date'])"
   ]
  },
  {
   "cell_type": "code",
   "execution_count": 18,
   "metadata": {
    "collapsed": false
   },
   "outputs": [
    {
     "data": {
      "text/html": [
       "<div>\n",
       "<table border=\"1\" class=\"dataframe\">\n",
       "  <thead>\n",
       "    <tr style=\"text-align: right;\">\n",
       "      <th></th>\n",
       "      <th>station_id</th>\n",
       "      <th>radius</th>\n",
       "      <th>pu_date</th>\n",
       "      <th>yt_pu_num_trips</th>\n",
       "      <th>yt_pu_trip_distance</th>\n",
       "      <th>yt_pu_trip_time</th>\n",
       "      <th>gt_pu_num_trips</th>\n",
       "      <th>gt_pu_trip_distance</th>\n",
       "      <th>gt_pu_trip_time</th>\n",
       "    </tr>\n",
       "  </thead>\n",
       "  <tbody>\n",
       "  </tbody>\n",
       "</table>\n",
       "</div>"
      ],
      "text/plain": [
       "Empty DataFrame\n",
       "Columns: [station_id, radius, pu_date, yt_pu_num_trips, yt_pu_trip_distance, yt_pu_trip_time, gt_pu_num_trips, gt_pu_trip_distance, gt_pu_trip_time]\n",
       "Index: []"
      ]
     },
     "execution_count": 18,
     "metadata": {},
     "output_type": "execute_result"
    }
   ],
   "source": [
    "taxis_3119_pu[taxis_3119_pu.duplicated(subset=['station_id','radius','pu_date'],keep='last') == True]"
   ]
  },
  {
   "cell_type": "code",
   "execution_count": 19,
   "metadata": {
    "collapsed": false
   },
   "outputs": [
    {
     "data": {
      "text/html": [
       "<div>\n",
       "<table border=\"1\" class=\"dataframe\">\n",
       "  <thead>\n",
       "    <tr style=\"text-align: right;\">\n",
       "      <th></th>\n",
       "      <th>station_id</th>\n",
       "      <th>radius</th>\n",
       "      <th>do_date</th>\n",
       "      <th>yt_do_num_trips</th>\n",
       "      <th>yt_do_trip_distance</th>\n",
       "      <th>yt_do_trip_time</th>\n",
       "      <th>gt_do_num_trips</th>\n",
       "      <th>gt_do_trip_distance</th>\n",
       "      <th>gt_do_trip_time</th>\n",
       "    </tr>\n",
       "  </thead>\n",
       "  <tbody>\n",
       "  </tbody>\n",
       "</table>\n",
       "</div>"
      ],
      "text/plain": [
       "Empty DataFrame\n",
       "Columns: [station_id, radius, do_date, yt_do_num_trips, yt_do_trip_distance, yt_do_trip_time, gt_do_num_trips, gt_do_trip_distance, gt_do_trip_time]\n",
       "Index: []"
      ]
     },
     "execution_count": 19,
     "metadata": {},
     "output_type": "execute_result"
    }
   ],
   "source": [
    "taxis_3119_do[taxis_3119_do.duplicated(subset=['station_id','radius','do_date'],keep='last') == True]"
   ]
  },
  {
   "cell_type": "code",
   "execution_count": 20,
   "metadata": {
    "collapsed": false
   },
   "outputs": [
    {
     "data": {
      "text/plain": [
       "(3102, 3102)"
      ]
     },
     "execution_count": 20,
     "metadata": {},
     "output_type": "execute_result"
    }
   ],
   "source": [
    "len(taxis_3119_pu), len(taxis_3119_do)"
   ]
  },
  {
   "cell_type": "code",
   "execution_count": 21,
   "metadata": {
    "collapsed": false
   },
   "outputs": [
    {
     "data": {
      "text/html": [
       "<div>\n",
       "<table border=\"1\" class=\"dataframe\">\n",
       "  <thead>\n",
       "    <tr style=\"text-align: right;\">\n",
       "      <th></th>\n",
       "      <th>station_id</th>\n",
       "      <th>pu_date</th>\n",
       "      <th>cb_pu_num_trips</th>\n",
       "      <th>cb_pu_trip_time</th>\n",
       "      <th>radius</th>\n",
       "      <th>yt_pu_num_trips</th>\n",
       "      <th>yt_pu_trip_distance</th>\n",
       "      <th>yt_pu_trip_time</th>\n",
       "      <th>gt_pu_num_trips</th>\n",
       "      <th>gt_pu_trip_distance</th>\n",
       "      <th>gt_pu_trip_time</th>\n",
       "    </tr>\n",
       "  </thead>\n",
       "  <tbody>\n",
       "  </tbody>\n",
       "</table>\n",
       "</div>"
      ],
      "text/plain": [
       "Empty DataFrame\n",
       "Columns: [station_id, pu_date, cb_pu_num_trips, cb_pu_trip_time, radius, yt_pu_num_trips, yt_pu_trip_distance, yt_pu_trip_time, gt_pu_num_trips, gt_pu_trip_distance, gt_pu_trip_time]\n",
       "Index: []"
      ]
     },
     "execution_count": 21,
     "metadata": {},
     "output_type": "execute_result"
    }
   ],
   "source": [
    "all_3119_pu = cb_pu_3119.merge(taxis_3119_pu, how='outer', on=['station_id','pu_date']).sort_values(by=['pu_date'])\n",
    "all_3119_pu[all_3119_pu.duplicated(subset=['station_id','radius','pu_date'],keep='last') == True]"
   ]
  },
  {
   "cell_type": "code",
   "execution_count": 22,
   "metadata": {
    "collapsed": false
   },
   "outputs": [
    {
     "data": {
      "text/html": [
       "<div>\n",
       "<table border=\"1\" class=\"dataframe\">\n",
       "  <thead>\n",
       "    <tr style=\"text-align: right;\">\n",
       "      <th></th>\n",
       "      <th>station_id</th>\n",
       "      <th>do_date</th>\n",
       "      <th>cb_do_trip_time</th>\n",
       "      <th>cb_do_num_trips</th>\n",
       "      <th>radius</th>\n",
       "      <th>yt_do_num_trips</th>\n",
       "      <th>yt_do_trip_distance</th>\n",
       "      <th>yt_do_trip_time</th>\n",
       "      <th>gt_do_num_trips</th>\n",
       "      <th>gt_do_trip_distance</th>\n",
       "      <th>gt_do_trip_time</th>\n",
       "    </tr>\n",
       "  </thead>\n",
       "  <tbody>\n",
       "  </tbody>\n",
       "</table>\n",
       "</div>"
      ],
      "text/plain": [
       "Empty DataFrame\n",
       "Columns: [station_id, do_date, cb_do_trip_time, cb_do_num_trips, radius, yt_do_num_trips, yt_do_trip_distance, yt_do_trip_time, gt_do_num_trips, gt_do_trip_distance, gt_do_trip_time]\n",
       "Index: []"
      ]
     },
     "execution_count": 22,
     "metadata": {},
     "output_type": "execute_result"
    }
   ],
   "source": [
    "all_3119_do = cb_do_3119.merge(taxis_3119_do, how='outer', on=['station_id','do_date']).sort_values(by=['do_date'])\n",
    "all_3119_do[all_3119_do.duplicated(subset=['station_id','radius','do_date'],keep='last') == True]"
   ]
  },
  {
   "cell_type": "code",
   "execution_count": 23,
   "metadata": {
    "collapsed": false
   },
   "outputs": [
    {
     "data": {
      "text/plain": [
       "(3102, 3102)"
      ]
     },
     "execution_count": 23,
     "metadata": {},
     "output_type": "execute_result"
    }
   ],
   "source": [
    "len(all_3119_pu),len(all_3119_do)"
   ]
  },
  {
   "cell_type": "code",
   "execution_count": 24,
   "metadata": {
    "collapsed": true
   },
   "outputs": [],
   "source": [
    "all_3119_do = all_3119_do.sort_values(by=['radius','do_date'])\n",
    "all_3119_pu = all_3119_pu.sort_values(by=['radius','pu_date'])"
   ]
  },
  {
   "cell_type": "code",
   "execution_count": 25,
   "metadata": {
    "collapsed": true
   },
   "outputs": [],
   "source": [
    "yt_3119_pu.to_csv('data_out_cb/yt_3119_pu.csv')\n",
    "gt_3119_pu.to_csv('data_out_cb/gt_3119_pu.csv')\n",
    "yt_3119_do.to_csv('data_out_cb/yt_3119_do.csv')\n",
    "gt_3119_do.to_csv('data_out_cb/gt_3119_do.csv')"
   ]
  },
  {
   "cell_type": "code",
   "execution_count": 26,
   "metadata": {
    "collapsed": true
   },
   "outputs": [],
   "source": [
    "all_3119_pu.to_csv('data_out_cb/all_3119_pu.csv')\n",
    "all_3119_do.to_csv('data_out_cb/all_3119_do.csv')"
   ]
  },
  {
   "cell_type": "code",
   "execution_count": null,
   "metadata": {
    "collapsed": true
   },
   "outputs": [],
   "source": []
  }
 ],
 "metadata": {
  "kernelspec": {
   "display_name": "Python 2",
   "language": "python",
   "name": "python2"
  },
  "language_info": {
   "codemirror_mode": {
    "name": "ipython",
    "version": 2
   },
   "file_extension": ".py",
   "mimetype": "text/x-python",
   "name": "python",
   "nbconvert_exporter": "python",
   "pygments_lexer": "ipython2",
   "version": "2.7.11"
  }
 },
 "nbformat": 4,
 "nbformat_minor": 0
}
