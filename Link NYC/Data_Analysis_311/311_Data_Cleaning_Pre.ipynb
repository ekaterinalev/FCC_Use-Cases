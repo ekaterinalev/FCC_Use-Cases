{
 "cells": [
  {
   "cell_type": "code",
   "execution_count": 2,
   "metadata": {
    "collapsed": true
   },
   "outputs": [],
   "source": [
    "import pandas as pd\n",
    "from datetime import datetime"
   ]
  },
  {
   "cell_type": "code",
   "execution_count": 3,
   "metadata": {
    "collapsed": false
   },
   "outputs": [
    {
     "name": "stderr",
     "output_type": "stream",
     "text": [
      "/Users/achillessaxby/anaconda/lib/python2.7/site-packages/IPython/core/interactiveshell.py:2723: DtypeWarning: Columns (4) have mixed types. Specify dtype option on import or set low_memory=False.\n",
      "  interactivity=interactivity, compiler=compiler, result=result)\n"
     ]
    },
    {
     "data": {
      "text/html": [
       "<div>\n",
       "<table border=\"1\" class=\"dataframe\">\n",
       "  <thead>\n",
       "    <tr style=\"text-align: right;\">\n",
       "      <th></th>\n",
       "      <th>Created Date</th>\n",
       "      <th>Agency</th>\n",
       "      <th>Agency Name</th>\n",
       "      <th>Complaint Type</th>\n",
       "      <th>Incident Zip</th>\n",
       "      <th>X Coordinate (State Plane)</th>\n",
       "      <th>Y Coordinate (State Plane)</th>\n",
       "      <th>Latitude</th>\n",
       "      <th>Longitude</th>\n",
       "      <th>Location</th>\n",
       "    </tr>\n",
       "  </thead>\n",
       "  <tbody>\n",
       "    <tr>\n",
       "      <th>0</th>\n",
       "      <td>05/10/2010 12:00:00 AM</td>\n",
       "      <td>HPD</td>\n",
       "      <td>Department of Housing Preservation and Develop...</td>\n",
       "      <td>APPLIANCE</td>\n",
       "      <td>10454</td>\n",
       "      <td>1005638.0</td>\n",
       "      <td>234147.0</td>\n",
       "      <td>40.809329</td>\n",
       "      <td>-73.922738</td>\n",
       "      <td>(40.80932936717553, -73.9227384911341)</td>\n",
       "    </tr>\n",
       "    <tr>\n",
       "      <th>1</th>\n",
       "      <td>05/10/2010 12:00:00 AM</td>\n",
       "      <td>HPD</td>\n",
       "      <td>Department of Housing Preservation and Develop...</td>\n",
       "      <td>APPLIANCE</td>\n",
       "      <td>10459</td>\n",
       "      <td>1014575.0</td>\n",
       "      <td>239297.0</td>\n",
       "      <td>40.823439</td>\n",
       "      <td>-73.890431</td>\n",
       "      <td>(40.82343850709147, -73.89043144098281)</td>\n",
       "    </tr>\n",
       "    <tr>\n",
       "      <th>2</th>\n",
       "      <td>05/10/2010 12:00:00 AM</td>\n",
       "      <td>HPD</td>\n",
       "      <td>Department of Housing Preservation and Develop...</td>\n",
       "      <td>PLUMBING</td>\n",
       "      <td>11373</td>\n",
       "      <td>1019123.0</td>\n",
       "      <td>210386.0</td>\n",
       "      <td>40.744069</td>\n",
       "      <td>-73.874149</td>\n",
       "      <td>(40.74406880836881, -73.87414896523073)</td>\n",
       "    </tr>\n",
       "    <tr>\n",
       "      <th>3</th>\n",
       "      <td>05/10/2010 12:00:00 AM</td>\n",
       "      <td>HPD</td>\n",
       "      <td>Department of Housing Preservation and Develop...</td>\n",
       "      <td>PLUMBING</td>\n",
       "      <td>10460</td>\n",
       "      <td>1015599.0</td>\n",
       "      <td>243063.0</td>\n",
       "      <td>40.833772</td>\n",
       "      <td>-73.886714</td>\n",
       "      <td>(40.83377151700781, -73.88671398918511)</td>\n",
       "    </tr>\n",
       "    <tr>\n",
       "      <th>4</th>\n",
       "      <td>05/10/2010 12:00:00 AM</td>\n",
       "      <td>HPD</td>\n",
       "      <td>Department of Housing Preservation and Develop...</td>\n",
       "      <td>PLUMBING</td>\n",
       "      <td>11225</td>\n",
       "      <td>996197.0</td>\n",
       "      <td>181752.0</td>\n",
       "      <td>40.665536</td>\n",
       "      <td>-73.956936</td>\n",
       "      <td>(40.66553592293138, -73.95693597811109)</td>\n",
       "    </tr>\n",
       "  </tbody>\n",
       "</table>\n",
       "</div>"
      ],
      "text/plain": [
       "             Created Date Agency  \\\n",
       "0  05/10/2010 12:00:00 AM    HPD   \n",
       "1  05/10/2010 12:00:00 AM    HPD   \n",
       "2  05/10/2010 12:00:00 AM    HPD   \n",
       "3  05/10/2010 12:00:00 AM    HPD   \n",
       "4  05/10/2010 12:00:00 AM    HPD   \n",
       "\n",
       "                                         Agency Name Complaint Type  \\\n",
       "0  Department of Housing Preservation and Develop...      APPLIANCE   \n",
       "1  Department of Housing Preservation and Develop...      APPLIANCE   \n",
       "2  Department of Housing Preservation and Develop...       PLUMBING   \n",
       "3  Department of Housing Preservation and Develop...       PLUMBING   \n",
       "4  Department of Housing Preservation and Develop...       PLUMBING   \n",
       "\n",
       "  Incident Zip  X Coordinate (State Plane)  Y Coordinate (State Plane)  \\\n",
       "0        10454                   1005638.0                    234147.0   \n",
       "1        10459                   1014575.0                    239297.0   \n",
       "2        11373                   1019123.0                    210386.0   \n",
       "3        10460                   1015599.0                    243063.0   \n",
       "4        11225                    996197.0                    181752.0   \n",
       "\n",
       "    Latitude  Longitude                                 Location  \n",
       "0  40.809329 -73.922738   (40.80932936717553, -73.9227384911341)  \n",
       "1  40.823439 -73.890431  (40.82343850709147, -73.89043144098281)  \n",
       "2  40.744069 -73.874149  (40.74406880836881, -73.87414896523073)  \n",
       "3  40.833772 -73.886714  (40.83377151700781, -73.88671398918511)  \n",
       "4  40.665536 -73.956936  (40.66553592293138, -73.95693597811109)  "
      ]
     },
     "execution_count": 3,
     "metadata": {},
     "output_type": "execute_result"
    }
   ],
   "source": [
    "data_p311 = pd.read_csv(\"311_Pre_2011.csv\")\n",
    "data_p311.head()"
   ]
  },
  {
   "cell_type": "code",
   "execution_count": 4,
   "metadata": {
    "collapsed": false
   },
   "outputs": [
    {
     "name": "stderr",
     "output_type": "stream",
     "text": [
      "/Users/achillessaxby/anaconda/lib/python2.7/site-packages/IPython/core/interactiveshell.py:2723: DtypeWarning: Columns (2) have mixed types. Specify dtype option on import or set low_memory=False.\n",
      "  interactivity=interactivity, compiler=compiler, result=result)\n"
     ]
    },
    {
     "data": {
      "text/html": [
       "<div>\n",
       "<table border=\"1\" class=\"dataframe\">\n",
       "  <thead>\n",
       "    <tr style=\"text-align: right;\">\n",
       "      <th></th>\n",
       "      <th>Created Date</th>\n",
       "      <th>Complaint Type</th>\n",
       "      <th>Incident Zip</th>\n",
       "      <th>X Coordinate (State Plane)</th>\n",
       "      <th>Y Coordinate (State Plane)</th>\n",
       "      <th>Latitude</th>\n",
       "      <th>Longitude</th>\n",
       "      <th>Location</th>\n",
       "    </tr>\n",
       "  </thead>\n",
       "  <tbody>\n",
       "    <tr>\n",
       "      <th>0</th>\n",
       "      <td>01/12/2011 03:06:20 PM</td>\n",
       "      <td>Stalled Sites</td>\n",
       "      <td>10006</td>\n",
       "      <td>980500.0</td>\n",
       "      <td>197272.0</td>\n",
       "      <td>40.708142</td>\n",
       "      <td>-74.013526</td>\n",
       "      <td>(40.70814203196457, -74.01352584698965)</td>\n",
       "    </tr>\n",
       "    <tr>\n",
       "      <th>1</th>\n",
       "      <td>01/31/2011 03:09:22 PM</td>\n",
       "      <td>Smoking</td>\n",
       "      <td>11354</td>\n",
       "      <td>1031310.0</td>\n",
       "      <td>215799.0</td>\n",
       "      <td>40.758870</td>\n",
       "      <td>-73.830130</td>\n",
       "      <td>(40.75886964114406, -73.83013026118377)</td>\n",
       "    </tr>\n",
       "    <tr>\n",
       "      <th>2</th>\n",
       "      <td>03/03/2011 04:27:13 PM</td>\n",
       "      <td>Smoking</td>\n",
       "      <td>10301</td>\n",
       "      <td>960792.0</td>\n",
       "      <td>171035.0</td>\n",
       "      <td>40.636097</td>\n",
       "      <td>-74.084519</td>\n",
       "      <td>(40.636097085879555, -74.0845191507043)</td>\n",
       "    </tr>\n",
       "    <tr>\n",
       "      <th>3</th>\n",
       "      <td>03/06/2011 09:45:56 PM</td>\n",
       "      <td>Smoking</td>\n",
       "      <td>10467</td>\n",
       "      <td>1018078.0</td>\n",
       "      <td>261421.0</td>\n",
       "      <td>40.884150</td>\n",
       "      <td>-73.877663</td>\n",
       "      <td>(40.88414951808322, -73.87766297790301)</td>\n",
       "    </tr>\n",
       "    <tr>\n",
       "      <th>4</th>\n",
       "      <td>05/23/2011 09:19:00 AM</td>\n",
       "      <td>Sewer</td>\n",
       "      <td>NaN</td>\n",
       "      <td>NaN</td>\n",
       "      <td>NaN</td>\n",
       "      <td>NaN</td>\n",
       "      <td>NaN</td>\n",
       "      <td>NaN</td>\n",
       "    </tr>\n",
       "  </tbody>\n",
       "</table>\n",
       "</div>"
      ],
      "text/plain": [
       "             Created Date Complaint Type Incident Zip  \\\n",
       "0  01/12/2011 03:06:20 PM  Stalled Sites        10006   \n",
       "1  01/31/2011 03:09:22 PM        Smoking        11354   \n",
       "2  03/03/2011 04:27:13 PM        Smoking        10301   \n",
       "3  03/06/2011 09:45:56 PM        Smoking        10467   \n",
       "4  05/23/2011 09:19:00 AM          Sewer          NaN   \n",
       "\n",
       "   X Coordinate (State Plane)  Y Coordinate (State Plane)   Latitude  \\\n",
       "0                    980500.0                    197272.0  40.708142   \n",
       "1                   1031310.0                    215799.0  40.758870   \n",
       "2                    960792.0                    171035.0  40.636097   \n",
       "3                   1018078.0                    261421.0  40.884150   \n",
       "4                         NaN                         NaN        NaN   \n",
       "\n",
       "   Longitude                                 Location  \n",
       "0 -74.013526  (40.70814203196457, -74.01352584698965)  \n",
       "1 -73.830130  (40.75886964114406, -73.83013026118377)  \n",
       "2 -74.084519  (40.636097085879555, -74.0845191507043)  \n",
       "3 -73.877663  (40.88414951808322, -73.87766297790301)  \n",
       "4        NaN                                      NaN  "
      ]
     },
     "execution_count": 4,
     "metadata": {},
     "output_type": "execute_result"
    }
   ],
   "source": [
    "data_1112 = pd.read_csv(\"2011-12.csv\")\n",
    "data_1112.head()"
   ]
  },
  {
   "cell_type": "code",
   "execution_count": 5,
   "metadata": {
    "collapsed": false
   },
   "outputs": [
    {
     "data": {
      "text/html": [
       "<div>\n",
       "<table border=\"1\" class=\"dataframe\">\n",
       "  <thead>\n",
       "    <tr style=\"text-align: right;\">\n",
       "      <th></th>\n",
       "      <th>Created Date</th>\n",
       "      <th>Complaint Type</th>\n",
       "      <th>Incident Zip</th>\n",
       "      <th>X Coordinate (State Plane)</th>\n",
       "      <th>Y Coordinate (State Plane)</th>\n",
       "      <th>Latitude</th>\n",
       "      <th>Longitude</th>\n",
       "      <th>Location</th>\n",
       "    </tr>\n",
       "  </thead>\n",
       "  <tbody>\n",
       "    <tr>\n",
       "      <th>0</th>\n",
       "      <td>01/05/2012 06:41:08 PM</td>\n",
       "      <td>Smoking</td>\n",
       "      <td>10468</td>\n",
       "      <td>1009360.0</td>\n",
       "      <td>253385.0</td>\n",
       "      <td>40.862122</td>\n",
       "      <td>-73.909221</td>\n",
       "      <td>(40.86212228992487, -73.90922121571127)</td>\n",
       "    </tr>\n",
       "    <tr>\n",
       "      <th>1</th>\n",
       "      <td>01/08/2012 01:06:53 PM</td>\n",
       "      <td>Non-Residential Heat</td>\n",
       "      <td>11206</td>\n",
       "      <td>999829.0</td>\n",
       "      <td>198346.0</td>\n",
       "      <td>40.711077</td>\n",
       "      <td>-73.943806</td>\n",
       "      <td>(40.711076986346214, -73.94380574345548)</td>\n",
       "    </tr>\n",
       "    <tr>\n",
       "      <th>2</th>\n",
       "      <td>01/10/2012 05:07:55 PM</td>\n",
       "      <td>Smoking</td>\n",
       "      <td>10021</td>\n",
       "      <td>994875.0</td>\n",
       "      <td>219875.0</td>\n",
       "      <td>40.770176</td>\n",
       "      <td>-73.961641</td>\n",
       "      <td>(40.7701760655427, -73.96164106841557)</td>\n",
       "    </tr>\n",
       "    <tr>\n",
       "      <th>3</th>\n",
       "      <td>01/11/2012 10:17:10 AM</td>\n",
       "      <td>Smoking</td>\n",
       "      <td>11207</td>\n",
       "      <td>1015426.0</td>\n",
       "      <td>177561.0</td>\n",
       "      <td>40.653986</td>\n",
       "      <td>-73.887643</td>\n",
       "      <td>(40.65398573187911, -73.88764277035244)</td>\n",
       "    </tr>\n",
       "    <tr>\n",
       "      <th>4</th>\n",
       "      <td>02/22/2012 12:59:46 PM</td>\n",
       "      <td>General Construction/Plumbing</td>\n",
       "      <td>10455</td>\n",
       "      <td>1011913.0</td>\n",
       "      <td>236723.0</td>\n",
       "      <td>40.816382</td>\n",
       "      <td>-73.900060</td>\n",
       "      <td>(40.81638234521403, -73.90006022932145)</td>\n",
       "    </tr>\n",
       "  </tbody>\n",
       "</table>\n",
       "</div>"
      ],
      "text/plain": [
       "             Created Date                 Complaint Type Incident Zip  \\\n",
       "0  01/05/2012 06:41:08 PM                        Smoking        10468   \n",
       "1  01/08/2012 01:06:53 PM           Non-Residential Heat        11206   \n",
       "2  01/10/2012 05:07:55 PM                        Smoking        10021   \n",
       "3  01/11/2012 10:17:10 AM                        Smoking        11207   \n",
       "4  02/22/2012 12:59:46 PM  General Construction/Plumbing        10455   \n",
       "\n",
       "   X Coordinate (State Plane)  Y Coordinate (State Plane)   Latitude  \\\n",
       "0                   1009360.0                    253385.0  40.862122   \n",
       "1                    999829.0                    198346.0  40.711077   \n",
       "2                    994875.0                    219875.0  40.770176   \n",
       "3                   1015426.0                    177561.0  40.653986   \n",
       "4                   1011913.0                    236723.0  40.816382   \n",
       "\n",
       "   Longitude                                  Location  \n",
       "0 -73.909221   (40.86212228992487, -73.90922121571127)  \n",
       "1 -73.943806  (40.711076986346214, -73.94380574345548)  \n",
       "2 -73.961641    (40.7701760655427, -73.96164106841557)  \n",
       "3 -73.887643   (40.65398573187911, -73.88764277035244)  \n",
       "4 -73.900060   (40.81638234521403, -73.90006022932145)  "
      ]
     },
     "execution_count": 5,
     "metadata": {},
     "output_type": "execute_result"
    }
   ],
   "source": [
    "data_1213 = pd.read_csv(\"2012-13.csv\")\n",
    "data_1213.head()"
   ]
  },
  {
   "cell_type": "code",
   "execution_count": 6,
   "metadata": {
    "collapsed": false
   },
   "outputs": [
    {
     "name": "stderr",
     "output_type": "stream",
     "text": [
      "/Users/achillessaxby/anaconda/lib/python2.7/site-packages/IPython/core/interactiveshell.py:2723: DtypeWarning: Columns (3) have mixed types. Specify dtype option on import or set low_memory=False.\n",
      "  interactivity=interactivity, compiler=compiler, result=result)\n"
     ]
    },
    {
     "data": {
      "text/html": [
       "<div>\n",
       "<table border=\"1\" class=\"dataframe\">\n",
       "  <thead>\n",
       "    <tr style=\"text-align: right;\">\n",
       "      <th></th>\n",
       "      <th>Created Date</th>\n",
       "      <th>Agency</th>\n",
       "      <th>Complaint Type</th>\n",
       "      <th>Incident Zip</th>\n",
       "      <th>X Coordinate (State Plane)</th>\n",
       "      <th>Y Coordinate (State Plane)</th>\n",
       "      <th>Latitude</th>\n",
       "      <th>Longitude</th>\n",
       "      <th>Location</th>\n",
       "    </tr>\n",
       "  </thead>\n",
       "  <tbody>\n",
       "    <tr>\n",
       "      <th>0</th>\n",
       "      <td>10/01/2013 01:43:52 PM</td>\n",
       "      <td>DOB</td>\n",
       "      <td>General Construction/Plumbing</td>\n",
       "      <td>11230</td>\n",
       "      <td>993889.0</td>\n",
       "      <td>167119.0</td>\n",
       "      <td>40.625374</td>\n",
       "      <td>-73.965276</td>\n",
       "      <td>(40.6253743118371, -73.96527627658917)</td>\n",
       "    </tr>\n",
       "    <tr>\n",
       "      <th>1</th>\n",
       "      <td>01/19/2013 06:21:02 PM</td>\n",
       "      <td>DOHMH</td>\n",
       "      <td>Smoking</td>\n",
       "      <td>11106</td>\n",
       "      <td>1001933.0</td>\n",
       "      <td>217572.0</td>\n",
       "      <td>40.763844</td>\n",
       "      <td>-73.936166</td>\n",
       "      <td>(40.763843628219504, -73.93616597320083)</td>\n",
       "    </tr>\n",
       "    <tr>\n",
       "      <th>2</th>\n",
       "      <td>01/23/2013 12:24:53 AM</td>\n",
       "      <td>DOHMH</td>\n",
       "      <td>Non-Residential Heat</td>\n",
       "      <td>11233</td>\n",
       "      <td>1009644.0</td>\n",
       "      <td>185648.0</td>\n",
       "      <td>40.676201</td>\n",
       "      <td>-73.908450</td>\n",
       "      <td>(40.67620120872071, -73.90845042192403)</td>\n",
       "    </tr>\n",
       "    <tr>\n",
       "      <th>3</th>\n",
       "      <td>01/25/2013 03:41:18 PM</td>\n",
       "      <td>DOHMH</td>\n",
       "      <td>Non-Residential Heat</td>\n",
       "      <td>11213</td>\n",
       "      <td>1004408.0</td>\n",
       "      <td>183847.0</td>\n",
       "      <td>40.671271</td>\n",
       "      <td>-73.927332</td>\n",
       "      <td>(40.67127134171268, -73.92733244608434)</td>\n",
       "    </tr>\n",
       "    <tr>\n",
       "      <th>4</th>\n",
       "      <td>01/28/2013 03:41:50 PM</td>\n",
       "      <td>DOB</td>\n",
       "      <td>General Construction/Plumbing</td>\n",
       "      <td>11101</td>\n",
       "      <td>996676.0</td>\n",
       "      <td>211026.0</td>\n",
       "      <td>40.745885</td>\n",
       "      <td>-73.955155</td>\n",
       "      <td>(40.74588547678187, -73.95515535997583)</td>\n",
       "    </tr>\n",
       "  </tbody>\n",
       "</table>\n",
       "</div>"
      ],
      "text/plain": [
       "             Created Date Agency                 Complaint Type Incident Zip  \\\n",
       "0  10/01/2013 01:43:52 PM    DOB  General Construction/Plumbing        11230   \n",
       "1  01/19/2013 06:21:02 PM  DOHMH                        Smoking        11106   \n",
       "2  01/23/2013 12:24:53 AM  DOHMH           Non-Residential Heat        11233   \n",
       "3  01/25/2013 03:41:18 PM  DOHMH           Non-Residential Heat        11213   \n",
       "4  01/28/2013 03:41:50 PM    DOB  General Construction/Plumbing        11101   \n",
       "\n",
       "   X Coordinate (State Plane)  Y Coordinate (State Plane)   Latitude  \\\n",
       "0                    993889.0                    167119.0  40.625374   \n",
       "1                   1001933.0                    217572.0  40.763844   \n",
       "2                   1009644.0                    185648.0  40.676201   \n",
       "3                   1004408.0                    183847.0  40.671271   \n",
       "4                    996676.0                    211026.0  40.745885   \n",
       "\n",
       "   Longitude                                  Location  \n",
       "0 -73.965276    (40.6253743118371, -73.96527627658917)  \n",
       "1 -73.936166  (40.763843628219504, -73.93616597320083)  \n",
       "2 -73.908450   (40.67620120872071, -73.90845042192403)  \n",
       "3 -73.927332   (40.67127134171268, -73.92733244608434)  \n",
       "4 -73.955155   (40.74588547678187, -73.95515535997583)  "
      ]
     },
     "execution_count": 6,
     "metadata": {},
     "output_type": "execute_result"
    }
   ],
   "source": [
    "data_1314 = pd.read_csv(\"2013-14.csv\")\n",
    "data_1314.head()"
   ]
  },
  {
   "cell_type": "code",
   "execution_count": 7,
   "metadata": {
    "collapsed": false
   },
   "outputs": [
    {
     "data": {
      "text/html": [
       "<div>\n",
       "<table border=\"1\" class=\"dataframe\">\n",
       "  <thead>\n",
       "    <tr style=\"text-align: right;\">\n",
       "      <th></th>\n",
       "      <th>Created Date</th>\n",
       "      <th>Complaint Type</th>\n",
       "      <th>Incident Zip</th>\n",
       "      <th>X Coordinate (State Plane)</th>\n",
       "      <th>Y Coordinate (State Plane)</th>\n",
       "      <th>Latitude</th>\n",
       "      <th>Longitude</th>\n",
       "      <th>Location</th>\n",
       "    </tr>\n",
       "  </thead>\n",
       "  <tbody>\n",
       "    <tr>\n",
       "      <th>0</th>\n",
       "      <td>01/02/2014 09:56:35 AM</td>\n",
       "      <td>DOF Property - Reduction Issue</td>\n",
       "      <td>10455</td>\n",
       "      <td>NaN</td>\n",
       "      <td>NaN</td>\n",
       "      <td>NaN</td>\n",
       "      <td>NaN</td>\n",
       "      <td>NaN</td>\n",
       "    </tr>\n",
       "    <tr>\n",
       "      <th>1</th>\n",
       "      <td>01/01/2014 01:43:59 AM</td>\n",
       "      <td>Blocked Driveway</td>\n",
       "      <td>11105</td>\n",
       "      <td>1011905.0</td>\n",
       "      <td>220241.0</td>\n",
       "      <td>40.771144</td>\n",
       "      <td>-73.900157</td>\n",
       "      <td>(40.77114376681425, -73.90015700109045)</td>\n",
       "    </tr>\n",
       "    <tr>\n",
       "      <th>2</th>\n",
       "      <td>01/01/2014 02:40:43 AM</td>\n",
       "      <td>Blocked Driveway</td>\n",
       "      <td>11419</td>\n",
       "      <td>1029742.0</td>\n",
       "      <td>190764.0</td>\n",
       "      <td>40.690163</td>\n",
       "      <td>-73.835959</td>\n",
       "      <td>(40.69016297012941, -73.83595939389049)</td>\n",
       "    </tr>\n",
       "    <tr>\n",
       "      <th>3</th>\n",
       "      <td>01/01/2014 12:43:46 AM</td>\n",
       "      <td>Illegal Parking</td>\n",
       "      <td>11385</td>\n",
       "      <td>1017254.0</td>\n",
       "      <td>195852.0</td>\n",
       "      <td>40.704184</td>\n",
       "      <td>-73.880965</td>\n",
       "      <td>(40.70418371191333, -73.88096515118515)</td>\n",
       "    </tr>\n",
       "    <tr>\n",
       "      <th>4</th>\n",
       "      <td>01/01/2014 02:53:18 AM</td>\n",
       "      <td>Noise - Residential</td>\n",
       "      <td>11219</td>\n",
       "      <td>985062.0</td>\n",
       "      <td>173714.0</td>\n",
       "      <td>40.643481</td>\n",
       "      <td>-73.997074</td>\n",
       "      <td>(40.64348139274596, -73.99707404148495)</td>\n",
       "    </tr>\n",
       "  </tbody>\n",
       "</table>\n",
       "</div>"
      ],
      "text/plain": [
       "             Created Date                  Complaint Type Incident Zip  \\\n",
       "0  01/02/2014 09:56:35 AM  DOF Property - Reduction Issue        10455   \n",
       "1  01/01/2014 01:43:59 AM                Blocked Driveway        11105   \n",
       "2  01/01/2014 02:40:43 AM                Blocked Driveway        11419   \n",
       "3  01/01/2014 12:43:46 AM                 Illegal Parking        11385   \n",
       "4  01/01/2014 02:53:18 AM             Noise - Residential        11219   \n",
       "\n",
       "   X Coordinate (State Plane)  Y Coordinate (State Plane)   Latitude  \\\n",
       "0                         NaN                         NaN        NaN   \n",
       "1                   1011905.0                    220241.0  40.771144   \n",
       "2                   1029742.0                    190764.0  40.690163   \n",
       "3                   1017254.0                    195852.0  40.704184   \n",
       "4                    985062.0                    173714.0  40.643481   \n",
       "\n",
       "   Longitude                                 Location  \n",
       "0        NaN                                      NaN  \n",
       "1 -73.900157  (40.77114376681425, -73.90015700109045)  \n",
       "2 -73.835959  (40.69016297012941, -73.83595939389049)  \n",
       "3 -73.880965  (40.70418371191333, -73.88096515118515)  \n",
       "4 -73.997074  (40.64348139274596, -73.99707404148495)  "
      ]
     },
     "execution_count": 7,
     "metadata": {},
     "output_type": "execute_result"
    }
   ],
   "source": [
    "data_1415 = pd.read_csv(\"2014-15.csv\")\n",
    "data_1415.head()"
   ]
  },
  {
   "cell_type": "code",
   "execution_count": 8,
   "metadata": {
    "collapsed": false
   },
   "outputs": [
    {
     "data": {
      "text/html": [
       "<div>\n",
       "<table border=\"1\" class=\"dataframe\">\n",
       "  <thead>\n",
       "    <tr style=\"text-align: right;\">\n",
       "      <th></th>\n",
       "      <th>Created Date</th>\n",
       "      <th>Complaint Type</th>\n",
       "      <th>Incident Zip</th>\n",
       "      <th>X Coordinate (State Plane)</th>\n",
       "      <th>Y Coordinate (State Plane)</th>\n",
       "      <th>Latitude</th>\n",
       "      <th>Longitude</th>\n",
       "      <th>Location</th>\n",
       "    </tr>\n",
       "  </thead>\n",
       "  <tbody>\n",
       "    <tr>\n",
       "      <th>0</th>\n",
       "      <td>10/01/2015 12:00:00 AM</td>\n",
       "      <td>Unsanitary Animal Pvt Property</td>\n",
       "      <td>11414</td>\n",
       "      <td>1028301.0</td>\n",
       "      <td>179928.0</td>\n",
       "      <td>40.660428</td>\n",
       "      <td>-73.841226</td>\n",
       "      <td>(40.66042792940118, -73.84122633877455)</td>\n",
       "    </tr>\n",
       "    <tr>\n",
       "      <th>1</th>\n",
       "      <td>10/01/2015 12:00:00 AM</td>\n",
       "      <td>Unsanitary Pigeon Condition</td>\n",
       "      <td>11215</td>\n",
       "      <td>990244.0</td>\n",
       "      <td>181678.0</td>\n",
       "      <td>40.665339</td>\n",
       "      <td>-73.978394</td>\n",
       "      <td>(40.66533884086236, -73.97839415947483)</td>\n",
       "    </tr>\n",
       "    <tr>\n",
       "      <th>2</th>\n",
       "      <td>10/01/2015 12:00:00 AM</td>\n",
       "      <td>Unsanitary Animal Pvt Property</td>\n",
       "      <td>10301</td>\n",
       "      <td>955037.0</td>\n",
       "      <td>170033.0</td>\n",
       "      <td>40.633330</td>\n",
       "      <td>-74.105250</td>\n",
       "      <td>(40.63332969998893, -74.10525005425679)</td>\n",
       "    </tr>\n",
       "    <tr>\n",
       "      <th>3</th>\n",
       "      <td>10/01/2015 12:00:00 AM</td>\n",
       "      <td>Unsanitary Animal Pvt Property</td>\n",
       "      <td>11417</td>\n",
       "      <td>1029210.0</td>\n",
       "      <td>188627.0</td>\n",
       "      <td>40.684300</td>\n",
       "      <td>-73.837892</td>\n",
       "      <td>(40.68430012358396, -73.83789200050686)</td>\n",
       "    </tr>\n",
       "    <tr>\n",
       "      <th>4</th>\n",
       "      <td>10/01/2015 12:00:00 AM</td>\n",
       "      <td>Unsanitary Animal Pvt Property</td>\n",
       "      <td>10016</td>\n",
       "      <td>990185.0</td>\n",
       "      <td>211350.0</td>\n",
       "      <td>40.746782</td>\n",
       "      <td>-73.978581</td>\n",
       "      <td>(40.74678151406556, -73.97858067686367)</td>\n",
       "    </tr>\n",
       "  </tbody>\n",
       "</table>\n",
       "</div>"
      ],
      "text/plain": [
       "             Created Date                  Complaint Type Incident Zip  \\\n",
       "0  10/01/2015 12:00:00 AM  Unsanitary Animal Pvt Property        11414   \n",
       "1  10/01/2015 12:00:00 AM     Unsanitary Pigeon Condition        11215   \n",
       "2  10/01/2015 12:00:00 AM  Unsanitary Animal Pvt Property        10301   \n",
       "3  10/01/2015 12:00:00 AM  Unsanitary Animal Pvt Property        11417   \n",
       "4  10/01/2015 12:00:00 AM  Unsanitary Animal Pvt Property        10016   \n",
       "\n",
       "   X Coordinate (State Plane)  Y Coordinate (State Plane)   Latitude  \\\n",
       "0                   1028301.0                    179928.0  40.660428   \n",
       "1                    990244.0                    181678.0  40.665339   \n",
       "2                    955037.0                    170033.0  40.633330   \n",
       "3                   1029210.0                    188627.0  40.684300   \n",
       "4                    990185.0                    211350.0  40.746782   \n",
       "\n",
       "   Longitude                                 Location  \n",
       "0 -73.841226  (40.66042792940118, -73.84122633877455)  \n",
       "1 -73.978394  (40.66533884086236, -73.97839415947483)  \n",
       "2 -74.105250  (40.63332969998893, -74.10525005425679)  \n",
       "3 -73.837892  (40.68430012358396, -73.83789200050686)  \n",
       "4 -73.978581  (40.74678151406556, -73.97858067686367)  "
      ]
     },
     "execution_count": 8,
     "metadata": {},
     "output_type": "execute_result"
    }
   ],
   "source": [
    "data_1516 = pd.read_csv(\"2015-16.csv\")\n",
    "data_1516.head()"
   ]
  },
  {
   "cell_type": "code",
   "execution_count": 9,
   "metadata": {
    "collapsed": false
   },
   "outputs": [
    {
     "data": {
      "text/html": [
       "<div>\n",
       "<table border=\"1\" class=\"dataframe\">\n",
       "  <thead>\n",
       "    <tr style=\"text-align: right;\">\n",
       "      <th></th>\n",
       "      <th>Created Date</th>\n",
       "      <th>Complaint Type</th>\n",
       "      <th>Incident Zip</th>\n",
       "      <th>X Coordinate (State Plane)</th>\n",
       "      <th>Y Coordinate (State Plane)</th>\n",
       "      <th>Latitude</th>\n",
       "      <th>Longitude</th>\n",
       "      <th>Location</th>\n",
       "    </tr>\n",
       "  </thead>\n",
       "  <tbody>\n",
       "    <tr>\n",
       "      <th>0</th>\n",
       "      <td>02/03/2017 03:41:50 PM</td>\n",
       "      <td>Blocked Driveway</td>\n",
       "      <td>NaN</td>\n",
       "      <td>NaN</td>\n",
       "      <td>NaN</td>\n",
       "      <td>NaN</td>\n",
       "      <td>NaN</td>\n",
       "      <td>NaN</td>\n",
       "    </tr>\n",
       "    <tr>\n",
       "      <th>1</th>\n",
       "      <td>02/03/2017 10:24:00 AM</td>\n",
       "      <td>Missed Collection (All Materials)</td>\n",
       "      <td>11211</td>\n",
       "      <td>995733.0</td>\n",
       "      <td>197462.0</td>\n",
       "      <td>40.708657</td>\n",
       "      <td>-73.958582</td>\n",
       "      <td>(40.70865688036097, -73.95858173179646)</td>\n",
       "    </tr>\n",
       "    <tr>\n",
       "      <th>2</th>\n",
       "      <td>02/03/2017 03:22:38 PM</td>\n",
       "      <td>General Construction/Plumbing</td>\n",
       "      <td>11432</td>\n",
       "      <td>1043581.0</td>\n",
       "      <td>199151.0</td>\n",
       "      <td>40.713101</td>\n",
       "      <td>-73.785983</td>\n",
       "      <td>(40.71310129919592, -73.78598332501407)</td>\n",
       "    </tr>\n",
       "    <tr>\n",
       "      <th>3</th>\n",
       "      <td>02/03/2017 05:39:00 AM</td>\n",
       "      <td>Traffic Signal Condition</td>\n",
       "      <td>NaN</td>\n",
       "      <td>NaN</td>\n",
       "      <td>NaN</td>\n",
       "      <td>NaN</td>\n",
       "      <td>NaN</td>\n",
       "      <td>NaN</td>\n",
       "    </tr>\n",
       "    <tr>\n",
       "      <th>4</th>\n",
       "      <td>02/03/2017 10:52:00 AM</td>\n",
       "      <td>Dirty Conditions</td>\n",
       "      <td>10469</td>\n",
       "      <td>1023648.0</td>\n",
       "      <td>253055.0</td>\n",
       "      <td>40.861164</td>\n",
       "      <td>-73.857569</td>\n",
       "      <td>(40.861164337464984, -73.85756861957913)</td>\n",
       "    </tr>\n",
       "  </tbody>\n",
       "</table>\n",
       "</div>"
      ],
      "text/plain": [
       "             Created Date                     Complaint Type Incident Zip  \\\n",
       "0  02/03/2017 03:41:50 PM                   Blocked Driveway          NaN   \n",
       "1  02/03/2017 10:24:00 AM  Missed Collection (All Materials)        11211   \n",
       "2  02/03/2017 03:22:38 PM      General Construction/Plumbing        11432   \n",
       "3  02/03/2017 05:39:00 AM           Traffic Signal Condition          NaN   \n",
       "4  02/03/2017 10:52:00 AM                   Dirty Conditions        10469   \n",
       "\n",
       "   X Coordinate (State Plane)  Y Coordinate (State Plane)   Latitude  \\\n",
       "0                         NaN                         NaN        NaN   \n",
       "1                    995733.0                    197462.0  40.708657   \n",
       "2                   1043581.0                    199151.0  40.713101   \n",
       "3                         NaN                         NaN        NaN   \n",
       "4                   1023648.0                    253055.0  40.861164   \n",
       "\n",
       "   Longitude                                  Location  \n",
       "0        NaN                                       NaN  \n",
       "1 -73.958582   (40.70865688036097, -73.95858173179646)  \n",
       "2 -73.785983   (40.71310129919592, -73.78598332501407)  \n",
       "3        NaN                                       NaN  \n",
       "4 -73.857569  (40.861164337464984, -73.85756861957913)  "
      ]
     },
     "execution_count": 9,
     "metadata": {},
     "output_type": "execute_result"
    }
   ],
   "source": [
    "data_311p = pd.read_csv(\"Post_2016.csv\")\n",
    "data_311p.head()"
   ]
  },
  {
   "cell_type": "markdown",
   "metadata": {},
   "source": [
    "#### ----------"
   ]
  },
  {
   "cell_type": "markdown",
   "metadata": {},
   "source": [
    "#### DateTime Change"
   ]
  },
  {
   "cell_type": "markdown",
   "metadata": {},
   "source": [
    "#### ----------"
   ]
  },
  {
   "cell_type": "code",
   "execution_count": 10,
   "metadata": {
    "collapsed": false
   },
   "outputs": [
    {
     "data": {
      "text/plain": [
       "dtype('O')"
      ]
     },
     "execution_count": 10,
     "metadata": {},
     "output_type": "execute_result"
    }
   ],
   "source": [
    "data_p311['Created Date'].dtypes"
   ]
  },
  {
   "cell_type": "code",
   "execution_count": 11,
   "metadata": {
    "collapsed": false
   },
   "outputs": [],
   "source": [
    "data_p311['Created Date'] = pd.to_datetime(data_p311['Created Date'])"
   ]
  },
  {
   "cell_type": "code",
   "execution_count": 12,
   "metadata": {
    "collapsed": false
   },
   "outputs": [
    {
     "data": {
      "text/plain": [
       "dtype('<M8[ns]')"
      ]
     },
     "execution_count": 12,
     "metadata": {},
     "output_type": "execute_result"
    }
   ],
   "source": [
    "data_p311['Created Date'].dtypes"
   ]
  },
  {
   "cell_type": "code",
   "execution_count": 31,
   "metadata": {
    "collapsed": true
   },
   "outputs": [],
   "source": [
    "data_p311['Date'] = data_p311['Created Date'].dt.date"
   ]
  },
  {
   "cell_type": "code",
   "execution_count": 32,
   "metadata": {
    "collapsed": false
   },
   "outputs": [
    {
     "data": {
      "text/html": [
       "<div>\n",
       "<table border=\"1\" class=\"dataframe\">\n",
       "  <thead>\n",
       "    <tr style=\"text-align: right;\">\n",
       "      <th></th>\n",
       "      <th>Created Date</th>\n",
       "      <th>Agency</th>\n",
       "      <th>Agency Name</th>\n",
       "      <th>Complaint Type</th>\n",
       "      <th>Incident Zip</th>\n",
       "      <th>X Coordinate (State Plane)</th>\n",
       "      <th>Y Coordinate (State Plane)</th>\n",
       "      <th>Latitude</th>\n",
       "      <th>Longitude</th>\n",
       "      <th>Location</th>\n",
       "      <th>Date</th>\n",
       "    </tr>\n",
       "  </thead>\n",
       "  <tbody>\n",
       "    <tr>\n",
       "      <th>0</th>\n",
       "      <td>2010-05-10</td>\n",
       "      <td>HPD</td>\n",
       "      <td>Department of Housing Preservation and Develop...</td>\n",
       "      <td>APPLIANCE</td>\n",
       "      <td>10454</td>\n",
       "      <td>1005638.0</td>\n",
       "      <td>234147.0</td>\n",
       "      <td>40.809329</td>\n",
       "      <td>-73.922738</td>\n",
       "      <td>(40.80932936717553, -73.9227384911341)</td>\n",
       "      <td>2010-05-10</td>\n",
       "    </tr>\n",
       "    <tr>\n",
       "      <th>1</th>\n",
       "      <td>2010-05-10</td>\n",
       "      <td>HPD</td>\n",
       "      <td>Department of Housing Preservation and Develop...</td>\n",
       "      <td>APPLIANCE</td>\n",
       "      <td>10459</td>\n",
       "      <td>1014575.0</td>\n",
       "      <td>239297.0</td>\n",
       "      <td>40.823439</td>\n",
       "      <td>-73.890431</td>\n",
       "      <td>(40.82343850709147, -73.89043144098281)</td>\n",
       "      <td>2010-05-10</td>\n",
       "    </tr>\n",
       "    <tr>\n",
       "      <th>2</th>\n",
       "      <td>2010-05-10</td>\n",
       "      <td>HPD</td>\n",
       "      <td>Department of Housing Preservation and Develop...</td>\n",
       "      <td>PLUMBING</td>\n",
       "      <td>11373</td>\n",
       "      <td>1019123.0</td>\n",
       "      <td>210386.0</td>\n",
       "      <td>40.744069</td>\n",
       "      <td>-73.874149</td>\n",
       "      <td>(40.74406880836881, -73.87414896523073)</td>\n",
       "      <td>2010-05-10</td>\n",
       "    </tr>\n",
       "    <tr>\n",
       "      <th>3</th>\n",
       "      <td>2010-05-10</td>\n",
       "      <td>HPD</td>\n",
       "      <td>Department of Housing Preservation and Develop...</td>\n",
       "      <td>PLUMBING</td>\n",
       "      <td>10460</td>\n",
       "      <td>1015599.0</td>\n",
       "      <td>243063.0</td>\n",
       "      <td>40.833772</td>\n",
       "      <td>-73.886714</td>\n",
       "      <td>(40.83377151700781, -73.88671398918511)</td>\n",
       "      <td>2010-05-10</td>\n",
       "    </tr>\n",
       "    <tr>\n",
       "      <th>4</th>\n",
       "      <td>2010-05-10</td>\n",
       "      <td>HPD</td>\n",
       "      <td>Department of Housing Preservation and Develop...</td>\n",
       "      <td>PLUMBING</td>\n",
       "      <td>11225</td>\n",
       "      <td>996197.0</td>\n",
       "      <td>181752.0</td>\n",
       "      <td>40.665536</td>\n",
       "      <td>-73.956936</td>\n",
       "      <td>(40.66553592293138, -73.95693597811109)</td>\n",
       "      <td>2010-05-10</td>\n",
       "    </tr>\n",
       "  </tbody>\n",
       "</table>\n",
       "</div>"
      ],
      "text/plain": [
       "  Created Date Agency                                        Agency Name  \\\n",
       "0   2010-05-10    HPD  Department of Housing Preservation and Develop...   \n",
       "1   2010-05-10    HPD  Department of Housing Preservation and Develop...   \n",
       "2   2010-05-10    HPD  Department of Housing Preservation and Develop...   \n",
       "3   2010-05-10    HPD  Department of Housing Preservation and Develop...   \n",
       "4   2010-05-10    HPD  Department of Housing Preservation and Develop...   \n",
       "\n",
       "  Complaint Type Incident Zip  X Coordinate (State Plane)  \\\n",
       "0      APPLIANCE        10454                   1005638.0   \n",
       "1      APPLIANCE        10459                   1014575.0   \n",
       "2       PLUMBING        11373                   1019123.0   \n",
       "3       PLUMBING        10460                   1015599.0   \n",
       "4       PLUMBING        11225                    996197.0   \n",
       "\n",
       "   Y Coordinate (State Plane)   Latitude  Longitude  \\\n",
       "0                    234147.0  40.809329 -73.922738   \n",
       "1                    239297.0  40.823439 -73.890431   \n",
       "2                    210386.0  40.744069 -73.874149   \n",
       "3                    243063.0  40.833772 -73.886714   \n",
       "4                    181752.0  40.665536 -73.956936   \n",
       "\n",
       "                                  Location        Date  \n",
       "0   (40.80932936717553, -73.9227384911341)  2010-05-10  \n",
       "1  (40.82343850709147, -73.89043144098281)  2010-05-10  \n",
       "2  (40.74406880836881, -73.87414896523073)  2010-05-10  \n",
       "3  (40.83377151700781, -73.88671398918511)  2010-05-10  \n",
       "4  (40.66553592293138, -73.95693597811109)  2010-05-10  "
      ]
     },
     "execution_count": 32,
     "metadata": {},
     "output_type": "execute_result"
    }
   ],
   "source": [
    "data_p311.head()"
   ]
  },
  {
   "cell_type": "code",
   "execution_count": 33,
   "metadata": {
    "collapsed": false
   },
   "outputs": [
    {
     "data": {
      "text/html": [
       "<div>\n",
       "<table border=\"1\" class=\"dataframe\">\n",
       "  <thead>\n",
       "    <tr style=\"text-align: right;\">\n",
       "      <th></th>\n",
       "      <th>Complaint Type</th>\n",
       "      <th>Incident Zip</th>\n",
       "      <th>Latitude</th>\n",
       "      <th>Longitude</th>\n",
       "      <th>Location</th>\n",
       "      <th>Date</th>\n",
       "    </tr>\n",
       "  </thead>\n",
       "  <tbody>\n",
       "    <tr>\n",
       "      <th>0</th>\n",
       "      <td>APPLIANCE</td>\n",
       "      <td>10454</td>\n",
       "      <td>40.809329</td>\n",
       "      <td>-73.922738</td>\n",
       "      <td>(40.80932936717553, -73.9227384911341)</td>\n",
       "      <td>2010-05-10</td>\n",
       "    </tr>\n",
       "    <tr>\n",
       "      <th>1</th>\n",
       "      <td>APPLIANCE</td>\n",
       "      <td>10459</td>\n",
       "      <td>40.823439</td>\n",
       "      <td>-73.890431</td>\n",
       "      <td>(40.82343850709147, -73.89043144098281)</td>\n",
       "      <td>2010-05-10</td>\n",
       "    </tr>\n",
       "    <tr>\n",
       "      <th>2</th>\n",
       "      <td>PLUMBING</td>\n",
       "      <td>11373</td>\n",
       "      <td>40.744069</td>\n",
       "      <td>-73.874149</td>\n",
       "      <td>(40.74406880836881, -73.87414896523073)</td>\n",
       "      <td>2010-05-10</td>\n",
       "    </tr>\n",
       "    <tr>\n",
       "      <th>3</th>\n",
       "      <td>PLUMBING</td>\n",
       "      <td>10460</td>\n",
       "      <td>40.833772</td>\n",
       "      <td>-73.886714</td>\n",
       "      <td>(40.83377151700781, -73.88671398918511)</td>\n",
       "      <td>2010-05-10</td>\n",
       "    </tr>\n",
       "    <tr>\n",
       "      <th>4</th>\n",
       "      <td>PLUMBING</td>\n",
       "      <td>11225</td>\n",
       "      <td>40.665536</td>\n",
       "      <td>-73.956936</td>\n",
       "      <td>(40.66553592293138, -73.95693597811109)</td>\n",
       "      <td>2010-05-10</td>\n",
       "    </tr>\n",
       "  </tbody>\n",
       "</table>\n",
       "</div>"
      ],
      "text/plain": [
       "  Complaint Type Incident Zip   Latitude  Longitude  \\\n",
       "0      APPLIANCE        10454  40.809329 -73.922738   \n",
       "1      APPLIANCE        10459  40.823439 -73.890431   \n",
       "2       PLUMBING        11373  40.744069 -73.874149   \n",
       "3       PLUMBING        10460  40.833772 -73.886714   \n",
       "4       PLUMBING        11225  40.665536 -73.956936   \n",
       "\n",
       "                                  Location        Date  \n",
       "0   (40.80932936717553, -73.9227384911341)  2010-05-10  \n",
       "1  (40.82343850709147, -73.89043144098281)  2010-05-10  \n",
       "2  (40.74406880836881, -73.87414896523073)  2010-05-10  \n",
       "3  (40.83377151700781, -73.88671398918511)  2010-05-10  \n",
       "4  (40.66553592293138, -73.95693597811109)  2010-05-10  "
      ]
     },
     "execution_count": 33,
     "metadata": {},
     "output_type": "execute_result"
    }
   ],
   "source": [
    "data_p311 = data_p311.drop(['Agency', 'Agency Name', \n",
    "                            'X Coordinate (State Plane)', 'Y Coordinate (State Plane)', 'Created Date'], axis = 1)\n",
    "data_p311.head()"
   ]
  },
  {
   "cell_type": "code",
   "execution_count": 35,
   "metadata": {
    "collapsed": false
   },
   "outputs": [
    {
     "data": {
      "text/html": [
       "<div>\n",
       "<table border=\"1\" class=\"dataframe\">\n",
       "  <thead>\n",
       "    <tr style=\"text-align: right;\">\n",
       "      <th></th>\n",
       "      <th>Date</th>\n",
       "      <th>Complaint Type</th>\n",
       "      <th>Latitude</th>\n",
       "      <th>Longitude</th>\n",
       "      <th>Location</th>\n",
       "      <th>Incident Zip</th>\n",
       "    </tr>\n",
       "  </thead>\n",
       "  <tbody>\n",
       "    <tr>\n",
       "      <th>0</th>\n",
       "      <td>2010-05-10</td>\n",
       "      <td>APPLIANCE</td>\n",
       "      <td>40.809329</td>\n",
       "      <td>-73.922738</td>\n",
       "      <td>(40.80932936717553, -73.9227384911341)</td>\n",
       "      <td>10454</td>\n",
       "    </tr>\n",
       "    <tr>\n",
       "      <th>1</th>\n",
       "      <td>2010-05-10</td>\n",
       "      <td>APPLIANCE</td>\n",
       "      <td>40.823439</td>\n",
       "      <td>-73.890431</td>\n",
       "      <td>(40.82343850709147, -73.89043144098281)</td>\n",
       "      <td>10459</td>\n",
       "    </tr>\n",
       "    <tr>\n",
       "      <th>2</th>\n",
       "      <td>2010-05-10</td>\n",
       "      <td>PLUMBING</td>\n",
       "      <td>40.744069</td>\n",
       "      <td>-73.874149</td>\n",
       "      <td>(40.74406880836881, -73.87414896523073)</td>\n",
       "      <td>11373</td>\n",
       "    </tr>\n",
       "    <tr>\n",
       "      <th>3</th>\n",
       "      <td>2010-05-10</td>\n",
       "      <td>PLUMBING</td>\n",
       "      <td>40.833772</td>\n",
       "      <td>-73.886714</td>\n",
       "      <td>(40.83377151700781, -73.88671398918511)</td>\n",
       "      <td>10460</td>\n",
       "    </tr>\n",
       "    <tr>\n",
       "      <th>4</th>\n",
       "      <td>2010-05-10</td>\n",
       "      <td>PLUMBING</td>\n",
       "      <td>40.665536</td>\n",
       "      <td>-73.956936</td>\n",
       "      <td>(40.66553592293138, -73.95693597811109)</td>\n",
       "      <td>11225</td>\n",
       "    </tr>\n",
       "  </tbody>\n",
       "</table>\n",
       "</div>"
      ],
      "text/plain": [
       "         Date Complaint Type   Latitude  Longitude  \\\n",
       "0  2010-05-10      APPLIANCE  40.809329 -73.922738   \n",
       "1  2010-05-10      APPLIANCE  40.823439 -73.890431   \n",
       "2  2010-05-10       PLUMBING  40.744069 -73.874149   \n",
       "3  2010-05-10       PLUMBING  40.833772 -73.886714   \n",
       "4  2010-05-10       PLUMBING  40.665536 -73.956936   \n",
       "\n",
       "                                  Location Incident Zip  \n",
       "0   (40.80932936717553, -73.9227384911341)        10454  \n",
       "1  (40.82343850709147, -73.89043144098281)        10459  \n",
       "2  (40.74406880836881, -73.87414896523073)        11373  \n",
       "3  (40.83377151700781, -73.88671398918511)        10460  \n",
       "4  (40.66553592293138, -73.95693597811109)        11225  "
      ]
     },
     "execution_count": 35,
     "metadata": {},
     "output_type": "execute_result"
    }
   ],
   "source": [
    "data_p311 = data_p311[['Date','Complaint Type','Latitude','Longitude','Location','Incident Zip']]\n",
    "data_p311.head()"
   ]
  },
  {
   "cell_type": "code",
   "execution_count": 36,
   "metadata": {
    "collapsed": false
   },
   "outputs": [],
   "source": [
    "data_p311['Date'] = pd.to_datetime(data_p311['Date'])"
   ]
  },
  {
   "cell_type": "code",
   "execution_count": 37,
   "metadata": {
    "collapsed": false
   },
   "outputs": [],
   "source": [
    "data_p311['Year'] = data_p311['Date'].dt.year\n",
    "data_p311['Month'] = data_p311['Date'].dt.month"
   ]
  },
  {
   "cell_type": "code",
   "execution_count": 38,
   "metadata": {
    "collapsed": false
   },
   "outputs": [
    {
     "data": {
      "text/html": [
       "<div>\n",
       "<table border=\"1\" class=\"dataframe\">\n",
       "  <thead>\n",
       "    <tr style=\"text-align: right;\">\n",
       "      <th></th>\n",
       "      <th>Date</th>\n",
       "      <th>Complaint Type</th>\n",
       "      <th>Latitude</th>\n",
       "      <th>Longitude</th>\n",
       "      <th>Location</th>\n",
       "      <th>Incident Zip</th>\n",
       "      <th>Year</th>\n",
       "      <th>Month</th>\n",
       "    </tr>\n",
       "  </thead>\n",
       "  <tbody>\n",
       "    <tr>\n",
       "      <th>0</th>\n",
       "      <td>2010-05-10</td>\n",
       "      <td>APPLIANCE</td>\n",
       "      <td>40.809329</td>\n",
       "      <td>-73.922738</td>\n",
       "      <td>(40.80932936717553, -73.9227384911341)</td>\n",
       "      <td>10454</td>\n",
       "      <td>2010</td>\n",
       "      <td>5</td>\n",
       "    </tr>\n",
       "    <tr>\n",
       "      <th>1</th>\n",
       "      <td>2010-05-10</td>\n",
       "      <td>APPLIANCE</td>\n",
       "      <td>40.823439</td>\n",
       "      <td>-73.890431</td>\n",
       "      <td>(40.82343850709147, -73.89043144098281)</td>\n",
       "      <td>10459</td>\n",
       "      <td>2010</td>\n",
       "      <td>5</td>\n",
       "    </tr>\n",
       "    <tr>\n",
       "      <th>2</th>\n",
       "      <td>2010-05-10</td>\n",
       "      <td>PLUMBING</td>\n",
       "      <td>40.744069</td>\n",
       "      <td>-73.874149</td>\n",
       "      <td>(40.74406880836881, -73.87414896523073)</td>\n",
       "      <td>11373</td>\n",
       "      <td>2010</td>\n",
       "      <td>5</td>\n",
       "    </tr>\n",
       "    <tr>\n",
       "      <th>3</th>\n",
       "      <td>2010-05-10</td>\n",
       "      <td>PLUMBING</td>\n",
       "      <td>40.833772</td>\n",
       "      <td>-73.886714</td>\n",
       "      <td>(40.83377151700781, -73.88671398918511)</td>\n",
       "      <td>10460</td>\n",
       "      <td>2010</td>\n",
       "      <td>5</td>\n",
       "    </tr>\n",
       "    <tr>\n",
       "      <th>4</th>\n",
       "      <td>2010-05-10</td>\n",
       "      <td>PLUMBING</td>\n",
       "      <td>40.665536</td>\n",
       "      <td>-73.956936</td>\n",
       "      <td>(40.66553592293138, -73.95693597811109)</td>\n",
       "      <td>11225</td>\n",
       "      <td>2010</td>\n",
       "      <td>5</td>\n",
       "    </tr>\n",
       "  </tbody>\n",
       "</table>\n",
       "</div>"
      ],
      "text/plain": [
       "        Date Complaint Type   Latitude  Longitude  \\\n",
       "0 2010-05-10      APPLIANCE  40.809329 -73.922738   \n",
       "1 2010-05-10      APPLIANCE  40.823439 -73.890431   \n",
       "2 2010-05-10       PLUMBING  40.744069 -73.874149   \n",
       "3 2010-05-10       PLUMBING  40.833772 -73.886714   \n",
       "4 2010-05-10       PLUMBING  40.665536 -73.956936   \n",
       "\n",
       "                                  Location Incident Zip  Year  Month  \n",
       "0   (40.80932936717553, -73.9227384911341)        10454  2010      5  \n",
       "1  (40.82343850709147, -73.89043144098281)        10459  2010      5  \n",
       "2  (40.74406880836881, -73.87414896523073)        11373  2010      5  \n",
       "3  (40.83377151700781, -73.88671398918511)        10460  2010      5  \n",
       "4  (40.66553592293138, -73.95693597811109)        11225  2010      5  "
      ]
     },
     "execution_count": 38,
     "metadata": {},
     "output_type": "execute_result"
    }
   ],
   "source": [
    "data_p311.head()"
   ]
  },
  {
   "cell_type": "code",
   "execution_count": 39,
   "metadata": {
    "collapsed": false
   },
   "outputs": [
    {
     "data": {
      "text/html": [
       "<div>\n",
       "<table border=\"1\" class=\"dataframe\">\n",
       "  <thead>\n",
       "    <tr style=\"text-align: right;\">\n",
       "      <th></th>\n",
       "      <th>Date</th>\n",
       "      <th>Complaint Type</th>\n",
       "      <th>Latitude</th>\n",
       "      <th>Longitude</th>\n",
       "      <th>Location</th>\n",
       "      <th>Incident Zip</th>\n",
       "      <th>Year</th>\n",
       "      <th>Month</th>\n",
       "    </tr>\n",
       "  </thead>\n",
       "  <tbody>\n",
       "    <tr>\n",
       "      <th>0</th>\n",
       "      <td>2010-05-10</td>\n",
       "      <td>APPLIANCE</td>\n",
       "      <td>40.809329</td>\n",
       "      <td>-73.922738</td>\n",
       "      <td>(40.80932936717553, -73.9227384911341)</td>\n",
       "      <td>10454</td>\n",
       "      <td>2010</td>\n",
       "      <td>5</td>\n",
       "    </tr>\n",
       "    <tr>\n",
       "      <th>1</th>\n",
       "      <td>2010-05-10</td>\n",
       "      <td>APPLIANCE</td>\n",
       "      <td>40.823439</td>\n",
       "      <td>-73.890431</td>\n",
       "      <td>(40.82343850709147, -73.89043144098281)</td>\n",
       "      <td>10459</td>\n",
       "      <td>2010</td>\n",
       "      <td>5</td>\n",
       "    </tr>\n",
       "    <tr>\n",
       "      <th>2</th>\n",
       "      <td>2010-05-10</td>\n",
       "      <td>PLUMBING</td>\n",
       "      <td>40.744069</td>\n",
       "      <td>-73.874149</td>\n",
       "      <td>(40.74406880836881, -73.87414896523073)</td>\n",
       "      <td>11373</td>\n",
       "      <td>2010</td>\n",
       "      <td>5</td>\n",
       "    </tr>\n",
       "    <tr>\n",
       "      <th>3</th>\n",
       "      <td>2010-05-10</td>\n",
       "      <td>PLUMBING</td>\n",
       "      <td>40.833772</td>\n",
       "      <td>-73.886714</td>\n",
       "      <td>(40.83377151700781, -73.88671398918511)</td>\n",
       "      <td>10460</td>\n",
       "      <td>2010</td>\n",
       "      <td>5</td>\n",
       "    </tr>\n",
       "    <tr>\n",
       "      <th>4</th>\n",
       "      <td>2010-05-10</td>\n",
       "      <td>PLUMBING</td>\n",
       "      <td>40.665536</td>\n",
       "      <td>-73.956936</td>\n",
       "      <td>(40.66553592293138, -73.95693597811109)</td>\n",
       "      <td>11225</td>\n",
       "      <td>2010</td>\n",
       "      <td>5</td>\n",
       "    </tr>\n",
       "  </tbody>\n",
       "</table>\n",
       "</div>"
      ],
      "text/plain": [
       "        Date Complaint Type   Latitude  Longitude  \\\n",
       "0 2010-05-10      APPLIANCE  40.809329 -73.922738   \n",
       "1 2010-05-10      APPLIANCE  40.823439 -73.890431   \n",
       "2 2010-05-10       PLUMBING  40.744069 -73.874149   \n",
       "3 2010-05-10       PLUMBING  40.833772 -73.886714   \n",
       "4 2010-05-10       PLUMBING  40.665536 -73.956936   \n",
       "\n",
       "                                  Location Incident Zip  Year  Month  \n",
       "0   (40.80932936717553, -73.9227384911341)        10454  2010      5  \n",
       "1  (40.82343850709147, -73.89043144098281)        10459  2010      5  \n",
       "2  (40.74406880836881, -73.87414896523073)        11373  2010      5  \n",
       "3  (40.83377151700781, -73.88671398918511)        10460  2010      5  \n",
       "4  (40.66553592293138, -73.95693597811109)        11225  2010      5  "
      ]
     },
     "execution_count": 39,
     "metadata": {},
     "output_type": "execute_result"
    }
   ],
   "source": [
    "data_p311.head()"
   ]
  },
  {
   "cell_type": "code",
   "execution_count": 40,
   "metadata": {
    "collapsed": true
   },
   "outputs": [],
   "source": [
    "data_p311.to_csv('C-11.csv')"
   ]
  },
  {
   "cell_type": "markdown",
   "metadata": {},
   "source": [
    "#### ----------"
   ]
  },
  {
   "cell_type": "code",
   "execution_count": 13,
   "metadata": {
    "collapsed": false
   },
   "outputs": [
    {
     "data": {
      "text/plain": [
       "dtype('O')"
      ]
     },
     "execution_count": 13,
     "metadata": {},
     "output_type": "execute_result"
    }
   ],
   "source": [
    "data_1112['Created Date'].dtypes"
   ]
  },
  {
   "cell_type": "code",
   "execution_count": 14,
   "metadata": {
    "collapsed": true
   },
   "outputs": [],
   "source": [
    "data_1112['Created Date'] = pd.to_datetime(data_1112['Created Date'])"
   ]
  },
  {
   "cell_type": "code",
   "execution_count": 15,
   "metadata": {
    "collapsed": false
   },
   "outputs": [
    {
     "data": {
      "text/plain": [
       "dtype('<M8[ns]')"
      ]
     },
     "execution_count": 15,
     "metadata": {},
     "output_type": "execute_result"
    }
   ],
   "source": [
    "data_1112['Created Date'].dtypes"
   ]
  },
  {
   "cell_type": "code",
   "execution_count": 41,
   "metadata": {
    "collapsed": false
   },
   "outputs": [],
   "source": [
    "data_1112['Date'] = data_1112['Created Date'].dt.date"
   ]
  },
  {
   "cell_type": "code",
   "execution_count": 42,
   "metadata": {
    "collapsed": false
   },
   "outputs": [
    {
     "data": {
      "text/html": [
       "<div>\n",
       "<table border=\"1\" class=\"dataframe\">\n",
       "  <thead>\n",
       "    <tr style=\"text-align: right;\">\n",
       "      <th></th>\n",
       "      <th>Created Date</th>\n",
       "      <th>Complaint Type</th>\n",
       "      <th>Incident Zip</th>\n",
       "      <th>X Coordinate (State Plane)</th>\n",
       "      <th>Y Coordinate (State Plane)</th>\n",
       "      <th>Latitude</th>\n",
       "      <th>Longitude</th>\n",
       "      <th>Location</th>\n",
       "      <th>Date</th>\n",
       "    </tr>\n",
       "  </thead>\n",
       "  <tbody>\n",
       "    <tr>\n",
       "      <th>0</th>\n",
       "      <td>2011-01-12 15:06:20</td>\n",
       "      <td>Stalled Sites</td>\n",
       "      <td>10006</td>\n",
       "      <td>980500.0</td>\n",
       "      <td>197272.0</td>\n",
       "      <td>40.708142</td>\n",
       "      <td>-74.013526</td>\n",
       "      <td>(40.70814203196457, -74.01352584698965)</td>\n",
       "      <td>2011-01-12</td>\n",
       "    </tr>\n",
       "    <tr>\n",
       "      <th>1</th>\n",
       "      <td>2011-01-31 15:09:22</td>\n",
       "      <td>Smoking</td>\n",
       "      <td>11354</td>\n",
       "      <td>1031310.0</td>\n",
       "      <td>215799.0</td>\n",
       "      <td>40.758870</td>\n",
       "      <td>-73.830130</td>\n",
       "      <td>(40.75886964114406, -73.83013026118377)</td>\n",
       "      <td>2011-01-31</td>\n",
       "    </tr>\n",
       "    <tr>\n",
       "      <th>2</th>\n",
       "      <td>2011-03-03 16:27:13</td>\n",
       "      <td>Smoking</td>\n",
       "      <td>10301</td>\n",
       "      <td>960792.0</td>\n",
       "      <td>171035.0</td>\n",
       "      <td>40.636097</td>\n",
       "      <td>-74.084519</td>\n",
       "      <td>(40.636097085879555, -74.0845191507043)</td>\n",
       "      <td>2011-03-03</td>\n",
       "    </tr>\n",
       "    <tr>\n",
       "      <th>3</th>\n",
       "      <td>2011-03-06 21:45:56</td>\n",
       "      <td>Smoking</td>\n",
       "      <td>10467</td>\n",
       "      <td>1018078.0</td>\n",
       "      <td>261421.0</td>\n",
       "      <td>40.884150</td>\n",
       "      <td>-73.877663</td>\n",
       "      <td>(40.88414951808322, -73.87766297790301)</td>\n",
       "      <td>2011-03-06</td>\n",
       "    </tr>\n",
       "    <tr>\n",
       "      <th>4</th>\n",
       "      <td>2011-05-23 09:19:00</td>\n",
       "      <td>Sewer</td>\n",
       "      <td>NaN</td>\n",
       "      <td>NaN</td>\n",
       "      <td>NaN</td>\n",
       "      <td>NaN</td>\n",
       "      <td>NaN</td>\n",
       "      <td>NaN</td>\n",
       "      <td>2011-05-23</td>\n",
       "    </tr>\n",
       "  </tbody>\n",
       "</table>\n",
       "</div>"
      ],
      "text/plain": [
       "         Created Date Complaint Type Incident Zip  X Coordinate (State Plane)  \\\n",
       "0 2011-01-12 15:06:20  Stalled Sites        10006                    980500.0   \n",
       "1 2011-01-31 15:09:22        Smoking        11354                   1031310.0   \n",
       "2 2011-03-03 16:27:13        Smoking        10301                    960792.0   \n",
       "3 2011-03-06 21:45:56        Smoking        10467                   1018078.0   \n",
       "4 2011-05-23 09:19:00          Sewer          NaN                         NaN   \n",
       "\n",
       "   Y Coordinate (State Plane)   Latitude  Longitude  \\\n",
       "0                    197272.0  40.708142 -74.013526   \n",
       "1                    215799.0  40.758870 -73.830130   \n",
       "2                    171035.0  40.636097 -74.084519   \n",
       "3                    261421.0  40.884150 -73.877663   \n",
       "4                         NaN        NaN        NaN   \n",
       "\n",
       "                                  Location        Date  \n",
       "0  (40.70814203196457, -74.01352584698965)  2011-01-12  \n",
       "1  (40.75886964114406, -73.83013026118377)  2011-01-31  \n",
       "2  (40.636097085879555, -74.0845191507043)  2011-03-03  \n",
       "3  (40.88414951808322, -73.87766297790301)  2011-03-06  \n",
       "4                                      NaN  2011-05-23  "
      ]
     },
     "execution_count": 42,
     "metadata": {},
     "output_type": "execute_result"
    }
   ],
   "source": [
    "data_1112.head()"
   ]
  },
  {
   "cell_type": "code",
   "execution_count": 43,
   "metadata": {
    "collapsed": false
   },
   "outputs": [
    {
     "data": {
      "text/html": [
       "<div>\n",
       "<table border=\"1\" class=\"dataframe\">\n",
       "  <thead>\n",
       "    <tr style=\"text-align: right;\">\n",
       "      <th></th>\n",
       "      <th>Complaint Type</th>\n",
       "      <th>Incident Zip</th>\n",
       "      <th>Latitude</th>\n",
       "      <th>Longitude</th>\n",
       "      <th>Location</th>\n",
       "      <th>Date</th>\n",
       "    </tr>\n",
       "  </thead>\n",
       "  <tbody>\n",
       "    <tr>\n",
       "      <th>0</th>\n",
       "      <td>Stalled Sites</td>\n",
       "      <td>10006</td>\n",
       "      <td>40.708142</td>\n",
       "      <td>-74.013526</td>\n",
       "      <td>(40.70814203196457, -74.01352584698965)</td>\n",
       "      <td>2011-01-12</td>\n",
       "    </tr>\n",
       "    <tr>\n",
       "      <th>1</th>\n",
       "      <td>Smoking</td>\n",
       "      <td>11354</td>\n",
       "      <td>40.758870</td>\n",
       "      <td>-73.830130</td>\n",
       "      <td>(40.75886964114406, -73.83013026118377)</td>\n",
       "      <td>2011-01-31</td>\n",
       "    </tr>\n",
       "    <tr>\n",
       "      <th>2</th>\n",
       "      <td>Smoking</td>\n",
       "      <td>10301</td>\n",
       "      <td>40.636097</td>\n",
       "      <td>-74.084519</td>\n",
       "      <td>(40.636097085879555, -74.0845191507043)</td>\n",
       "      <td>2011-03-03</td>\n",
       "    </tr>\n",
       "    <tr>\n",
       "      <th>3</th>\n",
       "      <td>Smoking</td>\n",
       "      <td>10467</td>\n",
       "      <td>40.884150</td>\n",
       "      <td>-73.877663</td>\n",
       "      <td>(40.88414951808322, -73.87766297790301)</td>\n",
       "      <td>2011-03-06</td>\n",
       "    </tr>\n",
       "    <tr>\n",
       "      <th>4</th>\n",
       "      <td>Sewer</td>\n",
       "      <td>NaN</td>\n",
       "      <td>NaN</td>\n",
       "      <td>NaN</td>\n",
       "      <td>NaN</td>\n",
       "      <td>2011-05-23</td>\n",
       "    </tr>\n",
       "  </tbody>\n",
       "</table>\n",
       "</div>"
      ],
      "text/plain": [
       "  Complaint Type Incident Zip   Latitude  Longitude  \\\n",
       "0  Stalled Sites        10006  40.708142 -74.013526   \n",
       "1        Smoking        11354  40.758870 -73.830130   \n",
       "2        Smoking        10301  40.636097 -74.084519   \n",
       "3        Smoking        10467  40.884150 -73.877663   \n",
       "4          Sewer          NaN        NaN        NaN   \n",
       "\n",
       "                                  Location        Date  \n",
       "0  (40.70814203196457, -74.01352584698965)  2011-01-12  \n",
       "1  (40.75886964114406, -73.83013026118377)  2011-01-31  \n",
       "2  (40.636097085879555, -74.0845191507043)  2011-03-03  \n",
       "3  (40.88414951808322, -73.87766297790301)  2011-03-06  \n",
       "4                                      NaN  2011-05-23  "
      ]
     },
     "execution_count": 43,
     "metadata": {},
     "output_type": "execute_result"
    }
   ],
   "source": [
    "data_1112 = data_1112.drop(['X Coordinate (State Plane)', 'Y Coordinate (State Plane)', 'Created Date'], axis = 1)\n",
    "data_1112.head()"
   ]
  },
  {
   "cell_type": "code",
   "execution_count": 44,
   "metadata": {
    "collapsed": true
   },
   "outputs": [],
   "source": [
    "data_1112['Date'] = pd.to_datetime(data_1112['Date'])"
   ]
  },
  {
   "cell_type": "code",
   "execution_count": 45,
   "metadata": {
    "collapsed": false
   },
   "outputs": [
    {
     "data": {
      "text/html": [
       "<div>\n",
       "<table border=\"1\" class=\"dataframe\">\n",
       "  <thead>\n",
       "    <tr style=\"text-align: right;\">\n",
       "      <th></th>\n",
       "      <th>Complaint Type</th>\n",
       "      <th>Incident Zip</th>\n",
       "      <th>Latitude</th>\n",
       "      <th>Longitude</th>\n",
       "      <th>Location</th>\n",
       "      <th>Date</th>\n",
       "      <th>Year</th>\n",
       "      <th>Month</th>\n",
       "    </tr>\n",
       "  </thead>\n",
       "  <tbody>\n",
       "    <tr>\n",
       "      <th>0</th>\n",
       "      <td>Stalled Sites</td>\n",
       "      <td>10006</td>\n",
       "      <td>40.708142</td>\n",
       "      <td>-74.013526</td>\n",
       "      <td>(40.70814203196457, -74.01352584698965)</td>\n",
       "      <td>2011-01-12</td>\n",
       "      <td>2011</td>\n",
       "      <td>1</td>\n",
       "    </tr>\n",
       "    <tr>\n",
       "      <th>1</th>\n",
       "      <td>Smoking</td>\n",
       "      <td>11354</td>\n",
       "      <td>40.758870</td>\n",
       "      <td>-73.830130</td>\n",
       "      <td>(40.75886964114406, -73.83013026118377)</td>\n",
       "      <td>2011-01-31</td>\n",
       "      <td>2011</td>\n",
       "      <td>1</td>\n",
       "    </tr>\n",
       "    <tr>\n",
       "      <th>2</th>\n",
       "      <td>Smoking</td>\n",
       "      <td>10301</td>\n",
       "      <td>40.636097</td>\n",
       "      <td>-74.084519</td>\n",
       "      <td>(40.636097085879555, -74.0845191507043)</td>\n",
       "      <td>2011-03-03</td>\n",
       "      <td>2011</td>\n",
       "      <td>3</td>\n",
       "    </tr>\n",
       "    <tr>\n",
       "      <th>3</th>\n",
       "      <td>Smoking</td>\n",
       "      <td>10467</td>\n",
       "      <td>40.884150</td>\n",
       "      <td>-73.877663</td>\n",
       "      <td>(40.88414951808322, -73.87766297790301)</td>\n",
       "      <td>2011-03-06</td>\n",
       "      <td>2011</td>\n",
       "      <td>3</td>\n",
       "    </tr>\n",
       "    <tr>\n",
       "      <th>4</th>\n",
       "      <td>Sewer</td>\n",
       "      <td>NaN</td>\n",
       "      <td>NaN</td>\n",
       "      <td>NaN</td>\n",
       "      <td>NaN</td>\n",
       "      <td>2011-05-23</td>\n",
       "      <td>2011</td>\n",
       "      <td>5</td>\n",
       "    </tr>\n",
       "  </tbody>\n",
       "</table>\n",
       "</div>"
      ],
      "text/plain": [
       "  Complaint Type Incident Zip   Latitude  Longitude  \\\n",
       "0  Stalled Sites        10006  40.708142 -74.013526   \n",
       "1        Smoking        11354  40.758870 -73.830130   \n",
       "2        Smoking        10301  40.636097 -74.084519   \n",
       "3        Smoking        10467  40.884150 -73.877663   \n",
       "4          Sewer          NaN        NaN        NaN   \n",
       "\n",
       "                                  Location       Date  Year  Month  \n",
       "0  (40.70814203196457, -74.01352584698965) 2011-01-12  2011      1  \n",
       "1  (40.75886964114406, -73.83013026118377) 2011-01-31  2011      1  \n",
       "2  (40.636097085879555, -74.0845191507043) 2011-03-03  2011      3  \n",
       "3  (40.88414951808322, -73.87766297790301) 2011-03-06  2011      3  \n",
       "4                                      NaN 2011-05-23  2011      5  "
      ]
     },
     "execution_count": 45,
     "metadata": {},
     "output_type": "execute_result"
    }
   ],
   "source": [
    "data_1112['Year'] = data_1112['Date'].dt.year\n",
    "data_1112['Month'] = data_1112['Date'].dt.month\n",
    "data_1112.head()"
   ]
  },
  {
   "cell_type": "code",
   "execution_count": 46,
   "metadata": {
    "collapsed": false
   },
   "outputs": [
    {
     "data": {
      "text/html": [
       "<div>\n",
       "<table border=\"1\" class=\"dataframe\">\n",
       "  <thead>\n",
       "    <tr style=\"text-align: right;\">\n",
       "      <th></th>\n",
       "      <th>Complaint Type</th>\n",
       "      <th>Year</th>\n",
       "      <th>Month</th>\n",
       "      <th>Date</th>\n",
       "      <th>Latitude</th>\n",
       "      <th>Longitude</th>\n",
       "      <th>Location</th>\n",
       "      <th>Incident Zip</th>\n",
       "    </tr>\n",
       "  </thead>\n",
       "  <tbody>\n",
       "    <tr>\n",
       "      <th>0</th>\n",
       "      <td>Stalled Sites</td>\n",
       "      <td>2011</td>\n",
       "      <td>1</td>\n",
       "      <td>2011-01-12</td>\n",
       "      <td>40.708142</td>\n",
       "      <td>-74.013526</td>\n",
       "      <td>(40.70814203196457, -74.01352584698965)</td>\n",
       "      <td>10006</td>\n",
       "    </tr>\n",
       "    <tr>\n",
       "      <th>1</th>\n",
       "      <td>Smoking</td>\n",
       "      <td>2011</td>\n",
       "      <td>1</td>\n",
       "      <td>2011-01-31</td>\n",
       "      <td>40.758870</td>\n",
       "      <td>-73.830130</td>\n",
       "      <td>(40.75886964114406, -73.83013026118377)</td>\n",
       "      <td>11354</td>\n",
       "    </tr>\n",
       "    <tr>\n",
       "      <th>2</th>\n",
       "      <td>Smoking</td>\n",
       "      <td>2011</td>\n",
       "      <td>3</td>\n",
       "      <td>2011-03-03</td>\n",
       "      <td>40.636097</td>\n",
       "      <td>-74.084519</td>\n",
       "      <td>(40.636097085879555, -74.0845191507043)</td>\n",
       "      <td>10301</td>\n",
       "    </tr>\n",
       "    <tr>\n",
       "      <th>3</th>\n",
       "      <td>Smoking</td>\n",
       "      <td>2011</td>\n",
       "      <td>3</td>\n",
       "      <td>2011-03-06</td>\n",
       "      <td>40.884150</td>\n",
       "      <td>-73.877663</td>\n",
       "      <td>(40.88414951808322, -73.87766297790301)</td>\n",
       "      <td>10467</td>\n",
       "    </tr>\n",
       "    <tr>\n",
       "      <th>4</th>\n",
       "      <td>Sewer</td>\n",
       "      <td>2011</td>\n",
       "      <td>5</td>\n",
       "      <td>2011-05-23</td>\n",
       "      <td>NaN</td>\n",
       "      <td>NaN</td>\n",
       "      <td>NaN</td>\n",
       "      <td>NaN</td>\n",
       "    </tr>\n",
       "  </tbody>\n",
       "</table>\n",
       "</div>"
      ],
      "text/plain": [
       "  Complaint Type  Year  Month       Date   Latitude  Longitude  \\\n",
       "0  Stalled Sites  2011      1 2011-01-12  40.708142 -74.013526   \n",
       "1        Smoking  2011      1 2011-01-31  40.758870 -73.830130   \n",
       "2        Smoking  2011      3 2011-03-03  40.636097 -74.084519   \n",
       "3        Smoking  2011      3 2011-03-06  40.884150 -73.877663   \n",
       "4          Sewer  2011      5 2011-05-23        NaN        NaN   \n",
       "\n",
       "                                  Location Incident Zip  \n",
       "0  (40.70814203196457, -74.01352584698965)        10006  \n",
       "1  (40.75886964114406, -73.83013026118377)        11354  \n",
       "2  (40.636097085879555, -74.0845191507043)        10301  \n",
       "3  (40.88414951808322, -73.87766297790301)        10467  \n",
       "4                                      NaN          NaN  "
      ]
     },
     "execution_count": 46,
     "metadata": {},
     "output_type": "execute_result"
    }
   ],
   "source": [
    "data_1112 = data_1112[['Complaint Type','Year','Month','Date','Latitude','Longitude','Location','Incident Zip']]\n",
    "data_1112.head()"
   ]
  },
  {
   "cell_type": "code",
   "execution_count": 47,
   "metadata": {
    "collapsed": true
   },
   "outputs": [],
   "source": [
    "data_1112.to_csv('C11.csv')"
   ]
  },
  {
   "cell_type": "markdown",
   "metadata": {},
   "source": [
    "#### ----------"
   ]
  },
  {
   "cell_type": "code",
   "execution_count": 16,
   "metadata": {
    "collapsed": false
   },
   "outputs": [
    {
     "data": {
      "text/plain": [
       "dtype('O')"
      ]
     },
     "execution_count": 16,
     "metadata": {},
     "output_type": "execute_result"
    }
   ],
   "source": [
    "data_1213['Created Date'].dtypes"
   ]
  },
  {
   "cell_type": "code",
   "execution_count": 17,
   "metadata": {
    "collapsed": true
   },
   "outputs": [],
   "source": [
    "data_1213['Created Date'] = pd.to_datetime(data_1213['Created Date'])"
   ]
  },
  {
   "cell_type": "code",
   "execution_count": 18,
   "metadata": {
    "collapsed": false
   },
   "outputs": [
    {
     "data": {
      "text/plain": [
       "dtype('<M8[ns]')"
      ]
     },
     "execution_count": 18,
     "metadata": {},
     "output_type": "execute_result"
    }
   ],
   "source": [
    "data_1213['Created Date'].dtypes"
   ]
  },
  {
   "cell_type": "code",
   "execution_count": 48,
   "metadata": {
    "collapsed": false
   },
   "outputs": [
    {
     "data": {
      "text/html": [
       "<div>\n",
       "<table border=\"1\" class=\"dataframe\">\n",
       "  <thead>\n",
       "    <tr style=\"text-align: right;\">\n",
       "      <th></th>\n",
       "      <th>Created Date</th>\n",
       "      <th>Complaint Type</th>\n",
       "      <th>Incident Zip</th>\n",
       "      <th>X Coordinate (State Plane)</th>\n",
       "      <th>Y Coordinate (State Plane)</th>\n",
       "      <th>Latitude</th>\n",
       "      <th>Longitude</th>\n",
       "      <th>Location</th>\n",
       "      <th>Date</th>\n",
       "    </tr>\n",
       "  </thead>\n",
       "  <tbody>\n",
       "    <tr>\n",
       "      <th>0</th>\n",
       "      <td>2012-01-05 18:41:08</td>\n",
       "      <td>Smoking</td>\n",
       "      <td>10468</td>\n",
       "      <td>1009360.0</td>\n",
       "      <td>253385.0</td>\n",
       "      <td>40.862122</td>\n",
       "      <td>-73.909221</td>\n",
       "      <td>(40.86212228992487, -73.90922121571127)</td>\n",
       "      <td>2012-01-05</td>\n",
       "    </tr>\n",
       "    <tr>\n",
       "      <th>1</th>\n",
       "      <td>2012-01-08 13:06:53</td>\n",
       "      <td>Non-Residential Heat</td>\n",
       "      <td>11206</td>\n",
       "      <td>999829.0</td>\n",
       "      <td>198346.0</td>\n",
       "      <td>40.711077</td>\n",
       "      <td>-73.943806</td>\n",
       "      <td>(40.711076986346214, -73.94380574345548)</td>\n",
       "      <td>2012-01-08</td>\n",
       "    </tr>\n",
       "    <tr>\n",
       "      <th>2</th>\n",
       "      <td>2012-01-10 17:07:55</td>\n",
       "      <td>Smoking</td>\n",
       "      <td>10021</td>\n",
       "      <td>994875.0</td>\n",
       "      <td>219875.0</td>\n",
       "      <td>40.770176</td>\n",
       "      <td>-73.961641</td>\n",
       "      <td>(40.7701760655427, -73.96164106841557)</td>\n",
       "      <td>2012-01-10</td>\n",
       "    </tr>\n",
       "    <tr>\n",
       "      <th>3</th>\n",
       "      <td>2012-01-11 10:17:10</td>\n",
       "      <td>Smoking</td>\n",
       "      <td>11207</td>\n",
       "      <td>1015426.0</td>\n",
       "      <td>177561.0</td>\n",
       "      <td>40.653986</td>\n",
       "      <td>-73.887643</td>\n",
       "      <td>(40.65398573187911, -73.88764277035244)</td>\n",
       "      <td>2012-01-11</td>\n",
       "    </tr>\n",
       "    <tr>\n",
       "      <th>4</th>\n",
       "      <td>2012-02-22 12:59:46</td>\n",
       "      <td>General Construction/Plumbing</td>\n",
       "      <td>10455</td>\n",
       "      <td>1011913.0</td>\n",
       "      <td>236723.0</td>\n",
       "      <td>40.816382</td>\n",
       "      <td>-73.900060</td>\n",
       "      <td>(40.81638234521403, -73.90006022932145)</td>\n",
       "      <td>2012-02-22</td>\n",
       "    </tr>\n",
       "  </tbody>\n",
       "</table>\n",
       "</div>"
      ],
      "text/plain": [
       "         Created Date                 Complaint Type Incident Zip  \\\n",
       "0 2012-01-05 18:41:08                        Smoking        10468   \n",
       "1 2012-01-08 13:06:53           Non-Residential Heat        11206   \n",
       "2 2012-01-10 17:07:55                        Smoking        10021   \n",
       "3 2012-01-11 10:17:10                        Smoking        11207   \n",
       "4 2012-02-22 12:59:46  General Construction/Plumbing        10455   \n",
       "\n",
       "   X Coordinate (State Plane)  Y Coordinate (State Plane)   Latitude  \\\n",
       "0                   1009360.0                    253385.0  40.862122   \n",
       "1                    999829.0                    198346.0  40.711077   \n",
       "2                    994875.0                    219875.0  40.770176   \n",
       "3                   1015426.0                    177561.0  40.653986   \n",
       "4                   1011913.0                    236723.0  40.816382   \n",
       "\n",
       "   Longitude                                  Location        Date  \n",
       "0 -73.909221   (40.86212228992487, -73.90922121571127)  2012-01-05  \n",
       "1 -73.943806  (40.711076986346214, -73.94380574345548)  2012-01-08  \n",
       "2 -73.961641    (40.7701760655427, -73.96164106841557)  2012-01-10  \n",
       "3 -73.887643   (40.65398573187911, -73.88764277035244)  2012-01-11  \n",
       "4 -73.900060   (40.81638234521403, -73.90006022932145)  2012-02-22  "
      ]
     },
     "execution_count": 48,
     "metadata": {},
     "output_type": "execute_result"
    }
   ],
   "source": [
    "data_1213['Date'] = data_1213['Created Date'].dt.date\n",
    "data_1213.head()"
   ]
  },
  {
   "cell_type": "code",
   "execution_count": 49,
   "metadata": {
    "collapsed": false
   },
   "outputs": [
    {
     "data": {
      "text/html": [
       "<div>\n",
       "<table border=\"1\" class=\"dataframe\">\n",
       "  <thead>\n",
       "    <tr style=\"text-align: right;\">\n",
       "      <th></th>\n",
       "      <th>Complaint Type</th>\n",
       "      <th>Incident Zip</th>\n",
       "      <th>Latitude</th>\n",
       "      <th>Longitude</th>\n",
       "      <th>Location</th>\n",
       "      <th>Date</th>\n",
       "    </tr>\n",
       "  </thead>\n",
       "  <tbody>\n",
       "    <tr>\n",
       "      <th>0</th>\n",
       "      <td>Smoking</td>\n",
       "      <td>10468</td>\n",
       "      <td>40.862122</td>\n",
       "      <td>-73.909221</td>\n",
       "      <td>(40.86212228992487, -73.90922121571127)</td>\n",
       "      <td>2012-01-05</td>\n",
       "    </tr>\n",
       "    <tr>\n",
       "      <th>1</th>\n",
       "      <td>Non-Residential Heat</td>\n",
       "      <td>11206</td>\n",
       "      <td>40.711077</td>\n",
       "      <td>-73.943806</td>\n",
       "      <td>(40.711076986346214, -73.94380574345548)</td>\n",
       "      <td>2012-01-08</td>\n",
       "    </tr>\n",
       "    <tr>\n",
       "      <th>2</th>\n",
       "      <td>Smoking</td>\n",
       "      <td>10021</td>\n",
       "      <td>40.770176</td>\n",
       "      <td>-73.961641</td>\n",
       "      <td>(40.7701760655427, -73.96164106841557)</td>\n",
       "      <td>2012-01-10</td>\n",
       "    </tr>\n",
       "    <tr>\n",
       "      <th>3</th>\n",
       "      <td>Smoking</td>\n",
       "      <td>11207</td>\n",
       "      <td>40.653986</td>\n",
       "      <td>-73.887643</td>\n",
       "      <td>(40.65398573187911, -73.88764277035244)</td>\n",
       "      <td>2012-01-11</td>\n",
       "    </tr>\n",
       "    <tr>\n",
       "      <th>4</th>\n",
       "      <td>General Construction/Plumbing</td>\n",
       "      <td>10455</td>\n",
       "      <td>40.816382</td>\n",
       "      <td>-73.900060</td>\n",
       "      <td>(40.81638234521403, -73.90006022932145)</td>\n",
       "      <td>2012-02-22</td>\n",
       "    </tr>\n",
       "  </tbody>\n",
       "</table>\n",
       "</div>"
      ],
      "text/plain": [
       "                  Complaint Type Incident Zip   Latitude  Longitude  \\\n",
       "0                        Smoking        10468  40.862122 -73.909221   \n",
       "1           Non-Residential Heat        11206  40.711077 -73.943806   \n",
       "2                        Smoking        10021  40.770176 -73.961641   \n",
       "3                        Smoking        11207  40.653986 -73.887643   \n",
       "4  General Construction/Plumbing        10455  40.816382 -73.900060   \n",
       "\n",
       "                                   Location        Date  \n",
       "0   (40.86212228992487, -73.90922121571127)  2012-01-05  \n",
       "1  (40.711076986346214, -73.94380574345548)  2012-01-08  \n",
       "2    (40.7701760655427, -73.96164106841557)  2012-01-10  \n",
       "3   (40.65398573187911, -73.88764277035244)  2012-01-11  \n",
       "4   (40.81638234521403, -73.90006022932145)  2012-02-22  "
      ]
     },
     "execution_count": 49,
     "metadata": {},
     "output_type": "execute_result"
    }
   ],
   "source": [
    "data_1213 = data_1213.drop(['X Coordinate (State Plane)', 'Y Coordinate (State Plane)', 'Created Date'], axis = 1)\n",
    "data_1213.head()"
   ]
  },
  {
   "cell_type": "code",
   "execution_count": 50,
   "metadata": {
    "collapsed": true
   },
   "outputs": [],
   "source": [
    "data_1213['Date'] = pd.to_datetime(data_1213['Date'])"
   ]
  },
  {
   "cell_type": "code",
   "execution_count": 51,
   "metadata": {
    "collapsed": false
   },
   "outputs": [
    {
     "data": {
      "text/html": [
       "<div>\n",
       "<table border=\"1\" class=\"dataframe\">\n",
       "  <thead>\n",
       "    <tr style=\"text-align: right;\">\n",
       "      <th></th>\n",
       "      <th>Complaint Type</th>\n",
       "      <th>Incident Zip</th>\n",
       "      <th>Latitude</th>\n",
       "      <th>Longitude</th>\n",
       "      <th>Location</th>\n",
       "      <th>Date</th>\n",
       "      <th>Year</th>\n",
       "      <th>Month</th>\n",
       "    </tr>\n",
       "  </thead>\n",
       "  <tbody>\n",
       "    <tr>\n",
       "      <th>0</th>\n",
       "      <td>Smoking</td>\n",
       "      <td>10468</td>\n",
       "      <td>40.862122</td>\n",
       "      <td>-73.909221</td>\n",
       "      <td>(40.86212228992487, -73.90922121571127)</td>\n",
       "      <td>2012-01-05</td>\n",
       "      <td>2012</td>\n",
       "      <td>1</td>\n",
       "    </tr>\n",
       "    <tr>\n",
       "      <th>1</th>\n",
       "      <td>Non-Residential Heat</td>\n",
       "      <td>11206</td>\n",
       "      <td>40.711077</td>\n",
       "      <td>-73.943806</td>\n",
       "      <td>(40.711076986346214, -73.94380574345548)</td>\n",
       "      <td>2012-01-08</td>\n",
       "      <td>2012</td>\n",
       "      <td>1</td>\n",
       "    </tr>\n",
       "    <tr>\n",
       "      <th>2</th>\n",
       "      <td>Smoking</td>\n",
       "      <td>10021</td>\n",
       "      <td>40.770176</td>\n",
       "      <td>-73.961641</td>\n",
       "      <td>(40.7701760655427, -73.96164106841557)</td>\n",
       "      <td>2012-01-10</td>\n",
       "      <td>2012</td>\n",
       "      <td>1</td>\n",
       "    </tr>\n",
       "    <tr>\n",
       "      <th>3</th>\n",
       "      <td>Smoking</td>\n",
       "      <td>11207</td>\n",
       "      <td>40.653986</td>\n",
       "      <td>-73.887643</td>\n",
       "      <td>(40.65398573187911, -73.88764277035244)</td>\n",
       "      <td>2012-01-11</td>\n",
       "      <td>2012</td>\n",
       "      <td>1</td>\n",
       "    </tr>\n",
       "    <tr>\n",
       "      <th>4</th>\n",
       "      <td>General Construction/Plumbing</td>\n",
       "      <td>10455</td>\n",
       "      <td>40.816382</td>\n",
       "      <td>-73.900060</td>\n",
       "      <td>(40.81638234521403, -73.90006022932145)</td>\n",
       "      <td>2012-02-22</td>\n",
       "      <td>2012</td>\n",
       "      <td>2</td>\n",
       "    </tr>\n",
       "  </tbody>\n",
       "</table>\n",
       "</div>"
      ],
      "text/plain": [
       "                  Complaint Type Incident Zip   Latitude  Longitude  \\\n",
       "0                        Smoking        10468  40.862122 -73.909221   \n",
       "1           Non-Residential Heat        11206  40.711077 -73.943806   \n",
       "2                        Smoking        10021  40.770176 -73.961641   \n",
       "3                        Smoking        11207  40.653986 -73.887643   \n",
       "4  General Construction/Plumbing        10455  40.816382 -73.900060   \n",
       "\n",
       "                                   Location       Date  Year  Month  \n",
       "0   (40.86212228992487, -73.90922121571127) 2012-01-05  2012      1  \n",
       "1  (40.711076986346214, -73.94380574345548) 2012-01-08  2012      1  \n",
       "2    (40.7701760655427, -73.96164106841557) 2012-01-10  2012      1  \n",
       "3   (40.65398573187911, -73.88764277035244) 2012-01-11  2012      1  \n",
       "4   (40.81638234521403, -73.90006022932145) 2012-02-22  2012      2  "
      ]
     },
     "execution_count": 51,
     "metadata": {},
     "output_type": "execute_result"
    }
   ],
   "source": [
    "data_1213['Year'] = data_1213['Date'].dt.year\n",
    "data_1213['Month'] = data_1213['Date'].dt.month\n",
    "data_1213.head()"
   ]
  },
  {
   "cell_type": "code",
   "execution_count": 52,
   "metadata": {
    "collapsed": false
   },
   "outputs": [
    {
     "data": {
      "text/html": [
       "<div>\n",
       "<table border=\"1\" class=\"dataframe\">\n",
       "  <thead>\n",
       "    <tr style=\"text-align: right;\">\n",
       "      <th></th>\n",
       "      <th>Complaint Type</th>\n",
       "      <th>Year</th>\n",
       "      <th>Month</th>\n",
       "      <th>Date</th>\n",
       "      <th>Latitude</th>\n",
       "      <th>Longitude</th>\n",
       "      <th>Location</th>\n",
       "      <th>Incident Zip</th>\n",
       "    </tr>\n",
       "  </thead>\n",
       "  <tbody>\n",
       "    <tr>\n",
       "      <th>0</th>\n",
       "      <td>Smoking</td>\n",
       "      <td>2012</td>\n",
       "      <td>1</td>\n",
       "      <td>2012-01-05</td>\n",
       "      <td>40.862122</td>\n",
       "      <td>-73.909221</td>\n",
       "      <td>(40.86212228992487, -73.90922121571127)</td>\n",
       "      <td>10468</td>\n",
       "    </tr>\n",
       "    <tr>\n",
       "      <th>1</th>\n",
       "      <td>Non-Residential Heat</td>\n",
       "      <td>2012</td>\n",
       "      <td>1</td>\n",
       "      <td>2012-01-08</td>\n",
       "      <td>40.711077</td>\n",
       "      <td>-73.943806</td>\n",
       "      <td>(40.711076986346214, -73.94380574345548)</td>\n",
       "      <td>11206</td>\n",
       "    </tr>\n",
       "    <tr>\n",
       "      <th>2</th>\n",
       "      <td>Smoking</td>\n",
       "      <td>2012</td>\n",
       "      <td>1</td>\n",
       "      <td>2012-01-10</td>\n",
       "      <td>40.770176</td>\n",
       "      <td>-73.961641</td>\n",
       "      <td>(40.7701760655427, -73.96164106841557)</td>\n",
       "      <td>10021</td>\n",
       "    </tr>\n",
       "    <tr>\n",
       "      <th>3</th>\n",
       "      <td>Smoking</td>\n",
       "      <td>2012</td>\n",
       "      <td>1</td>\n",
       "      <td>2012-01-11</td>\n",
       "      <td>40.653986</td>\n",
       "      <td>-73.887643</td>\n",
       "      <td>(40.65398573187911, -73.88764277035244)</td>\n",
       "      <td>11207</td>\n",
       "    </tr>\n",
       "    <tr>\n",
       "      <th>4</th>\n",
       "      <td>General Construction/Plumbing</td>\n",
       "      <td>2012</td>\n",
       "      <td>2</td>\n",
       "      <td>2012-02-22</td>\n",
       "      <td>40.816382</td>\n",
       "      <td>-73.900060</td>\n",
       "      <td>(40.81638234521403, -73.90006022932145)</td>\n",
       "      <td>10455</td>\n",
       "    </tr>\n",
       "  </tbody>\n",
       "</table>\n",
       "</div>"
      ],
      "text/plain": [
       "                  Complaint Type  Year  Month       Date   Latitude  \\\n",
       "0                        Smoking  2012      1 2012-01-05  40.862122   \n",
       "1           Non-Residential Heat  2012      1 2012-01-08  40.711077   \n",
       "2                        Smoking  2012      1 2012-01-10  40.770176   \n",
       "3                        Smoking  2012      1 2012-01-11  40.653986   \n",
       "4  General Construction/Plumbing  2012      2 2012-02-22  40.816382   \n",
       "\n",
       "   Longitude                                  Location Incident Zip  \n",
       "0 -73.909221   (40.86212228992487, -73.90922121571127)        10468  \n",
       "1 -73.943806  (40.711076986346214, -73.94380574345548)        11206  \n",
       "2 -73.961641    (40.7701760655427, -73.96164106841557)        10021  \n",
       "3 -73.887643   (40.65398573187911, -73.88764277035244)        11207  \n",
       "4 -73.900060   (40.81638234521403, -73.90006022932145)        10455  "
      ]
     },
     "execution_count": 52,
     "metadata": {},
     "output_type": "execute_result"
    }
   ],
   "source": [
    "data_1213 = data_1213[['Complaint Type','Year','Month','Date','Latitude','Longitude','Location','Incident Zip']]\n",
    "data_1213.head()"
   ]
  },
  {
   "cell_type": "code",
   "execution_count": 53,
   "metadata": {
    "collapsed": true
   },
   "outputs": [],
   "source": [
    "data_1213.to_csv('C12.csv')"
   ]
  },
  {
   "cell_type": "markdown",
   "metadata": {},
   "source": [
    "#### ----------"
   ]
  },
  {
   "cell_type": "code",
   "execution_count": 19,
   "metadata": {
    "collapsed": false
   },
   "outputs": [
    {
     "data": {
      "text/plain": [
       "dtype('O')"
      ]
     },
     "execution_count": 19,
     "metadata": {},
     "output_type": "execute_result"
    }
   ],
   "source": [
    "data_1314['Created Date'].dtypes"
   ]
  },
  {
   "cell_type": "code",
   "execution_count": 20,
   "metadata": {
    "collapsed": true
   },
   "outputs": [],
   "source": [
    "data_1314['Created Date'] = pd.to_datetime(data_1314['Created Date'])"
   ]
  },
  {
   "cell_type": "code",
   "execution_count": 21,
   "metadata": {
    "collapsed": false
   },
   "outputs": [
    {
     "data": {
      "text/plain": [
       "dtype('<M8[ns]')"
      ]
     },
     "execution_count": 21,
     "metadata": {},
     "output_type": "execute_result"
    }
   ],
   "source": [
    "data_1314['Created Date'].dtypes"
   ]
  },
  {
   "cell_type": "code",
   "execution_count": 54,
   "metadata": {
    "collapsed": false
   },
   "outputs": [
    {
     "data": {
      "text/html": [
       "<div>\n",
       "<table border=\"1\" class=\"dataframe\">\n",
       "  <thead>\n",
       "    <tr style=\"text-align: right;\">\n",
       "      <th></th>\n",
       "      <th>Created Date</th>\n",
       "      <th>Agency</th>\n",
       "      <th>Complaint Type</th>\n",
       "      <th>Incident Zip</th>\n",
       "      <th>X Coordinate (State Plane)</th>\n",
       "      <th>Y Coordinate (State Plane)</th>\n",
       "      <th>Latitude</th>\n",
       "      <th>Longitude</th>\n",
       "      <th>Location</th>\n",
       "      <th>Date</th>\n",
       "    </tr>\n",
       "  </thead>\n",
       "  <tbody>\n",
       "    <tr>\n",
       "      <th>0</th>\n",
       "      <td>2013-10-01 13:43:52</td>\n",
       "      <td>DOB</td>\n",
       "      <td>General Construction/Plumbing</td>\n",
       "      <td>11230</td>\n",
       "      <td>993889.0</td>\n",
       "      <td>167119.0</td>\n",
       "      <td>40.625374</td>\n",
       "      <td>-73.965276</td>\n",
       "      <td>(40.6253743118371, -73.96527627658917)</td>\n",
       "      <td>2013-10-01</td>\n",
       "    </tr>\n",
       "    <tr>\n",
       "      <th>1</th>\n",
       "      <td>2013-01-19 18:21:02</td>\n",
       "      <td>DOHMH</td>\n",
       "      <td>Smoking</td>\n",
       "      <td>11106</td>\n",
       "      <td>1001933.0</td>\n",
       "      <td>217572.0</td>\n",
       "      <td>40.763844</td>\n",
       "      <td>-73.936166</td>\n",
       "      <td>(40.763843628219504, -73.93616597320083)</td>\n",
       "      <td>2013-01-19</td>\n",
       "    </tr>\n",
       "    <tr>\n",
       "      <th>2</th>\n",
       "      <td>2013-01-23 00:24:53</td>\n",
       "      <td>DOHMH</td>\n",
       "      <td>Non-Residential Heat</td>\n",
       "      <td>11233</td>\n",
       "      <td>1009644.0</td>\n",
       "      <td>185648.0</td>\n",
       "      <td>40.676201</td>\n",
       "      <td>-73.908450</td>\n",
       "      <td>(40.67620120872071, -73.90845042192403)</td>\n",
       "      <td>2013-01-23</td>\n",
       "    </tr>\n",
       "    <tr>\n",
       "      <th>3</th>\n",
       "      <td>2013-01-25 15:41:18</td>\n",
       "      <td>DOHMH</td>\n",
       "      <td>Non-Residential Heat</td>\n",
       "      <td>11213</td>\n",
       "      <td>1004408.0</td>\n",
       "      <td>183847.0</td>\n",
       "      <td>40.671271</td>\n",
       "      <td>-73.927332</td>\n",
       "      <td>(40.67127134171268, -73.92733244608434)</td>\n",
       "      <td>2013-01-25</td>\n",
       "    </tr>\n",
       "    <tr>\n",
       "      <th>4</th>\n",
       "      <td>2013-01-28 15:41:50</td>\n",
       "      <td>DOB</td>\n",
       "      <td>General Construction/Plumbing</td>\n",
       "      <td>11101</td>\n",
       "      <td>996676.0</td>\n",
       "      <td>211026.0</td>\n",
       "      <td>40.745885</td>\n",
       "      <td>-73.955155</td>\n",
       "      <td>(40.74588547678187, -73.95515535997583)</td>\n",
       "      <td>2013-01-28</td>\n",
       "    </tr>\n",
       "  </tbody>\n",
       "</table>\n",
       "</div>"
      ],
      "text/plain": [
       "         Created Date Agency                 Complaint Type Incident Zip  \\\n",
       "0 2013-10-01 13:43:52    DOB  General Construction/Plumbing        11230   \n",
       "1 2013-01-19 18:21:02  DOHMH                        Smoking        11106   \n",
       "2 2013-01-23 00:24:53  DOHMH           Non-Residential Heat        11233   \n",
       "3 2013-01-25 15:41:18  DOHMH           Non-Residential Heat        11213   \n",
       "4 2013-01-28 15:41:50    DOB  General Construction/Plumbing        11101   \n",
       "\n",
       "   X Coordinate (State Plane)  Y Coordinate (State Plane)   Latitude  \\\n",
       "0                    993889.0                    167119.0  40.625374   \n",
       "1                   1001933.0                    217572.0  40.763844   \n",
       "2                   1009644.0                    185648.0  40.676201   \n",
       "3                   1004408.0                    183847.0  40.671271   \n",
       "4                    996676.0                    211026.0  40.745885   \n",
       "\n",
       "   Longitude                                  Location        Date  \n",
       "0 -73.965276    (40.6253743118371, -73.96527627658917)  2013-10-01  \n",
       "1 -73.936166  (40.763843628219504, -73.93616597320083)  2013-01-19  \n",
       "2 -73.908450   (40.67620120872071, -73.90845042192403)  2013-01-23  \n",
       "3 -73.927332   (40.67127134171268, -73.92733244608434)  2013-01-25  \n",
       "4 -73.955155   (40.74588547678187, -73.95515535997583)  2013-01-28  "
      ]
     },
     "execution_count": 54,
     "metadata": {},
     "output_type": "execute_result"
    }
   ],
   "source": [
    "data_1314['Date'] = data_1314['Created Date'].dt.date\n",
    "data_1314.head()"
   ]
  },
  {
   "cell_type": "code",
   "execution_count": 55,
   "metadata": {
    "collapsed": false
   },
   "outputs": [
    {
     "data": {
      "text/html": [
       "<div>\n",
       "<table border=\"1\" class=\"dataframe\">\n",
       "  <thead>\n",
       "    <tr style=\"text-align: right;\">\n",
       "      <th></th>\n",
       "      <th>Complaint Type</th>\n",
       "      <th>Incident Zip</th>\n",
       "      <th>Latitude</th>\n",
       "      <th>Longitude</th>\n",
       "      <th>Location</th>\n",
       "      <th>Date</th>\n",
       "    </tr>\n",
       "  </thead>\n",
       "  <tbody>\n",
       "    <tr>\n",
       "      <th>0</th>\n",
       "      <td>General Construction/Plumbing</td>\n",
       "      <td>11230</td>\n",
       "      <td>40.625374</td>\n",
       "      <td>-73.965276</td>\n",
       "      <td>(40.6253743118371, -73.96527627658917)</td>\n",
       "      <td>2013-10-01</td>\n",
       "    </tr>\n",
       "    <tr>\n",
       "      <th>1</th>\n",
       "      <td>Smoking</td>\n",
       "      <td>11106</td>\n",
       "      <td>40.763844</td>\n",
       "      <td>-73.936166</td>\n",
       "      <td>(40.763843628219504, -73.93616597320083)</td>\n",
       "      <td>2013-01-19</td>\n",
       "    </tr>\n",
       "    <tr>\n",
       "      <th>2</th>\n",
       "      <td>Non-Residential Heat</td>\n",
       "      <td>11233</td>\n",
       "      <td>40.676201</td>\n",
       "      <td>-73.908450</td>\n",
       "      <td>(40.67620120872071, -73.90845042192403)</td>\n",
       "      <td>2013-01-23</td>\n",
       "    </tr>\n",
       "    <tr>\n",
       "      <th>3</th>\n",
       "      <td>Non-Residential Heat</td>\n",
       "      <td>11213</td>\n",
       "      <td>40.671271</td>\n",
       "      <td>-73.927332</td>\n",
       "      <td>(40.67127134171268, -73.92733244608434)</td>\n",
       "      <td>2013-01-25</td>\n",
       "    </tr>\n",
       "    <tr>\n",
       "      <th>4</th>\n",
       "      <td>General Construction/Plumbing</td>\n",
       "      <td>11101</td>\n",
       "      <td>40.745885</td>\n",
       "      <td>-73.955155</td>\n",
       "      <td>(40.74588547678187, -73.95515535997583)</td>\n",
       "      <td>2013-01-28</td>\n",
       "    </tr>\n",
       "  </tbody>\n",
       "</table>\n",
       "</div>"
      ],
      "text/plain": [
       "                  Complaint Type Incident Zip   Latitude  Longitude  \\\n",
       "0  General Construction/Plumbing        11230  40.625374 -73.965276   \n",
       "1                        Smoking        11106  40.763844 -73.936166   \n",
       "2           Non-Residential Heat        11233  40.676201 -73.908450   \n",
       "3           Non-Residential Heat        11213  40.671271 -73.927332   \n",
       "4  General Construction/Plumbing        11101  40.745885 -73.955155   \n",
       "\n",
       "                                   Location        Date  \n",
       "0    (40.6253743118371, -73.96527627658917)  2013-10-01  \n",
       "1  (40.763843628219504, -73.93616597320083)  2013-01-19  \n",
       "2   (40.67620120872071, -73.90845042192403)  2013-01-23  \n",
       "3   (40.67127134171268, -73.92733244608434)  2013-01-25  \n",
       "4   (40.74588547678187, -73.95515535997583)  2013-01-28  "
      ]
     },
     "execution_count": 55,
     "metadata": {},
     "output_type": "execute_result"
    }
   ],
   "source": [
    "data_1314 = data_1314.drop(['Agency', 'X Coordinate (State Plane)', 'Y Coordinate (State Plane)', 'Created Date'], axis = 1)\n",
    "data_1314.head()"
   ]
  },
  {
   "cell_type": "code",
   "execution_count": 56,
   "metadata": {
    "collapsed": true
   },
   "outputs": [],
   "source": [
    "data_1314['Date'] = pd.to_datetime(data_1314['Date'])"
   ]
  },
  {
   "cell_type": "code",
   "execution_count": 57,
   "metadata": {
    "collapsed": false
   },
   "outputs": [
    {
     "data": {
      "text/html": [
       "<div>\n",
       "<table border=\"1\" class=\"dataframe\">\n",
       "  <thead>\n",
       "    <tr style=\"text-align: right;\">\n",
       "      <th></th>\n",
       "      <th>Complaint Type</th>\n",
       "      <th>Incident Zip</th>\n",
       "      <th>Latitude</th>\n",
       "      <th>Longitude</th>\n",
       "      <th>Location</th>\n",
       "      <th>Date</th>\n",
       "      <th>Year</th>\n",
       "      <th>Month</th>\n",
       "    </tr>\n",
       "  </thead>\n",
       "  <tbody>\n",
       "    <tr>\n",
       "      <th>0</th>\n",
       "      <td>General Construction/Plumbing</td>\n",
       "      <td>11230</td>\n",
       "      <td>40.625374</td>\n",
       "      <td>-73.965276</td>\n",
       "      <td>(40.6253743118371, -73.96527627658917)</td>\n",
       "      <td>2013-10-01</td>\n",
       "      <td>2013</td>\n",
       "      <td>10</td>\n",
       "    </tr>\n",
       "    <tr>\n",
       "      <th>1</th>\n",
       "      <td>Smoking</td>\n",
       "      <td>11106</td>\n",
       "      <td>40.763844</td>\n",
       "      <td>-73.936166</td>\n",
       "      <td>(40.763843628219504, -73.93616597320083)</td>\n",
       "      <td>2013-01-19</td>\n",
       "      <td>2013</td>\n",
       "      <td>1</td>\n",
       "    </tr>\n",
       "    <tr>\n",
       "      <th>2</th>\n",
       "      <td>Non-Residential Heat</td>\n",
       "      <td>11233</td>\n",
       "      <td>40.676201</td>\n",
       "      <td>-73.908450</td>\n",
       "      <td>(40.67620120872071, -73.90845042192403)</td>\n",
       "      <td>2013-01-23</td>\n",
       "      <td>2013</td>\n",
       "      <td>1</td>\n",
       "    </tr>\n",
       "    <tr>\n",
       "      <th>3</th>\n",
       "      <td>Non-Residential Heat</td>\n",
       "      <td>11213</td>\n",
       "      <td>40.671271</td>\n",
       "      <td>-73.927332</td>\n",
       "      <td>(40.67127134171268, -73.92733244608434)</td>\n",
       "      <td>2013-01-25</td>\n",
       "      <td>2013</td>\n",
       "      <td>1</td>\n",
       "    </tr>\n",
       "    <tr>\n",
       "      <th>4</th>\n",
       "      <td>General Construction/Plumbing</td>\n",
       "      <td>11101</td>\n",
       "      <td>40.745885</td>\n",
       "      <td>-73.955155</td>\n",
       "      <td>(40.74588547678187, -73.95515535997583)</td>\n",
       "      <td>2013-01-28</td>\n",
       "      <td>2013</td>\n",
       "      <td>1</td>\n",
       "    </tr>\n",
       "  </tbody>\n",
       "</table>\n",
       "</div>"
      ],
      "text/plain": [
       "                  Complaint Type Incident Zip   Latitude  Longitude  \\\n",
       "0  General Construction/Plumbing        11230  40.625374 -73.965276   \n",
       "1                        Smoking        11106  40.763844 -73.936166   \n",
       "2           Non-Residential Heat        11233  40.676201 -73.908450   \n",
       "3           Non-Residential Heat        11213  40.671271 -73.927332   \n",
       "4  General Construction/Plumbing        11101  40.745885 -73.955155   \n",
       "\n",
       "                                   Location       Date  Year  Month  \n",
       "0    (40.6253743118371, -73.96527627658917) 2013-10-01  2013     10  \n",
       "1  (40.763843628219504, -73.93616597320083) 2013-01-19  2013      1  \n",
       "2   (40.67620120872071, -73.90845042192403) 2013-01-23  2013      1  \n",
       "3   (40.67127134171268, -73.92733244608434) 2013-01-25  2013      1  \n",
       "4   (40.74588547678187, -73.95515535997583) 2013-01-28  2013      1  "
      ]
     },
     "execution_count": 57,
     "metadata": {},
     "output_type": "execute_result"
    }
   ],
   "source": [
    "data_1314['Year'] = data_1314['Date'].dt.year\n",
    "data_1314['Month'] = data_1314['Date'].dt.month\n",
    "data_1314.head()"
   ]
  },
  {
   "cell_type": "code",
   "execution_count": 58,
   "metadata": {
    "collapsed": false
   },
   "outputs": [
    {
     "data": {
      "text/html": [
       "<div>\n",
       "<table border=\"1\" class=\"dataframe\">\n",
       "  <thead>\n",
       "    <tr style=\"text-align: right;\">\n",
       "      <th></th>\n",
       "      <th>Complaint Type</th>\n",
       "      <th>Year</th>\n",
       "      <th>Month</th>\n",
       "      <th>Date</th>\n",
       "      <th>Latitude</th>\n",
       "      <th>Longitude</th>\n",
       "      <th>Location</th>\n",
       "      <th>Incident Zip</th>\n",
       "    </tr>\n",
       "  </thead>\n",
       "  <tbody>\n",
       "    <tr>\n",
       "      <th>0</th>\n",
       "      <td>General Construction/Plumbing</td>\n",
       "      <td>2013</td>\n",
       "      <td>10</td>\n",
       "      <td>2013-10-01</td>\n",
       "      <td>40.625374</td>\n",
       "      <td>-73.965276</td>\n",
       "      <td>(40.6253743118371, -73.96527627658917)</td>\n",
       "      <td>11230</td>\n",
       "    </tr>\n",
       "    <tr>\n",
       "      <th>1</th>\n",
       "      <td>Smoking</td>\n",
       "      <td>2013</td>\n",
       "      <td>1</td>\n",
       "      <td>2013-01-19</td>\n",
       "      <td>40.763844</td>\n",
       "      <td>-73.936166</td>\n",
       "      <td>(40.763843628219504, -73.93616597320083)</td>\n",
       "      <td>11106</td>\n",
       "    </tr>\n",
       "    <tr>\n",
       "      <th>2</th>\n",
       "      <td>Non-Residential Heat</td>\n",
       "      <td>2013</td>\n",
       "      <td>1</td>\n",
       "      <td>2013-01-23</td>\n",
       "      <td>40.676201</td>\n",
       "      <td>-73.908450</td>\n",
       "      <td>(40.67620120872071, -73.90845042192403)</td>\n",
       "      <td>11233</td>\n",
       "    </tr>\n",
       "    <tr>\n",
       "      <th>3</th>\n",
       "      <td>Non-Residential Heat</td>\n",
       "      <td>2013</td>\n",
       "      <td>1</td>\n",
       "      <td>2013-01-25</td>\n",
       "      <td>40.671271</td>\n",
       "      <td>-73.927332</td>\n",
       "      <td>(40.67127134171268, -73.92733244608434)</td>\n",
       "      <td>11213</td>\n",
       "    </tr>\n",
       "    <tr>\n",
       "      <th>4</th>\n",
       "      <td>General Construction/Plumbing</td>\n",
       "      <td>2013</td>\n",
       "      <td>1</td>\n",
       "      <td>2013-01-28</td>\n",
       "      <td>40.745885</td>\n",
       "      <td>-73.955155</td>\n",
       "      <td>(40.74588547678187, -73.95515535997583)</td>\n",
       "      <td>11101</td>\n",
       "    </tr>\n",
       "  </tbody>\n",
       "</table>\n",
       "</div>"
      ],
      "text/plain": [
       "                  Complaint Type  Year  Month       Date   Latitude  \\\n",
       "0  General Construction/Plumbing  2013     10 2013-10-01  40.625374   \n",
       "1                        Smoking  2013      1 2013-01-19  40.763844   \n",
       "2           Non-Residential Heat  2013      1 2013-01-23  40.676201   \n",
       "3           Non-Residential Heat  2013      1 2013-01-25  40.671271   \n",
       "4  General Construction/Plumbing  2013      1 2013-01-28  40.745885   \n",
       "\n",
       "   Longitude                                  Location Incident Zip  \n",
       "0 -73.965276    (40.6253743118371, -73.96527627658917)        11230  \n",
       "1 -73.936166  (40.763843628219504, -73.93616597320083)        11106  \n",
       "2 -73.908450   (40.67620120872071, -73.90845042192403)        11233  \n",
       "3 -73.927332   (40.67127134171268, -73.92733244608434)        11213  \n",
       "4 -73.955155   (40.74588547678187, -73.95515535997583)        11101  "
      ]
     },
     "execution_count": 58,
     "metadata": {},
     "output_type": "execute_result"
    }
   ],
   "source": [
    "data_1314 = data_1314[['Complaint Type','Year','Month','Date','Latitude','Longitude','Location','Incident Zip']]\n",
    "data_1314.head()"
   ]
  },
  {
   "cell_type": "code",
   "execution_count": 59,
   "metadata": {
    "collapsed": true
   },
   "outputs": [],
   "source": [
    "data_1314.to_csv('C13.csv')"
   ]
  },
  {
   "cell_type": "markdown",
   "metadata": {},
   "source": [
    "#### ----------"
   ]
  },
  {
   "cell_type": "code",
   "execution_count": 22,
   "metadata": {
    "collapsed": false
   },
   "outputs": [
    {
     "data": {
      "text/plain": [
       "dtype('O')"
      ]
     },
     "execution_count": 22,
     "metadata": {},
     "output_type": "execute_result"
    }
   ],
   "source": [
    "data_1415['Created Date'].dtypes"
   ]
  },
  {
   "cell_type": "code",
   "execution_count": 23,
   "metadata": {
    "collapsed": true
   },
   "outputs": [],
   "source": [
    "data_1415['Created Date'] = pd.to_datetime(data_1415['Created Date'])"
   ]
  },
  {
   "cell_type": "code",
   "execution_count": 24,
   "metadata": {
    "collapsed": false
   },
   "outputs": [
    {
     "data": {
      "text/plain": [
       "dtype('<M8[ns]')"
      ]
     },
     "execution_count": 24,
     "metadata": {},
     "output_type": "execute_result"
    }
   ],
   "source": [
    "data_1415['Created Date'].dtypes"
   ]
  },
  {
   "cell_type": "code",
   "execution_count": 60,
   "metadata": {
    "collapsed": false
   },
   "outputs": [
    {
     "data": {
      "text/html": [
       "<div>\n",
       "<table border=\"1\" class=\"dataframe\">\n",
       "  <thead>\n",
       "    <tr style=\"text-align: right;\">\n",
       "      <th></th>\n",
       "      <th>Created Date</th>\n",
       "      <th>Complaint Type</th>\n",
       "      <th>Incident Zip</th>\n",
       "      <th>X Coordinate (State Plane)</th>\n",
       "      <th>Y Coordinate (State Plane)</th>\n",
       "      <th>Latitude</th>\n",
       "      <th>Longitude</th>\n",
       "      <th>Location</th>\n",
       "      <th>Date</th>\n",
       "    </tr>\n",
       "  </thead>\n",
       "  <tbody>\n",
       "    <tr>\n",
       "      <th>0</th>\n",
       "      <td>2014-01-02 09:56:35</td>\n",
       "      <td>DOF Property - Reduction Issue</td>\n",
       "      <td>10455</td>\n",
       "      <td>NaN</td>\n",
       "      <td>NaN</td>\n",
       "      <td>NaN</td>\n",
       "      <td>NaN</td>\n",
       "      <td>NaN</td>\n",
       "      <td>2014-01-02</td>\n",
       "    </tr>\n",
       "    <tr>\n",
       "      <th>1</th>\n",
       "      <td>2014-01-01 01:43:59</td>\n",
       "      <td>Blocked Driveway</td>\n",
       "      <td>11105</td>\n",
       "      <td>1011905.0</td>\n",
       "      <td>220241.0</td>\n",
       "      <td>40.771144</td>\n",
       "      <td>-73.900157</td>\n",
       "      <td>(40.77114376681425, -73.90015700109045)</td>\n",
       "      <td>2014-01-01</td>\n",
       "    </tr>\n",
       "    <tr>\n",
       "      <th>2</th>\n",
       "      <td>2014-01-01 02:40:43</td>\n",
       "      <td>Blocked Driveway</td>\n",
       "      <td>11419</td>\n",
       "      <td>1029742.0</td>\n",
       "      <td>190764.0</td>\n",
       "      <td>40.690163</td>\n",
       "      <td>-73.835959</td>\n",
       "      <td>(40.69016297012941, -73.83595939389049)</td>\n",
       "      <td>2014-01-01</td>\n",
       "    </tr>\n",
       "    <tr>\n",
       "      <th>3</th>\n",
       "      <td>2014-01-01 00:43:46</td>\n",
       "      <td>Illegal Parking</td>\n",
       "      <td>11385</td>\n",
       "      <td>1017254.0</td>\n",
       "      <td>195852.0</td>\n",
       "      <td>40.704184</td>\n",
       "      <td>-73.880965</td>\n",
       "      <td>(40.70418371191333, -73.88096515118515)</td>\n",
       "      <td>2014-01-01</td>\n",
       "    </tr>\n",
       "    <tr>\n",
       "      <th>4</th>\n",
       "      <td>2014-01-01 02:53:18</td>\n",
       "      <td>Noise - Residential</td>\n",
       "      <td>11219</td>\n",
       "      <td>985062.0</td>\n",
       "      <td>173714.0</td>\n",
       "      <td>40.643481</td>\n",
       "      <td>-73.997074</td>\n",
       "      <td>(40.64348139274596, -73.99707404148495)</td>\n",
       "      <td>2014-01-01</td>\n",
       "    </tr>\n",
       "  </tbody>\n",
       "</table>\n",
       "</div>"
      ],
      "text/plain": [
       "         Created Date                  Complaint Type Incident Zip  \\\n",
       "0 2014-01-02 09:56:35  DOF Property - Reduction Issue        10455   \n",
       "1 2014-01-01 01:43:59                Blocked Driveway        11105   \n",
       "2 2014-01-01 02:40:43                Blocked Driveway        11419   \n",
       "3 2014-01-01 00:43:46                 Illegal Parking        11385   \n",
       "4 2014-01-01 02:53:18             Noise - Residential        11219   \n",
       "\n",
       "   X Coordinate (State Plane)  Y Coordinate (State Plane)   Latitude  \\\n",
       "0                         NaN                         NaN        NaN   \n",
       "1                   1011905.0                    220241.0  40.771144   \n",
       "2                   1029742.0                    190764.0  40.690163   \n",
       "3                   1017254.0                    195852.0  40.704184   \n",
       "4                    985062.0                    173714.0  40.643481   \n",
       "\n",
       "   Longitude                                 Location        Date  \n",
       "0        NaN                                      NaN  2014-01-02  \n",
       "1 -73.900157  (40.77114376681425, -73.90015700109045)  2014-01-01  \n",
       "2 -73.835959  (40.69016297012941, -73.83595939389049)  2014-01-01  \n",
       "3 -73.880965  (40.70418371191333, -73.88096515118515)  2014-01-01  \n",
       "4 -73.997074  (40.64348139274596, -73.99707404148495)  2014-01-01  "
      ]
     },
     "execution_count": 60,
     "metadata": {},
     "output_type": "execute_result"
    }
   ],
   "source": [
    "data_1415['Date'] = data_1415['Created Date'].dt.date\n",
    "data_1415.head()"
   ]
  },
  {
   "cell_type": "code",
   "execution_count": 61,
   "metadata": {
    "collapsed": false
   },
   "outputs": [
    {
     "data": {
      "text/html": [
       "<div>\n",
       "<table border=\"1\" class=\"dataframe\">\n",
       "  <thead>\n",
       "    <tr style=\"text-align: right;\">\n",
       "      <th></th>\n",
       "      <th>Complaint Type</th>\n",
       "      <th>Incident Zip</th>\n",
       "      <th>Latitude</th>\n",
       "      <th>Longitude</th>\n",
       "      <th>Location</th>\n",
       "      <th>Date</th>\n",
       "    </tr>\n",
       "  </thead>\n",
       "  <tbody>\n",
       "    <tr>\n",
       "      <th>0</th>\n",
       "      <td>DOF Property - Reduction Issue</td>\n",
       "      <td>10455</td>\n",
       "      <td>NaN</td>\n",
       "      <td>NaN</td>\n",
       "      <td>NaN</td>\n",
       "      <td>2014-01-02</td>\n",
       "    </tr>\n",
       "    <tr>\n",
       "      <th>1</th>\n",
       "      <td>Blocked Driveway</td>\n",
       "      <td>11105</td>\n",
       "      <td>40.771144</td>\n",
       "      <td>-73.900157</td>\n",
       "      <td>(40.77114376681425, -73.90015700109045)</td>\n",
       "      <td>2014-01-01</td>\n",
       "    </tr>\n",
       "    <tr>\n",
       "      <th>2</th>\n",
       "      <td>Blocked Driveway</td>\n",
       "      <td>11419</td>\n",
       "      <td>40.690163</td>\n",
       "      <td>-73.835959</td>\n",
       "      <td>(40.69016297012941, -73.83595939389049)</td>\n",
       "      <td>2014-01-01</td>\n",
       "    </tr>\n",
       "    <tr>\n",
       "      <th>3</th>\n",
       "      <td>Illegal Parking</td>\n",
       "      <td>11385</td>\n",
       "      <td>40.704184</td>\n",
       "      <td>-73.880965</td>\n",
       "      <td>(40.70418371191333, -73.88096515118515)</td>\n",
       "      <td>2014-01-01</td>\n",
       "    </tr>\n",
       "    <tr>\n",
       "      <th>4</th>\n",
       "      <td>Noise - Residential</td>\n",
       "      <td>11219</td>\n",
       "      <td>40.643481</td>\n",
       "      <td>-73.997074</td>\n",
       "      <td>(40.64348139274596, -73.99707404148495)</td>\n",
       "      <td>2014-01-01</td>\n",
       "    </tr>\n",
       "  </tbody>\n",
       "</table>\n",
       "</div>"
      ],
      "text/plain": [
       "                   Complaint Type Incident Zip   Latitude  Longitude  \\\n",
       "0  DOF Property - Reduction Issue        10455        NaN        NaN   \n",
       "1                Blocked Driveway        11105  40.771144 -73.900157   \n",
       "2                Blocked Driveway        11419  40.690163 -73.835959   \n",
       "3                 Illegal Parking        11385  40.704184 -73.880965   \n",
       "4             Noise - Residential        11219  40.643481 -73.997074   \n",
       "\n",
       "                                  Location        Date  \n",
       "0                                      NaN  2014-01-02  \n",
       "1  (40.77114376681425, -73.90015700109045)  2014-01-01  \n",
       "2  (40.69016297012941, -73.83595939389049)  2014-01-01  \n",
       "3  (40.70418371191333, -73.88096515118515)  2014-01-01  \n",
       "4  (40.64348139274596, -73.99707404148495)  2014-01-01  "
      ]
     },
     "execution_count": 61,
     "metadata": {},
     "output_type": "execute_result"
    }
   ],
   "source": [
    "data_1415 = data_1415.drop(['X Coordinate (State Plane)', 'Y Coordinate (State Plane)', 'Created Date'], axis = 1)\n",
    "data_1415.head()"
   ]
  },
  {
   "cell_type": "code",
   "execution_count": 62,
   "metadata": {
    "collapsed": true
   },
   "outputs": [],
   "source": [
    "data_1415['Date'] = pd.to_datetime(data_1415['Date'])"
   ]
  },
  {
   "cell_type": "code",
   "execution_count": 63,
   "metadata": {
    "collapsed": false
   },
   "outputs": [
    {
     "data": {
      "text/html": [
       "<div>\n",
       "<table border=\"1\" class=\"dataframe\">\n",
       "  <thead>\n",
       "    <tr style=\"text-align: right;\">\n",
       "      <th></th>\n",
       "      <th>Complaint Type</th>\n",
       "      <th>Incident Zip</th>\n",
       "      <th>Latitude</th>\n",
       "      <th>Longitude</th>\n",
       "      <th>Location</th>\n",
       "      <th>Date</th>\n",
       "      <th>Year</th>\n",
       "      <th>Month</th>\n",
       "    </tr>\n",
       "  </thead>\n",
       "  <tbody>\n",
       "    <tr>\n",
       "      <th>0</th>\n",
       "      <td>DOF Property - Reduction Issue</td>\n",
       "      <td>10455</td>\n",
       "      <td>NaN</td>\n",
       "      <td>NaN</td>\n",
       "      <td>NaN</td>\n",
       "      <td>2014-01-02</td>\n",
       "      <td>2014</td>\n",
       "      <td>1</td>\n",
       "    </tr>\n",
       "    <tr>\n",
       "      <th>1</th>\n",
       "      <td>Blocked Driveway</td>\n",
       "      <td>11105</td>\n",
       "      <td>40.771144</td>\n",
       "      <td>-73.900157</td>\n",
       "      <td>(40.77114376681425, -73.90015700109045)</td>\n",
       "      <td>2014-01-01</td>\n",
       "      <td>2014</td>\n",
       "      <td>1</td>\n",
       "    </tr>\n",
       "    <tr>\n",
       "      <th>2</th>\n",
       "      <td>Blocked Driveway</td>\n",
       "      <td>11419</td>\n",
       "      <td>40.690163</td>\n",
       "      <td>-73.835959</td>\n",
       "      <td>(40.69016297012941, -73.83595939389049)</td>\n",
       "      <td>2014-01-01</td>\n",
       "      <td>2014</td>\n",
       "      <td>1</td>\n",
       "    </tr>\n",
       "    <tr>\n",
       "      <th>3</th>\n",
       "      <td>Illegal Parking</td>\n",
       "      <td>11385</td>\n",
       "      <td>40.704184</td>\n",
       "      <td>-73.880965</td>\n",
       "      <td>(40.70418371191333, -73.88096515118515)</td>\n",
       "      <td>2014-01-01</td>\n",
       "      <td>2014</td>\n",
       "      <td>1</td>\n",
       "    </tr>\n",
       "    <tr>\n",
       "      <th>4</th>\n",
       "      <td>Noise - Residential</td>\n",
       "      <td>11219</td>\n",
       "      <td>40.643481</td>\n",
       "      <td>-73.997074</td>\n",
       "      <td>(40.64348139274596, -73.99707404148495)</td>\n",
       "      <td>2014-01-01</td>\n",
       "      <td>2014</td>\n",
       "      <td>1</td>\n",
       "    </tr>\n",
       "  </tbody>\n",
       "</table>\n",
       "</div>"
      ],
      "text/plain": [
       "                   Complaint Type Incident Zip   Latitude  Longitude  \\\n",
       "0  DOF Property - Reduction Issue        10455        NaN        NaN   \n",
       "1                Blocked Driveway        11105  40.771144 -73.900157   \n",
       "2                Blocked Driveway        11419  40.690163 -73.835959   \n",
       "3                 Illegal Parking        11385  40.704184 -73.880965   \n",
       "4             Noise - Residential        11219  40.643481 -73.997074   \n",
       "\n",
       "                                  Location       Date  Year  Month  \n",
       "0                                      NaN 2014-01-02  2014      1  \n",
       "1  (40.77114376681425, -73.90015700109045) 2014-01-01  2014      1  \n",
       "2  (40.69016297012941, -73.83595939389049) 2014-01-01  2014      1  \n",
       "3  (40.70418371191333, -73.88096515118515) 2014-01-01  2014      1  \n",
       "4  (40.64348139274596, -73.99707404148495) 2014-01-01  2014      1  "
      ]
     },
     "execution_count": 63,
     "metadata": {},
     "output_type": "execute_result"
    }
   ],
   "source": [
    "data_1415['Year'] = data_1415['Date'].dt.year\n",
    "data_1415['Month'] = data_1415['Date'].dt.month\n",
    "data_1415.head()"
   ]
  },
  {
   "cell_type": "code",
   "execution_count": 64,
   "metadata": {
    "collapsed": false
   },
   "outputs": [
    {
     "data": {
      "text/html": [
       "<div>\n",
       "<table border=\"1\" class=\"dataframe\">\n",
       "  <thead>\n",
       "    <tr style=\"text-align: right;\">\n",
       "      <th></th>\n",
       "      <th>Complaint Type</th>\n",
       "      <th>Year</th>\n",
       "      <th>Month</th>\n",
       "      <th>Date</th>\n",
       "      <th>Latitude</th>\n",
       "      <th>Longitude</th>\n",
       "      <th>Location</th>\n",
       "      <th>Incident Zip</th>\n",
       "    </tr>\n",
       "  </thead>\n",
       "  <tbody>\n",
       "    <tr>\n",
       "      <th>0</th>\n",
       "      <td>DOF Property - Reduction Issue</td>\n",
       "      <td>2014</td>\n",
       "      <td>1</td>\n",
       "      <td>2014-01-02</td>\n",
       "      <td>NaN</td>\n",
       "      <td>NaN</td>\n",
       "      <td>NaN</td>\n",
       "      <td>10455</td>\n",
       "    </tr>\n",
       "    <tr>\n",
       "      <th>1</th>\n",
       "      <td>Blocked Driveway</td>\n",
       "      <td>2014</td>\n",
       "      <td>1</td>\n",
       "      <td>2014-01-01</td>\n",
       "      <td>40.771144</td>\n",
       "      <td>-73.900157</td>\n",
       "      <td>(40.77114376681425, -73.90015700109045)</td>\n",
       "      <td>11105</td>\n",
       "    </tr>\n",
       "    <tr>\n",
       "      <th>2</th>\n",
       "      <td>Blocked Driveway</td>\n",
       "      <td>2014</td>\n",
       "      <td>1</td>\n",
       "      <td>2014-01-01</td>\n",
       "      <td>40.690163</td>\n",
       "      <td>-73.835959</td>\n",
       "      <td>(40.69016297012941, -73.83595939389049)</td>\n",
       "      <td>11419</td>\n",
       "    </tr>\n",
       "    <tr>\n",
       "      <th>3</th>\n",
       "      <td>Illegal Parking</td>\n",
       "      <td>2014</td>\n",
       "      <td>1</td>\n",
       "      <td>2014-01-01</td>\n",
       "      <td>40.704184</td>\n",
       "      <td>-73.880965</td>\n",
       "      <td>(40.70418371191333, -73.88096515118515)</td>\n",
       "      <td>11385</td>\n",
       "    </tr>\n",
       "    <tr>\n",
       "      <th>4</th>\n",
       "      <td>Noise - Residential</td>\n",
       "      <td>2014</td>\n",
       "      <td>1</td>\n",
       "      <td>2014-01-01</td>\n",
       "      <td>40.643481</td>\n",
       "      <td>-73.997074</td>\n",
       "      <td>(40.64348139274596, -73.99707404148495)</td>\n",
       "      <td>11219</td>\n",
       "    </tr>\n",
       "  </tbody>\n",
       "</table>\n",
       "</div>"
      ],
      "text/plain": [
       "                   Complaint Type  Year  Month       Date   Latitude  \\\n",
       "0  DOF Property - Reduction Issue  2014      1 2014-01-02        NaN   \n",
       "1                Blocked Driveway  2014      1 2014-01-01  40.771144   \n",
       "2                Blocked Driveway  2014      1 2014-01-01  40.690163   \n",
       "3                 Illegal Parking  2014      1 2014-01-01  40.704184   \n",
       "4             Noise - Residential  2014      1 2014-01-01  40.643481   \n",
       "\n",
       "   Longitude                                 Location Incident Zip  \n",
       "0        NaN                                      NaN        10455  \n",
       "1 -73.900157  (40.77114376681425, -73.90015700109045)        11105  \n",
       "2 -73.835959  (40.69016297012941, -73.83595939389049)        11419  \n",
       "3 -73.880965  (40.70418371191333, -73.88096515118515)        11385  \n",
       "4 -73.997074  (40.64348139274596, -73.99707404148495)        11219  "
      ]
     },
     "execution_count": 64,
     "metadata": {},
     "output_type": "execute_result"
    }
   ],
   "source": [
    "data_1415 = data_1415[['Complaint Type','Year','Month','Date','Latitude','Longitude','Location','Incident Zip']]\n",
    "data_1415.head()"
   ]
  },
  {
   "cell_type": "code",
   "execution_count": 65,
   "metadata": {
    "collapsed": true
   },
   "outputs": [],
   "source": [
    "data_1415.to_csv('C14.csv')"
   ]
  },
  {
   "cell_type": "markdown",
   "metadata": {},
   "source": [
    "#### ----------"
   ]
  },
  {
   "cell_type": "code",
   "execution_count": 25,
   "metadata": {
    "collapsed": false
   },
   "outputs": [
    {
     "data": {
      "text/plain": [
       "dtype('O')"
      ]
     },
     "execution_count": 25,
     "metadata": {},
     "output_type": "execute_result"
    }
   ],
   "source": [
    "data_1516['Created Date'].dtypes"
   ]
  },
  {
   "cell_type": "code",
   "execution_count": 26,
   "metadata": {
    "collapsed": true
   },
   "outputs": [],
   "source": [
    "data_1516['Created Date'] = pd.to_datetime(data_1516['Created Date'])"
   ]
  },
  {
   "cell_type": "code",
   "execution_count": 27,
   "metadata": {
    "collapsed": false
   },
   "outputs": [
    {
     "data": {
      "text/plain": [
       "dtype('<M8[ns]')"
      ]
     },
     "execution_count": 27,
     "metadata": {},
     "output_type": "execute_result"
    }
   ],
   "source": [
    "data_1516['Created Date'].dtypes"
   ]
  },
  {
   "cell_type": "code",
   "execution_count": 66,
   "metadata": {
    "collapsed": false
   },
   "outputs": [
    {
     "data": {
      "text/html": [
       "<div>\n",
       "<table border=\"1\" class=\"dataframe\">\n",
       "  <thead>\n",
       "    <tr style=\"text-align: right;\">\n",
       "      <th></th>\n",
       "      <th>Created Date</th>\n",
       "      <th>Complaint Type</th>\n",
       "      <th>Incident Zip</th>\n",
       "      <th>X Coordinate (State Plane)</th>\n",
       "      <th>Y Coordinate (State Plane)</th>\n",
       "      <th>Latitude</th>\n",
       "      <th>Longitude</th>\n",
       "      <th>Location</th>\n",
       "      <th>Date</th>\n",
       "    </tr>\n",
       "  </thead>\n",
       "  <tbody>\n",
       "    <tr>\n",
       "      <th>0</th>\n",
       "      <td>2015-10-01</td>\n",
       "      <td>Unsanitary Animal Pvt Property</td>\n",
       "      <td>11414</td>\n",
       "      <td>1028301.0</td>\n",
       "      <td>179928.0</td>\n",
       "      <td>40.660428</td>\n",
       "      <td>-73.841226</td>\n",
       "      <td>(40.66042792940118, -73.84122633877455)</td>\n",
       "      <td>2015-10-01</td>\n",
       "    </tr>\n",
       "    <tr>\n",
       "      <th>1</th>\n",
       "      <td>2015-10-01</td>\n",
       "      <td>Unsanitary Pigeon Condition</td>\n",
       "      <td>11215</td>\n",
       "      <td>990244.0</td>\n",
       "      <td>181678.0</td>\n",
       "      <td>40.665339</td>\n",
       "      <td>-73.978394</td>\n",
       "      <td>(40.66533884086236, -73.97839415947483)</td>\n",
       "      <td>2015-10-01</td>\n",
       "    </tr>\n",
       "    <tr>\n",
       "      <th>2</th>\n",
       "      <td>2015-10-01</td>\n",
       "      <td>Unsanitary Animal Pvt Property</td>\n",
       "      <td>10301</td>\n",
       "      <td>955037.0</td>\n",
       "      <td>170033.0</td>\n",
       "      <td>40.633330</td>\n",
       "      <td>-74.105250</td>\n",
       "      <td>(40.63332969998893, -74.10525005425679)</td>\n",
       "      <td>2015-10-01</td>\n",
       "    </tr>\n",
       "    <tr>\n",
       "      <th>3</th>\n",
       "      <td>2015-10-01</td>\n",
       "      <td>Unsanitary Animal Pvt Property</td>\n",
       "      <td>11417</td>\n",
       "      <td>1029210.0</td>\n",
       "      <td>188627.0</td>\n",
       "      <td>40.684300</td>\n",
       "      <td>-73.837892</td>\n",
       "      <td>(40.68430012358396, -73.83789200050686)</td>\n",
       "      <td>2015-10-01</td>\n",
       "    </tr>\n",
       "    <tr>\n",
       "      <th>4</th>\n",
       "      <td>2015-10-01</td>\n",
       "      <td>Unsanitary Animal Pvt Property</td>\n",
       "      <td>10016</td>\n",
       "      <td>990185.0</td>\n",
       "      <td>211350.0</td>\n",
       "      <td>40.746782</td>\n",
       "      <td>-73.978581</td>\n",
       "      <td>(40.74678151406556, -73.97858067686367)</td>\n",
       "      <td>2015-10-01</td>\n",
       "    </tr>\n",
       "  </tbody>\n",
       "</table>\n",
       "</div>"
      ],
      "text/plain": [
       "  Created Date                  Complaint Type Incident Zip  \\\n",
       "0   2015-10-01  Unsanitary Animal Pvt Property        11414   \n",
       "1   2015-10-01     Unsanitary Pigeon Condition        11215   \n",
       "2   2015-10-01  Unsanitary Animal Pvt Property        10301   \n",
       "3   2015-10-01  Unsanitary Animal Pvt Property        11417   \n",
       "4   2015-10-01  Unsanitary Animal Pvt Property        10016   \n",
       "\n",
       "   X Coordinate (State Plane)  Y Coordinate (State Plane)   Latitude  \\\n",
       "0                   1028301.0                    179928.0  40.660428   \n",
       "1                    990244.0                    181678.0  40.665339   \n",
       "2                    955037.0                    170033.0  40.633330   \n",
       "3                   1029210.0                    188627.0  40.684300   \n",
       "4                    990185.0                    211350.0  40.746782   \n",
       "\n",
       "   Longitude                                 Location        Date  \n",
       "0 -73.841226  (40.66042792940118, -73.84122633877455)  2015-10-01  \n",
       "1 -73.978394  (40.66533884086236, -73.97839415947483)  2015-10-01  \n",
       "2 -74.105250  (40.63332969998893, -74.10525005425679)  2015-10-01  \n",
       "3 -73.837892  (40.68430012358396, -73.83789200050686)  2015-10-01  \n",
       "4 -73.978581  (40.74678151406556, -73.97858067686367)  2015-10-01  "
      ]
     },
     "execution_count": 66,
     "metadata": {},
     "output_type": "execute_result"
    }
   ],
   "source": [
    "data_1516['Date'] = data_1516['Created Date'].dt.date\n",
    "data_1516.head()"
   ]
  },
  {
   "cell_type": "code",
   "execution_count": 67,
   "metadata": {
    "collapsed": false
   },
   "outputs": [
    {
     "data": {
      "text/html": [
       "<div>\n",
       "<table border=\"1\" class=\"dataframe\">\n",
       "  <thead>\n",
       "    <tr style=\"text-align: right;\">\n",
       "      <th></th>\n",
       "      <th>Complaint Type</th>\n",
       "      <th>Incident Zip</th>\n",
       "      <th>Latitude</th>\n",
       "      <th>Longitude</th>\n",
       "      <th>Location</th>\n",
       "      <th>Date</th>\n",
       "    </tr>\n",
       "  </thead>\n",
       "  <tbody>\n",
       "    <tr>\n",
       "      <th>0</th>\n",
       "      <td>Unsanitary Animal Pvt Property</td>\n",
       "      <td>11414</td>\n",
       "      <td>40.660428</td>\n",
       "      <td>-73.841226</td>\n",
       "      <td>(40.66042792940118, -73.84122633877455)</td>\n",
       "      <td>2015-10-01</td>\n",
       "    </tr>\n",
       "    <tr>\n",
       "      <th>1</th>\n",
       "      <td>Unsanitary Pigeon Condition</td>\n",
       "      <td>11215</td>\n",
       "      <td>40.665339</td>\n",
       "      <td>-73.978394</td>\n",
       "      <td>(40.66533884086236, -73.97839415947483)</td>\n",
       "      <td>2015-10-01</td>\n",
       "    </tr>\n",
       "    <tr>\n",
       "      <th>2</th>\n",
       "      <td>Unsanitary Animal Pvt Property</td>\n",
       "      <td>10301</td>\n",
       "      <td>40.633330</td>\n",
       "      <td>-74.105250</td>\n",
       "      <td>(40.63332969998893, -74.10525005425679)</td>\n",
       "      <td>2015-10-01</td>\n",
       "    </tr>\n",
       "    <tr>\n",
       "      <th>3</th>\n",
       "      <td>Unsanitary Animal Pvt Property</td>\n",
       "      <td>11417</td>\n",
       "      <td>40.684300</td>\n",
       "      <td>-73.837892</td>\n",
       "      <td>(40.68430012358396, -73.83789200050686)</td>\n",
       "      <td>2015-10-01</td>\n",
       "    </tr>\n",
       "    <tr>\n",
       "      <th>4</th>\n",
       "      <td>Unsanitary Animal Pvt Property</td>\n",
       "      <td>10016</td>\n",
       "      <td>40.746782</td>\n",
       "      <td>-73.978581</td>\n",
       "      <td>(40.74678151406556, -73.97858067686367)</td>\n",
       "      <td>2015-10-01</td>\n",
       "    </tr>\n",
       "  </tbody>\n",
       "</table>\n",
       "</div>"
      ],
      "text/plain": [
       "                   Complaint Type Incident Zip   Latitude  Longitude  \\\n",
       "0  Unsanitary Animal Pvt Property        11414  40.660428 -73.841226   \n",
       "1     Unsanitary Pigeon Condition        11215  40.665339 -73.978394   \n",
       "2  Unsanitary Animal Pvt Property        10301  40.633330 -74.105250   \n",
       "3  Unsanitary Animal Pvt Property        11417  40.684300 -73.837892   \n",
       "4  Unsanitary Animal Pvt Property        10016  40.746782 -73.978581   \n",
       "\n",
       "                                  Location        Date  \n",
       "0  (40.66042792940118, -73.84122633877455)  2015-10-01  \n",
       "1  (40.66533884086236, -73.97839415947483)  2015-10-01  \n",
       "2  (40.63332969998893, -74.10525005425679)  2015-10-01  \n",
       "3  (40.68430012358396, -73.83789200050686)  2015-10-01  \n",
       "4  (40.74678151406556, -73.97858067686367)  2015-10-01  "
      ]
     },
     "execution_count": 67,
     "metadata": {},
     "output_type": "execute_result"
    }
   ],
   "source": [
    "data_1516 = data_1516.drop(['X Coordinate (State Plane)', 'Y Coordinate (State Plane)', 'Created Date'], axis = 1)\n",
    "data_1516.head()"
   ]
  },
  {
   "cell_type": "code",
   "execution_count": 68,
   "metadata": {
    "collapsed": true
   },
   "outputs": [],
   "source": [
    "data_1516['Date'] = pd.to_datetime(data_1516['Date'])"
   ]
  },
  {
   "cell_type": "code",
   "execution_count": 69,
   "metadata": {
    "collapsed": false
   },
   "outputs": [
    {
     "data": {
      "text/html": [
       "<div>\n",
       "<table border=\"1\" class=\"dataframe\">\n",
       "  <thead>\n",
       "    <tr style=\"text-align: right;\">\n",
       "      <th></th>\n",
       "      <th>Complaint Type</th>\n",
       "      <th>Incident Zip</th>\n",
       "      <th>Latitude</th>\n",
       "      <th>Longitude</th>\n",
       "      <th>Location</th>\n",
       "      <th>Date</th>\n",
       "      <th>Year</th>\n",
       "      <th>Month</th>\n",
       "    </tr>\n",
       "  </thead>\n",
       "  <tbody>\n",
       "    <tr>\n",
       "      <th>0</th>\n",
       "      <td>Unsanitary Animal Pvt Property</td>\n",
       "      <td>11414</td>\n",
       "      <td>40.660428</td>\n",
       "      <td>-73.841226</td>\n",
       "      <td>(40.66042792940118, -73.84122633877455)</td>\n",
       "      <td>2015-10-01</td>\n",
       "      <td>2015</td>\n",
       "      <td>10</td>\n",
       "    </tr>\n",
       "    <tr>\n",
       "      <th>1</th>\n",
       "      <td>Unsanitary Pigeon Condition</td>\n",
       "      <td>11215</td>\n",
       "      <td>40.665339</td>\n",
       "      <td>-73.978394</td>\n",
       "      <td>(40.66533884086236, -73.97839415947483)</td>\n",
       "      <td>2015-10-01</td>\n",
       "      <td>2015</td>\n",
       "      <td>10</td>\n",
       "    </tr>\n",
       "    <tr>\n",
       "      <th>2</th>\n",
       "      <td>Unsanitary Animal Pvt Property</td>\n",
       "      <td>10301</td>\n",
       "      <td>40.633330</td>\n",
       "      <td>-74.105250</td>\n",
       "      <td>(40.63332969998893, -74.10525005425679)</td>\n",
       "      <td>2015-10-01</td>\n",
       "      <td>2015</td>\n",
       "      <td>10</td>\n",
       "    </tr>\n",
       "    <tr>\n",
       "      <th>3</th>\n",
       "      <td>Unsanitary Animal Pvt Property</td>\n",
       "      <td>11417</td>\n",
       "      <td>40.684300</td>\n",
       "      <td>-73.837892</td>\n",
       "      <td>(40.68430012358396, -73.83789200050686)</td>\n",
       "      <td>2015-10-01</td>\n",
       "      <td>2015</td>\n",
       "      <td>10</td>\n",
       "    </tr>\n",
       "    <tr>\n",
       "      <th>4</th>\n",
       "      <td>Unsanitary Animal Pvt Property</td>\n",
       "      <td>10016</td>\n",
       "      <td>40.746782</td>\n",
       "      <td>-73.978581</td>\n",
       "      <td>(40.74678151406556, -73.97858067686367)</td>\n",
       "      <td>2015-10-01</td>\n",
       "      <td>2015</td>\n",
       "      <td>10</td>\n",
       "    </tr>\n",
       "  </tbody>\n",
       "</table>\n",
       "</div>"
      ],
      "text/plain": [
       "                   Complaint Type Incident Zip   Latitude  Longitude  \\\n",
       "0  Unsanitary Animal Pvt Property        11414  40.660428 -73.841226   \n",
       "1     Unsanitary Pigeon Condition        11215  40.665339 -73.978394   \n",
       "2  Unsanitary Animal Pvt Property        10301  40.633330 -74.105250   \n",
       "3  Unsanitary Animal Pvt Property        11417  40.684300 -73.837892   \n",
       "4  Unsanitary Animal Pvt Property        10016  40.746782 -73.978581   \n",
       "\n",
       "                                  Location       Date  Year  Month  \n",
       "0  (40.66042792940118, -73.84122633877455) 2015-10-01  2015     10  \n",
       "1  (40.66533884086236, -73.97839415947483) 2015-10-01  2015     10  \n",
       "2  (40.63332969998893, -74.10525005425679) 2015-10-01  2015     10  \n",
       "3  (40.68430012358396, -73.83789200050686) 2015-10-01  2015     10  \n",
       "4  (40.74678151406556, -73.97858067686367) 2015-10-01  2015     10  "
      ]
     },
     "execution_count": 69,
     "metadata": {},
     "output_type": "execute_result"
    }
   ],
   "source": [
    "data_1516['Year'] = data_1516['Date'].dt.year\n",
    "data_1516['Month'] = data_1516['Date'].dt.month\n",
    "data_1516.head()"
   ]
  },
  {
   "cell_type": "code",
   "execution_count": 70,
   "metadata": {
    "collapsed": false
   },
   "outputs": [
    {
     "data": {
      "text/html": [
       "<div>\n",
       "<table border=\"1\" class=\"dataframe\">\n",
       "  <thead>\n",
       "    <tr style=\"text-align: right;\">\n",
       "      <th></th>\n",
       "      <th>Complaint Type</th>\n",
       "      <th>Year</th>\n",
       "      <th>Month</th>\n",
       "      <th>Date</th>\n",
       "      <th>Latitude</th>\n",
       "      <th>Longitude</th>\n",
       "      <th>Location</th>\n",
       "      <th>Incident Zip</th>\n",
       "    </tr>\n",
       "  </thead>\n",
       "  <tbody>\n",
       "    <tr>\n",
       "      <th>0</th>\n",
       "      <td>Unsanitary Animal Pvt Property</td>\n",
       "      <td>2015</td>\n",
       "      <td>10</td>\n",
       "      <td>2015-10-01</td>\n",
       "      <td>40.660428</td>\n",
       "      <td>-73.841226</td>\n",
       "      <td>(40.66042792940118, -73.84122633877455)</td>\n",
       "      <td>11414</td>\n",
       "    </tr>\n",
       "    <tr>\n",
       "      <th>1</th>\n",
       "      <td>Unsanitary Pigeon Condition</td>\n",
       "      <td>2015</td>\n",
       "      <td>10</td>\n",
       "      <td>2015-10-01</td>\n",
       "      <td>40.665339</td>\n",
       "      <td>-73.978394</td>\n",
       "      <td>(40.66533884086236, -73.97839415947483)</td>\n",
       "      <td>11215</td>\n",
       "    </tr>\n",
       "    <tr>\n",
       "      <th>2</th>\n",
       "      <td>Unsanitary Animal Pvt Property</td>\n",
       "      <td>2015</td>\n",
       "      <td>10</td>\n",
       "      <td>2015-10-01</td>\n",
       "      <td>40.633330</td>\n",
       "      <td>-74.105250</td>\n",
       "      <td>(40.63332969998893, -74.10525005425679)</td>\n",
       "      <td>10301</td>\n",
       "    </tr>\n",
       "    <tr>\n",
       "      <th>3</th>\n",
       "      <td>Unsanitary Animal Pvt Property</td>\n",
       "      <td>2015</td>\n",
       "      <td>10</td>\n",
       "      <td>2015-10-01</td>\n",
       "      <td>40.684300</td>\n",
       "      <td>-73.837892</td>\n",
       "      <td>(40.68430012358396, -73.83789200050686)</td>\n",
       "      <td>11417</td>\n",
       "    </tr>\n",
       "    <tr>\n",
       "      <th>4</th>\n",
       "      <td>Unsanitary Animal Pvt Property</td>\n",
       "      <td>2015</td>\n",
       "      <td>10</td>\n",
       "      <td>2015-10-01</td>\n",
       "      <td>40.746782</td>\n",
       "      <td>-73.978581</td>\n",
       "      <td>(40.74678151406556, -73.97858067686367)</td>\n",
       "      <td>10016</td>\n",
       "    </tr>\n",
       "  </tbody>\n",
       "</table>\n",
       "</div>"
      ],
      "text/plain": [
       "                   Complaint Type  Year  Month       Date   Latitude  \\\n",
       "0  Unsanitary Animal Pvt Property  2015     10 2015-10-01  40.660428   \n",
       "1     Unsanitary Pigeon Condition  2015     10 2015-10-01  40.665339   \n",
       "2  Unsanitary Animal Pvt Property  2015     10 2015-10-01  40.633330   \n",
       "3  Unsanitary Animal Pvt Property  2015     10 2015-10-01  40.684300   \n",
       "4  Unsanitary Animal Pvt Property  2015     10 2015-10-01  40.746782   \n",
       "\n",
       "   Longitude                                 Location Incident Zip  \n",
       "0 -73.841226  (40.66042792940118, -73.84122633877455)        11414  \n",
       "1 -73.978394  (40.66533884086236, -73.97839415947483)        11215  \n",
       "2 -74.105250  (40.63332969998893, -74.10525005425679)        10301  \n",
       "3 -73.837892  (40.68430012358396, -73.83789200050686)        11417  \n",
       "4 -73.978581  (40.74678151406556, -73.97858067686367)        10016  "
      ]
     },
     "execution_count": 70,
     "metadata": {},
     "output_type": "execute_result"
    }
   ],
   "source": [
    "data_1516 = data_1516[['Complaint Type','Year','Month','Date','Latitude','Longitude','Location','Incident Zip']]\n",
    "data_1516.head()"
   ]
  },
  {
   "cell_type": "code",
   "execution_count": 71,
   "metadata": {
    "collapsed": true
   },
   "outputs": [],
   "source": [
    "data_1516.to_csv('C15.csv')"
   ]
  },
  {
   "cell_type": "markdown",
   "metadata": {},
   "source": [
    "#### ----------"
   ]
  },
  {
   "cell_type": "code",
   "execution_count": 28,
   "metadata": {
    "collapsed": false
   },
   "outputs": [
    {
     "data": {
      "text/plain": [
       "dtype('O')"
      ]
     },
     "execution_count": 28,
     "metadata": {},
     "output_type": "execute_result"
    }
   ],
   "source": [
    "data_311p['Created Date'].dtypes"
   ]
  },
  {
   "cell_type": "code",
   "execution_count": 29,
   "metadata": {
    "collapsed": true
   },
   "outputs": [],
   "source": [
    "data_311p['Created Date'] = pd.to_datetime(data_311p['Created Date'])"
   ]
  },
  {
   "cell_type": "code",
   "execution_count": 30,
   "metadata": {
    "collapsed": false
   },
   "outputs": [
    {
     "data": {
      "text/plain": [
       "dtype('<M8[ns]')"
      ]
     },
     "execution_count": 30,
     "metadata": {},
     "output_type": "execute_result"
    }
   ],
   "source": [
    "data_311p['Created Date'].dtypes"
   ]
  },
  {
   "cell_type": "code",
   "execution_count": 72,
   "metadata": {
    "collapsed": false
   },
   "outputs": [
    {
     "data": {
      "text/html": [
       "<div>\n",
       "<table border=\"1\" class=\"dataframe\">\n",
       "  <thead>\n",
       "    <tr style=\"text-align: right;\">\n",
       "      <th></th>\n",
       "      <th>Created Date</th>\n",
       "      <th>Complaint Type</th>\n",
       "      <th>Incident Zip</th>\n",
       "      <th>X Coordinate (State Plane)</th>\n",
       "      <th>Y Coordinate (State Plane)</th>\n",
       "      <th>Latitude</th>\n",
       "      <th>Longitude</th>\n",
       "      <th>Location</th>\n",
       "      <th>Date</th>\n",
       "    </tr>\n",
       "  </thead>\n",
       "  <tbody>\n",
       "    <tr>\n",
       "      <th>0</th>\n",
       "      <td>2017-02-03 15:41:50</td>\n",
       "      <td>Blocked Driveway</td>\n",
       "      <td>NaN</td>\n",
       "      <td>NaN</td>\n",
       "      <td>NaN</td>\n",
       "      <td>NaN</td>\n",
       "      <td>NaN</td>\n",
       "      <td>NaN</td>\n",
       "      <td>2017-02-03</td>\n",
       "    </tr>\n",
       "    <tr>\n",
       "      <th>1</th>\n",
       "      <td>2017-02-03 10:24:00</td>\n",
       "      <td>Missed Collection (All Materials)</td>\n",
       "      <td>11211</td>\n",
       "      <td>995733.0</td>\n",
       "      <td>197462.0</td>\n",
       "      <td>40.708657</td>\n",
       "      <td>-73.958582</td>\n",
       "      <td>(40.70865688036097, -73.95858173179646)</td>\n",
       "      <td>2017-02-03</td>\n",
       "    </tr>\n",
       "    <tr>\n",
       "      <th>2</th>\n",
       "      <td>2017-02-03 15:22:38</td>\n",
       "      <td>General Construction/Plumbing</td>\n",
       "      <td>11432</td>\n",
       "      <td>1043581.0</td>\n",
       "      <td>199151.0</td>\n",
       "      <td>40.713101</td>\n",
       "      <td>-73.785983</td>\n",
       "      <td>(40.71310129919592, -73.78598332501407)</td>\n",
       "      <td>2017-02-03</td>\n",
       "    </tr>\n",
       "    <tr>\n",
       "      <th>3</th>\n",
       "      <td>2017-02-03 05:39:00</td>\n",
       "      <td>Traffic Signal Condition</td>\n",
       "      <td>NaN</td>\n",
       "      <td>NaN</td>\n",
       "      <td>NaN</td>\n",
       "      <td>NaN</td>\n",
       "      <td>NaN</td>\n",
       "      <td>NaN</td>\n",
       "      <td>2017-02-03</td>\n",
       "    </tr>\n",
       "    <tr>\n",
       "      <th>4</th>\n",
       "      <td>2017-02-03 10:52:00</td>\n",
       "      <td>Dirty Conditions</td>\n",
       "      <td>10469</td>\n",
       "      <td>1023648.0</td>\n",
       "      <td>253055.0</td>\n",
       "      <td>40.861164</td>\n",
       "      <td>-73.857569</td>\n",
       "      <td>(40.861164337464984, -73.85756861957913)</td>\n",
       "      <td>2017-02-03</td>\n",
       "    </tr>\n",
       "  </tbody>\n",
       "</table>\n",
       "</div>"
      ],
      "text/plain": [
       "         Created Date                     Complaint Type Incident Zip  \\\n",
       "0 2017-02-03 15:41:50                   Blocked Driveway          NaN   \n",
       "1 2017-02-03 10:24:00  Missed Collection (All Materials)        11211   \n",
       "2 2017-02-03 15:22:38      General Construction/Plumbing        11432   \n",
       "3 2017-02-03 05:39:00           Traffic Signal Condition          NaN   \n",
       "4 2017-02-03 10:52:00                   Dirty Conditions        10469   \n",
       "\n",
       "   X Coordinate (State Plane)  Y Coordinate (State Plane)   Latitude  \\\n",
       "0                         NaN                         NaN        NaN   \n",
       "1                    995733.0                    197462.0  40.708657   \n",
       "2                   1043581.0                    199151.0  40.713101   \n",
       "3                         NaN                         NaN        NaN   \n",
       "4                   1023648.0                    253055.0  40.861164   \n",
       "\n",
       "   Longitude                                  Location        Date  \n",
       "0        NaN                                       NaN  2017-02-03  \n",
       "1 -73.958582   (40.70865688036097, -73.95858173179646)  2017-02-03  \n",
       "2 -73.785983   (40.71310129919592, -73.78598332501407)  2017-02-03  \n",
       "3        NaN                                       NaN  2017-02-03  \n",
       "4 -73.857569  (40.861164337464984, -73.85756861957913)  2017-02-03  "
      ]
     },
     "execution_count": 72,
     "metadata": {},
     "output_type": "execute_result"
    }
   ],
   "source": [
    "data_311p['Date'] = data_311p['Created Date'].dt.date\n",
    "data_311p.head()"
   ]
  },
  {
   "cell_type": "code",
   "execution_count": 73,
   "metadata": {
    "collapsed": false
   },
   "outputs": [
    {
     "data": {
      "text/html": [
       "<div>\n",
       "<table border=\"1\" class=\"dataframe\">\n",
       "  <thead>\n",
       "    <tr style=\"text-align: right;\">\n",
       "      <th></th>\n",
       "      <th>Complaint Type</th>\n",
       "      <th>Incident Zip</th>\n",
       "      <th>Latitude</th>\n",
       "      <th>Longitude</th>\n",
       "      <th>Location</th>\n",
       "      <th>Date</th>\n",
       "    </tr>\n",
       "  </thead>\n",
       "  <tbody>\n",
       "    <tr>\n",
       "      <th>0</th>\n",
       "      <td>Blocked Driveway</td>\n",
       "      <td>NaN</td>\n",
       "      <td>NaN</td>\n",
       "      <td>NaN</td>\n",
       "      <td>NaN</td>\n",
       "      <td>2017-02-03</td>\n",
       "    </tr>\n",
       "    <tr>\n",
       "      <th>1</th>\n",
       "      <td>Missed Collection (All Materials)</td>\n",
       "      <td>11211</td>\n",
       "      <td>40.708657</td>\n",
       "      <td>-73.958582</td>\n",
       "      <td>(40.70865688036097, -73.95858173179646)</td>\n",
       "      <td>2017-02-03</td>\n",
       "    </tr>\n",
       "    <tr>\n",
       "      <th>2</th>\n",
       "      <td>General Construction/Plumbing</td>\n",
       "      <td>11432</td>\n",
       "      <td>40.713101</td>\n",
       "      <td>-73.785983</td>\n",
       "      <td>(40.71310129919592, -73.78598332501407)</td>\n",
       "      <td>2017-02-03</td>\n",
       "    </tr>\n",
       "    <tr>\n",
       "      <th>3</th>\n",
       "      <td>Traffic Signal Condition</td>\n",
       "      <td>NaN</td>\n",
       "      <td>NaN</td>\n",
       "      <td>NaN</td>\n",
       "      <td>NaN</td>\n",
       "      <td>2017-02-03</td>\n",
       "    </tr>\n",
       "    <tr>\n",
       "      <th>4</th>\n",
       "      <td>Dirty Conditions</td>\n",
       "      <td>10469</td>\n",
       "      <td>40.861164</td>\n",
       "      <td>-73.857569</td>\n",
       "      <td>(40.861164337464984, -73.85756861957913)</td>\n",
       "      <td>2017-02-03</td>\n",
       "    </tr>\n",
       "  </tbody>\n",
       "</table>\n",
       "</div>"
      ],
      "text/plain": [
       "                      Complaint Type Incident Zip   Latitude  Longitude  \\\n",
       "0                   Blocked Driveway          NaN        NaN        NaN   \n",
       "1  Missed Collection (All Materials)        11211  40.708657 -73.958582   \n",
       "2      General Construction/Plumbing        11432  40.713101 -73.785983   \n",
       "3           Traffic Signal Condition          NaN        NaN        NaN   \n",
       "4                   Dirty Conditions        10469  40.861164 -73.857569   \n",
       "\n",
       "                                   Location        Date  \n",
       "0                                       NaN  2017-02-03  \n",
       "1   (40.70865688036097, -73.95858173179646)  2017-02-03  \n",
       "2   (40.71310129919592, -73.78598332501407)  2017-02-03  \n",
       "3                                       NaN  2017-02-03  \n",
       "4  (40.861164337464984, -73.85756861957913)  2017-02-03  "
      ]
     },
     "execution_count": 73,
     "metadata": {},
     "output_type": "execute_result"
    }
   ],
   "source": [
    "data_311p = data_311p.drop(['X Coordinate (State Plane)', 'Y Coordinate (State Plane)', 'Created Date'], axis = 1)\n",
    "data_311p.head()"
   ]
  },
  {
   "cell_type": "code",
   "execution_count": 74,
   "metadata": {
    "collapsed": true
   },
   "outputs": [],
   "source": [
    "data_311p['Date'] = pd.to_datetime(data_311p['Date'])"
   ]
  },
  {
   "cell_type": "code",
   "execution_count": 75,
   "metadata": {
    "collapsed": false
   },
   "outputs": [
    {
     "data": {
      "text/html": [
       "<div>\n",
       "<table border=\"1\" class=\"dataframe\">\n",
       "  <thead>\n",
       "    <tr style=\"text-align: right;\">\n",
       "      <th></th>\n",
       "      <th>Complaint Type</th>\n",
       "      <th>Incident Zip</th>\n",
       "      <th>Latitude</th>\n",
       "      <th>Longitude</th>\n",
       "      <th>Location</th>\n",
       "      <th>Date</th>\n",
       "      <th>Year</th>\n",
       "      <th>Month</th>\n",
       "    </tr>\n",
       "  </thead>\n",
       "  <tbody>\n",
       "    <tr>\n",
       "      <th>0</th>\n",
       "      <td>Blocked Driveway</td>\n",
       "      <td>NaN</td>\n",
       "      <td>NaN</td>\n",
       "      <td>NaN</td>\n",
       "      <td>NaN</td>\n",
       "      <td>2017-02-03</td>\n",
       "      <td>2017</td>\n",
       "      <td>2</td>\n",
       "    </tr>\n",
       "    <tr>\n",
       "      <th>1</th>\n",
       "      <td>Missed Collection (All Materials)</td>\n",
       "      <td>11211</td>\n",
       "      <td>40.708657</td>\n",
       "      <td>-73.958582</td>\n",
       "      <td>(40.70865688036097, -73.95858173179646)</td>\n",
       "      <td>2017-02-03</td>\n",
       "      <td>2017</td>\n",
       "      <td>2</td>\n",
       "    </tr>\n",
       "    <tr>\n",
       "      <th>2</th>\n",
       "      <td>General Construction/Plumbing</td>\n",
       "      <td>11432</td>\n",
       "      <td>40.713101</td>\n",
       "      <td>-73.785983</td>\n",
       "      <td>(40.71310129919592, -73.78598332501407)</td>\n",
       "      <td>2017-02-03</td>\n",
       "      <td>2017</td>\n",
       "      <td>2</td>\n",
       "    </tr>\n",
       "    <tr>\n",
       "      <th>3</th>\n",
       "      <td>Traffic Signal Condition</td>\n",
       "      <td>NaN</td>\n",
       "      <td>NaN</td>\n",
       "      <td>NaN</td>\n",
       "      <td>NaN</td>\n",
       "      <td>2017-02-03</td>\n",
       "      <td>2017</td>\n",
       "      <td>2</td>\n",
       "    </tr>\n",
       "    <tr>\n",
       "      <th>4</th>\n",
       "      <td>Dirty Conditions</td>\n",
       "      <td>10469</td>\n",
       "      <td>40.861164</td>\n",
       "      <td>-73.857569</td>\n",
       "      <td>(40.861164337464984, -73.85756861957913)</td>\n",
       "      <td>2017-02-03</td>\n",
       "      <td>2017</td>\n",
       "      <td>2</td>\n",
       "    </tr>\n",
       "  </tbody>\n",
       "</table>\n",
       "</div>"
      ],
      "text/plain": [
       "                      Complaint Type Incident Zip   Latitude  Longitude  \\\n",
       "0                   Blocked Driveway          NaN        NaN        NaN   \n",
       "1  Missed Collection (All Materials)        11211  40.708657 -73.958582   \n",
       "2      General Construction/Plumbing        11432  40.713101 -73.785983   \n",
       "3           Traffic Signal Condition          NaN        NaN        NaN   \n",
       "4                   Dirty Conditions        10469  40.861164 -73.857569   \n",
       "\n",
       "                                   Location       Date  Year  Month  \n",
       "0                                       NaN 2017-02-03  2017      2  \n",
       "1   (40.70865688036097, -73.95858173179646) 2017-02-03  2017      2  \n",
       "2   (40.71310129919592, -73.78598332501407) 2017-02-03  2017      2  \n",
       "3                                       NaN 2017-02-03  2017      2  \n",
       "4  (40.861164337464984, -73.85756861957913) 2017-02-03  2017      2  "
      ]
     },
     "execution_count": 75,
     "metadata": {},
     "output_type": "execute_result"
    }
   ],
   "source": [
    "data_311p['Year'] = data_311p['Date'].dt.year\n",
    "data_311p['Month'] = data_311p['Date'].dt.month\n",
    "data_311p.head()"
   ]
  },
  {
   "cell_type": "code",
   "execution_count": 76,
   "metadata": {
    "collapsed": false
   },
   "outputs": [
    {
     "data": {
      "text/html": [
       "<div>\n",
       "<table border=\"1\" class=\"dataframe\">\n",
       "  <thead>\n",
       "    <tr style=\"text-align: right;\">\n",
       "      <th></th>\n",
       "      <th>Complaint Type</th>\n",
       "      <th>Year</th>\n",
       "      <th>Month</th>\n",
       "      <th>Date</th>\n",
       "      <th>Latitude</th>\n",
       "      <th>Longitude</th>\n",
       "      <th>Location</th>\n",
       "      <th>Incident Zip</th>\n",
       "    </tr>\n",
       "  </thead>\n",
       "  <tbody>\n",
       "    <tr>\n",
       "      <th>0</th>\n",
       "      <td>Blocked Driveway</td>\n",
       "      <td>2017</td>\n",
       "      <td>2</td>\n",
       "      <td>2017-02-03</td>\n",
       "      <td>NaN</td>\n",
       "      <td>NaN</td>\n",
       "      <td>NaN</td>\n",
       "      <td>NaN</td>\n",
       "    </tr>\n",
       "    <tr>\n",
       "      <th>1</th>\n",
       "      <td>Missed Collection (All Materials)</td>\n",
       "      <td>2017</td>\n",
       "      <td>2</td>\n",
       "      <td>2017-02-03</td>\n",
       "      <td>40.708657</td>\n",
       "      <td>-73.958582</td>\n",
       "      <td>(40.70865688036097, -73.95858173179646)</td>\n",
       "      <td>11211</td>\n",
       "    </tr>\n",
       "    <tr>\n",
       "      <th>2</th>\n",
       "      <td>General Construction/Plumbing</td>\n",
       "      <td>2017</td>\n",
       "      <td>2</td>\n",
       "      <td>2017-02-03</td>\n",
       "      <td>40.713101</td>\n",
       "      <td>-73.785983</td>\n",
       "      <td>(40.71310129919592, -73.78598332501407)</td>\n",
       "      <td>11432</td>\n",
       "    </tr>\n",
       "    <tr>\n",
       "      <th>3</th>\n",
       "      <td>Traffic Signal Condition</td>\n",
       "      <td>2017</td>\n",
       "      <td>2</td>\n",
       "      <td>2017-02-03</td>\n",
       "      <td>NaN</td>\n",
       "      <td>NaN</td>\n",
       "      <td>NaN</td>\n",
       "      <td>NaN</td>\n",
       "    </tr>\n",
       "    <tr>\n",
       "      <th>4</th>\n",
       "      <td>Dirty Conditions</td>\n",
       "      <td>2017</td>\n",
       "      <td>2</td>\n",
       "      <td>2017-02-03</td>\n",
       "      <td>40.861164</td>\n",
       "      <td>-73.857569</td>\n",
       "      <td>(40.861164337464984, -73.85756861957913)</td>\n",
       "      <td>10469</td>\n",
       "    </tr>\n",
       "  </tbody>\n",
       "</table>\n",
       "</div>"
      ],
      "text/plain": [
       "                      Complaint Type  Year  Month       Date   Latitude  \\\n",
       "0                   Blocked Driveway  2017      2 2017-02-03        NaN   \n",
       "1  Missed Collection (All Materials)  2017      2 2017-02-03  40.708657   \n",
       "2      General Construction/Plumbing  2017      2 2017-02-03  40.713101   \n",
       "3           Traffic Signal Condition  2017      2 2017-02-03        NaN   \n",
       "4                   Dirty Conditions  2017      2 2017-02-03  40.861164   \n",
       "\n",
       "   Longitude                                  Location Incident Zip  \n",
       "0        NaN                                       NaN          NaN  \n",
       "1 -73.958582   (40.70865688036097, -73.95858173179646)        11211  \n",
       "2 -73.785983   (40.71310129919592, -73.78598332501407)        11432  \n",
       "3        NaN                                       NaN          NaN  \n",
       "4 -73.857569  (40.861164337464984, -73.85756861957913)        10469  "
      ]
     },
     "execution_count": 76,
     "metadata": {},
     "output_type": "execute_result"
    }
   ],
   "source": [
    "data_311p = data_311p[['Complaint Type','Year','Month','Date','Latitude','Longitude','Location','Incident Zip']]\n",
    "data_311p.head()"
   ]
  },
  {
   "cell_type": "code",
   "execution_count": 77,
   "metadata": {
    "collapsed": true
   },
   "outputs": [],
   "source": [
    "data_311p.to_csv('C16+.csv')"
   ]
  },
  {
   "cell_type": "markdown",
   "metadata": {},
   "source": [
    "#### ----------"
   ]
  }
 ],
 "metadata": {
  "anaconda-cloud": {},
  "kernelspec": {
   "display_name": "Python [Root]",
   "language": "python",
   "name": "Python [Root]"
  },
  "language_info": {
   "codemirror_mode": {
    "name": "ipython",
    "version": 2
   },
   "file_extension": ".py",
   "mimetype": "text/x-python",
   "name": "python",
   "nbconvert_exporter": "python",
   "pygments_lexer": "ipython2",
   "version": "2.7.12"
  }
 },
 "nbformat": 4,
 "nbformat_minor": 0
}
